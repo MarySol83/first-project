{
 "cells": [
  {
   "cell_type": "markdown",
   "metadata": {},
   "source": [
    "<div class=\"alert alert-success\">\n",
    "<h1> Комментарий ревьюера</h1>\n",
    "\n",
    "Привет, Мария!\n",
    "    \n",
    "Меня зовут Усов Егор, и я буду проверять твой проект) Предлагаю нам сразу перейти на ты, если ты не против)\n",
    "    \n",
    "Основная моя задача помочь тебе в освоении пройденного материала, а не в оценке проекта, поэтому не стесняйся задавать вопросы, если они есть)\n",
    "    \n",
    "Мои комментарии обозначены пометкой **Комментарий ревьюера**. Далее в файле ты сможешь найти их в похожих ячейках (если фон комментария <font color=green>✅зелёный</font> - всё сделано правильно; <font color=orange>⚠️оранжевый</font> - есть что улучшить, но не критично; <font color=red>красный</font> и есть такой ❌ знак- нужно переделать). Не удаляй эти комментарии и постарайся учесть их в ходе выполнения данного проекта. \n",
    "    \n",
    "Ты можешь отвечать мне своими комментариями и выделять их другим <font color=blue>цветом</font>.\n",
    "\n",
    "</div>"
   ]
  },
  {
   "cell_type": "markdown",
   "metadata": {},
   "source": [
    "<div class=\"alert alert-success\">\n",
    "<h1> Финальный комментарий </h1>\n",
    "\n",
    "Спасибо за твои доработки.\n",
    "    \n",
    "У тебя получилось все устранить. Я твою работу принимаю.\n",
    "    \n",
    "Но на будущее обрати внимание на перезапуск ячеек. Неработающий код - основание для возвращения проекта без проверки)\n",
    "    \n",
    "В целом проект хороший. Я бы посоветовал тебе придерживаться структуры, и каждый пункт завершать небольшим выводом.\n",
    "    \n",
    "Желаю удачи в дальнейшем обучении!\n",
    "\n",
    "</div>"
   ]
  },
  {
   "cell_type": "markdown",
   "metadata": {},
   "source": [
    "<div style=\"border:solid blue 3px; padding: 20px\">\n",
    "<div class=\"alert alert-info\">\n",
    "\n",
    "**Комментарий студента**\n",
    "    \n",
    "Для примера)\n",
    "</div>\n",
    "</div>"
   ]
  },
  {
   "cell_type": "markdown",
   "metadata": {},
   "source": [
    "<div class=\"alert alert-warning\">\n",
    "<h1> Общий комментарий </h1>\n",
    "\n",
    "Хорошая работа. Видно, что ты отлично справляешься с обработкой данных. В целом у тебя получилось ответить на все поставленные вопросы.\n",
    "    \n",
    "Есть несколько небольших недочетов, которые нужно поправить. Я думаю ты без труда с этим справишься.\n",
    "    \n",
    "Что нужно устранить:\n",
    "- добавить проверку на аномалии всех числовых колонок.\n",
    "- оформить графики в проекте.\n",
    "- при анализе рейтингов фильмов с господдержкой уточнить таблицу источник.\n",
    "    \n",
    "Жду твою работу на повторную проверку. Если у тебя есть вопросы, не стесняйся их задавать)\n",
    "\n",
    "</div>"
   ]
  },
  {
   "cell_type": "markdown",
   "metadata": {
    "id": "sIfNaMOxgFyK"
   },
   "source": [
    "## Исследование данных о российском кинопрокате\n",
    "\n"
   ]
  },
  {
   "cell_type": "markdown",
   "metadata": {},
   "source": [
    "<div class=\"alert alert-warning\">\n",
    "<h1> Комментарий ревьюера💡</h1>\n",
    "\n",
    "Стоит добавить небольшое вступление. Описать данные, с которыми нам предстоит работать, и сформировать план анализа.\n",
    "\n",
    "</div>"
   ]
  },
  {
   "cell_type": "markdown",
   "metadata": {},
   "source": [
    "<div style=\"border:solid blue 3px; padding: 20px\">\n",
    "<div class=\"alert alert-info\">\n",
    "\n",
    "Перед нами поставлена задача изучить рынок российского кинопроката и выявить текущие тренды. Мы получили данные о прокатных удостоверениях, сборах и государственной поддержке фильмов, опубликованные на портале Министерства культуры, а также информацию с сайта КиноПоиск.\n",
    "Изучим рынок российского кинопроката и попробуем  выявить текущие тренды. Уделим внимание фильмам, которые получили государственную поддержку. Попробуем ответить на вопрос, насколько такие фильмы интересны зрителю. \n",
    "</div>\n",
    "</div>   "
   ]
  },
  {
   "cell_type": "markdown",
   "metadata": {},
   "source": [
    "<div class=\"alert alert-success\">\n",
    "<h1> Комментарий ревьюера V2✅</h1>\n",
    "\n",
    "Отлично.\n",
    "\n",
    "</div>"
   ]
  },
  {
   "cell_type": "markdown",
   "metadata": {
    "id": "3bSlkCsbgFyL"
   },
   "source": [
    "### Шаг 1. Откройте файлы с данными и объедините их в один датафрейм. \n",
    "\n",
    "Объедините данные таким образом, чтобы все объекты из датасета `mkrf_movies` обязательно вошли в получившийся датафрейм. \n",
    "\n",
    "<div id=\"accordion\">\n",
    "    <div class=\"card\">\n",
    "        <div class=\"card-header\" id=\"headingThree\">\n",
    "            <button class=\"btn btn-link collapsed\" data-toggle=\"collapse\" data-target=\"#collapseHint_0\" aria-expanded=\"false\" aria-controls=\"collapseHint_0\">Подсказка</button>\n",
    "        </div>\n",
    "        <div id=\"collapseHint_0\" class=\"collapse\" aria-labelledby=\"headingThree\" data-parent=\"#accordion\">\n",
    "            <div class=\"card-body\">\n",
    "Обратите внимание на тип данных столбца, по которому будете соединять датафреймы. Тип данных этих столбцов должен быть одинаковым в обоих датафреймах.\n",
    "            </div>\n",
    "        </div>\n",
    "    </div>\n",
    "</div>"
   ]
  },
  {
   "cell_type": "markdown",
   "metadata": {
    "id": "dw87FlzMgFyM"
   },
   "source": [
    "Откроем оба датасет и посмотрим на информацию о них."
   ]
  },
  {
   "cell_type": "code",
   "execution_count": 1,
   "metadata": {},
   "outputs": [],
   "source": [
    "import pandas as pd\n",
    "import seaborn as sns\n",
    "import matplotlib.pyplot as plt"
   ]
  },
  {
   "cell_type": "code",
   "execution_count": 2,
   "metadata": {},
   "outputs": [
    {
     "data": {
      "text/html": [
       "<div>\n",
       "<style scoped>\n",
       "    .dataframe tbody tr th:only-of-type {\n",
       "        vertical-align: middle;\n",
       "    }\n",
       "\n",
       "    .dataframe tbody tr th {\n",
       "        vertical-align: top;\n",
       "    }\n",
       "\n",
       "    .dataframe thead th {\n",
       "        text-align: right;\n",
       "    }\n",
       "</style>\n",
       "<table border=\"1\" class=\"dataframe\">\n",
       "  <thead>\n",
       "    <tr style=\"text-align: right;\">\n",
       "      <th></th>\n",
       "      <th>title</th>\n",
       "      <th>puNumber</th>\n",
       "      <th>show_start_date</th>\n",
       "      <th>type</th>\n",
       "      <th>film_studio</th>\n",
       "      <th>production_country</th>\n",
       "      <th>director</th>\n",
       "      <th>producer</th>\n",
       "      <th>age_restriction</th>\n",
       "      <th>refundable_support</th>\n",
       "      <th>nonrefundable_support</th>\n",
       "      <th>budget</th>\n",
       "      <th>financing_source</th>\n",
       "      <th>ratings</th>\n",
       "      <th>genres</th>\n",
       "    </tr>\n",
       "  </thead>\n",
       "  <tbody>\n",
       "    <tr>\n",
       "      <th>0</th>\n",
       "      <td>Открытый простор</td>\n",
       "      <td>221048915</td>\n",
       "      <td>2015-11-27T12:00:00.000Z</td>\n",
       "      <td>Художественный</td>\n",
       "      <td>Тачстоун Пикчерз, Кобальт Пикчерз, Бикон Пикче...</td>\n",
       "      <td>США</td>\n",
       "      <td>Кевин Костнер</td>\n",
       "      <td>Дэвид Валдес, Кевин Костнер, Джейк Эбертс</td>\n",
       "      <td>«18+» - запрещено для детей</td>\n",
       "      <td>NaN</td>\n",
       "      <td>NaN</td>\n",
       "      <td>NaN</td>\n",
       "      <td>NaN</td>\n",
       "      <td>7.2</td>\n",
       "      <td>боевик,драма,мелодрама</td>\n",
       "    </tr>\n",
       "    <tr>\n",
       "      <th>1</th>\n",
       "      <td>Особо важное задание</td>\n",
       "      <td>111013716</td>\n",
       "      <td>2016-09-13T12:00:00.000Z</td>\n",
       "      <td>Художественный</td>\n",
       "      <td>Киностудия \"Мосфильм\"</td>\n",
       "      <td>СССР</td>\n",
       "      <td>Е.Матвеев</td>\n",
       "      <td>NaN</td>\n",
       "      <td>«6+» - для детей старше 6 лет</td>\n",
       "      <td>NaN</td>\n",
       "      <td>NaN</td>\n",
       "      <td>NaN</td>\n",
       "      <td>NaN</td>\n",
       "      <td>6.6</td>\n",
       "      <td>драма,военный</td>\n",
       "    </tr>\n",
       "    <tr>\n",
       "      <th>2</th>\n",
       "      <td>Особо опасен</td>\n",
       "      <td>221038416</td>\n",
       "      <td>2016-10-10T12:00:00.000Z</td>\n",
       "      <td>Художественный</td>\n",
       "      <td>Юниверсал Пикчерз, Кикстарт Продакшнз, Марк Пл...</td>\n",
       "      <td>США</td>\n",
       "      <td>Тимур Бекмамбетов</td>\n",
       "      <td>Джим Лемли, Джейсон Нетер, Марк Е.Платт, Яйн Смит</td>\n",
       "      <td>«18+» - запрещено для детей</td>\n",
       "      <td>NaN</td>\n",
       "      <td>NaN</td>\n",
       "      <td>NaN</td>\n",
       "      <td>NaN</td>\n",
       "      <td>6.8</td>\n",
       "      <td>фантастика,боевик,триллер</td>\n",
       "    </tr>\n",
       "    <tr>\n",
       "      <th>3</th>\n",
       "      <td>Особо опасен</td>\n",
       "      <td>221026916</td>\n",
       "      <td>2016-06-10T12:00:00.000Z</td>\n",
       "      <td>Художественный</td>\n",
       "      <td>Юниверсал Пикчерз, Кикстарт Продакшнз, Марк Пл...</td>\n",
       "      <td>США</td>\n",
       "      <td>Тимур Бекмамбетов</td>\n",
       "      <td>Джим Лемли, Джейсон Нетер, Марк Е.Платт, Яйн Смит</td>\n",
       "      <td>«18+» - запрещено для детей</td>\n",
       "      <td>NaN</td>\n",
       "      <td>NaN</td>\n",
       "      <td>NaN</td>\n",
       "      <td>NaN</td>\n",
       "      <td>6.8</td>\n",
       "      <td>фантастика,боевик,триллер</td>\n",
       "    </tr>\n",
       "    <tr>\n",
       "      <th>4</th>\n",
       "      <td>Особо опасен</td>\n",
       "      <td>221030815</td>\n",
       "      <td>2015-07-29T12:00:00.000Z</td>\n",
       "      <td>Художественный</td>\n",
       "      <td>Юниверсал Пикчерз, Кикстарт Продакшнз, Марк Пл...</td>\n",
       "      <td>США</td>\n",
       "      <td>Тимур Бекмамбетов</td>\n",
       "      <td>Джим Лемли, Джейсон Нетер, Марк Е.Платт, Яйн Смит</td>\n",
       "      <td>«18+» - запрещено для детей</td>\n",
       "      <td>NaN</td>\n",
       "      <td>NaN</td>\n",
       "      <td>NaN</td>\n",
       "      <td>NaN</td>\n",
       "      <td>6.8</td>\n",
       "      <td>фантастика,боевик,триллер</td>\n",
       "    </tr>\n",
       "  </tbody>\n",
       "</table>\n",
       "</div>"
      ],
      "text/plain": [
       "                  title   puNumber           show_start_date            type  \\\n",
       "0      Открытый простор  221048915  2015-11-27T12:00:00.000Z  Художественный   \n",
       "1  Особо важное задание  111013716  2016-09-13T12:00:00.000Z  Художественный   \n",
       "2          Особо опасен  221038416  2016-10-10T12:00:00.000Z  Художественный   \n",
       "3          Особо опасен  221026916  2016-06-10T12:00:00.000Z  Художественный   \n",
       "4          Особо опасен  221030815  2015-07-29T12:00:00.000Z  Художественный   \n",
       "\n",
       "                                         film_studio production_country  \\\n",
       "0  Тачстоун Пикчерз, Кобальт Пикчерз, Бикон Пикче...                США   \n",
       "1                              Киностудия \"Мосфильм\"               СССР   \n",
       "2  Юниверсал Пикчерз, Кикстарт Продакшнз, Марк Пл...                США   \n",
       "3  Юниверсал Пикчерз, Кикстарт Продакшнз, Марк Пл...                США   \n",
       "4  Юниверсал Пикчерз, Кикстарт Продакшнз, Марк Пл...                США   \n",
       "\n",
       "            director                                           producer  \\\n",
       "0      Кевин Костнер          Дэвид Валдес, Кевин Костнер, Джейк Эбертс   \n",
       "1          Е.Матвеев                                                NaN   \n",
       "2  Тимур Бекмамбетов  Джим Лемли, Джейсон Нетер, Марк Е.Платт, Яйн Смит   \n",
       "3  Тимур Бекмамбетов  Джим Лемли, Джейсон Нетер, Марк Е.Платт, Яйн Смит   \n",
       "4  Тимур Бекмамбетов  Джим Лемли, Джейсон Нетер, Марк Е.Платт, Яйн Смит   \n",
       "\n",
       "                 age_restriction  refundable_support  nonrefundable_support  \\\n",
       "0    «18+» - запрещено для детей                 NaN                    NaN   \n",
       "1  «6+» - для детей старше 6 лет                 NaN                    NaN   \n",
       "2    «18+» - запрещено для детей                 NaN                    NaN   \n",
       "3    «18+» - запрещено для детей                 NaN                    NaN   \n",
       "4    «18+» - запрещено для детей                 NaN                    NaN   \n",
       "\n",
       "   budget financing_source ratings                     genres  \n",
       "0     NaN              NaN     7.2     боевик,драма,мелодрама  \n",
       "1     NaN              NaN     6.6              драма,военный  \n",
       "2     NaN              NaN     6.8  фантастика,боевик,триллер  \n",
       "3     NaN              NaN     6.8  фантастика,боевик,триллер  \n",
       "4     NaN              NaN     6.8  фантастика,боевик,триллер  "
      ]
     },
     "execution_count": 2,
     "metadata": {},
     "output_type": "execute_result"
    }
   ],
   "source": [
    "df = pd.read_csv('/datasets/mkrf_movies.csv')\n",
    "df.head()"
   ]
  },
  {
   "cell_type": "code",
   "execution_count": 3,
   "metadata": {},
   "outputs": [
    {
     "data": {
      "text/html": [
       "<div>\n",
       "<style scoped>\n",
       "    .dataframe tbody tr th:only-of-type {\n",
       "        vertical-align: middle;\n",
       "    }\n",
       "\n",
       "    .dataframe tbody tr th {\n",
       "        vertical-align: top;\n",
       "    }\n",
       "\n",
       "    .dataframe thead th {\n",
       "        text-align: right;\n",
       "    }\n",
       "</style>\n",
       "<table border=\"1\" class=\"dataframe\">\n",
       "  <thead>\n",
       "    <tr style=\"text-align: right;\">\n",
       "      <th></th>\n",
       "      <th>puNumber</th>\n",
       "      <th>box_office</th>\n",
       "    </tr>\n",
       "  </thead>\n",
       "  <tbody>\n",
       "    <tr>\n",
       "      <th>0</th>\n",
       "      <td>111000113</td>\n",
       "      <td>2.450000e+03</td>\n",
       "    </tr>\n",
       "    <tr>\n",
       "      <th>1</th>\n",
       "      <td>111000115</td>\n",
       "      <td>6.104000e+04</td>\n",
       "    </tr>\n",
       "    <tr>\n",
       "      <th>2</th>\n",
       "      <td>111000116</td>\n",
       "      <td>1.530300e+08</td>\n",
       "    </tr>\n",
       "    <tr>\n",
       "      <th>3</th>\n",
       "      <td>111000117</td>\n",
       "      <td>1.226096e+07</td>\n",
       "    </tr>\n",
       "    <tr>\n",
       "      <th>4</th>\n",
       "      <td>111000118</td>\n",
       "      <td>1.636841e+08</td>\n",
       "    </tr>\n",
       "  </tbody>\n",
       "</table>\n",
       "</div>"
      ],
      "text/plain": [
       "    puNumber    box_office\n",
       "0  111000113  2.450000e+03\n",
       "1  111000115  6.104000e+04\n",
       "2  111000116  1.530300e+08\n",
       "3  111000117  1.226096e+07\n",
       "4  111000118  1.636841e+08"
      ]
     },
     "execution_count": 3,
     "metadata": {},
     "output_type": "execute_result"
    }
   ],
   "source": [
    "df_shows = pd.read_csv('/datasets/mkrf_shows.csv')\n",
    "df_shows.head()"
   ]
  },
  {
   "cell_type": "code",
   "execution_count": 4,
   "metadata": {},
   "outputs": [
    {
     "name": "stdout",
     "output_type": "stream",
     "text": [
      "<class 'pandas.core.frame.DataFrame'>\n",
      "RangeIndex: 3158 entries, 0 to 3157\n",
      "Data columns (total 2 columns):\n",
      " #   Column      Non-Null Count  Dtype  \n",
      "---  ------      --------------  -----  \n",
      " 0   puNumber    3158 non-null   int64  \n",
      " 1   box_office  3158 non-null   float64\n",
      "dtypes: float64(1), int64(1)\n",
      "memory usage: 49.5 KB\n",
      "\n",
      "<class 'pandas.core.frame.DataFrame'>\n",
      "RangeIndex: 7486 entries, 0 to 7485\n",
      "Data columns (total 15 columns):\n",
      " #   Column                 Non-Null Count  Dtype  \n",
      "---  ------                 --------------  -----  \n",
      " 0   title                  7486 non-null   object \n",
      " 1   puNumber               7486 non-null   object \n",
      " 2   show_start_date        7486 non-null   object \n",
      " 3   type                   7486 non-null   object \n",
      " 4   film_studio            7468 non-null   object \n",
      " 5   production_country     7484 non-null   object \n",
      " 6   director               7477 non-null   object \n",
      " 7   producer               6918 non-null   object \n",
      " 8   age_restriction        7486 non-null   object \n",
      " 9   refundable_support     332 non-null    float64\n",
      " 10  nonrefundable_support  332 non-null    float64\n",
      " 11  budget                 332 non-null    float64\n",
      " 12  financing_source       332 non-null    object \n",
      " 13  ratings                6519 non-null   object \n",
      " 14  genres                 6510 non-null   object \n",
      "dtypes: float64(3), object(12)\n",
      "memory usage: 877.4+ KB\n"
     ]
    }
   ],
   "source": [
    "df_shows.info()\n",
    "print()\n",
    "df.info()"
   ]
  },
  {
   "cell_type": "markdown",
   "metadata": {},
   "source": [
    "Объединять два датафрейма будем по столбцу puNumber. \n",
    "В первом датафрейме этот столбец имеет тип object, во втором - числовой.\n",
    "При попытке привести этот столбец в первом датасете в числовой тип обнаружились строки со словом \"нет\". Заменим их на 0.\n",
    "После этого преобразуем тип данных в числовой."
   ]
  },
  {
   "cell_type": "code",
   "execution_count": 5,
   "metadata": {},
   "outputs": [],
   "source": [
    "df.loc[df['puNumber'] == 'нет', 'puNumber'] = 0"
   ]
  },
  {
   "cell_type": "code",
   "execution_count": 6,
   "metadata": {},
   "outputs": [],
   "source": [
    "df['puNumber'] = pd.to_numeric(df['puNumber'])"
   ]
  },
  {
   "cell_type": "code",
   "execution_count": 7,
   "metadata": {},
   "outputs": [
    {
     "name": "stdout",
     "output_type": "stream",
     "text": [
      "<class 'pandas.core.frame.DataFrame'>\n",
      "RangeIndex: 7486 entries, 0 to 7485\n",
      "Data columns (total 15 columns):\n",
      " #   Column                 Non-Null Count  Dtype  \n",
      "---  ------                 --------------  -----  \n",
      " 0   title                  7486 non-null   object \n",
      " 1   puNumber               7486 non-null   int64  \n",
      " 2   show_start_date        7486 non-null   object \n",
      " 3   type                   7486 non-null   object \n",
      " 4   film_studio            7468 non-null   object \n",
      " 5   production_country     7484 non-null   object \n",
      " 6   director               7477 non-null   object \n",
      " 7   producer               6918 non-null   object \n",
      " 8   age_restriction        7486 non-null   object \n",
      " 9   refundable_support     332 non-null    float64\n",
      " 10  nonrefundable_support  332 non-null    float64\n",
      " 11  budget                 332 non-null    float64\n",
      " 12  financing_source       332 non-null    object \n",
      " 13  ratings                6519 non-null   object \n",
      " 14  genres                 6510 non-null   object \n",
      "dtypes: float64(3), int64(1), object(11)\n",
      "memory usage: 877.4+ KB\n"
     ]
    }
   ],
   "source": [
    "df.info() #убеждаемся, что преобразование успешно"
   ]
  },
  {
   "cell_type": "markdown",
   "metadata": {},
   "source": [
    "Убедимся, что во втоором датасете в столбце puNumber нет нулевых значений"
   ]
  },
  {
   "cell_type": "code",
   "execution_count": 8,
   "metadata": {},
   "outputs": [
    {
     "data": {
      "text/plain": [
       "puNumber      0\n",
       "box_office    0\n",
       "dtype: int64"
      ]
     },
     "execution_count": 8,
     "metadata": {},
     "output_type": "execute_result"
    }
   ],
   "source": [
    "df_shows[df_shows['puNumber'] == 0].count()"
   ]
  },
  {
   "cell_type": "markdown",
   "metadata": {},
   "source": [
    "Объединяем датасеты и убеждаемся. что всё в порядке."
   ]
  },
  {
   "cell_type": "code",
   "execution_count": 9,
   "metadata": {},
   "outputs": [],
   "source": [
    "df =df.merge(df_shows, on='puNumber', how='left')"
   ]
  },
  {
   "cell_type": "code",
   "execution_count": 10,
   "metadata": {},
   "outputs": [
    {
     "name": "stdout",
     "output_type": "stream",
     "text": [
      "<class 'pandas.core.frame.DataFrame'>\n",
      "Int64Index: 7486 entries, 0 to 7485\n",
      "Data columns (total 16 columns):\n",
      " #   Column                 Non-Null Count  Dtype  \n",
      "---  ------                 --------------  -----  \n",
      " 0   title                  7486 non-null   object \n",
      " 1   puNumber               7486 non-null   int64  \n",
      " 2   show_start_date        7486 non-null   object \n",
      " 3   type                   7486 non-null   object \n",
      " 4   film_studio            7468 non-null   object \n",
      " 5   production_country     7484 non-null   object \n",
      " 6   director               7477 non-null   object \n",
      " 7   producer               6918 non-null   object \n",
      " 8   age_restriction        7486 non-null   object \n",
      " 9   refundable_support     332 non-null    float64\n",
      " 10  nonrefundable_support  332 non-null    float64\n",
      " 11  budget                 332 non-null    float64\n",
      " 12  financing_source       332 non-null    object \n",
      " 13  ratings                6519 non-null   object \n",
      " 14  genres                 6510 non-null   object \n",
      " 15  box_office             3158 non-null   float64\n",
      "dtypes: float64(4), int64(1), object(11)\n",
      "memory usage: 994.2+ KB\n"
     ]
    }
   ],
   "source": [
    "df.info()"
   ]
  },
  {
   "cell_type": "markdown",
   "metadata": {},
   "source": [
    "<div style=\"border:solid blue 3px; padding: 20px\">\n",
    "<div class=\"alert alert-info\">\n",
    "\n",
    "Датасеты объединены в один по столбцу puNumber. Далее буде работать с этим датасетом.\n",
    "\n",
    "</div>\n",
    "</div>"
   ]
  },
  {
   "cell_type": "markdown",
   "metadata": {},
   "source": [
    "<div class=\"alert alert-success\">\n",
    "<h1> Комментарий ревьюера V2✅</h1>\n",
    "\n",
    "👍\n",
    "\n",
    "</div>"
   ]
  },
  {
   "cell_type": "markdown",
   "metadata": {},
   "source": [
    "<div class=\"alert alert-warning\">\n",
    "<h1> Комментарий ревьюера💡</h1>\n",
    "\n",
    "Похоже, что все в порядке. Но было бы хорошо, добавить небольшой комментарий, в котором можно было это отметить.\n",
    "\n",
    "</div>"
   ]
  },
  {
   "cell_type": "markdown",
   "metadata": {
    "id": "KLDGpPG0gFyM"
   },
   "source": [
    "### Шаг 2. Предобработка данных"
   ]
  },
  {
   "cell_type": "markdown",
   "metadata": {
    "id": "ssWwKXsxgFyO"
   },
   "source": [
    "#### Шаг 2.1. Проверьте типы данных\n",
    "\n",
    "- Проверьте типы данных в датафрейме и преобразуйте их там, где это необходимо."
   ]
  },
  {
   "cell_type": "markdown",
   "metadata": {
    "id": "kVGSplJOgFyO"
   },
   "source": [
    "Как видно из содержимого датафрейма и сводной информации, у нас есть рейтинг и дата премьеры фильма, хранящиеся в строковом формате."
   ]
  },
  {
   "cell_type": "code",
   "execution_count": 11,
   "metadata": {},
   "outputs": [
    {
     "data": {
      "text/plain": [
       "array(['7.2', '6.6', '6.8', '7.7', '8.3', '8.0', '7.8', '8.1', '7.1',\n",
       "       '6.0', '7.4', '5.8', '8.7', '6.3', '6.9', '5.0', '4.3', '7.3',\n",
       "       '7.0', '6.4', nan, '8.2', '7.5', '6.7', '7.9', '5.9', '6.2', '5.6',\n",
       "       '6.5', '2.4', '7.6', '6.1', '8.6', '8.5', '8.8', '5.5', '5.1',\n",
       "       '5.7', '5.4', '99%', '4.4', '4.5', '5.3', '4.1', '8.4', '2.6',\n",
       "       '3.8', '4.6', '4.8', '4.0', '3.0', '1.6', '4.2', '5.2', '4.7',\n",
       "       '4.9', '3.9', '2.7', '3.3', '2.9', '28%', '3.7', '1.4', '3.1',\n",
       "       '97%', '3.5', '3.2', '2.8', '1.5', '2.1', '2.5', '9.2', '3.4',\n",
       "       '1.1', '3.6', '83%', '64%', '91%', '94%', '62%', '79%', '90%',\n",
       "       '19%', '88%', '1.0', '89%', '1.3', '1.9', '1.8', '1.2', '1.7',\n",
       "       '9.0', '98%', '8.9', '9.1'], dtype=object)"
      ]
     },
     "execution_count": 11,
     "metadata": {},
     "output_type": "execute_result"
    }
   ],
   "source": [
    "df['ratings'].unique()"
   ]
  },
  {
   "cell_type": "markdown",
   "metadata": {},
   "source": [
    "Как видим, в столбце с рейтингом есть значения в %. Предположим, что это доли от 10 баллов. Перепишем проценты в этих строках как доли от 10 баллов, а затем приведём всё к числу. Убедимся, что предельные значения находятся в диапазоне 1..10."
   ]
  },
  {
   "cell_type": "markdown",
   "metadata": {},
   "source": [
    "<div class=\"alert alert-warning\">\n",
    "<h1> Комментарий ревьюера💡</h1>\n",
    "\n",
    "Интересная гипотеза. Но мы не можем быть уверенны до конца, что две шкалы можно соотнести между собой.\n",
    "\n",
    "</div>"
   ]
  },
  {
   "cell_type": "markdown",
   "metadata": {},
   "source": [
    "\n",
    "<div style=\"border:solid blue 3px; padding: 20px\">\n",
    "<div class=\"alert alert-info\">\n",
    "\n",
    "Так как мы не уверены до конца в своей ггипотоезе, не будем менять значения %, просто изменим тип данных этого столбца.\n",
    "\n",
    "</div>\n",
    "</div>"
   ]
  },
  {
   "cell_type": "markdown",
   "metadata": {},
   "source": [
    "<div class=\"alert alert-success\">\n",
    "<h1> Комментарий ревьюера V2✅</h1>\n",
    "\n",
    "Так тоже можно поступить.\n",
    "\n",
    "</div>"
   ]
  },
  {
   "cell_type": "code",
   "execution_count": 12,
   "metadata": {},
   "outputs": [],
   "source": [
    "#invalid_raitings = df[df['ratings'].str.contains('[^0-9.]').fillna(False)]#значения включают в себя не только цифры и точку."
   ]
  },
  {
   "cell_type": "code",
   "execution_count": 13,
   "metadata": {},
   "outputs": [],
   "source": [
    "#df.loc[invalid_raitings.index, 'ratings'] = invalid_raitings['ratings'].str[0] + '.' + invalid_raitings['ratings'].str[1]\n",
    "df['ratings']=pd.to_numeric(df['ratings'],errors='coerce')\n",
    "#df['ratings'] = pd.to_numeric(df['ratings'])\n",
    "\n",
    "#df['ratings'].describe()[['min', 'max']]"
   ]
  },
  {
   "cell_type": "markdown",
   "metadata": {},
   "source": [
    "<div class=\"alert alert-success\">\n",
    "<h1> Комментарий ревьюера✅</h1>\n",
    "\n",
    "Тип данных для рейтинга поправили.\n",
    "\n",
    "</div>"
   ]
  },
  {
   "cell_type": "code",
   "execution_count": 14,
   "metadata": {},
   "outputs": [
    {
     "data": {
      "text/plain": [
       "array([7.2, 6.6, 6.8, 7.7, 8.3, 8. , 7.8, 8.1, 7.1, 6. , 7.4, 5.8, 8.7,\n",
       "       6.3, 6.9, 5. , 4.3, 7.3, 7. , 6.4, nan, 8.2, 7.5, 6.7, 7.9, 5.9,\n",
       "       6.2, 5.6, 6.5, 2.4, 7.6, 6.1, 8.6, 8.5, 8.8, 5.5, 5.1, 5.7, 5.4,\n",
       "       4.4, 4.5, 5.3, 4.1, 8.4, 2.6, 3.8, 4.6, 4.8, 4. , 3. , 1.6, 4.2,\n",
       "       5.2, 4.7, 4.9, 3.9, 2.7, 3.3, 2.9, 3.7, 1.4, 3.1, 3.5, 3.2, 2.8,\n",
       "       1.5, 2.1, 2.5, 9.2, 3.4, 1.1, 3.6, 1. , 1.3, 1.9, 1.8, 1.2, 1.7,\n",
       "       9. , 8.9, 9.1])"
      ]
     },
     "execution_count": 14,
     "metadata": {},
     "output_type": "execute_result"
    }
   ],
   "source": [
    "df['ratings'].unique()"
   ]
  },
  {
   "cell_type": "markdown",
   "metadata": {},
   "source": [
    "Преобразуем тип столбца с датой выхода в тип datetime."
   ]
  },
  {
   "cell_type": "code",
   "execution_count": 15,
   "metadata": {},
   "outputs": [],
   "source": [
    "df['show_start_date'] = pd.to_datetime(df['show_start_date'], format='%Y-%m-%dT%H:%M:%S')"
   ]
  },
  {
   "cell_type": "markdown",
   "metadata": {},
   "source": [
    "<div class=\"alert alert-success\">\n",
    "<h1> Комментарий ревьюера✅</h1>\n",
    "\n",
    "Дату тоже поправили.\n",
    "\n",
    "</div>"
   ]
  },
  {
   "cell_type": "markdown",
   "metadata": {
    "id": "i0MOLbF-gFyP"
   },
   "source": [
    "#### Шаг 2.2. Изучите пропуски в датафрейме\n",
    "\n",
    "- Объясните, почему заполнили пропуски определённым образом или почему не стали этого делать."
   ]
  },
  {
   "cell_type": "code",
   "execution_count": 16,
   "metadata": {
    "id": "8MJD_lkngFyP"
   },
   "outputs": [
    {
     "name": "stdout",
     "output_type": "stream",
     "text": [
      "<class 'pandas.core.frame.DataFrame'>\n",
      "Int64Index: 7486 entries, 0 to 7485\n",
      "Data columns (total 16 columns):\n",
      " #   Column                 Non-Null Count  Dtype              \n",
      "---  ------                 --------------  -----              \n",
      " 0   title                  7486 non-null   object             \n",
      " 1   puNumber               7486 non-null   int64              \n",
      " 2   show_start_date        7486 non-null   datetime64[ns, UTC]\n",
      " 3   type                   7486 non-null   object             \n",
      " 4   film_studio            7468 non-null   object             \n",
      " 5   production_country     7484 non-null   object             \n",
      " 6   director               7477 non-null   object             \n",
      " 7   producer               6918 non-null   object             \n",
      " 8   age_restriction        7486 non-null   object             \n",
      " 9   refundable_support     332 non-null    float64            \n",
      " 10  nonrefundable_support  332 non-null    float64            \n",
      " 11  budget                 332 non-null    float64            \n",
      " 12  financing_source       332 non-null    object             \n",
      " 13  ratings                6490 non-null   float64            \n",
      " 14  genres                 6510 non-null   object             \n",
      " 15  box_office             3158 non-null   float64            \n",
      "dtypes: datetime64[ns, UTC](1), float64(5), int64(1), object(9)\n",
      "memory usage: 994.2+ KB\n"
     ]
    }
   ],
   "source": [
    "df.info()"
   ]
  },
  {
   "cell_type": "markdown",
   "metadata": {},
   "source": [
    "film_studio - 18 пропусков;\n",
    "production_country -  2 пропуска;\n",
    "director - 9 пропусков;\n",
    "producer - 568 пропусков;\n",
    "refundable_support, nonrefundable_support, budget, financing_source - 332 пропускаю В описании указано, что эти данные указаны только для тех фильмов, которые получили государственную поддержку. Также бюджет этих фильмов указан с учетом государственной поддержки;\n",
    "ratings - 967 пропусков;\n",
    "genres - 976 прорусков\n",
    "box_office - пропусков много."
   ]
  },
  {
   "cell_type": "markdown",
   "metadata": {},
   "source": [
    "<div class=\"alert alert-success\">\n",
    "<h1> Комментарий ревьюера✅</h1>\n",
    "\n",
    "Отлично. Приступим к более внимательному рассмотрению.\n",
    "\n",
    "</div>"
   ]
  },
  {
   "cell_type": "code",
   "execution_count": 17,
   "metadata": {},
   "outputs": [
    {
     "data": {
      "text/html": [
       "<div>\n",
       "<style scoped>\n",
       "    .dataframe tbody tr th:only-of-type {\n",
       "        vertical-align: middle;\n",
       "    }\n",
       "\n",
       "    .dataframe tbody tr th {\n",
       "        vertical-align: top;\n",
       "    }\n",
       "\n",
       "    .dataframe thead th {\n",
       "        text-align: right;\n",
       "    }\n",
       "</style>\n",
       "<table border=\"1\" class=\"dataframe\">\n",
       "  <thead>\n",
       "    <tr style=\"text-align: right;\">\n",
       "      <th></th>\n",
       "      <th>title</th>\n",
       "      <th>puNumber</th>\n",
       "      <th>show_start_date</th>\n",
       "      <th>type</th>\n",
       "      <th>film_studio</th>\n",
       "      <th>production_country</th>\n",
       "      <th>director</th>\n",
       "      <th>producer</th>\n",
       "      <th>age_restriction</th>\n",
       "      <th>refundable_support</th>\n",
       "      <th>nonrefundable_support</th>\n",
       "      <th>budget</th>\n",
       "      <th>financing_source</th>\n",
       "      <th>ratings</th>\n",
       "      <th>genres</th>\n",
       "      <th>box_office</th>\n",
       "    </tr>\n",
       "  </thead>\n",
       "  <tbody>\n",
       "    <tr>\n",
       "      <th>1293</th>\n",
       "      <td>Stars in Shorts</td>\n",
       "      <td>121011114</td>\n",
       "      <td>2014-06-03 12:00:00+00:00</td>\n",
       "      <td>Художественный</td>\n",
       "      <td>NaN</td>\n",
       "      <td>США, Великобритания</td>\n",
       "      <td>Роберт Фестингер, Руперт Френд, Джей Камен, Ни...</td>\n",
       "      <td>Татьяна Келли, Роберта Мунро, Руперт Френд, До...</td>\n",
       "      <td>«16+» - для детей старше 16 лет</td>\n",
       "      <td>NaN</td>\n",
       "      <td>NaN</td>\n",
       "      <td>NaN</td>\n",
       "      <td>NaN</td>\n",
       "      <td>7.3</td>\n",
       "      <td>комедия</td>\n",
       "      <td>NaN</td>\n",
       "    </tr>\n",
       "    <tr>\n",
       "      <th>4441</th>\n",
       "      <td>Мульт личности. Выпуск 5</td>\n",
       "      <td>214000410</td>\n",
       "      <td>2010-01-25 12:00:00+00:00</td>\n",
       "      <td>Художественный</td>\n",
       "      <td>NaN</td>\n",
       "      <td>NaN</td>\n",
       "      <td>NaN</td>\n",
       "      <td>NaN</td>\n",
       "      <td>«0+» - для любой зрительской аудитории</td>\n",
       "      <td>NaN</td>\n",
       "      <td>NaN</td>\n",
       "      <td>NaN</td>\n",
       "      <td>NaN</td>\n",
       "      <td>4.0</td>\n",
       "      <td>мультфильм,комедия</td>\n",
       "      <td>NaN</td>\n",
       "    </tr>\n",
       "    <tr>\n",
       "      <th>6105</th>\n",
       "      <td>Значит любит</td>\n",
       "      <td>111013818</td>\n",
       "      <td>2018-08-10 12:00:00+00:00</td>\n",
       "      <td>Художественный</td>\n",
       "      <td>NaN</td>\n",
       "      <td>Россия</td>\n",
       "      <td>А.Краевский</td>\n",
       "      <td>Е.Щербакова</td>\n",
       "      <td>«18+» - запрещено для детей</td>\n",
       "      <td>NaN</td>\n",
       "      <td>NaN</td>\n",
       "      <td>NaN</td>\n",
       "      <td>NaN</td>\n",
       "      <td>NaN</td>\n",
       "      <td>NaN</td>\n",
       "      <td>NaN</td>\n",
       "    </tr>\n",
       "    <tr>\n",
       "      <th>6181</th>\n",
       "      <td>Несейка. Младшая дочь</td>\n",
       "      <td>112007018</td>\n",
       "      <td>2018-09-01 12:00:00+00:00</td>\n",
       "      <td>Документальный</td>\n",
       "      <td>NaN</td>\n",
       "      <td>Россия</td>\n",
       "      <td>В.Марин</td>\n",
       "      <td>Д.Якунин, Ф.Абрютин, О.Филонова</td>\n",
       "      <td>«6+» - для детей старше 6 лет</td>\n",
       "      <td>NaN</td>\n",
       "      <td>NaN</td>\n",
       "      <td>NaN</td>\n",
       "      <td>NaN</td>\n",
       "      <td>NaN</td>\n",
       "      <td>NaN</td>\n",
       "      <td>NaN</td>\n",
       "    </tr>\n",
       "    <tr>\n",
       "      <th>6379</th>\n",
       "      <td>Ян Антонышев</td>\n",
       "      <td>112011818</td>\n",
       "      <td>2018-11-15 12:00:00+00:00</td>\n",
       "      <td>Документальный</td>\n",
       "      <td>NaN</td>\n",
       "      <td>Россия</td>\n",
       "      <td>Е.Окопная</td>\n",
       "      <td>Е.Герасимов</td>\n",
       "      <td>«12+» - для детей старше 12 лет</td>\n",
       "      <td>NaN</td>\n",
       "      <td>NaN</td>\n",
       "      <td>NaN</td>\n",
       "      <td>NaN</td>\n",
       "      <td>NaN</td>\n",
       "      <td>NaN</td>\n",
       "      <td>NaN</td>\n",
       "    </tr>\n",
       "    <tr>\n",
       "      <th>6380</th>\n",
       "      <td>Ян Антонышев</td>\n",
       "      <td>112011918</td>\n",
       "      <td>2018-11-15 12:00:00+00:00</td>\n",
       "      <td>Документальный</td>\n",
       "      <td>NaN</td>\n",
       "      <td>Россия</td>\n",
       "      <td>Е.Окопная</td>\n",
       "      <td>Е.Герасимов</td>\n",
       "      <td>«12+» - для детей старше 12 лет</td>\n",
       "      <td>NaN</td>\n",
       "      <td>NaN</td>\n",
       "      <td>NaN</td>\n",
       "      <td>NaN</td>\n",
       "      <td>NaN</td>\n",
       "      <td>NaN</td>\n",
       "      <td>NaN</td>\n",
       "    </tr>\n",
       "    <tr>\n",
       "      <th>6399</th>\n",
       "      <td>Доживем до каникул?..</td>\n",
       "      <td>111021918</td>\n",
       "      <td>2018-11-15 12:00:00+00:00</td>\n",
       "      <td>Художественный</td>\n",
       "      <td>NaN</td>\n",
       "      <td>Россия</td>\n",
       "      <td>Я.Хальпукова (псевдоним Яна Мартынец)</td>\n",
       "      <td>Я.Хальпукова (псевдоним Яна Мартынец)</td>\n",
       "      <td>«12+» - для детей старше 12 лет</td>\n",
       "      <td>NaN</td>\n",
       "      <td>NaN</td>\n",
       "      <td>NaN</td>\n",
       "      <td>NaN</td>\n",
       "      <td>NaN</td>\n",
       "      <td>NaN</td>\n",
       "      <td>41225.0</td>\n",
       "    </tr>\n",
       "    <tr>\n",
       "      <th>6485</th>\n",
       "      <td>До и После</td>\n",
       "      <td>112014418</td>\n",
       "      <td>2018-12-05 12:00:00+00:00</td>\n",
       "      <td>Документальный</td>\n",
       "      <td>NaN</td>\n",
       "      <td>Россия</td>\n",
       "      <td>А.Новокреповская</td>\n",
       "      <td>А.Новокреповская</td>\n",
       "      <td>«6+» - для детей старше 6 лет</td>\n",
       "      <td>NaN</td>\n",
       "      <td>NaN</td>\n",
       "      <td>NaN</td>\n",
       "      <td>NaN</td>\n",
       "      <td>6.9</td>\n",
       "      <td>драма,криминал,детектив</td>\n",
       "      <td>NaN</td>\n",
       "    </tr>\n",
       "    <tr>\n",
       "      <th>6494</th>\n",
       "      <td>Калмыцкий геше Нгаванг Вангьял</td>\n",
       "      <td>113002018</td>\n",
       "      <td>2018-12-05 12:00:00+00:00</td>\n",
       "      <td>Научно-популярный</td>\n",
       "      <td>NaN</td>\n",
       "      <td>Россия</td>\n",
       "      <td>И.Долгина</td>\n",
       "      <td>И.Долгина</td>\n",
       "      <td>«12+» - для детей старше 12 лет</td>\n",
       "      <td>NaN</td>\n",
       "      <td>NaN</td>\n",
       "      <td>NaN</td>\n",
       "      <td>NaN</td>\n",
       "      <td>NaN</td>\n",
       "      <td>NaN</td>\n",
       "      <td>NaN</td>\n",
       "    </tr>\n",
       "    <tr>\n",
       "      <th>6497</th>\n",
       "      <td>Мой папа Чингисхан</td>\n",
       "      <td>112014918</td>\n",
       "      <td>2018-12-06 12:00:00+00:00</td>\n",
       "      <td>Документальный</td>\n",
       "      <td>NaN</td>\n",
       "      <td>Россия</td>\n",
       "      <td>А.Сайфуллина</td>\n",
       "      <td>А.Сайфуллина</td>\n",
       "      <td>«12+» - для детей старше 12 лет</td>\n",
       "      <td>NaN</td>\n",
       "      <td>NaN</td>\n",
       "      <td>NaN</td>\n",
       "      <td>NaN</td>\n",
       "      <td>NaN</td>\n",
       "      <td>NaN</td>\n",
       "      <td>NaN</td>\n",
       "    </tr>\n",
       "    <tr>\n",
       "      <th>6498</th>\n",
       "      <td>В плену города грёз</td>\n",
       "      <td>112014818</td>\n",
       "      <td>2018-12-06 12:00:00+00:00</td>\n",
       "      <td>Документальный</td>\n",
       "      <td>NaN</td>\n",
       "      <td>Россия</td>\n",
       "      <td>В.Витовцев</td>\n",
       "      <td>О.Мичи</td>\n",
       "      <td>«18+» - запрещено для детей</td>\n",
       "      <td>NaN</td>\n",
       "      <td>NaN</td>\n",
       "      <td>NaN</td>\n",
       "      <td>NaN</td>\n",
       "      <td>7.9</td>\n",
       "      <td>фантастика,боевик,триллер</td>\n",
       "      <td>NaN</td>\n",
       "    </tr>\n",
       "    <tr>\n",
       "      <th>6499</th>\n",
       "      <td>Последнее фото</td>\n",
       "      <td>112014518</td>\n",
       "      <td>2018-12-06 12:00:00+00:00</td>\n",
       "      <td>Документальный</td>\n",
       "      <td>NaN</td>\n",
       "      <td>Россия</td>\n",
       "      <td>Е.Севастьянов</td>\n",
       "      <td>Е.Севастьянов</td>\n",
       "      <td>«18+» - запрещено для детей</td>\n",
       "      <td>NaN</td>\n",
       "      <td>NaN</td>\n",
       "      <td>NaN</td>\n",
       "      <td>NaN</td>\n",
       "      <td>NaN</td>\n",
       "      <td>NaN</td>\n",
       "      <td>NaN</td>\n",
       "    </tr>\n",
       "    <tr>\n",
       "      <th>6507</th>\n",
       "      <td>Мой селфхарм</td>\n",
       "      <td>113001918</td>\n",
       "      <td>2018-12-06 12:00:00+00:00</td>\n",
       "      <td>Научно-популярный</td>\n",
       "      <td>NaN</td>\n",
       "      <td>Россия</td>\n",
       "      <td>Я.Лаптев (псевдоним Яков Раскалов)</td>\n",
       "      <td>Я.Лаптев (псевдоним Яков Раскалов)</td>\n",
       "      <td>«18+» - запрещено для детей</td>\n",
       "      <td>NaN</td>\n",
       "      <td>NaN</td>\n",
       "      <td>NaN</td>\n",
       "      <td>NaN</td>\n",
       "      <td>NaN</td>\n",
       "      <td>NaN</td>\n",
       "      <td>NaN</td>\n",
       "    </tr>\n",
       "    <tr>\n",
       "      <th>6511</th>\n",
       "      <td>Обстоятельства места и времени</td>\n",
       "      <td>112015018</td>\n",
       "      <td>2018-12-12 12:00:00+00:00</td>\n",
       "      <td>Документальный</td>\n",
       "      <td>NaN</td>\n",
       "      <td>Россия</td>\n",
       "      <td>Д.Кабаков</td>\n",
       "      <td>Д.Кабаков</td>\n",
       "      <td>«12+» - для детей старше 12 лет</td>\n",
       "      <td>NaN</td>\n",
       "      <td>NaN</td>\n",
       "      <td>NaN</td>\n",
       "      <td>NaN</td>\n",
       "      <td>NaN</td>\n",
       "      <td>NaN</td>\n",
       "      <td>NaN</td>\n",
       "    </tr>\n",
       "    <tr>\n",
       "      <th>6638</th>\n",
       "      <td>Эрик Булатов. Моя Третьяковка, серии 1-2</td>\n",
       "      <td>113000319</td>\n",
       "      <td>2019-01-28 12:00:00+00:00</td>\n",
       "      <td>Научно-популярный</td>\n",
       "      <td>NaN</td>\n",
       "      <td>Россия</td>\n",
       "      <td>С.Гарькавый</td>\n",
       "      <td>Т.Пинская</td>\n",
       "      <td>«6+» - для детей старше 6 лет</td>\n",
       "      <td>NaN</td>\n",
       "      <td>NaN</td>\n",
       "      <td>NaN</td>\n",
       "      <td>NaN</td>\n",
       "      <td>NaN</td>\n",
       "      <td>NaN</td>\n",
       "      <td>NaN</td>\n",
       "    </tr>\n",
       "    <tr>\n",
       "      <th>6639</th>\n",
       "      <td>Брови</td>\n",
       "      <td>111000719</td>\n",
       "      <td>2019-03-01 12:00:00+00:00</td>\n",
       "      <td>Художественный</td>\n",
       "      <td>NaN</td>\n",
       "      <td>Россия</td>\n",
       "      <td>О.Штром</td>\n",
       "      <td>В.Максимов, В.Степанов, Г.Киракосян, О.Штром</td>\n",
       "      <td>«16+» - для детей старше 16 лет</td>\n",
       "      <td>NaN</td>\n",
       "      <td>NaN</td>\n",
       "      <td>NaN</td>\n",
       "      <td>NaN</td>\n",
       "      <td>NaN</td>\n",
       "      <td>NaN</td>\n",
       "      <td>NaN</td>\n",
       "    </tr>\n",
       "    <tr>\n",
       "      <th>6662</th>\n",
       "      <td>Топливо</td>\n",
       "      <td>111001419</td>\n",
       "      <td>2019-02-12 12:00:00+00:00</td>\n",
       "      <td>Художественный</td>\n",
       "      <td>NaN</td>\n",
       "      <td>Россия</td>\n",
       "      <td>М.Архипов</td>\n",
       "      <td>М.Архипов</td>\n",
       "      <td>«12+» - для детей старше 12 лет</td>\n",
       "      <td>NaN</td>\n",
       "      <td>NaN</td>\n",
       "      <td>NaN</td>\n",
       "      <td>NaN</td>\n",
       "      <td>6.1</td>\n",
       "      <td>короткометражка,фантастика</td>\n",
       "      <td>NaN</td>\n",
       "    </tr>\n",
       "    <tr>\n",
       "      <th>6722</th>\n",
       "      <td>Путешествие в Париж</td>\n",
       "      <td>111002919</td>\n",
       "      <td>2019-03-01 12:00:00+00:00</td>\n",
       "      <td>Художественный</td>\n",
       "      <td>NaN</td>\n",
       "      <td>Россия</td>\n",
       "      <td>М.Олейник (псевдоним - Мария Полякова)</td>\n",
       "      <td>Н.Савко</td>\n",
       "      <td>«16+» - для детей старше 16 лет</td>\n",
       "      <td>NaN</td>\n",
       "      <td>NaN</td>\n",
       "      <td>NaN</td>\n",
       "      <td>NaN</td>\n",
       "      <td>NaN</td>\n",
       "      <td>NaN</td>\n",
       "      <td>NaN</td>\n",
       "    </tr>\n",
       "  </tbody>\n",
       "</table>\n",
       "</div>"
      ],
      "text/plain": [
       "                                         title   puNumber  \\\n",
       "1293                           Stars in Shorts  121011114   \n",
       "4441                  Мульт личности. Выпуск 5  214000410   \n",
       "6105                              Значит любит  111013818   \n",
       "6181                     Несейка. Младшая дочь  112007018   \n",
       "6379                              Ян Антонышев  112011818   \n",
       "6380                              Ян Антонышев  112011918   \n",
       "6399                     Доживем до каникул?..  111021918   \n",
       "6485                                До и После  112014418   \n",
       "6494            Калмыцкий геше Нгаванг Вангьял  113002018   \n",
       "6497                        Мой папа Чингисхан  112014918   \n",
       "6498                       В плену города грёз  112014818   \n",
       "6499                            Последнее фото  112014518   \n",
       "6507                              Мой селфхарм  113001918   \n",
       "6511            Обстоятельства места и времени  112015018   \n",
       "6638  Эрик Булатов. Моя Третьяковка, серии 1-2  113000319   \n",
       "6639                                     Брови  111000719   \n",
       "6662                                   Топливо  111001419   \n",
       "6722                       Путешествие в Париж  111002919   \n",
       "\n",
       "               show_start_date               type film_studio  \\\n",
       "1293 2014-06-03 12:00:00+00:00     Художественный         NaN   \n",
       "4441 2010-01-25 12:00:00+00:00     Художественный         NaN   \n",
       "6105 2018-08-10 12:00:00+00:00     Художественный         NaN   \n",
       "6181 2018-09-01 12:00:00+00:00     Документальный         NaN   \n",
       "6379 2018-11-15 12:00:00+00:00     Документальный         NaN   \n",
       "6380 2018-11-15 12:00:00+00:00     Документальный         NaN   \n",
       "6399 2018-11-15 12:00:00+00:00     Художественный         NaN   \n",
       "6485 2018-12-05 12:00:00+00:00     Документальный         NaN   \n",
       "6494 2018-12-05 12:00:00+00:00  Научно-популярный         NaN   \n",
       "6497 2018-12-06 12:00:00+00:00     Документальный         NaN   \n",
       "6498 2018-12-06 12:00:00+00:00     Документальный         NaN   \n",
       "6499 2018-12-06 12:00:00+00:00     Документальный         NaN   \n",
       "6507 2018-12-06 12:00:00+00:00  Научно-популярный         NaN   \n",
       "6511 2018-12-12 12:00:00+00:00     Документальный         NaN   \n",
       "6638 2019-01-28 12:00:00+00:00  Научно-популярный         NaN   \n",
       "6639 2019-03-01 12:00:00+00:00     Художественный         NaN   \n",
       "6662 2019-02-12 12:00:00+00:00     Художественный         NaN   \n",
       "6722 2019-03-01 12:00:00+00:00     Художественный         NaN   \n",
       "\n",
       "       production_country                                           director  \\\n",
       "1293  США, Великобритания  Роберт Фестингер, Руперт Френд, Джей Камен, Ни...   \n",
       "4441                  NaN                                                NaN   \n",
       "6105               Россия                                        А.Краевский   \n",
       "6181               Россия                                            В.Марин   \n",
       "6379               Россия                                          Е.Окопная   \n",
       "6380               Россия                                          Е.Окопная   \n",
       "6399               Россия              Я.Хальпукова (псевдоним Яна Мартынец)   \n",
       "6485               Россия                                   А.Новокреповская   \n",
       "6494               Россия                                          И.Долгина   \n",
       "6497               Россия                                       А.Сайфуллина   \n",
       "6498               Россия                                         В.Витовцев   \n",
       "6499               Россия                                      Е.Севастьянов   \n",
       "6507               Россия                 Я.Лаптев (псевдоним Яков Раскалов)   \n",
       "6511               Россия                                          Д.Кабаков   \n",
       "6638               Россия                                        С.Гарькавый   \n",
       "6639               Россия                                            О.Штром   \n",
       "6662               Россия                                          М.Архипов   \n",
       "6722               Россия             М.Олейник (псевдоним - Мария Полякова)   \n",
       "\n",
       "                                               producer  \\\n",
       "1293  Татьяна Келли, Роберта Мунро, Руперт Френд, До...   \n",
       "4441                                                NaN   \n",
       "6105                                        Е.Щербакова   \n",
       "6181                    Д.Якунин, Ф.Абрютин, О.Филонова   \n",
       "6379                                        Е.Герасимов   \n",
       "6380                                        Е.Герасимов   \n",
       "6399              Я.Хальпукова (псевдоним Яна Мартынец)   \n",
       "6485                                   А.Новокреповская   \n",
       "6494                                          И.Долгина   \n",
       "6497                                       А.Сайфуллина   \n",
       "6498                                             О.Мичи   \n",
       "6499                                      Е.Севастьянов   \n",
       "6507                 Я.Лаптев (псевдоним Яков Раскалов)   \n",
       "6511                                          Д.Кабаков   \n",
       "6638                                          Т.Пинская   \n",
       "6639       В.Максимов, В.Степанов, Г.Киракосян, О.Штром   \n",
       "6662                                          М.Архипов   \n",
       "6722                                            Н.Савко   \n",
       "\n",
       "                             age_restriction  refundable_support  \\\n",
       "1293         «16+» - для детей старше 16 лет                 NaN   \n",
       "4441  «0+» - для любой зрительской аудитории                 NaN   \n",
       "6105             «18+» - запрещено для детей                 NaN   \n",
       "6181           «6+» - для детей старше 6 лет                 NaN   \n",
       "6379         «12+» - для детей старше 12 лет                 NaN   \n",
       "6380         «12+» - для детей старше 12 лет                 NaN   \n",
       "6399         «12+» - для детей старше 12 лет                 NaN   \n",
       "6485           «6+» - для детей старше 6 лет                 NaN   \n",
       "6494         «12+» - для детей старше 12 лет                 NaN   \n",
       "6497         «12+» - для детей старше 12 лет                 NaN   \n",
       "6498             «18+» - запрещено для детей                 NaN   \n",
       "6499             «18+» - запрещено для детей                 NaN   \n",
       "6507             «18+» - запрещено для детей                 NaN   \n",
       "6511         «12+» - для детей старше 12 лет                 NaN   \n",
       "6638           «6+» - для детей старше 6 лет                 NaN   \n",
       "6639         «16+» - для детей старше 16 лет                 NaN   \n",
       "6662         «12+» - для детей старше 12 лет                 NaN   \n",
       "6722         «16+» - для детей старше 16 лет                 NaN   \n",
       "\n",
       "      nonrefundable_support  budget financing_source  ratings  \\\n",
       "1293                    NaN     NaN              NaN      7.3   \n",
       "4441                    NaN     NaN              NaN      4.0   \n",
       "6105                    NaN     NaN              NaN      NaN   \n",
       "6181                    NaN     NaN              NaN      NaN   \n",
       "6379                    NaN     NaN              NaN      NaN   \n",
       "6380                    NaN     NaN              NaN      NaN   \n",
       "6399                    NaN     NaN              NaN      NaN   \n",
       "6485                    NaN     NaN              NaN      6.9   \n",
       "6494                    NaN     NaN              NaN      NaN   \n",
       "6497                    NaN     NaN              NaN      NaN   \n",
       "6498                    NaN     NaN              NaN      7.9   \n",
       "6499                    NaN     NaN              NaN      NaN   \n",
       "6507                    NaN     NaN              NaN      NaN   \n",
       "6511                    NaN     NaN              NaN      NaN   \n",
       "6638                    NaN     NaN              NaN      NaN   \n",
       "6639                    NaN     NaN              NaN      NaN   \n",
       "6662                    NaN     NaN              NaN      6.1   \n",
       "6722                    NaN     NaN              NaN      NaN   \n",
       "\n",
       "                          genres  box_office  \n",
       "1293                     комедия         NaN  \n",
       "4441          мультфильм,комедия         NaN  \n",
       "6105                         NaN         NaN  \n",
       "6181                         NaN         NaN  \n",
       "6379                         NaN         NaN  \n",
       "6380                         NaN         NaN  \n",
       "6399                         NaN     41225.0  \n",
       "6485     драма,криминал,детектив         NaN  \n",
       "6494                         NaN         NaN  \n",
       "6497                         NaN         NaN  \n",
       "6498   фантастика,боевик,триллер         NaN  \n",
       "6499                         NaN         NaN  \n",
       "6507                         NaN         NaN  \n",
       "6511                         NaN         NaN  \n",
       "6638                         NaN         NaN  \n",
       "6639                         NaN         NaN  \n",
       "6662  короткометражка,фантастика         NaN  \n",
       "6722                         NaN         NaN  "
      ]
     },
     "execution_count": 17,
     "metadata": {},
     "output_type": "execute_result"
    }
   ],
   "source": [
    "df[df['film_studio'].isna() == True]#пропуски в столбце film_studio"
   ]
  },
  {
   "cell_type": "markdown",
   "metadata": {},
   "source": [
    "Похоже, что здесь в основном авторское кино, студии не участвовали. Оставим пропуски без изиенений."
   ]
  },
  {
   "cell_type": "code",
   "execution_count": 18,
   "metadata": {},
   "outputs": [
    {
     "data": {
      "text/html": [
       "<div>\n",
       "<style scoped>\n",
       "    .dataframe tbody tr th:only-of-type {\n",
       "        vertical-align: middle;\n",
       "    }\n",
       "\n",
       "    .dataframe tbody tr th {\n",
       "        vertical-align: top;\n",
       "    }\n",
       "\n",
       "    .dataframe thead th {\n",
       "        text-align: right;\n",
       "    }\n",
       "</style>\n",
       "<table border=\"1\" class=\"dataframe\">\n",
       "  <thead>\n",
       "    <tr style=\"text-align: right;\">\n",
       "      <th></th>\n",
       "      <th>title</th>\n",
       "      <th>puNumber</th>\n",
       "      <th>show_start_date</th>\n",
       "      <th>type</th>\n",
       "      <th>film_studio</th>\n",
       "      <th>production_country</th>\n",
       "      <th>director</th>\n",
       "      <th>producer</th>\n",
       "      <th>age_restriction</th>\n",
       "      <th>refundable_support</th>\n",
       "      <th>nonrefundable_support</th>\n",
       "      <th>budget</th>\n",
       "      <th>financing_source</th>\n",
       "      <th>ratings</th>\n",
       "      <th>genres</th>\n",
       "      <th>box_office</th>\n",
       "    </tr>\n",
       "  </thead>\n",
       "  <tbody>\n",
       "    <tr>\n",
       "      <th>3186</th>\n",
       "      <td>Детский юмористический киножурнал \"Ералаш. Ну ...</td>\n",
       "      <td>111001216</td>\n",
       "      <td>2016-02-09 12:00:00+00:00</td>\n",
       "      <td>Художественный</td>\n",
       "      <td>ООО \"Продюсерский центр ЕРАЛАШ\"</td>\n",
       "      <td>NaN</td>\n",
       "      <td>Р.Светлов, И.Магитон, А.Арутюнян, Л.Мирский, А...</td>\n",
       "      <td>ООО \"Продюсерский центр ЕРАЛАШ\"</td>\n",
       "      <td>«0+» - для любой зрительской аудитории</td>\n",
       "      <td>NaN</td>\n",
       "      <td>NaN</td>\n",
       "      <td>NaN</td>\n",
       "      <td>NaN</td>\n",
       "      <td>7.2</td>\n",
       "      <td>детский,комедия</td>\n",
       "      <td>194527.0</td>\n",
       "    </tr>\n",
       "    <tr>\n",
       "      <th>4441</th>\n",
       "      <td>Мульт личности. Выпуск 5</td>\n",
       "      <td>214000410</td>\n",
       "      <td>2010-01-25 12:00:00+00:00</td>\n",
       "      <td>Художественный</td>\n",
       "      <td>NaN</td>\n",
       "      <td>NaN</td>\n",
       "      <td>NaN</td>\n",
       "      <td>NaN</td>\n",
       "      <td>«0+» - для любой зрительской аудитории</td>\n",
       "      <td>NaN</td>\n",
       "      <td>NaN</td>\n",
       "      <td>NaN</td>\n",
       "      <td>NaN</td>\n",
       "      <td>4.0</td>\n",
       "      <td>мультфильм,комедия</td>\n",
       "      <td>NaN</td>\n",
       "    </tr>\n",
       "  </tbody>\n",
       "</table>\n",
       "</div>"
      ],
      "text/plain": [
       "                                                  title   puNumber  \\\n",
       "3186  Детский юмористический киножурнал \"Ералаш. Ну ...  111001216   \n",
       "4441                           Мульт личности. Выпуск 5  214000410   \n",
       "\n",
       "               show_start_date            type  \\\n",
       "3186 2016-02-09 12:00:00+00:00  Художественный   \n",
       "4441 2010-01-25 12:00:00+00:00  Художественный   \n",
       "\n",
       "                          film_studio production_country  \\\n",
       "3186  ООО \"Продюсерский центр ЕРАЛАШ\"                NaN   \n",
       "4441                              NaN                NaN   \n",
       "\n",
       "                                               director  \\\n",
       "3186  Р.Светлов, И.Магитон, А.Арутюнян, Л.Мирский, А...   \n",
       "4441                                                NaN   \n",
       "\n",
       "                             producer                         age_restriction  \\\n",
       "3186  ООО \"Продюсерский центр ЕРАЛАШ\"  «0+» - для любой зрительской аудитории   \n",
       "4441                              NaN  «0+» - для любой зрительской аудитории   \n",
       "\n",
       "      refundable_support  nonrefundable_support  budget financing_source  \\\n",
       "3186                 NaN                    NaN     NaN              NaN   \n",
       "4441                 NaN                    NaN     NaN              NaN   \n",
       "\n",
       "      ratings              genres  box_office  \n",
       "3186      7.2     детский,комедия    194527.0  \n",
       "4441      4.0  мультфильм,комедия         NaN  "
      ]
     },
     "execution_count": 18,
     "metadata": {},
     "output_type": "execute_result"
    }
   ],
   "source": [
    "df.loc[df['production_country'].isna() == True]#пропуски в столбце production_country"
   ]
  },
  {
   "cell_type": "markdown",
   "metadata": {},
   "source": [
    "Эти картины из России. Пропуски можно заполнить."
   ]
  },
  {
   "cell_type": "code",
   "execution_count": 19,
   "metadata": {},
   "outputs": [],
   "source": [
    "df.loc[df['production_country'].isna() == True, 'production_country'] = 'Россия'"
   ]
  },
  {
   "cell_type": "markdown",
   "metadata": {},
   "source": [
    "Пропуски в столбцах director и producer оставим без изменений, вряд ли их можно заполнить."
   ]
  },
  {
   "cell_type": "markdown",
   "metadata": {},
   "source": [
    "Есть также пропуски в столбце genres и ratings. Но здесь тоже ничего не можем поделать. Оставим все как есть."
   ]
  },
  {
   "cell_type": "markdown",
   "metadata": {},
   "source": [
    "Пропуски в box_office заполнить невозможно, оставим как есть."
   ]
  },
  {
   "cell_type": "markdown",
   "metadata": {},
   "source": [
    "<div class=\"alert alert-success\">\n",
    "<h1> Комментарий ревьюера✅</h1>\n",
    "\n",
    "Хорошее решение. Можно оставить пропуски как есть.\n",
    "\n",
    "</div>"
   ]
  },
  {
   "cell_type": "markdown",
   "metadata": {
    "id": "4c6k1t9ygFyQ"
   },
   "source": [
    "#### Шаг 2.3. Изучите дубликаты в датафрейме\n",
    "- Проверьте, есть ли в данных дубликаты. Опишите причины, которые могли повлиять на появление дублей."
   ]
  },
  {
   "cell_type": "markdown",
   "metadata": {
    "id": "aKck8RIdgFyQ"
   },
   "source": [
    "Посмотрим количество дубликатов"
   ]
  },
  {
   "cell_type": "code",
   "execution_count": 20,
   "metadata": {},
   "outputs": [
    {
     "data": {
      "text/plain": [
       "0"
      ]
     },
     "execution_count": 20,
     "metadata": {},
     "output_type": "execute_result"
    }
   ],
   "source": [
    "df.duplicated().sum()#явные дубликаты"
   ]
  },
  {
   "cell_type": "markdown",
   "metadata": {},
   "source": [
    "<div class=\"alert alert-success\">\n",
    "<h1> Комментарий ревьюера✅</h1>\n",
    "\n",
    "Проверка простая, но делать ее стоит всегда.\n",
    "\n",
    "</div>"
   ]
  },
  {
   "cell_type": "code",
   "execution_count": 21,
   "metadata": {},
   "outputs": [
    {
     "data": {
      "text/plain": [
       "title                    6772\n",
       "puNumber                 7484\n",
       "show_start_date          1965\n",
       "type                        8\n",
       "film_studio              5490\n",
       "production_country        950\n",
       "director                 4811\n",
       "producer                 5349\n",
       "age_restriction             5\n",
       "refundable_support         34\n",
       "nonrefundable_support      75\n",
       "budget                    290\n",
       "financing_source            3\n",
       "ratings                    80\n",
       "genres                    742\n",
       "box_office               2938\n",
       "dtype: int64"
      ]
     },
     "execution_count": 21,
     "metadata": {},
     "output_type": "execute_result"
    }
   ],
   "source": [
    "df.nunique()"
   ]
  },
  {
   "cell_type": "markdown",
   "metadata": {},
   "source": [
    "Повторы в title могут объясняться тем, что один и тот же фильм могут начать показывать в разное время под разной лицензией и/или разными прокатчиками. Оставим как есть."
   ]
  },
  {
   "cell_type": "markdown",
   "metadata": {},
   "source": [
    "<div class=\"alert alert-success\">\n",
    "<h1> Комментарий ревьюера✅</h1>\n",
    "\n",
    "Да, также может быть в прокат выходили разные фильмы, но с одним названием.\n",
    "\n",
    "</div>"
   ]
  },
  {
   "cell_type": "code",
   "execution_count": 22,
   "metadata": {},
   "outputs": [
    {
     "data": {
      "text/html": [
       "<div>\n",
       "<style scoped>\n",
       "    .dataframe tbody tr th:only-of-type {\n",
       "        vertical-align: middle;\n",
       "    }\n",
       "\n",
       "    .dataframe tbody tr th {\n",
       "        vertical-align: top;\n",
       "    }\n",
       "\n",
       "    .dataframe thead th {\n",
       "        text-align: right;\n",
       "    }\n",
       "</style>\n",
       "<table border=\"1\" class=\"dataframe\">\n",
       "  <thead>\n",
       "    <tr style=\"text-align: right;\">\n",
       "      <th></th>\n",
       "      <th>title</th>\n",
       "      <th>puNumber</th>\n",
       "      <th>show_start_date</th>\n",
       "      <th>type</th>\n",
       "      <th>film_studio</th>\n",
       "      <th>production_country</th>\n",
       "      <th>director</th>\n",
       "      <th>producer</th>\n",
       "      <th>age_restriction</th>\n",
       "      <th>refundable_support</th>\n",
       "      <th>nonrefundable_support</th>\n",
       "      <th>budget</th>\n",
       "      <th>financing_source</th>\n",
       "      <th>ratings</th>\n",
       "      <th>genres</th>\n",
       "      <th>box_office</th>\n",
       "    </tr>\n",
       "  </thead>\n",
       "  <tbody>\n",
       "    <tr>\n",
       "      <th>455</th>\n",
       "      <td>100 миллионов евро</td>\n",
       "      <td>121013712</td>\n",
       "      <td>2012-06-06 12:00:00+00:00</td>\n",
       "      <td>Художественный</td>\n",
       "      <td>Патэ, Эсквуд, Серенити Фильм, ТФ1 Фильм Продюк...</td>\n",
       "      <td>Франция</td>\n",
       "      <td>Оливер Барру</td>\n",
       "      <td>Ричард Грандпьерр</td>\n",
       "      <td>«16+» - для детей старше 16 лет</td>\n",
       "      <td>NaN</td>\n",
       "      <td>NaN</td>\n",
       "      <td>NaN</td>\n",
       "      <td>NaN</td>\n",
       "      <td>6.1</td>\n",
       "      <td>комедия</td>\n",
       "      <td>NaN</td>\n",
       "    </tr>\n",
       "    <tr>\n",
       "      <th>454</th>\n",
       "      <td>100 миллионов евро</td>\n",
       "      <td>221024616</td>\n",
       "      <td>2016-05-25 12:00:00+00:00</td>\n",
       "      <td>Художественный</td>\n",
       "      <td>Патэ, Эсквуд, Серенити Фильм, ТФ1 Фильм Продюк...</td>\n",
       "      <td>Франция</td>\n",
       "      <td>Оливер Барру</td>\n",
       "      <td>Ричард Грандпьерр</td>\n",
       "      <td>«16+» - для детей старше 16 лет</td>\n",
       "      <td>NaN</td>\n",
       "      <td>NaN</td>\n",
       "      <td>NaN</td>\n",
       "      <td>NaN</td>\n",
       "      <td>6.1</td>\n",
       "      <td>комедия</td>\n",
       "      <td>NaN</td>\n",
       "    </tr>\n",
       "    <tr>\n",
       "      <th>4852</th>\n",
       "      <td>127 часов</td>\n",
       "      <td>121000811</td>\n",
       "      <td>2011-01-27 12:00:00+00:00</td>\n",
       "      <td>Художественный</td>\n",
       "      <td>Фокс Серчлайт Пикчерз, Клод Эйт Филмз, Филм Фо...</td>\n",
       "      <td>США - Великобритания</td>\n",
       "      <td>Дэнни Бойл</td>\n",
       "      <td>Бернард Беллью, Тесса Росс, Гаррет Смит</td>\n",
       "      <td>«16+» - для детей старше 16 лет</td>\n",
       "      <td>NaN</td>\n",
       "      <td>NaN</td>\n",
       "      <td>NaN</td>\n",
       "      <td>NaN</td>\n",
       "      <td>7.7</td>\n",
       "      <td>триллер,биография,драма</td>\n",
       "      <td>NaN</td>\n",
       "    </tr>\n",
       "    <tr>\n",
       "      <th>5058</th>\n",
       "      <td>127 часов</td>\n",
       "      <td>221069011</td>\n",
       "      <td>2011-05-18 12:00:00+00:00</td>\n",
       "      <td>Художественный</td>\n",
       "      <td>Фокс Серчлайт Пикчерз, Клод Эйт Филмз, Филм Фо...</td>\n",
       "      <td>США - Великобритания</td>\n",
       "      <td>Дэнни Бойл</td>\n",
       "      <td>Бернард Беллью, Тесса Росс, Гаррет Смит</td>\n",
       "      <td>«16+» - для детей старше 16 лет</td>\n",
       "      <td>NaN</td>\n",
       "      <td>NaN</td>\n",
       "      <td>NaN</td>\n",
       "      <td>NaN</td>\n",
       "      <td>7.7</td>\n",
       "      <td>триллер,биография,драма</td>\n",
       "      <td>NaN</td>\n",
       "    </tr>\n",
       "    <tr>\n",
       "      <th>3129</th>\n",
       "      <td>13 часов: Тайные солдаты Бенгази</td>\n",
       "      <td>221019616</td>\n",
       "      <td>2016-04-19 12:00:00+00:00</td>\n",
       "      <td>Художественный</td>\n",
       "      <td>Парамаунт, Дан Филмз, Латина Пикчарз,3 Арт Инт...</td>\n",
       "      <td>США</td>\n",
       "      <td>Майкл Бэй</td>\n",
       "      <td>Майкл Бэй, Эрвин Стофф</td>\n",
       "      <td>«18+» - запрещено для детей</td>\n",
       "      <td>NaN</td>\n",
       "      <td>NaN</td>\n",
       "      <td>NaN</td>\n",
       "      <td>NaN</td>\n",
       "      <td>6.7</td>\n",
       "      <td>боевик,триллер,драма</td>\n",
       "      <td>NaN</td>\n",
       "    </tr>\n",
       "    <tr>\n",
       "      <th>...</th>\n",
       "      <td>...</td>\n",
       "      <td>...</td>\n",
       "      <td>...</td>\n",
       "      <td>...</td>\n",
       "      <td>...</td>\n",
       "      <td>...</td>\n",
       "      <td>...</td>\n",
       "      <td>...</td>\n",
       "      <td>...</td>\n",
       "      <td>...</td>\n",
       "      <td>...</td>\n",
       "      <td>...</td>\n",
       "      <td>...</td>\n",
       "      <td>...</td>\n",
       "      <td>...</td>\n",
       "      <td>...</td>\n",
       "    </tr>\n",
       "    <tr>\n",
       "      <th>4505</th>\n",
       "      <td>Я ненавижу день святого Валентина</td>\n",
       "      <td>221139210</td>\n",
       "      <td>2010-12-03 12:00:00+00:00</td>\n",
       "      <td>Художественный</td>\n",
       "      <td>Блю Стар Пикчерз, Ай Хэйт Вдэй Продакшнз, Ай С...</td>\n",
       "      <td>США</td>\n",
       "      <td>Ниа Вардалос</td>\n",
       "      <td>Доминик Йанно, Мэдлейн Шерак, Уильям Шерак</td>\n",
       "      <td>«16+» - для детей старше 16 лет</td>\n",
       "      <td>NaN</td>\n",
       "      <td>NaN</td>\n",
       "      <td>NaN</td>\n",
       "      <td>NaN</td>\n",
       "      <td>5.0</td>\n",
       "      <td>мелодрама,комедия</td>\n",
       "      <td>NaN</td>\n",
       "    </tr>\n",
       "    <tr>\n",
       "      <th>1704</th>\n",
       "      <td>Я, снова я и мама</td>\n",
       "      <td>121030213</td>\n",
       "      <td>2013-11-21 12:00:00+00:00</td>\n",
       "      <td>Художественный</td>\n",
       "      <td>Гомон, Эль Джи Эм Продакшнз, Ректанль Продюксь...</td>\n",
       "      <td>Франция - Бельгия</td>\n",
       "      <td>Гийом Гальенн</td>\n",
       "      <td>Жан-Батист Дюпон, Алис Жирар, Сирил Кольбо-Жюстен</td>\n",
       "      <td>«16+» - для детей старше 16 лет</td>\n",
       "      <td>NaN</td>\n",
       "      <td>NaN</td>\n",
       "      <td>NaN</td>\n",
       "      <td>NaN</td>\n",
       "      <td>6.3</td>\n",
       "      <td>комедия,мелодрама,драма</td>\n",
       "      <td>NaN</td>\n",
       "    </tr>\n",
       "    <tr>\n",
       "      <th>1703</th>\n",
       "      <td>Я, снова я и мама</td>\n",
       "      <td>121013116</td>\n",
       "      <td>2016-05-23 12:00:00+00:00</td>\n",
       "      <td>Художественный</td>\n",
       "      <td>Гомон, Эль Джи Эм Продакшнз, Ректанль Продюксь...</td>\n",
       "      <td>Франция - Бельгия</td>\n",
       "      <td>Гийом Гальенн</td>\n",
       "      <td>Жан-Батист Дюпон, Алис Жирар, Сирил Кольбо-Жюстен</td>\n",
       "      <td>«16+» - для детей старше 16 лет</td>\n",
       "      <td>NaN</td>\n",
       "      <td>NaN</td>\n",
       "      <td>NaN</td>\n",
       "      <td>NaN</td>\n",
       "      <td>6.3</td>\n",
       "      <td>комедия,мелодрама,драма</td>\n",
       "      <td>NaN</td>\n",
       "    </tr>\n",
       "    <tr>\n",
       "      <th>6379</th>\n",
       "      <td>Ян Антонышев</td>\n",
       "      <td>112011818</td>\n",
       "      <td>2018-11-15 12:00:00+00:00</td>\n",
       "      <td>Документальный</td>\n",
       "      <td>NaN</td>\n",
       "      <td>Россия</td>\n",
       "      <td>Е.Окопная</td>\n",
       "      <td>Е.Герасимов</td>\n",
       "      <td>«12+» - для детей старше 12 лет</td>\n",
       "      <td>NaN</td>\n",
       "      <td>NaN</td>\n",
       "      <td>NaN</td>\n",
       "      <td>NaN</td>\n",
       "      <td>NaN</td>\n",
       "      <td>NaN</td>\n",
       "      <td>NaN</td>\n",
       "    </tr>\n",
       "    <tr>\n",
       "      <th>6380</th>\n",
       "      <td>Ян Антонышев</td>\n",
       "      <td>112011918</td>\n",
       "      <td>2018-11-15 12:00:00+00:00</td>\n",
       "      <td>Документальный</td>\n",
       "      <td>NaN</td>\n",
       "      <td>Россия</td>\n",
       "      <td>Е.Окопная</td>\n",
       "      <td>Е.Герасимов</td>\n",
       "      <td>«12+» - для детей старше 12 лет</td>\n",
       "      <td>NaN</td>\n",
       "      <td>NaN</td>\n",
       "      <td>NaN</td>\n",
       "      <td>NaN</td>\n",
       "      <td>NaN</td>\n",
       "      <td>NaN</td>\n",
       "      <td>NaN</td>\n",
       "    </tr>\n",
       "  </tbody>\n",
       "</table>\n",
       "<p>1272 rows × 16 columns</p>\n",
       "</div>"
      ],
      "text/plain": [
       "                                  title   puNumber           show_start_date  \\\n",
       "455                  100 миллионов евро  121013712 2012-06-06 12:00:00+00:00   \n",
       "454                  100 миллионов евро  221024616 2016-05-25 12:00:00+00:00   \n",
       "4852                          127 часов  121000811 2011-01-27 12:00:00+00:00   \n",
       "5058                          127 часов  221069011 2011-05-18 12:00:00+00:00   \n",
       "3129   13 часов: Тайные солдаты Бенгази  221019616 2016-04-19 12:00:00+00:00   \n",
       "...                                 ...        ...                       ...   \n",
       "4505  Я ненавижу день святого Валентина  221139210 2010-12-03 12:00:00+00:00   \n",
       "1704                  Я, снова я и мама  121030213 2013-11-21 12:00:00+00:00   \n",
       "1703                  Я, снова я и мама  121013116 2016-05-23 12:00:00+00:00   \n",
       "6379                       Ян Антонышев  112011818 2018-11-15 12:00:00+00:00   \n",
       "6380                       Ян Антонышев  112011918 2018-11-15 12:00:00+00:00   \n",
       "\n",
       "                type                                        film_studio  \\\n",
       "455   Художественный  Патэ, Эсквуд, Серенити Фильм, ТФ1 Фильм Продюк...   \n",
       "454   Художественный  Патэ, Эсквуд, Серенити Фильм, ТФ1 Фильм Продюк...   \n",
       "4852  Художественный  Фокс Серчлайт Пикчерз, Клод Эйт Филмз, Филм Фо...   \n",
       "5058  Художественный  Фокс Серчлайт Пикчерз, Клод Эйт Филмз, Филм Фо...   \n",
       "3129  Художественный  Парамаунт, Дан Филмз, Латина Пикчарз,3 Арт Инт...   \n",
       "...              ...                                                ...   \n",
       "4505  Художественный  Блю Стар Пикчерз, Ай Хэйт Вдэй Продакшнз, Ай С...   \n",
       "1704  Художественный  Гомон, Эль Джи Эм Продакшнз, Ректанль Продюксь...   \n",
       "1703  Художественный  Гомон, Эль Джи Эм Продакшнз, Ректанль Продюксь...   \n",
       "6379  Документальный                                                NaN   \n",
       "6380  Документальный                                                NaN   \n",
       "\n",
       "        production_country       director  \\\n",
       "455                Франция   Оливер Барру   \n",
       "454                Франция   Оливер Барру   \n",
       "4852  США - Великобритания     Дэнни Бойл   \n",
       "5058  США - Великобритания     Дэнни Бойл   \n",
       "3129                   США      Майкл Бэй   \n",
       "...                    ...            ...   \n",
       "4505                   США   Ниа Вардалос   \n",
       "1704     Франция - Бельгия  Гийом Гальенн   \n",
       "1703     Франция - Бельгия  Гийом Гальенн   \n",
       "6379                Россия      Е.Окопная   \n",
       "6380                Россия      Е.Окопная   \n",
       "\n",
       "                                               producer  \\\n",
       "455                                   Ричард Грандпьерр   \n",
       "454                                   Ричард Грандпьерр   \n",
       "4852            Бернард Беллью, Тесса Росс, Гаррет Смит   \n",
       "5058            Бернард Беллью, Тесса Росс, Гаррет Смит   \n",
       "3129                             Майкл Бэй, Эрвин Стофф   \n",
       "...                                                 ...   \n",
       "4505         Доминик Йанно, Мэдлейн Шерак, Уильям Шерак   \n",
       "1704  Жан-Батист Дюпон, Алис Жирар, Сирил Кольбо-Жюстен   \n",
       "1703  Жан-Батист Дюпон, Алис Жирар, Сирил Кольбо-Жюстен   \n",
       "6379                                        Е.Герасимов   \n",
       "6380                                        Е.Герасимов   \n",
       "\n",
       "                      age_restriction  refundable_support  \\\n",
       "455   «16+» - для детей старше 16 лет                 NaN   \n",
       "454   «16+» - для детей старше 16 лет                 NaN   \n",
       "4852  «16+» - для детей старше 16 лет                 NaN   \n",
       "5058  «16+» - для детей старше 16 лет                 NaN   \n",
       "3129      «18+» - запрещено для детей                 NaN   \n",
       "...                               ...                 ...   \n",
       "4505  «16+» - для детей старше 16 лет                 NaN   \n",
       "1704  «16+» - для детей старше 16 лет                 NaN   \n",
       "1703  «16+» - для детей старше 16 лет                 NaN   \n",
       "6379  «12+» - для детей старше 12 лет                 NaN   \n",
       "6380  «12+» - для детей старше 12 лет                 NaN   \n",
       "\n",
       "      nonrefundable_support  budget financing_source  ratings  \\\n",
       "455                     NaN     NaN              NaN      6.1   \n",
       "454                     NaN     NaN              NaN      6.1   \n",
       "4852                    NaN     NaN              NaN      7.7   \n",
       "5058                    NaN     NaN              NaN      7.7   \n",
       "3129                    NaN     NaN              NaN      6.7   \n",
       "...                     ...     ...              ...      ...   \n",
       "4505                    NaN     NaN              NaN      5.0   \n",
       "1704                    NaN     NaN              NaN      6.3   \n",
       "1703                    NaN     NaN              NaN      6.3   \n",
       "6379                    NaN     NaN              NaN      NaN   \n",
       "6380                    NaN     NaN              NaN      NaN   \n",
       "\n",
       "                       genres  box_office  \n",
       "455                   комедия         NaN  \n",
       "454                   комедия         NaN  \n",
       "4852  триллер,биография,драма         NaN  \n",
       "5058  триллер,биография,драма         NaN  \n",
       "3129     боевик,триллер,драма         NaN  \n",
       "...                       ...         ...  \n",
       "4505        мелодрама,комедия         NaN  \n",
       "1704  комедия,мелодрама,драма         NaN  \n",
       "1703  комедия,мелодрама,драма         NaN  \n",
       "6379                      NaN         NaN  \n",
       "6380                      NaN         NaN  \n",
       "\n",
       "[1272 rows x 16 columns]"
      ]
     },
     "execution_count": 22,
     "metadata": {},
     "output_type": "execute_result"
    }
   ],
   "source": [
    "df.loc[df['title'].duplicated(keep=False)].sort_values(by='title')#повторы в title"
   ]
  },
  {
   "cell_type": "code",
   "execution_count": 23,
   "metadata": {},
   "outputs": [
    {
     "data": {
      "text/html": [
       "<div>\n",
       "<style scoped>\n",
       "    .dataframe tbody tr th:only-of-type {\n",
       "        vertical-align: middle;\n",
       "    }\n",
       "\n",
       "    .dataframe tbody tr th {\n",
       "        vertical-align: top;\n",
       "    }\n",
       "\n",
       "    .dataframe thead th {\n",
       "        text-align: right;\n",
       "    }\n",
       "</style>\n",
       "<table border=\"1\" class=\"dataframe\">\n",
       "  <thead>\n",
       "    <tr style=\"text-align: right;\">\n",
       "      <th></th>\n",
       "      <th>title</th>\n",
       "      <th>puNumber</th>\n",
       "      <th>show_start_date</th>\n",
       "      <th>type</th>\n",
       "      <th>film_studio</th>\n",
       "      <th>production_country</th>\n",
       "      <th>director</th>\n",
       "      <th>producer</th>\n",
       "      <th>age_restriction</th>\n",
       "      <th>refundable_support</th>\n",
       "      <th>nonrefundable_support</th>\n",
       "      <th>budget</th>\n",
       "      <th>financing_source</th>\n",
       "      <th>ratings</th>\n",
       "      <th>genres</th>\n",
       "      <th>box_office</th>\n",
       "    </tr>\n",
       "  </thead>\n",
       "  <tbody>\n",
       "    <tr>\n",
       "      <th>4638</th>\n",
       "      <td>Как жениться и остаться холостым</td>\n",
       "      <td>221154310</td>\n",
       "      <td>2010-12-17 12:00:00+00:00</td>\n",
       "      <td>Художественный</td>\n",
       "      <td>Ше Вам, Скрипт Ассосье, Тэ Фэ 1 Фильм Продюксь...</td>\n",
       "      <td>Франция</td>\n",
       "      <td>Эрик Лартиго</td>\n",
       "      <td>Амандин Било, Алан Шаба</td>\n",
       "      <td>«16+» - для детей старше 16 лет</td>\n",
       "      <td>NaN</td>\n",
       "      <td>NaN</td>\n",
       "      <td>NaN</td>\n",
       "      <td>NaN</td>\n",
       "      <td>7.0</td>\n",
       "      <td>мелодрама,комедия</td>\n",
       "      <td>NaN</td>\n",
       "    </tr>\n",
       "    <tr>\n",
       "      <th>4639</th>\n",
       "      <td>Иоанна - женщина на папском престоле /По роман...</td>\n",
       "      <td>221154310</td>\n",
       "      <td>2010-12-17 12:00:00+00:00</td>\n",
       "      <td>Художественный</td>\n",
       "      <td>Константин Фильм, А Эр Ди Дегето Фильм, Дюне ...</td>\n",
       "      <td>Германия - Великобритания - Италия - Испания</td>\n",
       "      <td>Зенке Вортманн</td>\n",
       "      <td>Оливер Бербен, Дорис Д.Хайнце, Фарук Элтан</td>\n",
       "      <td>«16+» - для детей старше 16 лет</td>\n",
       "      <td>NaN</td>\n",
       "      <td>NaN</td>\n",
       "      <td>NaN</td>\n",
       "      <td>NaN</td>\n",
       "      <td>7.6</td>\n",
       "      <td>драма,мелодрама,история</td>\n",
       "      <td>NaN</td>\n",
       "    </tr>\n",
       "    <tr>\n",
       "      <th>5067</th>\n",
       "      <td>Анализируй это!</td>\n",
       "      <td>221054410</td>\n",
       "      <td>2010-05-25 12:00:00+00:00</td>\n",
       "      <td>Художественный</td>\n",
       "      <td>Уорнер Бразерс, Вилладж Роудшоу Филмз ЛТД</td>\n",
       "      <td>США-Австралия</td>\n",
       "      <td>ХЭрольд Рэмис</td>\n",
       "      <td>Джейн Розенталь, Пола Уейнстейн</td>\n",
       "      <td>«16+» - для детей старше 16 лет</td>\n",
       "      <td>NaN</td>\n",
       "      <td>NaN</td>\n",
       "      <td>NaN</td>\n",
       "      <td>NaN</td>\n",
       "      <td>7.4</td>\n",
       "      <td>комедия,криминал</td>\n",
       "      <td>NaN</td>\n",
       "    </tr>\n",
       "    <tr>\n",
       "      <th>5068</th>\n",
       "      <td>Анализируй то!</td>\n",
       "      <td>221054410</td>\n",
       "      <td>2010-05-25 12:00:00+00:00</td>\n",
       "      <td>Художественный</td>\n",
       "      <td>Уорнер Бразерс, Виллидж Роадшоу Пикчерз, Эн-Пи...</td>\n",
       "      <td>США</td>\n",
       "      <td>Гарольд Реймис</td>\n",
       "      <td>Джейн Розенталь, Паул Уэйнстейн</td>\n",
       "      <td>«12+» - для детей старше 12 лет</td>\n",
       "      <td>NaN</td>\n",
       "      <td>NaN</td>\n",
       "      <td>NaN</td>\n",
       "      <td>NaN</td>\n",
       "      <td>6.8</td>\n",
       "      <td>комедия,криминал</td>\n",
       "      <td>NaN</td>\n",
       "    </tr>\n",
       "  </tbody>\n",
       "</table>\n",
       "</div>"
      ],
      "text/plain": [
       "                                                  title   puNumber  \\\n",
       "4638                   Как жениться и остаться холостым  221154310   \n",
       "4639  Иоанна - женщина на папском престоле /По роман...  221154310   \n",
       "5067                                    Анализируй это!  221054410   \n",
       "5068                                     Анализируй то!  221054410   \n",
       "\n",
       "               show_start_date            type  \\\n",
       "4638 2010-12-17 12:00:00+00:00  Художественный   \n",
       "4639 2010-12-17 12:00:00+00:00  Художественный   \n",
       "5067 2010-05-25 12:00:00+00:00  Художественный   \n",
       "5068 2010-05-25 12:00:00+00:00  Художественный   \n",
       "\n",
       "                                            film_studio  \\\n",
       "4638  Ше Вам, Скрипт Ассосье, Тэ Фэ 1 Фильм Продюксь...   \n",
       "4639   Константин Фильм, А Эр Ди Дегето Фильм, Дюне ...   \n",
       "5067          Уорнер Бразерс, Вилладж Роудшоу Филмз ЛТД   \n",
       "5068  Уорнер Бразерс, Виллидж Роадшоу Пикчерз, Эн-Пи...   \n",
       "\n",
       "                                production_country        director  \\\n",
       "4638                                       Франция    Эрик Лартиго   \n",
       "4639  Германия - Великобритания - Италия - Испания  Зенке Вортманн   \n",
       "5067                                 США-Австралия   ХЭрольд Рэмис   \n",
       "5068                                           США  Гарольд Реймис   \n",
       "\n",
       "                                        producer  \\\n",
       "4638                     Амандин Било, Алан Шаба   \n",
       "4639  Оливер Бербен, Дорис Д.Хайнце, Фарук Элтан   \n",
       "5067             Джейн Розенталь, Пола Уейнстейн   \n",
       "5068             Джейн Розенталь, Паул Уэйнстейн   \n",
       "\n",
       "                      age_restriction  refundable_support  \\\n",
       "4638  «16+» - для детей старше 16 лет                 NaN   \n",
       "4639  «16+» - для детей старше 16 лет                 NaN   \n",
       "5067  «16+» - для детей старше 16 лет                 NaN   \n",
       "5068  «12+» - для детей старше 12 лет                 NaN   \n",
       "\n",
       "      nonrefundable_support  budget financing_source  ratings  \\\n",
       "4638                    NaN     NaN              NaN      7.0   \n",
       "4639                    NaN     NaN              NaN      7.6   \n",
       "5067                    NaN     NaN              NaN      7.4   \n",
       "5068                    NaN     NaN              NaN      6.8   \n",
       "\n",
       "                       genres  box_office  \n",
       "4638        мелодрама,комедия         NaN  \n",
       "4639  драма,мелодрама,история         NaN  \n",
       "5067         комедия,криминал         NaN  \n",
       "5068         комедия,криминал         NaN  "
      ]
     },
     "execution_count": 23,
     "metadata": {},
     "output_type": "execute_result"
    }
   ],
   "source": [
    "df.loc[df['puNumber'].duplicated(keep=False)]#повторы в puNumber"
   ]
  },
  {
   "cell_type": "markdown",
   "metadata": {},
   "source": [
    "Под одним номером прокатного удостоверения числятся два разных фильма с одной датой премьеры. Похоже на то, что под одним номером прокатного удостоверения выходило несколько фильмов. Этот номер не имеет принципиального значения, оставим как есть."
   ]
  },
  {
   "cell_type": "markdown",
   "metadata": {},
   "source": [
    "<div class=\"alert alert-success\">\n",
    "<h1> Комментарий ревьюера✅</h1>\n",
    "\n",
    "В целом верно. Данных о сборах для этого прокатного удостоверения нет, так что на анализе его наличие сильно не скажется.\n",
    "\n",
    "</div>"
   ]
  },
  {
   "cell_type": "markdown",
   "metadata": {},
   "source": [
    "Повторы в show_start_date вполне реальны, можно начать показ фильмов в одно и то же время. Оставим как есть."
   ]
  },
  {
   "cell_type": "code",
   "execution_count": 24,
   "metadata": {},
   "outputs": [
    {
     "data": {
      "text/plain": [
       "array(['Художественный', 'Анимационный', 'Прочие', 'Документальный',\n",
       "       'Научно-популярный', ' Художественный', ' Анимационный',\n",
       "       'Музыкально-развлекательный'], dtype=object)"
      ]
     },
     "execution_count": 24,
     "metadata": {},
     "output_type": "execute_result"
    }
   ],
   "source": [
    "df['type'].unique()#уникальные значения в столбце type"
   ]
  },
  {
   "cell_type": "code",
   "execution_count": 25,
   "metadata": {},
   "outputs": [
    {
     "data": {
      "text/plain": [
       "array(['Художественный', 'Анимационный', 'Прочие', 'Документальный',\n",
       "       'Научно-популярный', 'Музыкально-развлекательный'], dtype=object)"
      ]
     },
     "execution_count": 25,
     "metadata": {},
     "output_type": "execute_result"
    }
   ],
   "source": [
    "df['type'] = df['type'].str.strip()#уберем лишние пробелы\n",
    "df['type'].unique()"
   ]
  },
  {
   "cell_type": "markdown",
   "metadata": {},
   "source": [
    "Убрали неяные повторы в type."
   ]
  },
  {
   "cell_type": "code",
   "execution_count": 26,
   "metadata": {},
   "outputs": [
    {
     "data": {
      "text/plain": [
       "array(['США', 'СССР', 'Франция', 'СССР, Венгрия',\n",
       "       'Германия-Великобритания', 'Великобритания - Италия',\n",
       "       'Чехословакия', 'США - Франция - Турция', 'Новая Зеландия',\n",
       "       'Канада - Франция - Испания', 'США-Германия',\n",
       "       'США - Великобритания', 'Великобритания', 'США - Германия',\n",
       "       'Франция - Мексика - США', 'Россия, Казахстан, США',\n",
       "       'СССР, Швеция', 'СССР, Франция, Англия, Куба, ГДР', 'Германия',\n",
       "       'Великобритания-США-Германия-КНР',\n",
       "       'СССР, ЧССР, Западный Берлин, ПНР', 'СССР, Италия', 'Гонконг, КНР',\n",
       "       'США - Франция', 'США - Япония - Франция - Великобритания',\n",
       "       'Гонконг - Сингапур - Таиланд - Великобритания', 'США-Канада',\n",
       "       'Франция - Италия - Великобритания - США', 'Франция - США',\n",
       "       'Ирландия-Великобритания-Германия', 'Чехия', 'США-Австралия',\n",
       "       'СССР, Финляндия', 'США-Франция-Великобритания-Австрия',\n",
       "       'США - Бельгия', 'США - Ирландия - Великобритания',\n",
       "       'Великобритания - США',\n",
       "       'Люксембург - Нидерланды - Испания - Великобритания - США - Италия',\n",
       "       'Великобритания - Франция - США', 'Новая Зеландия - США',\n",
       "       'США - Великобритания - Чехия',\n",
       "       'Канада - Франция - Великобритания', 'Ирландия',\n",
       "       'Великобритания - Германия - США',\n",
       "       'США - Франция - Великобритания', 'Япония', 'СССР, Польша',\n",
       "       'Франция - Испания', 'Канада-Франция', 'Германия - Италия - США',\n",
       "       'Аргентина - Бразилия', 'Дания - Швейцария - Бельгия - Франция',\n",
       "       'США - Испания', 'Германия - США',\n",
       "       'Франция - Австрия - Германия - Италия - США', 'Австрия',\n",
       "       'США - Канада - Германия', 'США - Канада',\n",
       "       'СССР - Швейцария - Франция', 'Россия - Казахстан', 'Гонконг',\n",
       "       'Италия', 'США - ОАЭ', 'Россия',\n",
       "       'США - Франция - Испания - Великобритания',\n",
       "       'Великобритания - Франция', 'США-Италия-Испания-Аргентина',\n",
       "       'Франция-Великобритания', 'КНР - Гонконг',\n",
       "       'Франция - Италия - Швейцария', 'США - Новая Зеландия',\n",
       "       'Франция - Бельгия', 'КНР', 'Германия - Великобритания - Австрия',\n",
       "       'Великобритания - Израиль - Франция - Япония - США', 'Швеция',\n",
       "       'Испания', 'Дания', 'Франция - Бельгия - Люксембург',\n",
       "       'США - Индия - ОАЭ',\n",
       "       'Германия-Канада-Великобритания-Швейцария-Франция',\n",
       "       'Мексика - Чили', 'Аргентина', 'Бразилия', 'Чили', 'Австралия',\n",
       "       'Португалия - Франция', 'США - ЮАР', 'Исландия-Ирландия-Германия',\n",
       "       'США-Индонезия', 'Южная Корея', 'Мексика - Испания - Дания - США',\n",
       "       'Великобритания-США', 'Франция - Италия', 'США-Франция',\n",
       "       'США - Венгрия - Великобритания', 'Бельгия-Франция-Италия',\n",
       "       'Чехия - Германия', 'Германия - Франция', 'США-Нидерланды',\n",
       "       'Украина', 'Великобритания - Германия', 'Франция-Бельгия',\n",
       "       'США-Франция-Испания', 'Италия - Франция', 'Канада',\n",
       "       'Швеция-Франция-Дания', 'Германия-Франция-Польша',\n",
       "       'Франция-Великобритания - Германия',\n",
       "       'США - Бразилия - Франция - Австралия - Великобритания - Германия',\n",
       "       'Германия-Австрия', 'Германия-Италия- Шри-Ланка',\n",
       "       'Великобритания - Испания',\n",
       "       'США - Великобритания - Канада - Швеция',\n",
       "       'Босния и Герцеговина - Франция - Великобритания - Германия - Словения - Бельгия - Сербия',\n",
       "       'Великобритания - Франция - Италия - США', 'США-ОАЭ',\n",
       "       'Испания - Франция', 'США-Великобритания', 'США-ЮАР',\n",
       "       'Великобритания-Австралия - США',\n",
       "       'Норвегия - Швеция - Дания - Германия', 'Норвегия', 'Швейцария',\n",
       "       'Греция - Германия - Франция', 'Норвения', 'Южная Корея - США',\n",
       "       'Чили - Франция - США', 'Австрия - Германия - Франция',\n",
       "       'Швеция - Дания', 'Великобритания - Франция - Бельгия - Италия',\n",
       "       'Франция - Германия', 'Грузия - Франция - Люксембург',\n",
       "       'США - Франция - Великобритания - Бразилия', 'США - КНР',\n",
       "       'Мексика - Франция', 'США - Германия - Гонконг - Сингапур',\n",
       "       'Финляндия - Австрия - Россия', 'Испания - Куба',\n",
       "       'Великобритания - ЮАР', 'Великобритания - Ирландия', 'Израиль',\n",
       "       'Бразилия - Германия - Порртугалия - Франция',\n",
       "       'Франция - Канада - Бельгия', 'Франция-Испания',\n",
       "       'Испания - Канада - Япония', 'Иран', 'Швеция-Куба',\n",
       "       'США-Великобритания-Ирландия', 'Гонконг - КНР', 'Нидерланды',\n",
       "       'Испания - Канада', 'Япония-Великобритания',\n",
       "       'Великобритания - Норвегия - Дания - Германия',\n",
       "       'Финляндия - Франция - Германия',\n",
       "       'Мексика - Франция - Нидерланды - Германия', 'США - Индия',\n",
       "       'США-Великобритания-Индия', 'США-Канада-Бельгия',\n",
       "       'Республика Узбекистан', 'Турция',\n",
       "       'Сербия - Словения - Хорватия - Черногория - Македония',\n",
       "       'Киргизия', 'Германия - Нидерланды - Беларусь - Россия - Латвия',\n",
       "       'Индия', 'Нидерланды - Россия - Германия',\n",
       "       'Великобритания - Нидерланды - Франция - Хорватия',\n",
       "       'Канада - Южная Корея',\n",
       "       'Великобритания - Польша - КНР - Индия - Норвегия',\n",
       "       'Япония - Франция - США - Южная Корея - Турция',\n",
       "       'Мексика - Аргентина - Великобритания', 'Израиль - Франция',\n",
       "       'Польша - Португалия - Франция - Великобритания',\n",
       "       'Австралия - США', 'Франция - Люксембург - Бельгия', 'Армения',\n",
       "       'Бельгия - Люксембург - Франция - Швейцария',\n",
       "       'США - Великобритания - Канада', 'Норвегия - Швеция',\n",
       "       'Канада - Франция', 'КНР - Гонконг - США',\n",
       "       'США - Сингапур - Малайзия - Индонезия', 'Германия - Россия',\n",
       "       'Япония - Канада', 'Финляндия - Дания - Германия - Ирландия',\n",
       "       'Франция - Люксембург - Германия - Бельгия - Швейцария - Великобритания',\n",
       "       'Канада - США', 'США-Италия-Испания', 'США-Испания',\n",
       "       'США - Швейцария - Франция', 'Испания - США - Колумбия',\n",
       "       'Канада-ЮАР', 'Франция - Россия',\n",
       "       'Германия - Финляндия - Австралия', 'Дания - Швеция', 'Бельгия',\n",
       "       'Германия - Франция - Австрия', 'Франция-Индия', 'ЮАР',\n",
       "       'Франция-Перу', 'Франция - Канада', 'Республика Беларусь',\n",
       "       'Великобритания - Австрия - Франция - США',\n",
       "       'Австрия-Германия-Франция', 'США-Россия', 'Германия-США',\n",
       "       'США - Южная Корея', 'Канада - КНР',\n",
       "       'Дания - Швеция - Италия - Франция - Германия',\n",
       "       'Франция-Италия-Испания-Венгрия', 'Франция - Германия - Бельгия',\n",
       "       'Франция-Великобритания-Чехия', 'Румыния - Франция - Бельгия',\n",
       "       'Болгария - Франция - Изриль',\n",
       "       'Израиль - Германия - Польша - Бельгия - Франция - Люксембург',\n",
       "       'Россия, Германия, Франция, Бельгия', 'Индонезия',\n",
       "       'Франция - Португалия', 'Великобритания - Пуэрто-Рико',\n",
       "       'СССР, ФРГ, Западный Берлин', 'Россия, Республика Беларусь',\n",
       "       'США, Великобритания', 'Франция - Австрия', 'Бельгия-Нидерланды',\n",
       "       'Великобритания - США - Индия', 'США - Великобритания - Австралия',\n",
       "       'Канада - Франция - США - ОАЭ - Великобритания',\n",
       "       'США - Австралия - Франция',\n",
       "       'Дания-Франция-Бельгия-Германия-Великобритания',\n",
       "       'Испания - Аргентина', 'Исландия - Финляндия',\n",
       "       'Россия-Польша-Голландия-Словакия', 'Дания - Германия - Швеция',\n",
       "       'Южная Корея - США - Канада', 'Таиланд', 'США-Мальта',\n",
       "       'США -Германия',\n",
       "       'Великобритания - Германия - Франция - Кипр - США', 'Мексика',\n",
       "       'США - Великобритания - Ирландия', 'США - Украина',\n",
       "       'США - Финляндия - Испания - Великобритания - Франция',\n",
       "       'Австралия-Великобритания',\n",
       "       'США - Канада - Афганистан - Бельгия - Франция',\n",
       "       'США - Великобритания - Германия - Новая Зеландия - Бельгия - Франция',\n",
       "       'Франция-Канада',\n",
       "       'Ирландия - Финляндия - Бельгия - Великобритания - США - Швейцария',\n",
       "       'Малайзия - США', 'Германия - Италия',\n",
       "       'США - Франция - Бельгия - Италия', 'Франция - Ирландия - Швеция',\n",
       "       'Азербайджан-Россия', 'Великобритания - Италия - Швейцария',\n",
       "       'США - Германия - Великобритания',\n",
       "       'Германия - Бельгия - США -Франция', 'США-Китай', 'Чили - Испания',\n",
       "       'Франция - Швейцария', 'Канада - Испания',\n",
       "       'США - Румыния - Великобритания', 'США - Япония',\n",
       "       'США - Россия - Франция', 'Франция-США', 'Парагвай',\n",
       "       'Германия - Канада', 'США - Канада - Великобритания',\n",
       "       'Финляндия - Канада', 'Уругвай-Мексика-Германия', 'США - Чили',\n",
       "       'Германия - Аргентина - Нидерланды - Чили',\n",
       "       'США - Канада - Индонезия', 'Армения - Казахстан', 'Финляндия',\n",
       "       'Испания - Италия - Франция',\n",
       "       'Бельгия - Испания - Канада - Нидерланды',\n",
       "       'Великобритания - Франция - Швеция - Бельгия',\n",
       "       'Мексика - Эквадор - Канада - США - Франция - Малайзия - Италия - Аргентина - Германия - Индия',\n",
       "       'Франция - Бенльгия', 'Индия - Великобритания',\n",
       "       'Япония - Великобритания - Франция',\n",
       "       'Испания - Уругвай - Аргентина',\n",
       "       'Франция - Италия - Бельгия - Люксембург',\n",
       "       'Франция - Украина - Грузия - Армения',\n",
       "       'Сербия - Германия - Венгрия', 'Франция-Польша', 'Румыния-США',\n",
       "       'Россия-Азербайджан',\n",
       "       'США - Нидерланды - Бельгия - Венгрия - Греция - Канада',\n",
       "       'Германия - Франция - Люксембург', 'США - Россия',\n",
       "       'Великобритания - США - Франция', 'США - Австралия - Дания',\n",
       "       'Бельгия-Франция', 'США-Мексика',\n",
       "       'Норвегия - Азербайджан - Россия - Колумбия - Великобритания - Венгрия - Румыния - Франция - Грузия',\n",
       "       'СЩА', 'Бразилия - Испания', 'Россия, Франция, Латвия',\n",
       "       'Нидерланды - США - Германия - Канада - Франция - Ирландия - Великобритания',\n",
       "       'Уругвай - Колумбия', 'США - Испания - Болгария',\n",
       "       'Армения - Германия', 'США - Великобритания- Франция - Швеция',\n",
       "       'США - Мексика', 'Австралия-Турция-США', 'Швеция - Германия',\n",
       "       'Польша - Италия - Россия', 'Франция - Бразилия',\n",
       "       'США - Канада - КНР', 'СССР, Венгрия, ЧССР, ГДР',\n",
       "       'Бельгия - Германия - Люксембург', 'США - Австралия',\n",
       "       'Бразилия - США', 'США - Великобритания - Канада - КНР',\n",
       "       'Франция - Чили',\n",
       "       'Франция - США - Великобритания - Колумбия - Бельгия - Россия',\n",
       "       'Дания - Великобритания - ЮАР', 'Россия-США-Канада-Люксембург',\n",
       "       'Россия - Республика Кипр', 'Германия - США - Швеция - Франция',\n",
       "       'Великобритания-Германия-Канада-ЮАР', 'Ирландия, Канада',\n",
       "       'Япония - Великобритания - Швейцария - Ирландия - Дания - Франция - Польша - Австралия - Канада',\n",
       "       'Великобритания, Канада', 'Бельгия - США',\n",
       "       'Великобритания - США - Россия', 'Россия-Украина',\n",
       "       'Германия - США - Великобритания - Израиль', 'Канада - Германия',\n",
       "       'США- Ю.Корея', 'Индия - Мексика',\n",
       "       'Великобритания - Франция - Республика Кипр - Швейцария - США - Сербия',\n",
       "       'Испания - Аргентина - Индия - США',\n",
       "       'Норвегия - Исландия - США - Великобритания',\n",
       "       'Турция - Германя - Франция', 'Германия - Великобритания',\n",
       "       'Австралия - Германия', 'Мексика - Испания',\n",
       "       'Великобритания - США - Германия - Бельгия',\n",
       "       'США - Чехия - Франция', 'Россия - Италия', 'Франция-Россия',\n",
       "       'Норвегия - Дания - Швеция', 'Франция - Швейцария - Германия',\n",
       "       'Грузия - Украина', 'Россия - Эстония - Финляндия - Беларусь',\n",
       "       'США - Франция - ЮАР', 'Великобритания - США - Швейцария',\n",
       "       'Канада-США', 'Мексика - Нидерланды - Германия - Франция',\n",
       "       'США - Испания - Франция', 'США - Великобритания - КНР',\n",
       "       'США-Франция-Канада',\n",
       "       'Япония, Великобритания, Австрия, Германия, Ю.Корея',\n",
       "       'Великобритания - Ирландия - США', 'Бельгия - Италия - Франция',\n",
       "       'Швейцария-Германия-ЮАР', 'Великобритания - США - Германия',\n",
       "       'Германия - Исландия', 'Испания - США', 'Хорватия',\n",
       "       'Финляндия - Исландия - Швеция',\n",
       "       'Канада - США - Германия - Франция',\n",
       "       'США - Великобритания - Испания', 'Ирландия-Великобритания',\n",
       "       'Аргентина - Испания', 'Австрия - Германия',\n",
       "       'Германия - Швейцария - Франция - Южная Корея - США',\n",
       "       'Украина - Нидерланды', 'Венгрия - Германия - Швеция',\n",
       "       'Германия - Франция -  Польша - Турция - Канада - Италия - Россия',\n",
       "       'СССР, Афганистан', 'СССР, Монголия', 'Россия-Кипр',\n",
       "       'Россия, Грузия, Испания',\n",
       "       'Великобритания - Нидерланды - Германия - Франция - Бельгия - Австрия',\n",
       "       'Испания - Великобритания - Франция',\n",
       "       'Дания - Норвегия - Великобритания',\n",
       "       'Бельгия - Франция - Люксембург',\n",
       "       'Италия - Франция - Швейцария - Великобритания',\n",
       "       'Франция - Бельгия - Великобритания - Испания - Германия - США',\n",
       "       'Швейцария - Израиль - Франция - Великобритания',\n",
       "       'Великобритания - США - Канада - Нидерланды - Франция',\n",
       "       'Россия, Италия', 'СССР, Албания',\n",
       "       'Россия, Украина, Республика Беларусь, Литва',\n",
       "       'Финляндия - Великобритания - Германия', 'Россия, Украина, Польша',\n",
       "       'Франция - Италия - Бельгия - КНР',\n",
       "       'Германия - Бельгия - Люксембург - Ирландия', 'КНР - Сингапур',\n",
       "       'Франция - Бельгия - Великобритания - США - Нидерланды - Канада',\n",
       "       'США - Россия - Польша - Германия - Пуэрто Рико',\n",
       "       'Франция - Бельгия - Канада', 'Мексика - США',\n",
       "       'США - Гонконг - КНР', 'Греция - Россия',\n",
       "       'Ирландия - Дания - Бельгия - Люксембург - Франция',\n",
       "       'Эстония - Россия',\n",
       "       'Великобритания - Исландия - Испания - Швейцария - США',\n",
       "       'Австралия - Великобритания - Бельгия - Индия',\n",
       "       'Швеция - Германия - Франция - Норвегия',\n",
       "       'Нидерланды - Бельгия - Германия - Ирландия',\n",
       "       'Нидерланды - Великобритания - Бельгия',\n",
       "       'США - Колумбия - Испания', 'Франция-Испания-Бельгия-Панама',\n",
       "       'США-Великобритания-Чехия-Румыния',\n",
       "       'Аргентина - Уругвай - Россия - Германия - Франция - Нидерланды',\n",
       "       'Швеция - Франция - Норвегия - Дания',\n",
       "       'Италия-Франция-Великобритания', 'Великобритания, Франция',\n",
       "       'Австралия, США', 'Венесуэла',\n",
       "       'Великобритания - США - Австралия - Ирландия - Германия - Куба - Канада',\n",
       "       'Южная Корея - КНР',\n",
       "       'Аргентина - Мексика - Бразилия - Франция - США', 'Швеция - США',\n",
       "       'Франция - Германия - Турция - Катар', 'Франция-Китай',\n",
       "       'Россия, Германия, Великобритания',\n",
       "       'Великобритания - Италия - Испания', 'Италия - Россия',\n",
       "       'Япония - КНР - Южная Корея', 'Россия, Германия',\n",
       "       'Россия-Ирландия', 'Македония - Франция - Великобритания',\n",
       "       'Франция - Бразилия - Италия', 'Россия-США', 'Армения-Россия',\n",
       "       'Россия, Румыния', 'Франция -  Бельгия', 'Грузия-Франция',\n",
       "       'ЮАР - США', 'Великобритания-США-Франция',\n",
       "       'Великобритания - США - Германия - Канада - Австралия',\n",
       "       'США-Ирландия', 'Россия, Республика Кипр',\n",
       "       'Германия - Люксембург - Франция', 'Россия-Франция',\n",
       "       'США - Нидерланды - Финляндия - Великобритания - Италия',\n",
       "       'Республика Кипр', 'Венгрия', 'Франция - США - Норвегия - Дания',\n",
       "       'Германия - Австрия - Ирландия', 'США - Финляндия',\n",
       "       'Италия-Великобритания', 'Россия, Испания',\n",
       "       'США - Великобритания - Болгария', 'Великобритания - Люксембург',\n",
       "       'Индия - США', 'США - Канада - Россия - Франция - Чили - Ирландия',\n",
       "       'Грузия-Россия',\n",
       "       'Дания - Австрия - Ирландия - Финляндия - Норвегия - Швеция - Нидерланды',\n",
       "       'США-КНР', 'Грузия', 'Австралия - Ирландия',\n",
       "       'Великобритания - Канада', 'Италия - Аргентина - Словения',\n",
       "       'Испания - Франция - Нидерланды - Германия - Бельгия - Великобритания - Канада',\n",
       "       'Франция - Чехия - Бельгия',\n",
       "       'Великобритания - Франция - Германия - США',\n",
       "       'Ирландия - Великобритания - Франция - США - Германия - Нидерланды',\n",
       "       'США - Канада - Япония - КНР', 'Италия-Франция',\n",
       "       'США - Великобритания - Исландия', 'Великобритания-Франция',\n",
       "       'Франция - Германия - Нидерланды',\n",
       "       'Франция - Германия - Швеция - США - Чехия - Словакия - Великобритания - Нидерланды',\n",
       "       'Франция - Канада - Н.Зеландия - США - Нидерланды - Германия - Швеция - Россия',\n",
       "       'Турция - США',\n",
       "       'Великобритания - США - Канада - Бельгия - Нидерланды - Австрия - Германия',\n",
       "       'Израиль - Франция - Германия - Палестина - США - Австрия - Великобритания',\n",
       "       'Аргентина - Франция - Испания', 'СССР, Россия',\n",
       "       'Великобритания - Франция - Италия - Индия - Дания - КНР - Бангладеш - Камбоджа - Гаити - Уганда',\n",
       "       'Италия - Франция - Швейцария',\n",
       "       'Ирландия - Великобритания - Канада', 'Перу', 'США - Норвегия',\n",
       "       'Испания-Канада', 'Китай-Гонконг', 'США - Германия - КНР',\n",
       "       'Великобритания - Новая Зеландия',\n",
       "       'Франция - Дания - Швеция - КНР',\n",
       "       'США - Великобритания - Германия - Бельгия - Дания',\n",
       "       'США - Франция - Канада - Германия - Австралия - Индия',\n",
       "       'СССР, Румыния, Франция', 'СССР, ГДР', 'Австралия-Ирландия',\n",
       "       'США - Китай', 'Великобритания - Франция - Австрия - Швеция',\n",
       "       'Россия, Таджикистан', 'Нидерланды - Бельгия - Болгария',\n",
       "       'Великобритания - Канада - США', 'Франция - Бельгия - Испания',\n",
       "       'Китай-Гонконг-США', 'Франция - Великобритания', 'США - Вьетнам',\n",
       "       'США - Германия - Франция', 'Германия - Франция - Бельгия',\n",
       "       'США - Италия',\n",
       "       'Германия - Дания - Испания - Швеция - Канада - Эстония - Франция',\n",
       "       'Княжество Андорра - Украина', 'Германия - Люксембург - Бельгия',\n",
       "       'Великобритания - Россия - Украина - США',\n",
       "       'Германия - Бельгия - Люксембург - Норвегия',\n",
       "       'США - Австралия - Новая Зеландия - Великобритания',\n",
       "       'США - Франция - Канада - Великобритания', 'Испания-Колумбия',\n",
       "       'Великобритания - Чехия - Франция', 'Россия, Украина', 'Исландия',\n",
       "       'Великобритания - Франция - Венгрия',\n",
       "       'Россия, Франция, Германия, Бельгия', 'Франция - Македония',\n",
       "       'Нидерланды - Франция - Германия - Бельгия - Швеция - Великобритания',\n",
       "       'Испания - США - Великобритания - Канада', 'Германия - Австрия',\n",
       "       'Республика Казахстан',\n",
       "       'Франция - Испания - Дания - Венгрия - Швейцария', 'Франция-КНР',\n",
       "       'США - Пуэрто-Рико - Франция', 'Мексика - Тайвань - США',\n",
       "       'Великобритания - Испания - Непал - Индия - Венгрия - Гонконг - Германия - Дания - Бахрейн',\n",
       "       'Великобритания - Аргентина - США - Франция - Россия - Испания',\n",
       "       'КНР - США', 'Италия - США', 'Финляндия - Швеция - Германия',\n",
       "       'Канада- Испания', 'Франция - Бельгия - Чехия',\n",
       "       'Франция-Бельгия-Канада', 'Франция - Германия - США',\n",
       "       'США - Дания', 'Индия - КНР', 'Чехия-Великобритания-США',\n",
       "       'США-ФРГ-Россия', 'Ирландия-Нидерланды-Франция-США-Великобритания',\n",
       "       'Россия, Грузия, Хорватия, Испания',\n",
       "       'Финляндия - Швеция - Норвегия', 'Сербия - Великобритания - США',\n",
       "       'США - Великобритания - Франция - Гонконг', 'Швейцария - Франция',\n",
       "       'Швейцария - Великобритания', 'ОАЭ - США',\n",
       "       'США - Франция - Германия - Канада - Австралия',\n",
       "       'Германия - Австралия', 'Иран, Франция',\n",
       "       'США - Великобритания - Новая Зеландия', 'США-Колумбия',\n",
       "       'США-Франция-Ирландия', 'Великобритания - Франция - Бельгия',\n",
       "       'США - Великобритания - Япония', 'США - Франция - Германия',\n",
       "       'Польша - Ирландия', 'Ирландия - Великобритания - Франция - США',\n",
       "       'США - Бельгия - Великобритания', 'СССР, ВНР',\n",
       "       'Испания - Франция - США - Великобритания - Бельгия',\n",
       "       'Франция - Дания - США', 'США - Гонконг', 'Бразилия - К;анада',\n",
       "       'Франция-Германия', 'США - Колумбия',\n",
       "       'США - Ирландия - Великобритания - Франция',\n",
       "       'Великобритания - США - Канада', 'Польша - Франция',\n",
       "       'Канада - США - Нидерланды - Великобритания - Аргентина',\n",
       "       'Великобритания - Дания', 'Франция - Бельгия - Япония',\n",
       "       'Россия,  Испания', 'Франция -Бельгия',\n",
       "       'США - Канада - Германия - Франция', 'США-Канада-Франция',\n",
       "       'Россия - Германия', 'Россия-Италия', 'Китай - Гонконг',\n",
       "       'Германия-Австрия-Франция-Италия', 'США-Япония',\n",
       "       'США - Германия - Канада', 'Испания-Мексика',\n",
       "       'США - Япония - Канада - Великобритания - Германия - Франция',\n",
       "       'США -Великобритания - Австралия', 'Россия-Украина-Германия',\n",
       "       'Израиль - Франция - Великобритания - Германия', 'Корея',\n",
       "       'Россия - Болгария', 'США-Индия',\n",
       "       'Германия-Канада-Франция-Бельгия', 'Германия-Кения',\n",
       "       'Франция - Монако', 'Франция-Испания-Швейцария',\n",
       "       'Австрия-Франция-Германия', 'Румыния',\n",
       "       'США-Великобритания-Франция', 'Канада-Великобритания',\n",
       "       'Канада-Бразилия-Япония', 'Германия - Дания - Норвегия',\n",
       "       'Дания - Германия', 'СССР - Италия',\n",
       "       'СССР - ГДР - Польша - Италия',\n",
       "       'США - Испания - Франция - Великобритания', 'Китай',\n",
       "       'Мексика-Аргентина',\n",
       "       'Германия - Великобритания - Италия - Испания',\n",
       "       'Франция-Германия-Великобритания', 'Россия - Германия - Швейцария',\n",
       "       'Франция-Австралия', 'Голландия', 'Швейцария-Франция',\n",
       "       'Россия-Белоруссия', 'Франция - Испания - Тайвань',\n",
       "       'США-Южная Корея-Новая Зеландия', 'Великобритания-Венгрия',\n",
       "       'Россия-Германия', 'Великобритания-Франция-Германия',\n",
       "       'Франция-Германия-Италия', 'Швеция-Финляндия-Франция-Норвегия',\n",
       "       'Франция-Италия', 'Германия-Израиль',\n",
       "       'Швеция - Германия - Дания - Норвегия', 'США-Бельгия',\n",
       "       'Франция-Гонконг-Ирландия', 'Эстония', 'Литва-Россия-Украина',\n",
       "       'Германия - Италия - Франция',\n",
       "       'Великобритания - Австрия - Германия', 'Бельгия - Франция',\n",
       "       'Россия-Казахстан', 'Испания - Мальта',\n",
       "       'Франция-Россия-Румыния-Италия-Бельгия', 'Россия - Польша',\n",
       "       'Испания - Мексика', 'США-Аргентина', 'Израиль-США-Франция',\n",
       "       'США - Новая Зеландия - Япония',\n",
       "       'Франция - Чехия - Великобритания', 'Россия-Польша',\n",
       "       'Германия-Франция-Великобритания', 'США-Германия-Канада',\n",
       "       'США-Гонконг-Китай', 'США - Великобритания - Германия',\n",
       "       'США-Канада-Австралия', 'Япония-США-Франция',\n",
       "       'Франция-Испания-Германия', 'США - Хорватия - Босния-Герцеговина',\n",
       "       'Великобритания - Чехия - Франция - Италия',\n",
       "       'США - Германия - Нидерланды', 'Германия - Франция - Канада',\n",
       "       'Франция-Грузия-Германия-Россия-Украина-Бельгия',\n",
       "       'Великобритания - Франция - Италия', 'Россия - США',\n",
       "       'Франция - Италия - Иран', 'Россия - Азербайджан', 'Греция',\n",
       "       'Дания - США', 'США-Великобритания-Новая Зеландия',\n",
       "       'США-Германия-Австралия', 'США-Канада-Италия',\n",
       "       'США - Япония - Германия', 'Австралия-США',\n",
       "       'Франция - Великобритания - Багамские острова - США',\n",
       "       'Швейцария - Люксембург', 'Швейцария - Австрия',\n",
       "       'Германия - Швейцария', 'Дания-Швеция-Франция-Германия', 'Польша',\n",
       "       'Швейцария-Австрия', 'Бразилия - Канада - США',\n",
       "       'Нидерланды - Россия', 'Португалия', 'Франция-Аргентина',\n",
       "       'Швеция-Франция', 'Франция-Украина', 'Германия-Украина-Нидерланды',\n",
       "       'Италия-Швейцария', 'США-Германия-Великобритания',\n",
       "       'Латвия - Россия', 'Германия-Франция-Великобритания-США',\n",
       "       'Канада - Италия', 'США - Объединенные Арабские Эмираты',\n",
       "       'США-Венгрия', 'Малайзия', 'Россия - Германия - Украина',\n",
       "       'США - Австралия - Мексика', 'Литва - Венгрия', 'Германия - Китай',\n",
       "       'Казахстан', 'Республика Корея',\n",
       "       'США - Германия - Франция - Великобритания - Канада',\n",
       "       'Бельгия - Германия - Люксембург - Франция', 'Франция - Греция',\n",
       "       'Италия - Канада', 'США - Великобритания - Франция',\n",
       "       'США-Италия-Греция', 'Германия - США - Великобритания - Ирландия',\n",
       "       'Великобритания - Франция - Германия',\n",
       "       'Германия - Нидерланды - ЮАР',\n",
       "       'США-Япония-Германия-Великобритания-Нидерланды',\n",
       "       'США-Япония-Германия-Великобритания',\n",
       "       'Германия - Франция - Польша',\n",
       "       'Таиланд-Великобритания-Франция-Германия-Испания-Нидерланды',\n",
       "       'Германия-Италия-Швейцария',\n",
       "       'Дания - Швеция - Великобритания - Франция - Германия - Нидерланды - Норвегия - Финляндия',\n",
       "       'Франция - Великобритания - Нидерланды - Люксембург',\n",
       "       'Нидерланды-Великобритания-Франция-Италия-Япония',\n",
       "       'Финляндия-Дания-Германия-Ирландия', 'Испания-Аргентина',\n",
       "       'Великобритания - Нидерланды - Франция - США', 'Канада - Мексика',\n",
       "       'США, Франция', 'Канада-Южная Корея-США',\n",
       "       'Великобритания - Франция - Бельгия - США', 'КНР - Канада - США',\n",
       "       'Италия - Франция - Германия',\n",
       "       'Швеция - Германия - Франция - Дания', 'Франция - США - Бельгия',\n",
       "       'Украина - Германия - Латвия - Эстония', 'Австрия - Люксембург',\n",
       "       'Великобритания - КНР', 'Монголия', 'Франция - Дания',\n",
       "       'Швеция - Дания - Финляндия',\n",
       "       'Сингапур - Великобритания - Индонезия - Канада - США',\n",
       "       'США - Германия - Япония', 'Таиланд - США', 'Франция - Нидерланды',\n",
       "       'Великобритания - Румыния', 'США - Мальта',\n",
       "       'Великобритания - Германия - Нидерланды - Дания',\n",
       "       'Франция - Германия - Литва - Нидерланды - Россия',\n",
       "       'США - ЮАР - Гонконг', 'Австралия - Колумбия',\n",
       "       'Великобритания - Польша', 'США - Великобритания - Швеция',\n",
       "       'Франция - Швеция - Дания - Норвегия', 'Болгария - США',\n",
       "       'СССР, ФРГ', 'Бельгия - Нидерланды - Франция',\n",
       "       'Финляндия - Германия', 'Болгария',\n",
       "       'Грузия - Россия - Украина - Хорватия - Германия',\n",
       "       'Франция - Люксембург', 'Франция - Германия - Австрия',\n",
       "       'Норвегия - США', 'Германия-Швеция', 'Франция - Германия - Италия',\n",
       "       'Франция-Германия-Австрия', 'КНР-США',\n",
       "       'Дания - Латвия - Россия - США', 'Финляндия - Польша',\n",
       "       'Германия - Бельгия', 'Германия - США - Франция - Испания',\n",
       "       'Бельгия-Германия-Канада-Франция-США-Великобритания',\n",
       "       'Нидерланды - Бельгия - Люксембург', 'Канада-Германия',\n",
       "       'Люксембург - Бельгия - Франция', 'США-Великобритания-Австралия',\n",
       "       'Великобритания, Новая Зеландия', 'Бельгия, Великобритания, США',\n",
       "       'Великобритания, Австралия', 'Исландия, Бельгия',\n",
       "       'Испания - Швейцария - Великобритания - Германия - Новая Зеландия - Нидерланды - Канада',\n",
       "       'Франция, Бельгия', 'Великобритания, США', 'Киргизия-Россия',\n",
       "       'Германия, США', 'Великобритания, США, Испания',\n",
       "       'Италия - Швейцария - Германия', 'Россия, Армения',\n",
       "       'Франция, Германия', 'Китай, Канада, США', 'Германия, Австралия',\n",
       "       'КНР, США', 'США, Великобритания, Люксембург',\n",
       "       'Испания, Ирландия, Бельгия, Франция',\n",
       "       'Великобритания - Гонконг - Венгрия - США - Ирландия',\n",
       "       'США - Пуэрто Рико', 'Аргентина - Испания - Уругвай',\n",
       "       'Израиль - Германия - Франция - Швейцария',\n",
       "       'Великобритания - Мексика - США', 'Испания - Болгария - США',\n",
       "       'Россия-Словакия-Чехия',\n",
       "       'Швейцария - КНР - США - Россия - Республика Корея - Великобритания',\n",
       "       'Россия, Нидерланды, Финляндия',\n",
       "       'Испания - Бельгия - Франция - Португалия - Великобритания',\n",
       "       'Бразилия - Португалия - Франция', 'Швеция - Норвегия',\n",
       "       'Франция - Польша - Бельгия', 'CША', 'Китай, США',\n",
       "       'Италия, Франция, Германия', 'Германия - Австрия - Франция',\n",
       "       'Чехия - Словакия - Хорватия', 'Россия, Польша, Финляндия',\n",
       "       'Россия, Латвия, Чешская Республика',\n",
       "       'Франция - Великобритания - Камбоджа - США - КНР',\n",
       "       'Чехия - Испания - США', 'Германия - Люксембург - Дания',\n",
       "       'Великобритания - Испания - Германия', 'Дания - Исландия',\n",
       "       'Германия, Франция, Великобритания',\n",
       "       'Великобритания - Испания - Италия - Латвия - Франция - Эстония',\n",
       "       'Дания, Швеция, Великобритания, Франция, Германия, Норвегия, Финляндия, Нидерланды, Италия',\n",
       "       'Польша - Франция - Великобритания',\n",
       "       'Дания, Норвегия, Венгрия, Чехия',\n",
       "       'Дания - Франция - Германия - Швеция',\n",
       "       'Великобритания, Швеция, США',\n",
       "       'Канада, Франция, Италия, Швейцария, США', 'США, Индия',\n",
       "       'США - Великобритания - Германия - - Швеция - Канада',\n",
       "       'Италия, Франция', 'Республика Беларусь, Германия, США, Россия',\n",
       "       'Италия-Швейцария-Франция-Германия',\n",
       "       'Россия - Франция - Великобритания - Латвия', 'Россия-Беларусь',\n",
       "       'Франция - Испания - Румыния - США - Бельгия', 'Италия-США',\n",
       "       'Россия, Австрия', 'Ирландия - Великобритания - США',\n",
       "       'Швейцария, Великобритания, Франция, США, Ирландия',\n",
       "       'Мексика, Франция, Германия, Дания, Швеция', 'Нидерланды, Бельгия',\n",
       "       'Швеция, Норвегия, Финляндия, Франция', 'Испания, Франция, Италия',\n",
       "       'Испания-Франция-Греция-Индия-США-Россия-Великобритания',\n",
       "       'Великобритания - Япония - США',\n",
       "       'Дания, Канада, Норвегия, Австралия, США', 'Аргентина, Испания',\n",
       "       'Россия, Германия, Казахстан, Польша, Китай',\n",
       "       'Португалия, Франция, Польша, США', 'США - Канада - Аргентина',\n",
       "       'Ливан-США', 'Япония - США', 'США, Гонконг',\n",
       "       'Франция - Россия - Швейцария - Румыния - Венгрия',\n",
       "       'Аргентина-Испания', 'Россия, Сербия', 'США - Болгария - Мексика',\n",
       "       'США - Великобритания - Швейцария - Франция',\n",
       "       'Таиланд - КНР - США',\n",
       "       'Великобритания, Нидерланды, Польша, Швейцария, Франция',\n",
       "       'Ирландия - США',\n",
       "       'Германия - Франция - Великобритания - Польша - США',\n",
       "       'Великобритания-Франция-Италия', 'США - Австралия - Индия',\n",
       "       'Франция - КНР', 'Великобритания - Израиль',\n",
       "       'Великобритания - Норвегия - Кения - Хорватия',\n",
       "       'США - Бразилия - Великобритания - Канада', 'Германия, Бельгия',\n",
       "       'Австралия, Канада', 'США, Великобритания, Франция',\n",
       "       'Кения, Германия', 'Нидерланды, Бельгия, Люксембург', 'Колумбия',\n",
       "       'Латвия - Франция', 'Ирландия, Великобритания',\n",
       "       'Франция - Израиль - Германия', 'Швеция, Франция, Великобритания',\n",
       "       'Бельгия - Люксембург', 'Германия - Бельгия - Великобритания',\n",
       "       'Испания, Франция, Великобритания, Дания, Бельгия, Германия',\n",
       "       'Румыния, ЮАР, Иран, Франция, Канада, Великобритания',\n",
       "       'Германия, Франция', 'США, Япония',\n",
       "       'США, Великобритания, Ирландия, Люксембург', 'Республика Армения',\n",
       "       'США, Франция, Япония', 'Япония, США', 'Канада, США',\n",
       "       'Республика Кипр - Россия',\n",
       "       'Дания - Франция - Италия - Бельгия - Нидерланды',\n",
       "       'Россия - Грузия', 'Италия, Германия', 'Норвегия, Швеция, Дания',\n",
       "       'Республика Кипр, Россия', 'КНР, Индия, Гонконг, США',\n",
       "       'Израиль, Украина', 'США, Россия', 'США - КНР - Индия - Ю.Корея',\n",
       "       'США - Швеция', 'Франция, Канада', 'Россия-Китай',\n",
       "       'Канада, Великобритания', 'США, Германия',\n",
       "       'Канада, США, Каймановы острова',\n",
       "       'Бразилия, Уругвай, Дания, Норвегия, Чили, Швеция',\n",
       "       'Пуэрто-Рико, Великобритания, США',\n",
       "       'Уругвай - Аргентина - Испания',\n",
       "       'США - Великобритания - Италия - Израиль - Сербия - Индия',\n",
       "       'США - Канада - Франция - Индия', 'Великобритания - Россия - КНР',\n",
       "       'Франция, Новая Зеландия', 'Франция, Люксембург, Бельгия',\n",
       "       'Канада, США, Норвегия', 'Италия, Испания',\n",
       "       'Испания - Германия - Нидерланды', 'Бразилия - США - КНР',\n",
       "       'Великобритания, Германия, Дания, США', '2019',\n",
       "       'Италия - Фрация - Бразилия - Германия',\n",
       "       'Норвегия - Швеция - Россия', 'Великобритания, Япония, США',\n",
       "       'Сша, Канада', 'Бельгия, Канада',\n",
       "       'Великобритания - Австралия - США', 'США, Канада',\n",
       "       'Франция - Финляндия', 'Колумбия - США',\n",
       "       'Великобритания, Франция, Бельгия', 'Норвегия - Нидерланды',\n",
       "       'Великобритания, Канада, США', 'Япония, Великобритания',\n",
       "       'Италия - Бельгия - Франция', 'Россия, Бельгия, Финляндия',\n",
       "       'США, Украина', 'Франция, Норвегия',\n",
       "       'Великобритания, Южная Корея, Канада, США, Индия, Китай, Япония',\n",
       "       'Канада - Норвегия', 'Республика Кипр-Россия', 'Германия, Россия',\n",
       "       'Польша - Франция - Испания - Бразилия - Швеция',\n",
       "       'Австрия, Великобритания, Германия', 'Франция - Сенегал - Бельгия',\n",
       "       'Франция, Бельгия, Люксембург', 'Финляндия, Латвия', 'Пакистан',\n",
       "       'Германия, Франция, США', 'Германия - Великобритания - США',\n",
       "       'КНР - Франция', 'Дания, Норвегия, Швеция, Исландия',\n",
       "       'Республика Кипр, США, Россия', 'Новая Зеландия - КНР',\n",
       "       'Дания - Канада - Швеция - Франция - Германия - Великобритания - США'],\n",
       "      dtype=object)"
      ]
     },
     "execution_count": 26,
     "metadata": {},
     "output_type": "execute_result"
    }
   ],
   "source": [
    "df['production_country'] = df['production_country'].str.strip()#уберем лишние пробелы production_country\n",
    "df['production_country'].unique()"
   ]
  },
  {
   "cell_type": "markdown",
   "metadata": {},
   "source": [
    "Убрали неяные повторы в production_country, если они там были."
   ]
  },
  {
   "cell_type": "code",
   "execution_count": 27,
   "metadata": {},
   "outputs": [
    {
     "data": {
      "text/plain": [
       "array(['«18+» - запрещено для детей', '«6+» - для детей старше 6 лет',\n",
       "       '«12+» - для детей старше 12 лет',\n",
       "       '«16+» - для детей старше 16 лет',\n",
       "       '«0+» - для любой зрительской аудитории'], dtype=object)"
      ]
     },
     "execution_count": 27,
     "metadata": {},
     "output_type": "execute_result"
    }
   ],
   "source": [
    "df['age_restriction'].unique()"
   ]
  },
  {
   "cell_type": "code",
   "execution_count": 28,
   "metadata": {},
   "outputs": [
    {
     "data": {
      "text/plain": [
       "array([nan, 'Министерство культуры', 'Фонд кино',\n",
       "       'Министерство культуры, Фонд кино'], dtype=object)"
      ]
     },
     "execution_count": 28,
     "metadata": {},
     "output_type": "execute_result"
    }
   ],
   "source": [
    "df['financing_source'].unique()"
   ]
  },
  {
   "cell_type": "markdown",
   "metadata": {},
   "source": [
    "В столбцах age_restriction и financing_source повторов нет."
   ]
  },
  {
   "cell_type": "markdown",
   "metadata": {
    "id": "52fOPrEBgFyQ"
   },
   "source": [
    "#### Шаг 2.4. Изучите категориальные значения\n",
    "\n",
    "- Посмотрите, какая общая проблема встречается почти во всех категориальных столбцах;\n",
    "- Исправьте проблемные значения в поле `type`.\n",
    "\n",
    "<div id=\"accordion\">\n",
    "    <div class=\"card\">\n",
    "        <div class=\"card-header\" id=\"headingThree\">\n",
    "            <button class=\"btn btn-link collapsed\" data-toggle=\"collapse\" data-target=\"#collapseHint_1\" aria-expanded=\"false\" aria-controls=\"collapseHint_1\">Подсказка</button>\n",
    "        </div>\n",
    "        <div id=\"collapseHint_1\" class=\"collapse\" aria-labelledby=\"headingThree\" data-parent=\"#accordion\">\n",
    "            <div class=\"card-body\">\n",
    "В поле <code>type</code> есть несколько значений, у которых появился пробел в начале строки. Самый простой способ их «починить» -- использовать метод <a href=\"https://pandas.pydata.org/docs/reference/api/pandas.Series.str.strip.html#pandas.Series.str.strip\">.str.strip</a>. Этот метод удаляет все пробелы, которые встречаются в начале и в конце строки. Применяют его таким образом:<br>\n",
    "<code>df['type'].str.strip()</code>\n",
    "            </div>\n",
    "        </div>\n",
    "    </div>\n",
    "</div>"
   ]
  },
  {
   "cell_type": "markdown",
   "metadata": {},
   "source": [
    "В поле type есть несколько значений, у которых появился пробел в начале строки. Исправлено выше."
   ]
  },
  {
   "cell_type": "markdown",
   "metadata": {},
   "source": [
    "<div class=\"alert alert-success\">\n",
    "<h1> Комментарий ревьюера✅</h1>\n",
    "\n",
    "Да, проблема с типом решена.\n",
    "\n",
    "</div>"
   ]
  },
  {
   "cell_type": "code",
   "execution_count": 29,
   "metadata": {
    "id": "PnXKIVdFgFyR"
   },
   "outputs": [
    {
     "data": {
      "text/plain": [
       "array([nan, 'Министерство культуры', 'Фонд кино',\n",
       "       'Министерство культуры, Фонд кино'], dtype=object)"
      ]
     },
     "execution_count": 29,
     "metadata": {},
     "output_type": "execute_result"
    }
   ],
   "source": [
    "df['financing_source'].unique()"
   ]
  },
  {
   "cell_type": "code",
   "execution_count": 30,
   "metadata": {},
   "outputs": [
    {
     "data": {
      "text/plain": [
       "array(['боевик,драма,мелодрама', 'драма,военный',\n",
       "       'фантастика,боевик,триллер', 'драма', 'мелодрама,комедия',\n",
       "       'мюзикл,мелодрама,комедия', 'комедия,криминал',\n",
       "       'боевик,триллер,детектив', 'боевик,драма,приключения',\n",
       "       'драма,спорт', 'триллер,драма,мелодрама', 'комедия,мелодрама',\n",
       "       'драма,мелодрама,комедия', 'драма,мелодрама', 'драма,история',\n",
       "       'драма,мелодрама,семейный', 'комедия,мелодрама,криминал',\n",
       "       'комедия', 'боевик,драма,криминал', 'драма,комедия',\n",
       "       'ужасы,фантастика,комедия', 'мультфильм,короткометражка,мелодрама',\n",
       "       'драма,криминал', 'мультфильм,фантастика,фэнтези',\n",
       "       'триллер,драма,криминал', 'драма,мелодрама,биография',\n",
       "       'драма,комедия,военный', 'фантастика,драма,детектив',\n",
       "       'мюзикл,семейный', nan, 'военный,приключения,драма',\n",
       "       'документальный,драма', 'драма,биография,история',\n",
       "       'боевик,триллер,драма', 'фэнтези,боевик',\n",
       "       'боевик,комедия,криминал', 'мюзикл,комедия,детский',\n",
       "       'комедия,мелодрама,драма', 'мультфильм,фэнтези,комедия',\n",
       "       'комедия,история', 'мелодрама', 'драма,биография,музыка',\n",
       "       'фэнтези,драма,мелодрама', 'триллер,военный',\n",
       "       'драма,мелодрама,военный', 'мюзикл,драма,мелодрама',\n",
       "       'мюзикл,комедия', 'мультфильм,приключения,семейный',\n",
       "       'ужасы,триллер', 'боевик,драма,военный', 'драма,боевик',\n",
       "       'мультфильм,драма,комедия', 'триллер,криминал',\n",
       "       'военный,биография,драма', 'комедия,семейный', 'военный',\n",
       "       'драма,семейный,биография', 'фэнтези,приключения,семейный',\n",
       "       'драма,криминал,биография', 'ужасы,триллер,детектив',\n",
       "       'боевик,история,драма', 'ужасы,триллер,драма',\n",
       "       'драма,криминал,спорт', 'документальный,короткометражка',\n",
       "       'триллер,драма', 'криминал,детектив,приключения',\n",
       "       'драма,комедия,криминал', 'драма,комедия,вестерн',\n",
       "       'драма,мелодрама,детектив', 'мелодрама,биография',\n",
       "       'фэнтези,мелодрама,драма', 'драма,мелодрама,история',\n",
       "       'комедия,приключения,история', 'приключения', 'драма,семейный',\n",
       "       'криминал,детектив', 'мультфильм,короткометражка,ужасы',\n",
       "       'фантастика,триллер,драма', 'фэнтези,мелодрама,комедия',\n",
       "       'драма,биография', 'комедия,криминал,история',\n",
       "       'триллер,драма,детектив', 'фантастика,комедия,приключения',\n",
       "       'фэнтези,семейный', 'ужасы,фантастика,боевик',\n",
       "       'мелодрама,криминал', 'комедия,приключения,мелодрама',\n",
       "       'боевик,триллер,приключения', 'боевик,приключения',\n",
       "       'боевик,триллер,криминал', 'документальный,военный,история',\n",
       "       'драма,музыка', 'боевик,драма', 'приключения,боевик',\n",
       "       'драма,военный,биография', 'триллер,драма,приключения',\n",
       "       'аниме,мультфильм,фэнтези', 'триллер,детектив,драма',\n",
       "       'боевик,триллер,мелодрама', 'боевик,история',\n",
       "       'приключения,история', 'драма,комедия,приключения',\n",
       "       'фэнтези,комедия,приключения', 'драма,вестерн',\n",
       "       'документальный,музыка', 'мелодрама,драма',\n",
       "       'триллер,криминал,детектив', 'ужасы', 'боевик,комедия,приключения',\n",
       "       'мультфильм,фэнтези,боевик', 'боевик,фэнтези,драма',\n",
       "       'фэнтези,драма', 'фэнтези,боевик,комедия',\n",
       "       'приключения,детский,комедия', 'документальный',\n",
       "       'боевик,триллер,комедия', 'мелодрама,комедия,криминал',\n",
       "       'драма,детектив', 'мюзикл,ужасы,триллер', 'детектив,триллер,ужасы',\n",
       "       'ужасы,фэнтези', 'ужасы,фэнтези,триллер', 'мультфильм,драма',\n",
       "       'ужасы,боевик,фантастика', 'боевик', 'фантастика,боевик',\n",
       "       'мелодрама,комедия,приключения', 'триллер,детектив',\n",
       "       'мюзикл,мелодрама,фэнтези', 'криминал', 'триллер,комедия,криминал',\n",
       "       'боевик,приключения,триллер', 'триллер,драма,военный',\n",
       "       'комедия,семейный,музыка', 'комедия,фантастика,мелодрама',\n",
       "       'фантастика,триллер,криминал', 'комедия,драма', 'боевик,военный',\n",
       "       'ужасы,фантастика,триллер', 'фантастика,драма,мелодрама',\n",
       "       'фэнтези,драма,детектив', 'боевик,триллер', 'боевик,драма,история',\n",
       "       'мультфильм,мюзикл,фэнтези', 'для взрослых,драма,мелодрама',\n",
       "       'мультфильм,боевик,детектив', 'фантастика,мелодрама,боевик',\n",
       "       'ужасы,фантастика,детектив', 'фантастика,боевик,приключения',\n",
       "       'мелодрама,комедия,спорт', 'комедия,боевик,приключения',\n",
       "       'документальный,приключения', 'мультфильм,короткометражка,детский',\n",
       "       'комедия,приключения', 'ужасы,драма', 'ужасы,фэнтези,боевик',\n",
       "       'мультфильм,фэнтези,детский', 'мюзикл,боевик,драма',\n",
       "       'семейный,комедия,драма', 'концерт,музыка', 'фэнтези,боевик,драма',\n",
       "       'драма,комедия,музыка', 'фантастика,фэнтези,боевик',\n",
       "       'фэнтези,комедия,семейный', 'фэнтези,драма,комедия',\n",
       "       'мультфильм,мюзикл,драма', 'триллер', 'боевик,криминал,триллер',\n",
       "       'мультфильм,приключения,драма', 'мелодрама,музыка',\n",
       "       'документальный,музыка,концерт', 'мультфильм,семейный',\n",
       "       'мультфильм,комедия,приключения', 'мультфильм,комедия,семейный',\n",
       "       'фантастика,драма', 'фэнтези,боевик,приключения',\n",
       "       'мультфильм,приключения', 'драма,военный,история', 'история',\n",
       "       'драма,приключения,военный',\n",
       "       'документальный,короткометражка,семейный',\n",
       "       'мелодрама,история,триллер', 'ужасы,детектив',\n",
       "       'мюзикл,комедия,приключения', 'драма,спорт,биография',\n",
       "       'фантастика,боевик,комедия', 'фантастика,приключения,детектив',\n",
       "       'короткометражка,драма,военный', 'драма,мультфильм',\n",
       "       'приключения,семейный', 'детектив', 'триллер,приключения',\n",
       "       'аниме,мультфильм,боевик', 'драма,комедия,биография',\n",
       "       'драма,комедия,спорт', 'боевик,мелодрама,комедия',\n",
       "       'семейный,комедия', 'фэнтези,боевик,триллер',\n",
       "       'документальный,фэнтези,семейный', 'фантастика,фэнтези,драма',\n",
       "       'ужасы,комедия,фэнтези', 'документальный,биография,музыка',\n",
       "       'фантастика,боевик,фэнтези', 'ужасы,боевик,триллер',\n",
       "       'комедия,криминал,семейный', 'приключения,драма',\n",
       "       'криминал,драма,триллер', 'драма,детектив,криминал',\n",
       "       'фэнтези,приключения,комедия', 'комедия,спорт',\n",
       "       'мюзикл,фэнтези,мелодрама', 'мультфильм,фэнтези,приключения',\n",
       "       'фантастика,фэнтези,приключения', 'фэнтези',\n",
       "       'фэнтези,приключения,боевик', 'фантастика,боевик,драма',\n",
       "       'криминал,драма', 'криминал,триллер,драма',\n",
       "       'драма,мелодрама,приключения', 'детский,комедия',\n",
       "       'фантастика,драма,боевик', 'мультфильм,семейный,фэнтези',\n",
       "       'концерт,музыка,документальный', 'ужасы,комедия,приключения',\n",
       "       'драма,мелодрама,криминал', 'ужасы,фантастика,фэнтези',\n",
       "       'боевик,комедия', 'мультфильм,фантастика,комедия', 'триллер,ужасы',\n",
       "       'мультфильм,мюзикл,комедия', 'мелодрама,фэнтези,триллер',\n",
       "       'детский,приключения,комедия', 'комедия,детектив',\n",
       "       'аниме,мультфильм,мелодрама', 'документальный,драма,семейный',\n",
       "       'документальный,биография,история', 'военный,боевик,драма',\n",
       "       'ужасы,комедия', 'комедия,приключения,семейный',\n",
       "       'приключения,биография,история', 'детский,приключения,семейный',\n",
       "       'спорт,драма,биография', 'аниме,мультфильм,ужасы',\n",
       "       'фантастика,боевик,криминал', 'мюзикл,драма',\n",
       "       'драма,криминал,детектив', 'аниме,мультфильм,драма',\n",
       "       'драма,триллер,приключения', 'триллер,криминал,драма',\n",
       "       'фэнтези,комедия,драма', 'мультфильм,комедия',\n",
       "       'драма,комедия,история', 'комедия,биография,история',\n",
       "       'мультфильм,фантастика,приключения', 'аниме,мультфильм,фантастика',\n",
       "       'мультфильм,фэнтези,семейный', 'мультфильм,боевик,комедия',\n",
       "       'комедия,криминал,спорт', 'документальный,мюзикл',\n",
       "       'мелодрама,комедия,музыка', 'биография',\n",
       "       'триллер,криминал,комедия', 'фантастика,драма,комедия',\n",
       "       'комедия,драма,мелодрама', 'фантастика,приключения,боевик',\n",
       "       'мультфильм,фэнтези,драма', 'триллер,комедия',\n",
       "       'драма,приключения,биография', 'фантастика,комедия',\n",
       "       'мелодрама,драма,комедия', 'боевик,криминал',\n",
       "       'драма,криминал,боевик', 'мультфильм,мюзикл,детский',\n",
       "       'драма,фэнтези', 'документальный,семейный',\n",
       "       'фэнтези,драма,приключения', 'ужасы,комедия,фантастика',\n",
       "       'драма,мелодрама,музыка', 'фэнтези,драма,семейный',\n",
       "       'триллер,мелодрама,драма', 'вестерн,боевик,драма',\n",
       "       'мультфильм,короткометражка,комедия', 'триллер,драма,история',\n",
       "       'ужасы,фантастика', 'ужасы,мелодрама,комедия',\n",
       "       'фэнтези,приключения', 'фантастика,триллер',\n",
       "       'ужасы,боевик,фэнтези', 'мультфильм,комедия,детский',\n",
       "       'триллер,драма,биография', 'мультфильм,ужасы,фэнтези',\n",
       "       'мультфильм,ужасы,фантастика', 'ужасы,боевик,комедия',\n",
       "       'драма,биография,спорт', 'мультфильм', 'мелодрама,комедия,драма',\n",
       "       'приключения,фантастика,семейный', 'комедия,криминал,детектив',\n",
       "       'ужасы,триллер,комедия', 'криминал,комедия,триллер',\n",
       "       'семейный,приключения,комедия', 'мультфильм,драма,приключения',\n",
       "       'ужасы,драма,детектив', 'драма,приключения,фэнтези',\n",
       "       'фантастика,мультфильм,драма', 'драма,триллер,детектив',\n",
       "       'драма,история,музыка', 'детский', 'триллер,боевик,криминал',\n",
       "       'драма,фантастика', 'комедия,драма,семейный',\n",
       "       'боевик,драма,комедия', 'комедия,ужасы',\n",
       "       'драма,фантастика,триллер', 'фантастика,драма,триллер',\n",
       "       'история,спорт,драма', 'документальный,биография',\n",
       "       'биография,история', 'спорт,драма', 'боевик,фэнтези',\n",
       "       'мультфильм,фэнтези', 'документальный,комедия,история',\n",
       "       'криминал,комедия,боевик', 'фэнтези,приключения,драма',\n",
       "       'музыка,концерт', 'триллер,драма,боевик',\n",
       "       'комедия,криминал,боевик', 'комедия,фантастика,боевик',\n",
       "       'вестерн,приключения,боевик', 'аниме,мультфильм,комедия',\n",
       "       'детектив,криминал,триллер', 'мультфильм,комедия,криминал',\n",
       "       'комедия,приключения,детектив', 'мелодрама,фантастика,драма',\n",
       "       'драма,комедия,семейный', 'приключения,фантастика',\n",
       "       'триллер,детектив,ужасы', 'комедия,приключения,фэнтези',\n",
       "       'фэнтези,триллер,драма', 'мелодрама,приключения,боевик',\n",
       "       'детектив,триллер,криминал', 'фэнтези,семейный,мелодрама',\n",
       "       'военный,драма', 'документальный,приключения,семейный',\n",
       "       'криминал,комедия,драма', 'комедия,фантастика',\n",
       "       'история,биография,драма', 'мелодрама,драма,музыка',\n",
       "       'боевик,мелодрама', 'комедия,криминал,триллер',\n",
       "       'детектив,триллер,боевик', 'комедия,боевик,криминал',\n",
       "       'комедия,вестерн', 'детский,мелодрама,семейный',\n",
       "       'короткометражка,мультфильм', 'комедия,фэнтези',\n",
       "       'фантастика,драма,ужасы', 'триллер,драма,ужасы',\n",
       "       'драма,фэнтези,история', 'комедия,драма,короткометражка',\n",
       "       'фэнтези,триллер,приключения', 'семейный',\n",
       "       'комедия,криминал,драма', 'комедия,фэнтези,ужасы',\n",
       "       'короткометражка,комедия,криминал', 'фантастика',\n",
       "       'триллер,ужасы,драма', 'мелодрама,драма,фэнтези',\n",
       "       'фантастика,приключения,драма', 'боевик,детектив',\n",
       "       'военный,драма,боевик', 'комедия,мелодрама,фэнтези',\n",
       "       'вестерн,криминал,триллер', 'драма,история,триллер',\n",
       "       'мультфильм,фантастика,боевик', 'детектив,драма,криминал',\n",
       "       'приключения,история,драма', 'мультфильм,семейный,детский',\n",
       "       'биография,драма,история', 'триллер,криминал,боевик',\n",
       "       'история,мелодрама', 'приключения,детский',\n",
       "       'музыка,приключения,концерт', 'военный,драма,комедия',\n",
       "       'фэнтези,боевик,военный', 'фантастика,детектив,боевик',\n",
       "       'мультфильм,фэнтези,история', 'биография,мелодрама,драма',\n",
       "       'документальный,биография,спорт', 'фантастика,комедия,детектив',\n",
       "       'музыка,концерт,документальный', 'триллер,боевик,приключения',\n",
       "       'триллер,драма,комедия', 'детектив,криминал',\n",
       "       'мультфильм,приключения,фэнтези', 'мелодрама,приключения',\n",
       "       'комедия,музыка', 'мелодрама,комедия,ужасы',\n",
       "       'драма,криминал,приключения', 'приключения,детектив,мелодрама',\n",
       "       'драма,криминал,фантастика', 'фэнтези,драма,биография',\n",
       "       'детектив,фантастика,криминал', 'триллер,драма,фантастика',\n",
       "       'ужасы,комедия,боевик', 'мелодрама,история', 'триллер,боевик',\n",
       "       'фильм-нуар,триллер,детектив', 'комедия,криминал,приключения',\n",
       "       'ужасы,триллер,мелодрама', 'военный,драма,история',\n",
       "       'драма,спорт,история', 'документальный,драма,история',\n",
       "       'триллер,мелодрама,детектив', 'детский,семейный',\n",
       "       'мюзикл,семейный,драма', 'биография,военный,драма',\n",
       "       'мультфильм,детский', 'боевик,криминал,драма',\n",
       "       'детектив,фэнтези,триллер', 'драма,боевик,приключения',\n",
       "       'драма,мелодрама,фэнтези', 'детектив,история,драма',\n",
       "       'фэнтези,боевик,ужасы', 'ужасы,фэнтези,мелодрама',\n",
       "       'ужасы,приключения', 'боевик,фантастика',\n",
       "       'ужасы,мелодрама,детектив', 'фантастика,триллер,приключения',\n",
       "       'боевик,приключения,история', 'приключения,боевик,триллер',\n",
       "       'детектив,ужасы,криминал', 'семейный,фэнтези', 'мюзикл,мелодрама',\n",
       "       'драма,военный,приключения', 'фантастика,драма,приключения',\n",
       "       'приключения,семейный,драма', 'история,драма,боевик',\n",
       "       'мультфильм,приключения,комедия', 'криминал,драма,комедия',\n",
       "       'ужасы,комедия,драма', 'комедия,семейный,приключения',\n",
       "       'мюзикл,фэнтези,драма', 'драма,вестерн,боевик',\n",
       "       'фантастика,триллер,детектив', 'драма,история,детектив',\n",
       "       'короткометражка,биография', 'мультфильм,приключения,фантастика',\n",
       "       'комедия,триллер', 'мультфильм,приключения,детектив',\n",
       "       'драма,триллер', 'ужасы,триллер,криминал',\n",
       "       'документальный,криминал,военный', 'ужасы,фэнтези,драма',\n",
       "       'фэнтези,комедия', 'ужасы,фэнтези,комедия', 'комедия,музыка,драма',\n",
       "       'мультфильм,приключения,военный', 'мюзикл,фэнтези,комедия',\n",
       "       'боевик,фантастика,приключения', 'триллер,ужасы,криминал',\n",
       "       'ужасы,фантастика,драма', 'фантастика,приключения,семейный',\n",
       "       'короткометражка,музыка', 'мелодрама,детектив,комедия',\n",
       "       'документальный,триллер,биография', 'боевик,фантастика,триллер',\n",
       "       'спорт,драма,комедия', 'фэнтези,мелодрама,приключения',\n",
       "       'триллер,детектив,криминал', 'короткометражка,мелодрама',\n",
       "       'мультфильм,семейный,спорт', 'комедия,фэнтези,мелодрама',\n",
       "       'драма,спорт,комедия', 'история,драма,мелодрама',\n",
       "       'драма,боевик,криминал', 'драма,комедия,триллер',\n",
       "       'аниме,мультфильм', 'документальный,ужасы',\n",
       "       'мультфильм,короткометражка', 'драма,история,военный',\n",
       "       'мультфильм,короткометражка,фэнтези', 'комедия,военный,музыка',\n",
       "       'биография,история,драма', 'ужасы,драма,мелодрама',\n",
       "       'драма,комедия,детектив', 'комедия,семейный,фантастика',\n",
       "       'мультфильм,семейный,комедия', 'история,детектив',\n",
       "       'приключения,мелодрама,детектив', 'мюзикл,комедия,мелодрама',\n",
       "       'драма,фантастика,ужасы', 'мультфильм,ужасы,комедия',\n",
       "       'для взрослых,драма,комедия', 'ужасы,комедия,музыка',\n",
       "       'комедия,история,драма', 'семейный,детектив,детский',\n",
       "       'короткометражка,драма', 'документальный,новости,драма',\n",
       "       'триллер,мелодрама', 'ужасы,драма,вестерн',\n",
       "       'мюзикл,фэнтези,семейный', 'вестерн,драма,триллер',\n",
       "       'приключения,вестерн,боевик', 'семейный,комедия,музыка',\n",
       "       'боевик,драма,вестерн', 'ужасы,драма,триллер',\n",
       "       'фантастика,мелодрама', 'комедия,криминал,биография',\n",
       "       'семейный,мультфильм,комедия', 'комедия,драма,криминал',\n",
       "       'фантастика,боевик,военный', 'приключения,биография,драма',\n",
       "       'приключения,триллер,биография', 'криминал,боевик,триллер',\n",
       "       'боевик,вестерн,приключения', 'история,драма',\n",
       "       'фантастика,фэнтези,комедия', 'мультфильм,детский,комедия',\n",
       "       'мелодрама,комедия,триллер', 'документальный,боевик,приключения',\n",
       "       'драма,приключения', 'мелодрама,военный,драма', 'триллер,фэнтези',\n",
       "       'драма,триллер,биография', 'фэнтези,боевик,семейный',\n",
       "       'фантастика,триллер,комедия', 'документальный,фэнтези',\n",
       "       'комедия,мультфильм,фантастика', 'криминал,биография,комедия',\n",
       "       'биография,спорт,драма', 'приключения,военный',\n",
       "       'мультфильм,семейный,драма', 'документальный,фэнтези,драма',\n",
       "       'комедия,боевик,фантастика', 'семейный,приключения,военный',\n",
       "       'триллер,ужасы,детектив', 'короткометражка',\n",
       "       'мелодрама,триллер,история', 'документальный,история',\n",
       "       'мультфильм,приключения,детский', 'драма,комедия,мультфильм',\n",
       "       'военный,детектив', 'семейный,приключения,документальный',\n",
       "       'детский,фэнтези', 'документальный,комедия', 'комедия,биография',\n",
       "       'криминал,комедия', 'спорт,мелодрама,криминал',\n",
       "       'фантастика,комедия,боевик', 'боевик,приключения,детектив',\n",
       "       'детектив,триллер,драма', 'документальный,фантастика',\n",
       "       'мелодрама,комедия,семейный', 'мультфильм,мелодрама,комедия',\n",
       "       'драма,спорт,семейный', 'фантастика,мелодрама,фэнтези',\n",
       "       'мюзикл,комедия,музыка', 'фантастика,триллер,мелодрама',\n",
       "       'приключения,комедия,фэнтези', 'фэнтези,боевик,детектив',\n",
       "       'фэнтези,боевик,мелодрама', 'комедия,военный',\n",
       "       'драма,спорт,боевик', 'мультфильм,боевик,триллер',\n",
       "       'мелодрама,семейный', 'фантастика,боевик,детектив',\n",
       "       'драма,приключения,история', 'документальный,драма,музыка',\n",
       "       'фантастика,триллер,боевик', 'фэнтези,боевик,вестерн',\n",
       "       'драма,комедия,мелодрама', 'ужасы,фэнтези,приключения',\n",
       "       'триллер,фэнтези,драма', 'мультфильм,мюзикл,мелодрама',\n",
       "       'ужасы,триллер,фантастика', 'триллер,мелодрама,комедия',\n",
       "       'ужасы,комедия,семейный', 'комедия,приключения,музыка',\n",
       "       'документальный,комедия,криминал', 'мелодрама,детектив',\n",
       "       'детский,приключения,фантастика', 'короткометражка,боевик,драма',\n",
       "       'боевик,комедия,семейный', 'фантастика,боевик,мелодрама',\n",
       "       'фэнтези,триллер,мелодрама', 'драма,детектив,история',\n",
       "       'боевик,криминал,детектив', 'мультфильм,фэнтези,мелодрама',\n",
       "       'мелодрама,драма,боевик', 'драма,вестерн,приключения',\n",
       "       'драма,приключения,мелодрама', 'фэнтези,боевик,криминал',\n",
       "       'фантастика,комедия,семейный', 'детский,фэнтези,приключения',\n",
       "       'ужасы,боевик', 'фантастика,мелодрама,комедия',\n",
       "       'семейный,спорт,боевик', 'триллер,биография,драма',\n",
       "       'ужасы,драма,комедия', 'мультфильм,фэнтези,триллер', 'мюзикл',\n",
       "       'боевик,спорт,драма', 'комедия,приключения,вестерн',\n",
       "       'документальный,ужасы,боевик', 'фантастика,боевик,семейный',\n",
       "       'военный,история', 'ужасы,боевик,криминал', 'детектив,триллер',\n",
       "       'драма,семейный,комедия', 'драма,детектив,приключения',\n",
       "       'драма,криминал,история', 'приключения,триллер',\n",
       "       'боевик,драма,биография', 'драма,приключения,триллер',\n",
       "       'комедия,фэнтези,приключения', 'фантастика,боевик,ужасы',\n",
       "       'драма,комедия,фантастика', 'детектив,криминал,драма',\n",
       "       'боевик,триллер,фэнтези', 'приключения,детектив,семейный',\n",
       "       'ужасы,комедия,криминал', 'мультфильм,биография,драма',\n",
       "       'история,боевик,фэнтези', 'детектив,криминал,боевик',\n",
       "       'приключения,фэнтези', 'комедия,приключения,спорт',\n",
       "       'драма,биография,мюзикл', 'комедия,семейный,фэнтези',\n",
       "       'детектив,драма,триллер', 'боевик,приключения,семейный',\n",
       "       'биография,спорт,комедия', 'фантастика,приключения,военный',\n",
       "       'документальный,драма,биография', 'детектив,приключения,драма',\n",
       "       'аниме,мультфильм,приключения', 'семейный,приключения',\n",
       "       'ужасы,фэнтези,детектив', 'семейный,документальный',\n",
       "       'драма,приключения,семейный', 'приключения,история,военный',\n",
       "       'фэнтези,мелодрама', 'фэнтези,триллер,детектив',\n",
       "       'документальный,спорт,биография', 'комедия,триллер,драма',\n",
       "       'драма,ужасы', 'биография,музыка,драма', 'фэнтези,ужасы',\n",
       "       'детектив,мелодрама,фэнтези', 'боевик,военный,история',\n",
       "       'биография,драма,криминал', 'триллер,мелодрама,криминал',\n",
       "       'семейный,мелодрама', 'биография,драма', 'военный,история,драма',\n",
       "       'фантастика,детектив,фэнтези', 'детектив,приключения,триллер',\n",
       "       'фантастика,приключения', 'мультфильм,короткометражка,мюзикл',\n",
       "       'мультфильм,детский,семейный', 'документальный,драма,комедия',\n",
       "       'комедия,приключения,криминал', 'документальный,семейный,музыка',\n",
       "       'мелодрама,музыка,драма', 'детектив,фантастика,триллер',\n",
       "       'драма,мелодрама,триллер', 'биография,драма,военный',\n",
       "       'приключения,фантастика,драма', 'детектив,фильм-нуар,комедия',\n",
       "       'документальный,спорт', 'триллер,фантастика,драма',\n",
       "       'биография,документальный', 'ужасы,фантастика,мелодрама',\n",
       "       'детектив,комедия', 'история,биография,военный',\n",
       "       'криминал,мелодрама', 'драма,криминал,вестерн',\n",
       "       'мелодрама,семейный,приключения', 'триллер,ужасы,мелодрама',\n",
       "       'фэнтези,драма,фильм-нуар', 'детектив,мелодрама',\n",
       "       'комедия,драма,биография', 'драма,военный,боевик',\n",
       "       'драма,комедия,ужасы', 'фантастика,драма,криминал',\n",
       "       'документальный,музыка,биография', 'мультфильм,боевик,приключения',\n",
       "       'короткометражка,фантастика', 'мультфильм,мелодрама,драма',\n",
       "       'боевик,военный,драма', 'фэнтези,семейный,приключения',\n",
       "       'детский,мультфильм,приключения', 'семейный,фэнтези,комедия',\n",
       "       'фэнтези,ужасы,триллер', 'ужасы,триллер,приключения',\n",
       "       'драма,боевик,история', 'фэнтези,комедия,детектив',\n",
       "       'история,приключения', 'аниме,мультфильм,короткометражка',\n",
       "       'драма,военный,триллер', 'биография,криминал,триллер',\n",
       "       'фантастика,фэнтези,детектив', 'вестерн,биография,драма',\n",
       "       'биография,музыка,мюзикл', 'драма,история,биография',\n",
       "       'приключения,драма,фантастика', 'комедия,фэнтези,криминал',\n",
       "       'биография,спорт,история', 'драма,криминал,семейный',\n",
       "       'детектив,боевик,история', 'ужасы,комедия,детектив',\n",
       "       'триллер,приключения,драма', 'фэнтези,комедия,криминал',\n",
       "       'триллер,криминал,приключения', 'комедия,детектив,приключения',\n",
       "       'фэнтези,драма,ужасы', 'ужасы,драма,военный', 'реальное ТВ',\n",
       "       'аниме,мультфильм,детектив', 'приключения,фэнтези,семейный',\n",
       "       'драма,биография,комедия', 'триллер,комедия,ужасы',\n",
       "       'музыка,мелодрама,фэнтези', 'мультфильм,история',\n",
       "       'мультфильм,комедия,фантастика', 'биография,криминал,драма',\n",
       "       'комедия,мелодрама,фантастика', 'криминал,боевик,комедия',\n",
       "       'история,криминал', 'детектив,комедия,драма',\n",
       "       'триллер,фантастика,боевик', 'криминал,боевик',\n",
       "       'комедия,драма,военный', 'драма,триллер,криминал',\n",
       "       'мультфильм,мелодрама,приключения', 'фантастика,фэнтези,триллер',\n",
       "       'короткометражка,драма,триллер', 'военный,боевик,история',\n",
       "       'боевик,драма,триллер', 'документальный,военный,драма',\n",
       "       'драма,криминал,фильм-нуар', 'мультфильм,детский,приключения',\n",
       "       'мелодрама,история,драма'], dtype=object)"
      ]
     },
     "execution_count": 30,
     "metadata": {},
     "output_type": "execute_result"
    }
   ],
   "source": [
    "df['genres'].unique()"
   ]
  },
  {
   "cell_type": "markdown",
   "metadata": {},
   "source": [
    "В категориальных столбцах genres и financing_source есть повторяющиеся значения в совокупности с другими. Например: \"история,драма\", \"мелодрама,военный,драма\". Это не можем исправить. "
   ]
  },
  {
   "cell_type": "markdown",
   "metadata": {},
   "source": [
    "<div class=\"alert alert-warning\">\n",
    "<h1> Комментарий ревьюера💡</h1>\n",
    "\n",
    "В целом верно. И это можно сказать и про некоторые другие колонки. Повторяющиеся значения создают нам очень много уникальных значений.\n",
    "\n",
    "</div>"
   ]
  },
  {
   "cell_type": "markdown",
   "metadata": {},
   "source": [
    "<div style=\"border:solid blue 3px; padding: 20px\">\n",
    "<div class=\"alert alert-info\">\n",
    "    \n",
    "Да, то же можно сказать про столбец production_country, film_studio, producer. Здесь много повторяющихся значений, которые создают нам очень много уникальных.  \n",
    "    \n",
    "</div>\n",
    "</div>"
   ]
  },
  {
   "cell_type": "markdown",
   "metadata": {},
   "source": [
    "<div class=\"alert alert-success\">\n",
    "<h1> Комментарий ревьюера V2✅</h1>\n",
    "\n",
    "Это основная проблема в категориальных колонках.\n",
    "\n",
    "</div>"
   ]
  },
  {
   "cell_type": "markdown",
   "metadata": {
    "id": "XFSN5lrEgFyR"
   },
   "source": [
    "#### Шаг 2.5. Проверьте количественные значения\n",
    "\n",
    "- Проверьте, обнаружились ли в таких столбцах подозрительные данные. Как с такими данными лучше поступить?\n",
    "\n",
    "<div id=\"accordion\">\n",
    "    <div class=\"card\">\n",
    "        <div class=\"card-header\" id=\"headingThree\">\n",
    "            <button class=\"btn btn-link collapsed\" data-toggle=\"collapse\" data-target=\"#collapseHint_budget\" aria-expanded=\"false\" aria-controls=\"collapseHint_budget\">Подсказка</button>\n",
    "        </div>\n",
    "        <div id=\"collapseHint_budget\" class=\"collapse\" aria-labelledby=\"headingThree\" data-parent=\"#accordion\">\n",
    "            <div class=\"card-body\">\n",
    "Обратите внимание на описание столбца <code>budget</code>. Как этот столбец соотносится с двумя другими: <code>refundable_support</code> и <code>nonrefundable_support</code>?\n",
    "            </div>\n",
    "        </div>\n",
    "    </div>\n",
    "</div>"
   ]
  },
  {
   "cell_type": "code",
   "execution_count": 31,
   "metadata": {},
   "outputs": [
    {
     "data": {
      "text/html": [
       "<div>\n",
       "<style scoped>\n",
       "    .dataframe tbody tr th:only-of-type {\n",
       "        vertical-align: middle;\n",
       "    }\n",
       "\n",
       "    .dataframe tbody tr th {\n",
       "        vertical-align: top;\n",
       "    }\n",
       "\n",
       "    .dataframe thead th {\n",
       "        text-align: right;\n",
       "    }\n",
       "</style>\n",
       "<table border=\"1\" class=\"dataframe\">\n",
       "  <thead>\n",
       "    <tr style=\"text-align: right;\">\n",
       "      <th></th>\n",
       "      <th>title</th>\n",
       "      <th>puNumber</th>\n",
       "      <th>show_start_date</th>\n",
       "      <th>type</th>\n",
       "      <th>film_studio</th>\n",
       "      <th>production_country</th>\n",
       "      <th>director</th>\n",
       "      <th>producer</th>\n",
       "      <th>age_restriction</th>\n",
       "      <th>refundable_support</th>\n",
       "      <th>nonrefundable_support</th>\n",
       "      <th>budget</th>\n",
       "      <th>financing_source</th>\n",
       "      <th>ratings</th>\n",
       "      <th>genres</th>\n",
       "      <th>box_office</th>\n",
       "    </tr>\n",
       "  </thead>\n",
       "  <tbody>\n",
       "    <tr>\n",
       "      <th>2053</th>\n",
       "      <td>14+</td>\n",
       "      <td>111023614</td>\n",
       "      <td>2014-12-19 12:00:00+00:00</td>\n",
       "      <td>Художественный</td>\n",
       "      <td>ООО Киностудия  \"Сентябрь\"</td>\n",
       "      <td>Россия</td>\n",
       "      <td>А.Зайцев</td>\n",
       "      <td>О.Гранина, А.Зайцев</td>\n",
       "      <td>«16+» - для детей старше 16 лет</td>\n",
       "      <td>0.0</td>\n",
       "      <td>23000000.0</td>\n",
       "      <td>0.0</td>\n",
       "      <td>Министерство культуры, Фонд кино</td>\n",
       "      <td>6.6</td>\n",
       "      <td>мелодрама</td>\n",
       "      <td>1.023402e+07</td>\n",
       "    </tr>\n",
       "    <tr>\n",
       "      <th>2058</th>\n",
       "      <td>Дуxless 2</td>\n",
       "      <td>111000415</td>\n",
       "      <td>2015-01-26 12:00:00+00:00</td>\n",
       "      <td>Художественный</td>\n",
       "      <td>ООО \"Киностудия \"Слово\", ООО \"Арт Пикчерс Студия\"</td>\n",
       "      <td>Россия</td>\n",
       "      <td>Р.Прыгунов</td>\n",
       "      <td>П.Ануров, Ф.Бондарчук, Д.Рудовский</td>\n",
       "      <td>«16+» - для детей старше 16 лет</td>\n",
       "      <td>0.0</td>\n",
       "      <td>75000000.0</td>\n",
       "      <td>0.0</td>\n",
       "      <td>Фонд кино</td>\n",
       "      <td>6.6</td>\n",
       "      <td>драма</td>\n",
       "      <td>4.461635e+08</td>\n",
       "    </tr>\n",
       "    <tr>\n",
       "      <th>2472</th>\n",
       "      <td>Воин (2015)</td>\n",
       "      <td>111017315</td>\n",
       "      <td>2015-09-28 12:00:00+00:00</td>\n",
       "      <td>Художественный</td>\n",
       "      <td>ООО \"Форпост Продакшн\", ООО \"Арт Пикчерс Студия\"</td>\n",
       "      <td>Россия</td>\n",
       "      <td>А.Андрианов</td>\n",
       "      <td>ООО \"Арт Пикчерс Студия\"</td>\n",
       "      <td>«12+» - для детей старше 12 лет</td>\n",
       "      <td>10000000.0</td>\n",
       "      <td>70000000.0</td>\n",
       "      <td>0.0</td>\n",
       "      <td>Фонд кино</td>\n",
       "      <td>7.8</td>\n",
       "      <td>боевик,драма,криминал</td>\n",
       "      <td>1.965724e+08</td>\n",
       "    </tr>\n",
       "    <tr>\n",
       "      <th>2532</th>\n",
       "      <td>Бармен.</td>\n",
       "      <td>111009615</td>\n",
       "      <td>2015-05-26 12:00:00+00:00</td>\n",
       "      <td>Художественный</td>\n",
       "      <td>АО \"ВайТ Медиа\", ООО \"Арт Пикчерс Студия\"</td>\n",
       "      <td>Россия</td>\n",
       "      <td>Д.Штурманова</td>\n",
       "      <td>Т.Вайнштейн</td>\n",
       "      <td>«16+» - для детей старше 16 лет</td>\n",
       "      <td>20000000.0</td>\n",
       "      <td>0.0</td>\n",
       "      <td>0.0</td>\n",
       "      <td>Фонд кино</td>\n",
       "      <td>6.2</td>\n",
       "      <td>комедия,фэнтези</td>\n",
       "      <td>6.741897e+07</td>\n",
       "    </tr>\n",
       "    <tr>\n",
       "      <th>2615</th>\n",
       "      <td>Савва. Сердце воина</td>\n",
       "      <td>114001715</td>\n",
       "      <td>2015-07-21 12:00:00+00:00</td>\n",
       "      <td>Анимационный</td>\n",
       "      <td>ООО \"Глюкоза Продакшн\", ООО \"Арт Пикчерс Студия\"</td>\n",
       "      <td>Россия</td>\n",
       "      <td>М.Фадеев</td>\n",
       "      <td>А.Чистяков</td>\n",
       "      <td>«6+» - для детей старше 6 лет</td>\n",
       "      <td>60000000.0</td>\n",
       "      <td>100000000.0</td>\n",
       "      <td>0.0</td>\n",
       "      <td>Фонд кино</td>\n",
       "      <td>4.6</td>\n",
       "      <td>мультфильм,приключения,фэнтези</td>\n",
       "      <td>1.844876e+08</td>\n",
       "    </tr>\n",
       "    <tr>\n",
       "      <th>2684</th>\n",
       "      <td>Тряпичный союз</td>\n",
       "      <td>111010215</td>\n",
       "      <td>2015-06-08 12:00:00+00:00</td>\n",
       "      <td>Художественный</td>\n",
       "      <td>ООО \"Кинокомпания \"КОКТЕБЕЛЬ\"</td>\n",
       "      <td>Россия</td>\n",
       "      <td>М.Местецкий</td>\n",
       "      <td>Р.Борисевич, А.Кушаев</td>\n",
       "      <td>«18+» - запрещено для детей</td>\n",
       "      <td>0.0</td>\n",
       "      <td>59000000.0</td>\n",
       "      <td>0.0</td>\n",
       "      <td>Фонд кино</td>\n",
       "      <td>6.3</td>\n",
       "      <td>комедия,драма</td>\n",
       "      <td>1.957739e+06</td>\n",
       "    </tr>\n",
       "    <tr>\n",
       "      <th>2788</th>\n",
       "      <td>Срочно выйду замуж</td>\n",
       "      <td>111017115</td>\n",
       "      <td>2015-09-30 12:00:00+00:00</td>\n",
       "      <td>Художественный</td>\n",
       "      <td>АО \"ВайТ Медиа\", ООО \"Арт Пикчерс Студия\"</td>\n",
       "      <td>Россия</td>\n",
       "      <td>С Чекалов</td>\n",
       "      <td>Ф.Бондарчук, Т.Вайнштейн, Д.Рудовский</td>\n",
       "      <td>«16+» - для детей старше 16 лет</td>\n",
       "      <td>0.0</td>\n",
       "      <td>35000000.0</td>\n",
       "      <td>0.0</td>\n",
       "      <td>Фонд кино</td>\n",
       "      <td>5.1</td>\n",
       "      <td>комедия,мелодрама</td>\n",
       "      <td>7.293778e+07</td>\n",
       "    </tr>\n",
       "    <tr>\n",
       "      <th>2874</th>\n",
       "      <td>Помню - не помню!</td>\n",
       "      <td>111004916</td>\n",
       "      <td>2016-03-01 12:00:00+00:00</td>\n",
       "      <td>Художественный</td>\n",
       "      <td>ООО \"КиноФирма\"</td>\n",
       "      <td>Россия</td>\n",
       "      <td>В.Ровенский</td>\n",
       "      <td>ООО \"КиноФирма\"</td>\n",
       "      <td>«12+» - для детей старше 12 лет</td>\n",
       "      <td>0.0</td>\n",
       "      <td>6000000.0</td>\n",
       "      <td>0.0</td>\n",
       "      <td>Министерство культуры</td>\n",
       "      <td>4.3</td>\n",
       "      <td>комедия</td>\n",
       "      <td>1.536293e+07</td>\n",
       "    </tr>\n",
       "    <tr>\n",
       "      <th>3047</th>\n",
       "      <td>Любовь с ограничениями</td>\n",
       "      <td>111008216</td>\n",
       "      <td>2016-04-29 12:00:00+00:00</td>\n",
       "      <td>Художественный</td>\n",
       "      <td>АО \"ВайТ Медиа\", ООО \"Арт Пикчерс Студия\"</td>\n",
       "      <td>Россия</td>\n",
       "      <td>Д.Тюрин</td>\n",
       "      <td>Ф.Бондарчук, Т.Вайнштейн, Д.Рудовский</td>\n",
       "      <td>«16+» - для детей старше 16 лет</td>\n",
       "      <td>19000000.0</td>\n",
       "      <td>51000000.0</td>\n",
       "      <td>0.0</td>\n",
       "      <td>Фонд кино</td>\n",
       "      <td>6.3</td>\n",
       "      <td>комедия,мелодрама</td>\n",
       "      <td>7.029905e+07</td>\n",
       "    </tr>\n",
       "    <tr>\n",
       "      <th>3565</th>\n",
       "      <td>Притяжение (2016)</td>\n",
       "      <td>111018116</td>\n",
       "      <td>2016-12-16 12:00:00+00:00</td>\n",
       "      <td>Художественный</td>\n",
       "      <td>ООО \"Водород 2011\",  ООО \"Арт Пикчерс Студия\"</td>\n",
       "      <td>Россия</td>\n",
       "      <td>Ф.Бондарчук</td>\n",
       "      <td>ООО \"Арт Пикчерс Студия\"</td>\n",
       "      <td>«12+» - для детей старше 12 лет</td>\n",
       "      <td>0.0</td>\n",
       "      <td>250000000.0</td>\n",
       "      <td>0.0</td>\n",
       "      <td>Фонд кино</td>\n",
       "      <td>5.6</td>\n",
       "      <td>фантастика</td>\n",
       "      <td>1.038321e+09</td>\n",
       "    </tr>\n",
       "    <tr>\n",
       "      <th>3675</th>\n",
       "      <td>Чудо-юдо</td>\n",
       "      <td>114001817</td>\n",
       "      <td>2017-06-27 12:00:00+00:00</td>\n",
       "      <td>Анимационный</td>\n",
       "      <td>ООО \"КиноФирма\"</td>\n",
       "      <td>Россия</td>\n",
       "      <td>А.Лукичев</td>\n",
       "      <td>ООО \"КиноФирма\"</td>\n",
       "      <td>«6+» - для детей старше 6 лет</td>\n",
       "      <td>20000000.0</td>\n",
       "      <td>20000000.0</td>\n",
       "      <td>0.0</td>\n",
       "      <td>Фонд кино</td>\n",
       "      <td>5.2</td>\n",
       "      <td>мультфильм,фэнтези,семейный</td>\n",
       "      <td>5.510801e+07</td>\n",
       "    </tr>\n",
       "    <tr>\n",
       "      <th>3739</th>\n",
       "      <td>Мифы</td>\n",
       "      <td>111004317</td>\n",
       "      <td>2017-06-07 12:00:00+00:00</td>\n",
       "      <td>Художественный</td>\n",
       "      <td>ООО \"ХАЙПФИЛМ\", ООО \"Арт Пикчерс Студия\"</td>\n",
       "      <td>Россия</td>\n",
       "      <td>А.Молочников</td>\n",
       "      <td>Ф.Бондарчук, Д.Рудовский, И.Стюарт, М.Османн, ...</td>\n",
       "      <td>«16+» - для детей старше 16 лет</td>\n",
       "      <td>25000000.0</td>\n",
       "      <td>20000000.0</td>\n",
       "      <td>0.0</td>\n",
       "      <td>Фонд кино</td>\n",
       "      <td>4.8</td>\n",
       "      <td>комедия</td>\n",
       "      <td>5.045195e+07</td>\n",
       "    </tr>\n",
       "    <tr>\n",
       "      <th>5673</th>\n",
       "      <td>Селфи</td>\n",
       "      <td>111012117</td>\n",
       "      <td>2018-02-01 12:00:00+00:00</td>\n",
       "      <td>Художественный</td>\n",
       "      <td>ООО \"Киностудия \"Слово\", ООО \"Арт Пикчерс Студия\"</td>\n",
       "      <td>Россия</td>\n",
       "      <td>Н.Хомерики</td>\n",
       "      <td>П.Ануров, Ф.Бондарчук, Д.Рудовский</td>\n",
       "      <td>«16+» - для детей старше 16 лет</td>\n",
       "      <td>20000000.0</td>\n",
       "      <td>40000000.0</td>\n",
       "      <td>0.0</td>\n",
       "      <td>Фонд кино</td>\n",
       "      <td>5.8</td>\n",
       "      <td>триллер,драма</td>\n",
       "      <td>2.251964e+08</td>\n",
       "    </tr>\n",
       "    <tr>\n",
       "      <th>5806</th>\n",
       "      <td>Два хвоста</td>\n",
       "      <td>114001018</td>\n",
       "      <td>2018-05-31 12:00:00+00:00</td>\n",
       "      <td>Анимационный</td>\n",
       "      <td>ООО \"ЛИЦЕНЗИОННЫЕ БРЕНДЫ\"</td>\n",
       "      <td>Россия</td>\n",
       "      <td>В.Ровенский, Н.Лопато, В.Азеев</td>\n",
       "      <td>ООО \"ЛИЦЕНЗИОННЫЕ БРЕНДЫ\"</td>\n",
       "      <td>«6+» - для детей старше 6 лет</td>\n",
       "      <td>10000000.0</td>\n",
       "      <td>60000000.0</td>\n",
       "      <td>0.0</td>\n",
       "      <td>Фонд кино</td>\n",
       "      <td>5.0</td>\n",
       "      <td>мультфильм,детский</td>\n",
       "      <td>1.065143e+08</td>\n",
       "    </tr>\n",
       "    <tr>\n",
       "      <th>6008</th>\n",
       "      <td>Принцесса и дракон</td>\n",
       "      <td>114003018</td>\n",
       "      <td>2018-08-23 12:00:00+00:00</td>\n",
       "      <td>Анимационный</td>\n",
       "      <td>ООО \"ЛИЦЕНЗИОННЫЕ БРЕНДЫ\"</td>\n",
       "      <td>Россия</td>\n",
       "      <td>М.Нефедова</td>\n",
       "      <td>ООО \"ЛИЦЕНЗИОННЫЕ БРЕНДЫ\"</td>\n",
       "      <td>«6+» - для детей старше 6 лет</td>\n",
       "      <td>40000000.0</td>\n",
       "      <td>40000000.0</td>\n",
       "      <td>0.0</td>\n",
       "      <td>Фонд кино</td>\n",
       "      <td>5.2</td>\n",
       "      <td>мультфильм,фэнтези,детский</td>\n",
       "      <td>8.336633e+07</td>\n",
       "    </tr>\n",
       "    <tr>\n",
       "      <th>6323</th>\n",
       "      <td>Баба Яга</td>\n",
       "      <td>114006518</td>\n",
       "      <td>2018-11-08 12:00:00+00:00</td>\n",
       "      <td>Анимационный</td>\n",
       "      <td>ООО \"Арт Пикчерс Студия\"</td>\n",
       "      <td>Россия</td>\n",
       "      <td>В.Саков</td>\n",
       "      <td>ООО \"Арт Пикчерс Студия\", ООО \"КРИЭЙТИВ АНИМЭЙ...</td>\n",
       "      <td>«6+» - для детей старше 6 лет</td>\n",
       "      <td>0.0</td>\n",
       "      <td>138969465.0</td>\n",
       "      <td>0.0</td>\n",
       "      <td>Фонд кино</td>\n",
       "      <td>NaN</td>\n",
       "      <td>NaN</td>\n",
       "      <td>1.334699e+06</td>\n",
       "    </tr>\n",
       "    <tr>\n",
       "      <th>6823</th>\n",
       "      <td>Большое путешествие</td>\n",
       "      <td>114002419</td>\n",
       "      <td>2019-04-20 12:00:00+00:00</td>\n",
       "      <td>Анимационный</td>\n",
       "      <td>ООО \"ЛИЦЕНЗИОННЫЕ БРЕНДЫ\"</td>\n",
       "      <td>Россия</td>\n",
       "      <td>Н.Лопато, В.Ровенский</td>\n",
       "      <td>ООО \"ЛИЦЕНЗИОННЫЕ БРЕНДЫ\"</td>\n",
       "      <td>«6+» - для детей старше 6 лет</td>\n",
       "      <td>60000000.0</td>\n",
       "      <td>120000000.0</td>\n",
       "      <td>0.0</td>\n",
       "      <td>Фонд кино</td>\n",
       "      <td>6.2</td>\n",
       "      <td>мультфильм,комедия,приключения</td>\n",
       "      <td>1.476068e+08</td>\n",
       "    </tr>\n",
       "  </tbody>\n",
       "</table>\n",
       "</div>"
      ],
      "text/plain": [
       "                       title   puNumber           show_start_date  \\\n",
       "2053                     14+  111023614 2014-12-19 12:00:00+00:00   \n",
       "2058               Дуxless 2  111000415 2015-01-26 12:00:00+00:00   \n",
       "2472             Воин (2015)  111017315 2015-09-28 12:00:00+00:00   \n",
       "2532                 Бармен.  111009615 2015-05-26 12:00:00+00:00   \n",
       "2615     Савва. Сердце воина  114001715 2015-07-21 12:00:00+00:00   \n",
       "2684          Тряпичный союз  111010215 2015-06-08 12:00:00+00:00   \n",
       "2788      Срочно выйду замуж  111017115 2015-09-30 12:00:00+00:00   \n",
       "2874       Помню - не помню!  111004916 2016-03-01 12:00:00+00:00   \n",
       "3047  Любовь с ограничениями  111008216 2016-04-29 12:00:00+00:00   \n",
       "3565       Притяжение (2016)  111018116 2016-12-16 12:00:00+00:00   \n",
       "3675                Чудо-юдо  114001817 2017-06-27 12:00:00+00:00   \n",
       "3739                    Мифы  111004317 2017-06-07 12:00:00+00:00   \n",
       "5673                   Селфи  111012117 2018-02-01 12:00:00+00:00   \n",
       "5806              Два хвоста  114001018 2018-05-31 12:00:00+00:00   \n",
       "6008      Принцесса и дракон  114003018 2018-08-23 12:00:00+00:00   \n",
       "6323                Баба Яга  114006518 2018-11-08 12:00:00+00:00   \n",
       "6823     Большое путешествие  114002419 2019-04-20 12:00:00+00:00   \n",
       "\n",
       "                type                                        film_studio  \\\n",
       "2053  Художественный                         ООО Киностудия  \"Сентябрь\"   \n",
       "2058  Художественный  ООО \"Киностудия \"Слово\", ООО \"Арт Пикчерс Студия\"   \n",
       "2472  Художественный   ООО \"Форпост Продакшн\", ООО \"Арт Пикчерс Студия\"   \n",
       "2532  Художественный          АО \"ВайТ Медиа\", ООО \"Арт Пикчерс Студия\"   \n",
       "2615    Анимационный   ООО \"Глюкоза Продакшн\", ООО \"Арт Пикчерс Студия\"   \n",
       "2684  Художественный                      ООО \"Кинокомпания \"КОКТЕБЕЛЬ\"   \n",
       "2788  Художественный          АО \"ВайТ Медиа\", ООО \"Арт Пикчерс Студия\"   \n",
       "2874  Художественный                                    ООО \"КиноФирма\"   \n",
       "3047  Художественный          АО \"ВайТ Медиа\", ООО \"Арт Пикчерс Студия\"   \n",
       "3565  Художественный      ООО \"Водород 2011\",  ООО \"Арт Пикчерс Студия\"   \n",
       "3675    Анимационный                                    ООО \"КиноФирма\"   \n",
       "3739  Художественный           ООО \"ХАЙПФИЛМ\", ООО \"Арт Пикчерс Студия\"   \n",
       "5673  Художественный  ООО \"Киностудия \"Слово\", ООО \"Арт Пикчерс Студия\"   \n",
       "5806    Анимационный                          ООО \"ЛИЦЕНЗИОННЫЕ БРЕНДЫ\"   \n",
       "6008    Анимационный                          ООО \"ЛИЦЕНЗИОННЫЕ БРЕНДЫ\"   \n",
       "6323    Анимационный                           ООО \"Арт Пикчерс Студия\"   \n",
       "6823    Анимационный                          ООО \"ЛИЦЕНЗИОННЫЕ БРЕНДЫ\"   \n",
       "\n",
       "     production_country                        director  \\\n",
       "2053             Россия                        А.Зайцев   \n",
       "2058             Россия                      Р.Прыгунов   \n",
       "2472             Россия                     А.Андрианов   \n",
       "2532             Россия                    Д.Штурманова   \n",
       "2615             Россия                        М.Фадеев   \n",
       "2684             Россия                     М.Местецкий   \n",
       "2788             Россия                       С Чекалов   \n",
       "2874             Россия                     В.Ровенский   \n",
       "3047             Россия                         Д.Тюрин   \n",
       "3565             Россия                     Ф.Бондарчук   \n",
       "3675             Россия                       А.Лукичев   \n",
       "3739             Россия                    А.Молочников   \n",
       "5673             Россия                      Н.Хомерики   \n",
       "5806             Россия  В.Ровенский, Н.Лопато, В.Азеев   \n",
       "6008             Россия                      М.Нефедова   \n",
       "6323             Россия                         В.Саков   \n",
       "6823             Россия           Н.Лопато, В.Ровенский   \n",
       "\n",
       "                                               producer  \\\n",
       "2053                                О.Гранина, А.Зайцев   \n",
       "2058                 П.Ануров, Ф.Бондарчук, Д.Рудовский   \n",
       "2472                           ООО \"Арт Пикчерс Студия\"   \n",
       "2532                                        Т.Вайнштейн   \n",
       "2615                                         А.Чистяков   \n",
       "2684                              Р.Борисевич, А.Кушаев   \n",
       "2788              Ф.Бондарчук, Т.Вайнштейн, Д.Рудовский   \n",
       "2874                                    ООО \"КиноФирма\"   \n",
       "3047              Ф.Бондарчук, Т.Вайнштейн, Д.Рудовский   \n",
       "3565                           ООО \"Арт Пикчерс Студия\"   \n",
       "3675                                    ООО \"КиноФирма\"   \n",
       "3739  Ф.Бондарчук, Д.Рудовский, И.Стюарт, М.Османн, ...   \n",
       "5673                 П.Ануров, Ф.Бондарчук, Д.Рудовский   \n",
       "5806                          ООО \"ЛИЦЕНЗИОННЫЕ БРЕНДЫ\"   \n",
       "6008                          ООО \"ЛИЦЕНЗИОННЫЕ БРЕНДЫ\"   \n",
       "6323  ООО \"Арт Пикчерс Студия\", ООО \"КРИЭЙТИВ АНИМЭЙ...   \n",
       "6823                          ООО \"ЛИЦЕНЗИОННЫЕ БРЕНДЫ\"   \n",
       "\n",
       "                      age_restriction  refundable_support  \\\n",
       "2053  «16+» - для детей старше 16 лет                 0.0   \n",
       "2058  «16+» - для детей старше 16 лет                 0.0   \n",
       "2472  «12+» - для детей старше 12 лет          10000000.0   \n",
       "2532  «16+» - для детей старше 16 лет          20000000.0   \n",
       "2615    «6+» - для детей старше 6 лет          60000000.0   \n",
       "2684      «18+» - запрещено для детей                 0.0   \n",
       "2788  «16+» - для детей старше 16 лет                 0.0   \n",
       "2874  «12+» - для детей старше 12 лет                 0.0   \n",
       "3047  «16+» - для детей старше 16 лет          19000000.0   \n",
       "3565  «12+» - для детей старше 12 лет                 0.0   \n",
       "3675    «6+» - для детей старше 6 лет          20000000.0   \n",
       "3739  «16+» - для детей старше 16 лет          25000000.0   \n",
       "5673  «16+» - для детей старше 16 лет          20000000.0   \n",
       "5806    «6+» - для детей старше 6 лет          10000000.0   \n",
       "6008    «6+» - для детей старше 6 лет          40000000.0   \n",
       "6323    «6+» - для детей старше 6 лет                 0.0   \n",
       "6823    «6+» - для детей старше 6 лет          60000000.0   \n",
       "\n",
       "      nonrefundable_support  budget                  financing_source  \\\n",
       "2053             23000000.0     0.0  Министерство культуры, Фонд кино   \n",
       "2058             75000000.0     0.0                         Фонд кино   \n",
       "2472             70000000.0     0.0                         Фонд кино   \n",
       "2532                    0.0     0.0                         Фонд кино   \n",
       "2615            100000000.0     0.0                         Фонд кино   \n",
       "2684             59000000.0     0.0                         Фонд кино   \n",
       "2788             35000000.0     0.0                         Фонд кино   \n",
       "2874              6000000.0     0.0             Министерство культуры   \n",
       "3047             51000000.0     0.0                         Фонд кино   \n",
       "3565            250000000.0     0.0                         Фонд кино   \n",
       "3675             20000000.0     0.0                         Фонд кино   \n",
       "3739             20000000.0     0.0                         Фонд кино   \n",
       "5673             40000000.0     0.0                         Фонд кино   \n",
       "5806             60000000.0     0.0                         Фонд кино   \n",
       "6008             40000000.0     0.0                         Фонд кино   \n",
       "6323            138969465.0     0.0                         Фонд кино   \n",
       "6823            120000000.0     0.0                         Фонд кино   \n",
       "\n",
       "      ratings                          genres    box_office  \n",
       "2053      6.6                       мелодрама  1.023402e+07  \n",
       "2058      6.6                           драма  4.461635e+08  \n",
       "2472      7.8           боевик,драма,криминал  1.965724e+08  \n",
       "2532      6.2                 комедия,фэнтези  6.741897e+07  \n",
       "2615      4.6  мультфильм,приключения,фэнтези  1.844876e+08  \n",
       "2684      6.3                   комедия,драма  1.957739e+06  \n",
       "2788      5.1               комедия,мелодрама  7.293778e+07  \n",
       "2874      4.3                         комедия  1.536293e+07  \n",
       "3047      6.3               комедия,мелодрама  7.029905e+07  \n",
       "3565      5.6                      фантастика  1.038321e+09  \n",
       "3675      5.2     мультфильм,фэнтези,семейный  5.510801e+07  \n",
       "3739      4.8                         комедия  5.045195e+07  \n",
       "5673      5.8                   триллер,драма  2.251964e+08  \n",
       "5806      5.0              мультфильм,детский  1.065143e+08  \n",
       "6008      5.2      мультфильм,фэнтези,детский  8.336633e+07  \n",
       "6323      NaN                             NaN  1.334699e+06  \n",
       "6823      6.2  мультфильм,комедия,приключения  1.476068e+08  "
      ]
     },
     "execution_count": 31,
     "metadata": {},
     "output_type": "execute_result"
    }
   ],
   "source": [
    "invalid_budget = df[df['budget'] < (df['refundable_support'] + df['nonrefundable_support'])]\n",
    "invalid_budget"
   ]
  },
  {
   "cell_type": "markdown",
   "metadata": {
    "id": "YbzClBxagFyS"
   },
   "source": [
    "Есть ряд фильмов, которые получали господдержку, но в бюджете стоит 0."
   ]
  },
  {
   "cell_type": "code",
   "execution_count": 32,
   "metadata": {},
   "outputs": [
    {
     "data": {
      "text/html": [
       "<div>\n",
       "<style scoped>\n",
       "    .dataframe tbody tr th:only-of-type {\n",
       "        vertical-align: middle;\n",
       "    }\n",
       "\n",
       "    .dataframe tbody tr th {\n",
       "        vertical-align: top;\n",
       "    }\n",
       "\n",
       "    .dataframe thead th {\n",
       "        text-align: right;\n",
       "    }\n",
       "</style>\n",
       "<table border=\"1\" class=\"dataframe\">\n",
       "  <thead>\n",
       "    <tr style=\"text-align: right;\">\n",
       "      <th></th>\n",
       "      <th>puNumber</th>\n",
       "      <th>refundable_support</th>\n",
       "      <th>nonrefundable_support</th>\n",
       "      <th>budget</th>\n",
       "      <th>ratings</th>\n",
       "      <th>box_office</th>\n",
       "    </tr>\n",
       "  </thead>\n",
       "  <tbody>\n",
       "    <tr>\n",
       "      <th>count</th>\n",
       "      <td>1.700000e+01</td>\n",
       "      <td>1.700000e+01</td>\n",
       "      <td>1.700000e+01</td>\n",
       "      <td>17.0</td>\n",
       "      <td>16.000000</td>\n",
       "      <td>1.700000e+01</td>\n",
       "    </tr>\n",
       "    <tr>\n",
       "      <th>mean</th>\n",
       "      <td>1.120672e+08</td>\n",
       "      <td>1.670588e+07</td>\n",
       "      <td>6.517467e+07</td>\n",
       "      <td>0.0</td>\n",
       "      <td>5.725000</td>\n",
       "      <td>1.631373e+08</td>\n",
       "    </tr>\n",
       "    <tr>\n",
       "      <th>std</th>\n",
       "      <td>1.473501e+06</td>\n",
       "      <td>2.006478e+07</td>\n",
       "      <td>6.123620e+07</td>\n",
       "      <td>0.0</td>\n",
       "      <td>0.916151</td>\n",
       "      <td>2.511160e+08</td>\n",
       "    </tr>\n",
       "    <tr>\n",
       "      <th>min</th>\n",
       "      <td>1.110004e+08</td>\n",
       "      <td>0.000000e+00</td>\n",
       "      <td>0.000000e+00</td>\n",
       "      <td>0.0</td>\n",
       "      <td>4.300000</td>\n",
       "      <td>1.334699e+06</td>\n",
       "    </tr>\n",
       "    <tr>\n",
       "      <th>25%</th>\n",
       "      <td>1.110096e+08</td>\n",
       "      <td>0.000000e+00</td>\n",
       "      <td>2.300000e+07</td>\n",
       "      <td>0.0</td>\n",
       "      <td>5.075000</td>\n",
       "      <td>5.045195e+07</td>\n",
       "    </tr>\n",
       "    <tr>\n",
       "      <th>50%</th>\n",
       "      <td>1.110173e+08</td>\n",
       "      <td>1.000000e+07</td>\n",
       "      <td>5.100000e+07</td>\n",
       "      <td>0.0</td>\n",
       "      <td>5.700000</td>\n",
       "      <td>7.293778e+07</td>\n",
       "    </tr>\n",
       "    <tr>\n",
       "      <th>75%</th>\n",
       "      <td>1.140017e+08</td>\n",
       "      <td>2.000000e+07</td>\n",
       "      <td>7.500000e+07</td>\n",
       "      <td>0.0</td>\n",
       "      <td>6.300000</td>\n",
       "      <td>1.844876e+08</td>\n",
       "    </tr>\n",
       "    <tr>\n",
       "      <th>max</th>\n",
       "      <td>1.140065e+08</td>\n",
       "      <td>6.000000e+07</td>\n",
       "      <td>2.500000e+08</td>\n",
       "      <td>0.0</td>\n",
       "      <td>7.800000</td>\n",
       "      <td>1.038321e+09</td>\n",
       "    </tr>\n",
       "  </tbody>\n",
       "</table>\n",
       "</div>"
      ],
      "text/plain": [
       "           puNumber  refundable_support  nonrefundable_support  budget  \\\n",
       "count  1.700000e+01        1.700000e+01           1.700000e+01    17.0   \n",
       "mean   1.120672e+08        1.670588e+07           6.517467e+07     0.0   \n",
       "std    1.473501e+06        2.006478e+07           6.123620e+07     0.0   \n",
       "min    1.110004e+08        0.000000e+00           0.000000e+00     0.0   \n",
       "25%    1.110096e+08        0.000000e+00           2.300000e+07     0.0   \n",
       "50%    1.110173e+08        1.000000e+07           5.100000e+07     0.0   \n",
       "75%    1.140017e+08        2.000000e+07           7.500000e+07     0.0   \n",
       "max    1.140065e+08        6.000000e+07           2.500000e+08     0.0   \n",
       "\n",
       "         ratings    box_office  \n",
       "count  16.000000  1.700000e+01  \n",
       "mean    5.725000  1.631373e+08  \n",
       "std     0.916151  2.511160e+08  \n",
       "min     4.300000  1.334699e+06  \n",
       "25%     5.075000  5.045195e+07  \n",
       "50%     5.700000  7.293778e+07  \n",
       "75%     6.300000  1.844876e+08  \n",
       "max     7.800000  1.038321e+09  "
      ]
     },
     "execution_count": 32,
     "metadata": {},
     "output_type": "execute_result"
    }
   ],
   "source": [
    "df[df['budget'] == 0].describe()"
   ]
  },
  {
   "cell_type": "markdown",
   "metadata": {},
   "source": [
    "Несмотря на то, что у этих фильмов нулевой бюджет, есть такие фильмы, где сумма поддержки ненулевая. В этом случае бюджет не может быть меньше суммы поддержки. Проверим кинокартины, у которых бюджет меньше суммы возвратных и невозвратных средств."
   ]
  },
  {
   "cell_type": "code",
   "execution_count": 33,
   "metadata": {},
   "outputs": [
    {
     "data": {
      "text/html": [
       "<div>\n",
       "<style scoped>\n",
       "    .dataframe tbody tr th:only-of-type {\n",
       "        vertical-align: middle;\n",
       "    }\n",
       "\n",
       "    .dataframe tbody tr th {\n",
       "        vertical-align: top;\n",
       "    }\n",
       "\n",
       "    .dataframe thead th {\n",
       "        text-align: right;\n",
       "    }\n",
       "</style>\n",
       "<table border=\"1\" class=\"dataframe\">\n",
       "  <thead>\n",
       "    <tr style=\"text-align: right;\">\n",
       "      <th></th>\n",
       "      <th>title</th>\n",
       "      <th>puNumber</th>\n",
       "      <th>show_start_date</th>\n",
       "      <th>type</th>\n",
       "      <th>film_studio</th>\n",
       "      <th>production_country</th>\n",
       "      <th>director</th>\n",
       "      <th>producer</th>\n",
       "      <th>age_restriction</th>\n",
       "      <th>refundable_support</th>\n",
       "      <th>nonrefundable_support</th>\n",
       "      <th>budget</th>\n",
       "      <th>financing_source</th>\n",
       "      <th>ratings</th>\n",
       "      <th>genres</th>\n",
       "      <th>box_office</th>\n",
       "    </tr>\n",
       "  </thead>\n",
       "  <tbody>\n",
       "    <tr>\n",
       "      <th>2053</th>\n",
       "      <td>14+</td>\n",
       "      <td>111023614</td>\n",
       "      <td>2014-12-19 12:00:00+00:00</td>\n",
       "      <td>Художественный</td>\n",
       "      <td>ООО Киностудия  \"Сентябрь\"</td>\n",
       "      <td>Россия</td>\n",
       "      <td>А.Зайцев</td>\n",
       "      <td>О.Гранина, А.Зайцев</td>\n",
       "      <td>«16+» - для детей старше 16 лет</td>\n",
       "      <td>0.0</td>\n",
       "      <td>23000000.0</td>\n",
       "      <td>0.0</td>\n",
       "      <td>Министерство культуры, Фонд кино</td>\n",
       "      <td>6.6</td>\n",
       "      <td>мелодрама</td>\n",
       "      <td>1.023402e+07</td>\n",
       "    </tr>\n",
       "    <tr>\n",
       "      <th>2058</th>\n",
       "      <td>Дуxless 2</td>\n",
       "      <td>111000415</td>\n",
       "      <td>2015-01-26 12:00:00+00:00</td>\n",
       "      <td>Художественный</td>\n",
       "      <td>ООО \"Киностудия \"Слово\", ООО \"Арт Пикчерс Студия\"</td>\n",
       "      <td>Россия</td>\n",
       "      <td>Р.Прыгунов</td>\n",
       "      <td>П.Ануров, Ф.Бондарчук, Д.Рудовский</td>\n",
       "      <td>«16+» - для детей старше 16 лет</td>\n",
       "      <td>0.0</td>\n",
       "      <td>75000000.0</td>\n",
       "      <td>0.0</td>\n",
       "      <td>Фонд кино</td>\n",
       "      <td>6.6</td>\n",
       "      <td>драма</td>\n",
       "      <td>4.461635e+08</td>\n",
       "    </tr>\n",
       "    <tr>\n",
       "      <th>2472</th>\n",
       "      <td>Воин (2015)</td>\n",
       "      <td>111017315</td>\n",
       "      <td>2015-09-28 12:00:00+00:00</td>\n",
       "      <td>Художественный</td>\n",
       "      <td>ООО \"Форпост Продакшн\", ООО \"Арт Пикчерс Студия\"</td>\n",
       "      <td>Россия</td>\n",
       "      <td>А.Андрианов</td>\n",
       "      <td>ООО \"Арт Пикчерс Студия\"</td>\n",
       "      <td>«12+» - для детей старше 12 лет</td>\n",
       "      <td>10000000.0</td>\n",
       "      <td>70000000.0</td>\n",
       "      <td>0.0</td>\n",
       "      <td>Фонд кино</td>\n",
       "      <td>7.8</td>\n",
       "      <td>боевик,драма,криминал</td>\n",
       "      <td>1.965724e+08</td>\n",
       "    </tr>\n",
       "    <tr>\n",
       "      <th>2532</th>\n",
       "      <td>Бармен.</td>\n",
       "      <td>111009615</td>\n",
       "      <td>2015-05-26 12:00:00+00:00</td>\n",
       "      <td>Художественный</td>\n",
       "      <td>АО \"ВайТ Медиа\", ООО \"Арт Пикчерс Студия\"</td>\n",
       "      <td>Россия</td>\n",
       "      <td>Д.Штурманова</td>\n",
       "      <td>Т.Вайнштейн</td>\n",
       "      <td>«16+» - для детей старше 16 лет</td>\n",
       "      <td>20000000.0</td>\n",
       "      <td>0.0</td>\n",
       "      <td>0.0</td>\n",
       "      <td>Фонд кино</td>\n",
       "      <td>6.2</td>\n",
       "      <td>комедия,фэнтези</td>\n",
       "      <td>6.741897e+07</td>\n",
       "    </tr>\n",
       "    <tr>\n",
       "      <th>2615</th>\n",
       "      <td>Савва. Сердце воина</td>\n",
       "      <td>114001715</td>\n",
       "      <td>2015-07-21 12:00:00+00:00</td>\n",
       "      <td>Анимационный</td>\n",
       "      <td>ООО \"Глюкоза Продакшн\", ООО \"Арт Пикчерс Студия\"</td>\n",
       "      <td>Россия</td>\n",
       "      <td>М.Фадеев</td>\n",
       "      <td>А.Чистяков</td>\n",
       "      <td>«6+» - для детей старше 6 лет</td>\n",
       "      <td>60000000.0</td>\n",
       "      <td>100000000.0</td>\n",
       "      <td>0.0</td>\n",
       "      <td>Фонд кино</td>\n",
       "      <td>4.6</td>\n",
       "      <td>мультфильм,приключения,фэнтези</td>\n",
       "      <td>1.844876e+08</td>\n",
       "    </tr>\n",
       "    <tr>\n",
       "      <th>2684</th>\n",
       "      <td>Тряпичный союз</td>\n",
       "      <td>111010215</td>\n",
       "      <td>2015-06-08 12:00:00+00:00</td>\n",
       "      <td>Художественный</td>\n",
       "      <td>ООО \"Кинокомпания \"КОКТЕБЕЛЬ\"</td>\n",
       "      <td>Россия</td>\n",
       "      <td>М.Местецкий</td>\n",
       "      <td>Р.Борисевич, А.Кушаев</td>\n",
       "      <td>«18+» - запрещено для детей</td>\n",
       "      <td>0.0</td>\n",
       "      <td>59000000.0</td>\n",
       "      <td>0.0</td>\n",
       "      <td>Фонд кино</td>\n",
       "      <td>6.3</td>\n",
       "      <td>комедия,драма</td>\n",
       "      <td>1.957739e+06</td>\n",
       "    </tr>\n",
       "    <tr>\n",
       "      <th>2788</th>\n",
       "      <td>Срочно выйду замуж</td>\n",
       "      <td>111017115</td>\n",
       "      <td>2015-09-30 12:00:00+00:00</td>\n",
       "      <td>Художественный</td>\n",
       "      <td>АО \"ВайТ Медиа\", ООО \"Арт Пикчерс Студия\"</td>\n",
       "      <td>Россия</td>\n",
       "      <td>С Чекалов</td>\n",
       "      <td>Ф.Бондарчук, Т.Вайнштейн, Д.Рудовский</td>\n",
       "      <td>«16+» - для детей старше 16 лет</td>\n",
       "      <td>0.0</td>\n",
       "      <td>35000000.0</td>\n",
       "      <td>0.0</td>\n",
       "      <td>Фонд кино</td>\n",
       "      <td>5.1</td>\n",
       "      <td>комедия,мелодрама</td>\n",
       "      <td>7.293778e+07</td>\n",
       "    </tr>\n",
       "    <tr>\n",
       "      <th>2874</th>\n",
       "      <td>Помню - не помню!</td>\n",
       "      <td>111004916</td>\n",
       "      <td>2016-03-01 12:00:00+00:00</td>\n",
       "      <td>Художественный</td>\n",
       "      <td>ООО \"КиноФирма\"</td>\n",
       "      <td>Россия</td>\n",
       "      <td>В.Ровенский</td>\n",
       "      <td>ООО \"КиноФирма\"</td>\n",
       "      <td>«12+» - для детей старше 12 лет</td>\n",
       "      <td>0.0</td>\n",
       "      <td>6000000.0</td>\n",
       "      <td>0.0</td>\n",
       "      <td>Министерство культуры</td>\n",
       "      <td>4.3</td>\n",
       "      <td>комедия</td>\n",
       "      <td>1.536293e+07</td>\n",
       "    </tr>\n",
       "    <tr>\n",
       "      <th>3047</th>\n",
       "      <td>Любовь с ограничениями</td>\n",
       "      <td>111008216</td>\n",
       "      <td>2016-04-29 12:00:00+00:00</td>\n",
       "      <td>Художественный</td>\n",
       "      <td>АО \"ВайТ Медиа\", ООО \"Арт Пикчерс Студия\"</td>\n",
       "      <td>Россия</td>\n",
       "      <td>Д.Тюрин</td>\n",
       "      <td>Ф.Бондарчук, Т.Вайнштейн, Д.Рудовский</td>\n",
       "      <td>«16+» - для детей старше 16 лет</td>\n",
       "      <td>19000000.0</td>\n",
       "      <td>51000000.0</td>\n",
       "      <td>0.0</td>\n",
       "      <td>Фонд кино</td>\n",
       "      <td>6.3</td>\n",
       "      <td>комедия,мелодрама</td>\n",
       "      <td>7.029905e+07</td>\n",
       "    </tr>\n",
       "    <tr>\n",
       "      <th>3565</th>\n",
       "      <td>Притяжение (2016)</td>\n",
       "      <td>111018116</td>\n",
       "      <td>2016-12-16 12:00:00+00:00</td>\n",
       "      <td>Художественный</td>\n",
       "      <td>ООО \"Водород 2011\",  ООО \"Арт Пикчерс Студия\"</td>\n",
       "      <td>Россия</td>\n",
       "      <td>Ф.Бондарчук</td>\n",
       "      <td>ООО \"Арт Пикчерс Студия\"</td>\n",
       "      <td>«12+» - для детей старше 12 лет</td>\n",
       "      <td>0.0</td>\n",
       "      <td>250000000.0</td>\n",
       "      <td>0.0</td>\n",
       "      <td>Фонд кино</td>\n",
       "      <td>5.6</td>\n",
       "      <td>фантастика</td>\n",
       "      <td>1.038321e+09</td>\n",
       "    </tr>\n",
       "    <tr>\n",
       "      <th>3675</th>\n",
       "      <td>Чудо-юдо</td>\n",
       "      <td>114001817</td>\n",
       "      <td>2017-06-27 12:00:00+00:00</td>\n",
       "      <td>Анимационный</td>\n",
       "      <td>ООО \"КиноФирма\"</td>\n",
       "      <td>Россия</td>\n",
       "      <td>А.Лукичев</td>\n",
       "      <td>ООО \"КиноФирма\"</td>\n",
       "      <td>«6+» - для детей старше 6 лет</td>\n",
       "      <td>20000000.0</td>\n",
       "      <td>20000000.0</td>\n",
       "      <td>0.0</td>\n",
       "      <td>Фонд кино</td>\n",
       "      <td>5.2</td>\n",
       "      <td>мультфильм,фэнтези,семейный</td>\n",
       "      <td>5.510801e+07</td>\n",
       "    </tr>\n",
       "    <tr>\n",
       "      <th>3739</th>\n",
       "      <td>Мифы</td>\n",
       "      <td>111004317</td>\n",
       "      <td>2017-06-07 12:00:00+00:00</td>\n",
       "      <td>Художественный</td>\n",
       "      <td>ООО \"ХАЙПФИЛМ\", ООО \"Арт Пикчерс Студия\"</td>\n",
       "      <td>Россия</td>\n",
       "      <td>А.Молочников</td>\n",
       "      <td>Ф.Бондарчук, Д.Рудовский, И.Стюарт, М.Османн, ...</td>\n",
       "      <td>«16+» - для детей старше 16 лет</td>\n",
       "      <td>25000000.0</td>\n",
       "      <td>20000000.0</td>\n",
       "      <td>0.0</td>\n",
       "      <td>Фонд кино</td>\n",
       "      <td>4.8</td>\n",
       "      <td>комедия</td>\n",
       "      <td>5.045195e+07</td>\n",
       "    </tr>\n",
       "    <tr>\n",
       "      <th>5673</th>\n",
       "      <td>Селфи</td>\n",
       "      <td>111012117</td>\n",
       "      <td>2018-02-01 12:00:00+00:00</td>\n",
       "      <td>Художественный</td>\n",
       "      <td>ООО \"Киностудия \"Слово\", ООО \"Арт Пикчерс Студия\"</td>\n",
       "      <td>Россия</td>\n",
       "      <td>Н.Хомерики</td>\n",
       "      <td>П.Ануров, Ф.Бондарчук, Д.Рудовский</td>\n",
       "      <td>«16+» - для детей старше 16 лет</td>\n",
       "      <td>20000000.0</td>\n",
       "      <td>40000000.0</td>\n",
       "      <td>0.0</td>\n",
       "      <td>Фонд кино</td>\n",
       "      <td>5.8</td>\n",
       "      <td>триллер,драма</td>\n",
       "      <td>2.251964e+08</td>\n",
       "    </tr>\n",
       "    <tr>\n",
       "      <th>5806</th>\n",
       "      <td>Два хвоста</td>\n",
       "      <td>114001018</td>\n",
       "      <td>2018-05-31 12:00:00+00:00</td>\n",
       "      <td>Анимационный</td>\n",
       "      <td>ООО \"ЛИЦЕНЗИОННЫЕ БРЕНДЫ\"</td>\n",
       "      <td>Россия</td>\n",
       "      <td>В.Ровенский, Н.Лопато, В.Азеев</td>\n",
       "      <td>ООО \"ЛИЦЕНЗИОННЫЕ БРЕНДЫ\"</td>\n",
       "      <td>«6+» - для детей старше 6 лет</td>\n",
       "      <td>10000000.0</td>\n",
       "      <td>60000000.0</td>\n",
       "      <td>0.0</td>\n",
       "      <td>Фонд кино</td>\n",
       "      <td>5.0</td>\n",
       "      <td>мультфильм,детский</td>\n",
       "      <td>1.065143e+08</td>\n",
       "    </tr>\n",
       "    <tr>\n",
       "      <th>6008</th>\n",
       "      <td>Принцесса и дракон</td>\n",
       "      <td>114003018</td>\n",
       "      <td>2018-08-23 12:00:00+00:00</td>\n",
       "      <td>Анимационный</td>\n",
       "      <td>ООО \"ЛИЦЕНЗИОННЫЕ БРЕНДЫ\"</td>\n",
       "      <td>Россия</td>\n",
       "      <td>М.Нефедова</td>\n",
       "      <td>ООО \"ЛИЦЕНЗИОННЫЕ БРЕНДЫ\"</td>\n",
       "      <td>«6+» - для детей старше 6 лет</td>\n",
       "      <td>40000000.0</td>\n",
       "      <td>40000000.0</td>\n",
       "      <td>0.0</td>\n",
       "      <td>Фонд кино</td>\n",
       "      <td>5.2</td>\n",
       "      <td>мультфильм,фэнтези,детский</td>\n",
       "      <td>8.336633e+07</td>\n",
       "    </tr>\n",
       "    <tr>\n",
       "      <th>6323</th>\n",
       "      <td>Баба Яга</td>\n",
       "      <td>114006518</td>\n",
       "      <td>2018-11-08 12:00:00+00:00</td>\n",
       "      <td>Анимационный</td>\n",
       "      <td>ООО \"Арт Пикчерс Студия\"</td>\n",
       "      <td>Россия</td>\n",
       "      <td>В.Саков</td>\n",
       "      <td>ООО \"Арт Пикчерс Студия\", ООО \"КРИЭЙТИВ АНИМЭЙ...</td>\n",
       "      <td>«6+» - для детей старше 6 лет</td>\n",
       "      <td>0.0</td>\n",
       "      <td>138969465.0</td>\n",
       "      <td>0.0</td>\n",
       "      <td>Фонд кино</td>\n",
       "      <td>NaN</td>\n",
       "      <td>NaN</td>\n",
       "      <td>1.334699e+06</td>\n",
       "    </tr>\n",
       "    <tr>\n",
       "      <th>6823</th>\n",
       "      <td>Большое путешествие</td>\n",
       "      <td>114002419</td>\n",
       "      <td>2019-04-20 12:00:00+00:00</td>\n",
       "      <td>Анимационный</td>\n",
       "      <td>ООО \"ЛИЦЕНЗИОННЫЕ БРЕНДЫ\"</td>\n",
       "      <td>Россия</td>\n",
       "      <td>Н.Лопато, В.Ровенский</td>\n",
       "      <td>ООО \"ЛИЦЕНЗИОННЫЕ БРЕНДЫ\"</td>\n",
       "      <td>«6+» - для детей старше 6 лет</td>\n",
       "      <td>60000000.0</td>\n",
       "      <td>120000000.0</td>\n",
       "      <td>0.0</td>\n",
       "      <td>Фонд кино</td>\n",
       "      <td>6.2</td>\n",
       "      <td>мультфильм,комедия,приключения</td>\n",
       "      <td>1.476068e+08</td>\n",
       "    </tr>\n",
       "  </tbody>\n",
       "</table>\n",
       "</div>"
      ],
      "text/plain": [
       "                       title   puNumber           show_start_date  \\\n",
       "2053                     14+  111023614 2014-12-19 12:00:00+00:00   \n",
       "2058               Дуxless 2  111000415 2015-01-26 12:00:00+00:00   \n",
       "2472             Воин (2015)  111017315 2015-09-28 12:00:00+00:00   \n",
       "2532                 Бармен.  111009615 2015-05-26 12:00:00+00:00   \n",
       "2615     Савва. Сердце воина  114001715 2015-07-21 12:00:00+00:00   \n",
       "2684          Тряпичный союз  111010215 2015-06-08 12:00:00+00:00   \n",
       "2788      Срочно выйду замуж  111017115 2015-09-30 12:00:00+00:00   \n",
       "2874       Помню - не помню!  111004916 2016-03-01 12:00:00+00:00   \n",
       "3047  Любовь с ограничениями  111008216 2016-04-29 12:00:00+00:00   \n",
       "3565       Притяжение (2016)  111018116 2016-12-16 12:00:00+00:00   \n",
       "3675                Чудо-юдо  114001817 2017-06-27 12:00:00+00:00   \n",
       "3739                    Мифы  111004317 2017-06-07 12:00:00+00:00   \n",
       "5673                   Селфи  111012117 2018-02-01 12:00:00+00:00   \n",
       "5806              Два хвоста  114001018 2018-05-31 12:00:00+00:00   \n",
       "6008      Принцесса и дракон  114003018 2018-08-23 12:00:00+00:00   \n",
       "6323                Баба Яга  114006518 2018-11-08 12:00:00+00:00   \n",
       "6823     Большое путешествие  114002419 2019-04-20 12:00:00+00:00   \n",
       "\n",
       "                type                                        film_studio  \\\n",
       "2053  Художественный                         ООО Киностудия  \"Сентябрь\"   \n",
       "2058  Художественный  ООО \"Киностудия \"Слово\", ООО \"Арт Пикчерс Студия\"   \n",
       "2472  Художественный   ООО \"Форпост Продакшн\", ООО \"Арт Пикчерс Студия\"   \n",
       "2532  Художественный          АО \"ВайТ Медиа\", ООО \"Арт Пикчерс Студия\"   \n",
       "2615    Анимационный   ООО \"Глюкоза Продакшн\", ООО \"Арт Пикчерс Студия\"   \n",
       "2684  Художественный                      ООО \"Кинокомпания \"КОКТЕБЕЛЬ\"   \n",
       "2788  Художественный          АО \"ВайТ Медиа\", ООО \"Арт Пикчерс Студия\"   \n",
       "2874  Художественный                                    ООО \"КиноФирма\"   \n",
       "3047  Художественный          АО \"ВайТ Медиа\", ООО \"Арт Пикчерс Студия\"   \n",
       "3565  Художественный      ООО \"Водород 2011\",  ООО \"Арт Пикчерс Студия\"   \n",
       "3675    Анимационный                                    ООО \"КиноФирма\"   \n",
       "3739  Художественный           ООО \"ХАЙПФИЛМ\", ООО \"Арт Пикчерс Студия\"   \n",
       "5673  Художественный  ООО \"Киностудия \"Слово\", ООО \"Арт Пикчерс Студия\"   \n",
       "5806    Анимационный                          ООО \"ЛИЦЕНЗИОННЫЕ БРЕНДЫ\"   \n",
       "6008    Анимационный                          ООО \"ЛИЦЕНЗИОННЫЕ БРЕНДЫ\"   \n",
       "6323    Анимационный                           ООО \"Арт Пикчерс Студия\"   \n",
       "6823    Анимационный                          ООО \"ЛИЦЕНЗИОННЫЕ БРЕНДЫ\"   \n",
       "\n",
       "     production_country                        director  \\\n",
       "2053             Россия                        А.Зайцев   \n",
       "2058             Россия                      Р.Прыгунов   \n",
       "2472             Россия                     А.Андрианов   \n",
       "2532             Россия                    Д.Штурманова   \n",
       "2615             Россия                        М.Фадеев   \n",
       "2684             Россия                     М.Местецкий   \n",
       "2788             Россия                       С Чекалов   \n",
       "2874             Россия                     В.Ровенский   \n",
       "3047             Россия                         Д.Тюрин   \n",
       "3565             Россия                     Ф.Бондарчук   \n",
       "3675             Россия                       А.Лукичев   \n",
       "3739             Россия                    А.Молочников   \n",
       "5673             Россия                      Н.Хомерики   \n",
       "5806             Россия  В.Ровенский, Н.Лопато, В.Азеев   \n",
       "6008             Россия                      М.Нефедова   \n",
       "6323             Россия                         В.Саков   \n",
       "6823             Россия           Н.Лопато, В.Ровенский   \n",
       "\n",
       "                                               producer  \\\n",
       "2053                                О.Гранина, А.Зайцев   \n",
       "2058                 П.Ануров, Ф.Бондарчук, Д.Рудовский   \n",
       "2472                           ООО \"Арт Пикчерс Студия\"   \n",
       "2532                                        Т.Вайнштейн   \n",
       "2615                                         А.Чистяков   \n",
       "2684                              Р.Борисевич, А.Кушаев   \n",
       "2788              Ф.Бондарчук, Т.Вайнштейн, Д.Рудовский   \n",
       "2874                                    ООО \"КиноФирма\"   \n",
       "3047              Ф.Бондарчук, Т.Вайнштейн, Д.Рудовский   \n",
       "3565                           ООО \"Арт Пикчерс Студия\"   \n",
       "3675                                    ООО \"КиноФирма\"   \n",
       "3739  Ф.Бондарчук, Д.Рудовский, И.Стюарт, М.Османн, ...   \n",
       "5673                 П.Ануров, Ф.Бондарчук, Д.Рудовский   \n",
       "5806                          ООО \"ЛИЦЕНЗИОННЫЕ БРЕНДЫ\"   \n",
       "6008                          ООО \"ЛИЦЕНЗИОННЫЕ БРЕНДЫ\"   \n",
       "6323  ООО \"Арт Пикчерс Студия\", ООО \"КРИЭЙТИВ АНИМЭЙ...   \n",
       "6823                          ООО \"ЛИЦЕНЗИОННЫЕ БРЕНДЫ\"   \n",
       "\n",
       "                      age_restriction  refundable_support  \\\n",
       "2053  «16+» - для детей старше 16 лет                 0.0   \n",
       "2058  «16+» - для детей старше 16 лет                 0.0   \n",
       "2472  «12+» - для детей старше 12 лет          10000000.0   \n",
       "2532  «16+» - для детей старше 16 лет          20000000.0   \n",
       "2615    «6+» - для детей старше 6 лет          60000000.0   \n",
       "2684      «18+» - запрещено для детей                 0.0   \n",
       "2788  «16+» - для детей старше 16 лет                 0.0   \n",
       "2874  «12+» - для детей старше 12 лет                 0.0   \n",
       "3047  «16+» - для детей старше 16 лет          19000000.0   \n",
       "3565  «12+» - для детей старше 12 лет                 0.0   \n",
       "3675    «6+» - для детей старше 6 лет          20000000.0   \n",
       "3739  «16+» - для детей старше 16 лет          25000000.0   \n",
       "5673  «16+» - для детей старше 16 лет          20000000.0   \n",
       "5806    «6+» - для детей старше 6 лет          10000000.0   \n",
       "6008    «6+» - для детей старше 6 лет          40000000.0   \n",
       "6323    «6+» - для детей старше 6 лет                 0.0   \n",
       "6823    «6+» - для детей старше 6 лет          60000000.0   \n",
       "\n",
       "      nonrefundable_support  budget                  financing_source  \\\n",
       "2053             23000000.0     0.0  Министерство культуры, Фонд кино   \n",
       "2058             75000000.0     0.0                         Фонд кино   \n",
       "2472             70000000.0     0.0                         Фонд кино   \n",
       "2532                    0.0     0.0                         Фонд кино   \n",
       "2615            100000000.0     0.0                         Фонд кино   \n",
       "2684             59000000.0     0.0                         Фонд кино   \n",
       "2788             35000000.0     0.0                         Фонд кино   \n",
       "2874              6000000.0     0.0             Министерство культуры   \n",
       "3047             51000000.0     0.0                         Фонд кино   \n",
       "3565            250000000.0     0.0                         Фонд кино   \n",
       "3675             20000000.0     0.0                         Фонд кино   \n",
       "3739             20000000.0     0.0                         Фонд кино   \n",
       "5673             40000000.0     0.0                         Фонд кино   \n",
       "5806             60000000.0     0.0                         Фонд кино   \n",
       "6008             40000000.0     0.0                         Фонд кино   \n",
       "6323            138969465.0     0.0                         Фонд кино   \n",
       "6823            120000000.0     0.0                         Фонд кино   \n",
       "\n",
       "      ratings                          genres    box_office  \n",
       "2053      6.6                       мелодрама  1.023402e+07  \n",
       "2058      6.6                           драма  4.461635e+08  \n",
       "2472      7.8           боевик,драма,криминал  1.965724e+08  \n",
       "2532      6.2                 комедия,фэнтези  6.741897e+07  \n",
       "2615      4.6  мультфильм,приключения,фэнтези  1.844876e+08  \n",
       "2684      6.3                   комедия,драма  1.957739e+06  \n",
       "2788      5.1               комедия,мелодрама  7.293778e+07  \n",
       "2874      4.3                         комедия  1.536293e+07  \n",
       "3047      6.3               комедия,мелодрама  7.029905e+07  \n",
       "3565      5.6                      фантастика  1.038321e+09  \n",
       "3675      5.2     мультфильм,фэнтези,семейный  5.510801e+07  \n",
       "3739      4.8                         комедия  5.045195e+07  \n",
       "5673      5.8                   триллер,драма  2.251964e+08  \n",
       "5806      5.0              мультфильм,детский  1.065143e+08  \n",
       "6008      5.2      мультфильм,фэнтези,детский  8.336633e+07  \n",
       "6323      NaN                             NaN  1.334699e+06  \n",
       "6823      6.2  мультфильм,комедия,приключения  1.476068e+08  "
      ]
     },
     "execution_count": 33,
     "metadata": {},
     "output_type": "execute_result"
    }
   ],
   "source": [
    "df[(df['refundable_support'] + df['nonrefundable_support']) > df['budget']]"
   ]
  },
  {
   "cell_type": "markdown",
   "metadata": {},
   "source": [
    "Такие картины есть. Исправим в них бюджет на сумму поддержки. Для этого напишем функцию."
   ]
  },
  {
   "cell_type": "markdown",
   "metadata": {},
   "source": [
    "<div class=\"alert alert-success\">\n",
    "<h1> Комментарий ревьюера✅</h1>\n",
    "\n",
    "Да, это теже самые фильмы, которые мы получили раньше.\n",
    "\n",
    "</div>"
   ]
  },
  {
   "cell_type": "code",
   "execution_count": 34,
   "metadata": {},
   "outputs": [],
   "source": [
    "def correct_budget(row):\n",
    "    if row['budget'] < (row['refundable_support'] + row['nonrefundable_support']):\n",
    "        return row['refundable_support'] + row['nonrefundable_support']\n",
    "    return row['budget']"
   ]
  },
  {
   "cell_type": "markdown",
   "metadata": {},
   "source": [
    "<div class=\"alert alert-success\">\n",
    "<h1> Комментарий ревьюера✅</h1>\n",
    "\n",
    "Хорошая функция.\n",
    "\n",
    "</div>"
   ]
  },
  {
   "cell_type": "code",
   "execution_count": 35,
   "metadata": {},
   "outputs": [],
   "source": [
    "df['budget'] = df.apply(correct_budget, axis=1)"
   ]
  },
  {
   "cell_type": "code",
   "execution_count": 36,
   "metadata": {},
   "outputs": [
    {
     "data": {
      "text/html": [
       "<div>\n",
       "<style scoped>\n",
       "    .dataframe tbody tr th:only-of-type {\n",
       "        vertical-align: middle;\n",
       "    }\n",
       "\n",
       "    .dataframe tbody tr th {\n",
       "        vertical-align: top;\n",
       "    }\n",
       "\n",
       "    .dataframe thead th {\n",
       "        text-align: right;\n",
       "    }\n",
       "</style>\n",
       "<table border=\"1\" class=\"dataframe\">\n",
       "  <thead>\n",
       "    <tr style=\"text-align: right;\">\n",
       "      <th></th>\n",
       "      <th>puNumber</th>\n",
       "      <th>refundable_support</th>\n",
       "      <th>nonrefundable_support</th>\n",
       "      <th>budget</th>\n",
       "      <th>ratings</th>\n",
       "      <th>box_office</th>\n",
       "    </tr>\n",
       "  </thead>\n",
       "  <tbody>\n",
       "    <tr>\n",
       "      <th>count</th>\n",
       "      <td>7.486000e+03</td>\n",
       "      <td>3.320000e+02</td>\n",
       "      <td>3.320000e+02</td>\n",
       "      <td>3.320000e+02</td>\n",
       "      <td>6490.000000</td>\n",
       "      <td>3.158000e+03</td>\n",
       "    </tr>\n",
       "    <tr>\n",
       "      <th>mean</th>\n",
       "      <td>1.351785e+08</td>\n",
       "      <td>1.186446e+07</td>\n",
       "      <td>4.898099e+07</td>\n",
       "      <td>1.314224e+08</td>\n",
       "      <td>6.479245</td>\n",
       "      <td>7.647870e+07</td>\n",
       "    </tr>\n",
       "    <tr>\n",
       "      <th>std</th>\n",
       "      <td>3.838218e+07</td>\n",
       "      <td>2.491656e+07</td>\n",
       "      <td>5.998012e+07</td>\n",
       "      <td>1.871482e+08</td>\n",
       "      <td>1.101665</td>\n",
       "      <td>2.403531e+08</td>\n",
       "    </tr>\n",
       "    <tr>\n",
       "      <th>min</th>\n",
       "      <td>0.000000e+00</td>\n",
       "      <td>0.000000e+00</td>\n",
       "      <td>0.000000e+00</td>\n",
       "      <td>6.000000e+06</td>\n",
       "      <td>1.000000</td>\n",
       "      <td>0.000000e+00</td>\n",
       "    </tr>\n",
       "    <tr>\n",
       "      <th>25%</th>\n",
       "      <td>1.120250e+08</td>\n",
       "      <td>0.000000e+00</td>\n",
       "      <td>2.500000e+07</td>\n",
       "      <td>4.552480e+07</td>\n",
       "      <td>5.900000</td>\n",
       "      <td>8.623900e+04</td>\n",
       "    </tr>\n",
       "    <tr>\n",
       "      <th>50%</th>\n",
       "      <td>1.210155e+08</td>\n",
       "      <td>0.000000e+00</td>\n",
       "      <td>3.000000e+07</td>\n",
       "      <td>7.119690e+07</td>\n",
       "      <td>6.600000</td>\n",
       "      <td>2.327988e+06</td>\n",
       "    </tr>\n",
       "    <tr>\n",
       "      <th>75%</th>\n",
       "      <td>1.240033e+08</td>\n",
       "      <td>1.500000e+07</td>\n",
       "      <td>4.037500e+07</td>\n",
       "      <td>1.500000e+08</td>\n",
       "      <td>7.200000</td>\n",
       "      <td>2.397967e+07</td>\n",
       "    </tr>\n",
       "    <tr>\n",
       "      <th>max</th>\n",
       "      <td>2.310011e+08</td>\n",
       "      <td>1.800000e+08</td>\n",
       "      <td>4.000000e+08</td>\n",
       "      <td>2.305074e+09</td>\n",
       "      <td>9.200000</td>\n",
       "      <td>3.073569e+09</td>\n",
       "    </tr>\n",
       "  </tbody>\n",
       "</table>\n",
       "</div>"
      ],
      "text/plain": [
       "           puNumber  refundable_support  nonrefundable_support        budget  \\\n",
       "count  7.486000e+03        3.320000e+02           3.320000e+02  3.320000e+02   \n",
       "mean   1.351785e+08        1.186446e+07           4.898099e+07  1.314224e+08   \n",
       "std    3.838218e+07        2.491656e+07           5.998012e+07  1.871482e+08   \n",
       "min    0.000000e+00        0.000000e+00           0.000000e+00  6.000000e+06   \n",
       "25%    1.120250e+08        0.000000e+00           2.500000e+07  4.552480e+07   \n",
       "50%    1.210155e+08        0.000000e+00           3.000000e+07  7.119690e+07   \n",
       "75%    1.240033e+08        1.500000e+07           4.037500e+07  1.500000e+08   \n",
       "max    2.310011e+08        1.800000e+08           4.000000e+08  2.305074e+09   \n",
       "\n",
       "           ratings    box_office  \n",
       "count  6490.000000  3.158000e+03  \n",
       "mean      6.479245  7.647870e+07  \n",
       "std       1.101665  2.403531e+08  \n",
       "min       1.000000  0.000000e+00  \n",
       "25%       5.900000  8.623900e+04  \n",
       "50%       6.600000  2.327988e+06  \n",
       "75%       7.200000  2.397967e+07  \n",
       "max       9.200000  3.073569e+09  "
      ]
     },
     "execution_count": 36,
     "metadata": {},
     "output_type": "execute_result"
    }
   ],
   "source": [
    "df.describe()"
   ]
  },
  {
   "cell_type": "markdown",
   "metadata": {},
   "source": [
    "Заменили нулевые значения бюджета, где сумма поддержки превышала значение бюджета."
   ]
  },
  {
   "cell_type": "markdown",
   "metadata": {},
   "source": [
    "<div class=\"alert alert-danger\">\n",
    "<h1> Комментарий ревьюера ❌</h1>\n",
    "\n",
    "Проблему с бюджетом мы поправили.\n",
    "    \n",
    "Еще на этом шаге нам нужно проверить на аномалии остальные колонки с числовыми значениями. \n",
    "    \n",
    "Проведи, пожалуйста, такую проверку.\n",
    "\n",
    "</div>"
   ]
  },
  {
   "cell_type": "code",
   "execution_count": 37,
   "metadata": {},
   "outputs": [
    {
     "data": {
      "text/html": [
       "<div>\n",
       "<style scoped>\n",
       "    .dataframe tbody tr th:only-of-type {\n",
       "        vertical-align: middle;\n",
       "    }\n",
       "\n",
       "    .dataframe tbody tr th {\n",
       "        vertical-align: top;\n",
       "    }\n",
       "\n",
       "    .dataframe thead th {\n",
       "        text-align: right;\n",
       "    }\n",
       "</style>\n",
       "<table border=\"1\" class=\"dataframe\">\n",
       "  <thead>\n",
       "    <tr style=\"text-align: right;\">\n",
       "      <th></th>\n",
       "      <th>puNumber</th>\n",
       "      <th>refundable_support</th>\n",
       "      <th>nonrefundable_support</th>\n",
       "      <th>budget</th>\n",
       "      <th>ratings</th>\n",
       "      <th>box_office</th>\n",
       "    </tr>\n",
       "  </thead>\n",
       "  <tbody>\n",
       "    <tr>\n",
       "      <th>count</th>\n",
       "      <td>7.486000e+03</td>\n",
       "      <td>3.320000e+02</td>\n",
       "      <td>3.320000e+02</td>\n",
       "      <td>3.320000e+02</td>\n",
       "      <td>6490.000000</td>\n",
       "      <td>3.158000e+03</td>\n",
       "    </tr>\n",
       "    <tr>\n",
       "      <th>mean</th>\n",
       "      <td>1.351785e+08</td>\n",
       "      <td>1.186446e+07</td>\n",
       "      <td>4.898099e+07</td>\n",
       "      <td>1.314224e+08</td>\n",
       "      <td>6.479245</td>\n",
       "      <td>7.647870e+07</td>\n",
       "    </tr>\n",
       "    <tr>\n",
       "      <th>std</th>\n",
       "      <td>3.838218e+07</td>\n",
       "      <td>2.491656e+07</td>\n",
       "      <td>5.998012e+07</td>\n",
       "      <td>1.871482e+08</td>\n",
       "      <td>1.101665</td>\n",
       "      <td>2.403531e+08</td>\n",
       "    </tr>\n",
       "    <tr>\n",
       "      <th>min</th>\n",
       "      <td>0.000000e+00</td>\n",
       "      <td>0.000000e+00</td>\n",
       "      <td>0.000000e+00</td>\n",
       "      <td>6.000000e+06</td>\n",
       "      <td>1.000000</td>\n",
       "      <td>0.000000e+00</td>\n",
       "    </tr>\n",
       "    <tr>\n",
       "      <th>25%</th>\n",
       "      <td>1.120250e+08</td>\n",
       "      <td>0.000000e+00</td>\n",
       "      <td>2.500000e+07</td>\n",
       "      <td>4.552480e+07</td>\n",
       "      <td>5.900000</td>\n",
       "      <td>8.623900e+04</td>\n",
       "    </tr>\n",
       "    <tr>\n",
       "      <th>50%</th>\n",
       "      <td>1.210155e+08</td>\n",
       "      <td>0.000000e+00</td>\n",
       "      <td>3.000000e+07</td>\n",
       "      <td>7.119690e+07</td>\n",
       "      <td>6.600000</td>\n",
       "      <td>2.327988e+06</td>\n",
       "    </tr>\n",
       "    <tr>\n",
       "      <th>75%</th>\n",
       "      <td>1.240033e+08</td>\n",
       "      <td>1.500000e+07</td>\n",
       "      <td>4.037500e+07</td>\n",
       "      <td>1.500000e+08</td>\n",
       "      <td>7.200000</td>\n",
       "      <td>2.397967e+07</td>\n",
       "    </tr>\n",
       "    <tr>\n",
       "      <th>max</th>\n",
       "      <td>2.310011e+08</td>\n",
       "      <td>1.800000e+08</td>\n",
       "      <td>4.000000e+08</td>\n",
       "      <td>2.305074e+09</td>\n",
       "      <td>9.200000</td>\n",
       "      <td>3.073569e+09</td>\n",
       "    </tr>\n",
       "  </tbody>\n",
       "</table>\n",
       "</div>"
      ],
      "text/plain": [
       "           puNumber  refundable_support  nonrefundable_support        budget  \\\n",
       "count  7.486000e+03        3.320000e+02           3.320000e+02  3.320000e+02   \n",
       "mean   1.351785e+08        1.186446e+07           4.898099e+07  1.314224e+08   \n",
       "std    3.838218e+07        2.491656e+07           5.998012e+07  1.871482e+08   \n",
       "min    0.000000e+00        0.000000e+00           0.000000e+00  6.000000e+06   \n",
       "25%    1.120250e+08        0.000000e+00           2.500000e+07  4.552480e+07   \n",
       "50%    1.210155e+08        0.000000e+00           3.000000e+07  7.119690e+07   \n",
       "75%    1.240033e+08        1.500000e+07           4.037500e+07  1.500000e+08   \n",
       "max    2.310011e+08        1.800000e+08           4.000000e+08  2.305074e+09   \n",
       "\n",
       "           ratings    box_office  \n",
       "count  6490.000000  3.158000e+03  \n",
       "mean      6.479245  7.647870e+07  \n",
       "std       1.101665  2.403531e+08  \n",
       "min       1.000000  0.000000e+00  \n",
       "25%       5.900000  8.623900e+04  \n",
       "50%       6.600000  2.327988e+06  \n",
       "75%       7.200000  2.397967e+07  \n",
       "max       9.200000  3.073569e+09  "
      ]
     },
     "execution_count": 37,
     "metadata": {},
     "output_type": "execute_result"
    }
   ],
   "source": [
    "df.describe()"
   ]
  },
  {
   "cell_type": "code",
   "execution_count": 38,
   "metadata": {},
   "outputs": [
    {
     "data": {
      "text/plain": [
       "0"
      ]
     },
     "execution_count": 38,
     "metadata": {},
     "output_type": "execute_result"
    }
   ],
   "source": [
    "df[(df['nonrefundable_support'] != 0)&(df['budget']==0)]['title'].count()#Посчитаем количество фильмов, в которых бюджет составляет 0 руб, несмотря на наличие nonrefundable_support:"
   ]
  },
  {
   "cell_type": "code",
   "execution_count": 39,
   "metadata": {},
   "outputs": [
    {
     "data": {
      "text/plain": [
       "231"
      ]
     },
     "execution_count": 39,
     "metadata": {},
     "output_type": "execute_result"
    }
   ],
   "source": [
    "df[df['box_office'] < 1000]['title'].count()#Посчитаем количество фильмов, в которых кассовые сборы составляет менее 500 руб:"
   ]
  },
  {
   "cell_type": "markdown",
   "metadata": {},
   "source": [
    "<div style=\"border:solid blue 3px; padding: 20px\">\n",
    "<div class=\"alert alert-info\">\n",
    "    \n",
    "Остаются следующие колонки с количественными значениями:\n",
    "\n",
    "-refundable_support. Получение гос.поддержки не всегда означает, что будет возвращена какая-то часть средств (т.е. объем возвратных средств гос.поддержки во многих случает составляет 0 руб). Это нормально.\n",
    "\n",
    "-nonrefundable_support. Получение гос.поддержки всегда означает наличие какого-то объёма невозвратных средств. Поэтому выглядят  фильмы с гос.поддержкой, у которых объём невозвратных средств составляет 0 руб. Скорее всего,  указать сумму nonrefundable_support. Эти фильмы были удалены вместе с записями с  бюджетом.\n",
    "\n",
    "-ratings. Указан не для всех фильмов, но данные мы уже видили ранее, там аномалий не наблюдается.\n",
    "\n",
    "-box_office (кассовые сборы). Указаны не для всех фильмов. Известно, что сумма указана в руб. Выглядят подозрительными кассовые сборы c  значениями Например, у 231 фильмов сборы составили менее 1000 руб. Это выглядит странно.  причина - забыли приписать нули (т.е. сумма должна была быть указана в тыс руб/в млн руб), либо сумма исходная сумма была  в валюте.\n",
    "\n",
    "</div>\n",
    "</div>\n",
    "   "
   ]
  },
  {
   "cell_type": "markdown",
   "metadata": {},
   "source": [
    "<div class=\"alert alert-success\">\n",
    "<h1> Комментарий ревьюера V2✅</h1>\n",
    "\n",
    "Да, в колонке box_office действительно есть подозрительно маленькие значения, и их довольно много.\n",
    "    \n",
    "Есть предположение, что это связано с переходным периодом введения нового порядка учета прокатных удостоверений. Видимо прокатные удостоверения получали не только на фильмы, которые должны были показывать в кинотеатрах, но и на другие фильмы тоже.\n",
    "    \n",
    "Сделать с этим мы, к сожалению, ничего не можем.\n",
    "\n",
    "</div>"
   ]
  },
  {
   "cell_type": "markdown",
   "metadata": {
    "id": "Eu6oWp2CgFyS"
   },
   "source": [
    "#### Шаг 2.6. Добавьте новые столбцы\n",
    "\n",
    "\n",
    "\n"
   ]
  },
  {
   "cell_type": "markdown",
   "metadata": {
    "id": "7GgW-UpAgFyS"
   },
   "source": [
    "- Создайте столбец с информацией о годе проката. Выделите год из даты премьеры фильма."
   ]
  },
  {
   "cell_type": "code",
   "execution_count": 40,
   "metadata": {
    "id": "I-yd1DkWgFyT"
   },
   "outputs": [],
   "source": [
    "df['show_start_year'] = df['show_start_date'].dt.year"
   ]
  },
  {
   "cell_type": "markdown",
   "metadata": {},
   "source": [
    "<div class=\"alert alert-success\">\n",
    "<h1> Комментарий ревьюера✅</h1>\n",
    "\n",
    "Год получили.\n",
    "\n",
    "</div>"
   ]
  },
  {
   "cell_type": "code",
   "execution_count": 41,
   "metadata": {},
   "outputs": [
    {
     "data": {
      "text/html": [
       "<div>\n",
       "<style scoped>\n",
       "    .dataframe tbody tr th:only-of-type {\n",
       "        vertical-align: middle;\n",
       "    }\n",
       "\n",
       "    .dataframe tbody tr th {\n",
       "        vertical-align: top;\n",
       "    }\n",
       "\n",
       "    .dataframe thead th {\n",
       "        text-align: right;\n",
       "    }\n",
       "</style>\n",
       "<table border=\"1\" class=\"dataframe\">\n",
       "  <thead>\n",
       "    <tr style=\"text-align: right;\">\n",
       "      <th></th>\n",
       "      <th>title</th>\n",
       "      <th>puNumber</th>\n",
       "      <th>show_start_date</th>\n",
       "      <th>type</th>\n",
       "      <th>film_studio</th>\n",
       "      <th>production_country</th>\n",
       "      <th>director</th>\n",
       "      <th>producer</th>\n",
       "      <th>age_restriction</th>\n",
       "      <th>refundable_support</th>\n",
       "      <th>nonrefundable_support</th>\n",
       "      <th>budget</th>\n",
       "      <th>financing_source</th>\n",
       "      <th>ratings</th>\n",
       "      <th>genres</th>\n",
       "      <th>box_office</th>\n",
       "      <th>show_start_year</th>\n",
       "    </tr>\n",
       "  </thead>\n",
       "  <tbody>\n",
       "    <tr>\n",
       "      <th>0</th>\n",
       "      <td>Открытый простор</td>\n",
       "      <td>221048915</td>\n",
       "      <td>2015-11-27 12:00:00+00:00</td>\n",
       "      <td>Художественный</td>\n",
       "      <td>Тачстоун Пикчерз, Кобальт Пикчерз, Бикон Пикче...</td>\n",
       "      <td>США</td>\n",
       "      <td>Кевин Костнер</td>\n",
       "      <td>Дэвид Валдес, Кевин Костнер, Джейк Эбертс</td>\n",
       "      <td>«18+» - запрещено для детей</td>\n",
       "      <td>NaN</td>\n",
       "      <td>NaN</td>\n",
       "      <td>NaN</td>\n",
       "      <td>NaN</td>\n",
       "      <td>7.2</td>\n",
       "      <td>боевик,драма,мелодрама</td>\n",
       "      <td>NaN</td>\n",
       "      <td>2015</td>\n",
       "    </tr>\n",
       "    <tr>\n",
       "      <th>1</th>\n",
       "      <td>Особо важное задание</td>\n",
       "      <td>111013716</td>\n",
       "      <td>2016-09-13 12:00:00+00:00</td>\n",
       "      <td>Художественный</td>\n",
       "      <td>Киностудия \"Мосфильм\"</td>\n",
       "      <td>СССР</td>\n",
       "      <td>Е.Матвеев</td>\n",
       "      <td>NaN</td>\n",
       "      <td>«6+» - для детей старше 6 лет</td>\n",
       "      <td>NaN</td>\n",
       "      <td>NaN</td>\n",
       "      <td>NaN</td>\n",
       "      <td>NaN</td>\n",
       "      <td>6.6</td>\n",
       "      <td>драма,военный</td>\n",
       "      <td>NaN</td>\n",
       "      <td>2016</td>\n",
       "    </tr>\n",
       "    <tr>\n",
       "      <th>2</th>\n",
       "      <td>Особо опасен</td>\n",
       "      <td>221038416</td>\n",
       "      <td>2016-10-10 12:00:00+00:00</td>\n",
       "      <td>Художественный</td>\n",
       "      <td>Юниверсал Пикчерз, Кикстарт Продакшнз, Марк Пл...</td>\n",
       "      <td>США</td>\n",
       "      <td>Тимур Бекмамбетов</td>\n",
       "      <td>Джим Лемли, Джейсон Нетер, Марк Е.Платт, Яйн Смит</td>\n",
       "      <td>«18+» - запрещено для детей</td>\n",
       "      <td>NaN</td>\n",
       "      <td>NaN</td>\n",
       "      <td>NaN</td>\n",
       "      <td>NaN</td>\n",
       "      <td>6.8</td>\n",
       "      <td>фантастика,боевик,триллер</td>\n",
       "      <td>NaN</td>\n",
       "      <td>2016</td>\n",
       "    </tr>\n",
       "    <tr>\n",
       "      <th>3</th>\n",
       "      <td>Особо опасен</td>\n",
       "      <td>221026916</td>\n",
       "      <td>2016-06-10 12:00:00+00:00</td>\n",
       "      <td>Художественный</td>\n",
       "      <td>Юниверсал Пикчерз, Кикстарт Продакшнз, Марк Пл...</td>\n",
       "      <td>США</td>\n",
       "      <td>Тимур Бекмамбетов</td>\n",
       "      <td>Джим Лемли, Джейсон Нетер, Марк Е.Платт, Яйн Смит</td>\n",
       "      <td>«18+» - запрещено для детей</td>\n",
       "      <td>NaN</td>\n",
       "      <td>NaN</td>\n",
       "      <td>NaN</td>\n",
       "      <td>NaN</td>\n",
       "      <td>6.8</td>\n",
       "      <td>фантастика,боевик,триллер</td>\n",
       "      <td>NaN</td>\n",
       "      <td>2016</td>\n",
       "    </tr>\n",
       "    <tr>\n",
       "      <th>4</th>\n",
       "      <td>Особо опасен</td>\n",
       "      <td>221030815</td>\n",
       "      <td>2015-07-29 12:00:00+00:00</td>\n",
       "      <td>Художественный</td>\n",
       "      <td>Юниверсал Пикчерз, Кикстарт Продакшнз, Марк Пл...</td>\n",
       "      <td>США</td>\n",
       "      <td>Тимур Бекмамбетов</td>\n",
       "      <td>Джим Лемли, Джейсон Нетер, Марк Е.Платт, Яйн Смит</td>\n",
       "      <td>«18+» - запрещено для детей</td>\n",
       "      <td>NaN</td>\n",
       "      <td>NaN</td>\n",
       "      <td>NaN</td>\n",
       "      <td>NaN</td>\n",
       "      <td>6.8</td>\n",
       "      <td>фантастика,боевик,триллер</td>\n",
       "      <td>NaN</td>\n",
       "      <td>2015</td>\n",
       "    </tr>\n",
       "  </tbody>\n",
       "</table>\n",
       "</div>"
      ],
      "text/plain": [
       "                  title   puNumber           show_start_date            type  \\\n",
       "0      Открытый простор  221048915 2015-11-27 12:00:00+00:00  Художественный   \n",
       "1  Особо важное задание  111013716 2016-09-13 12:00:00+00:00  Художественный   \n",
       "2          Особо опасен  221038416 2016-10-10 12:00:00+00:00  Художественный   \n",
       "3          Особо опасен  221026916 2016-06-10 12:00:00+00:00  Художественный   \n",
       "4          Особо опасен  221030815 2015-07-29 12:00:00+00:00  Художественный   \n",
       "\n",
       "                                         film_studio production_country  \\\n",
       "0  Тачстоун Пикчерз, Кобальт Пикчерз, Бикон Пикче...                США   \n",
       "1                              Киностудия \"Мосфильм\"               СССР   \n",
       "2  Юниверсал Пикчерз, Кикстарт Продакшнз, Марк Пл...                США   \n",
       "3  Юниверсал Пикчерз, Кикстарт Продакшнз, Марк Пл...                США   \n",
       "4  Юниверсал Пикчерз, Кикстарт Продакшнз, Марк Пл...                США   \n",
       "\n",
       "            director                                           producer  \\\n",
       "0      Кевин Костнер          Дэвид Валдес, Кевин Костнер, Джейк Эбертс   \n",
       "1          Е.Матвеев                                                NaN   \n",
       "2  Тимур Бекмамбетов  Джим Лемли, Джейсон Нетер, Марк Е.Платт, Яйн Смит   \n",
       "3  Тимур Бекмамбетов  Джим Лемли, Джейсон Нетер, Марк Е.Платт, Яйн Смит   \n",
       "4  Тимур Бекмамбетов  Джим Лемли, Джейсон Нетер, Марк Е.Платт, Яйн Смит   \n",
       "\n",
       "                 age_restriction  refundable_support  nonrefundable_support  \\\n",
       "0    «18+» - запрещено для детей                 NaN                    NaN   \n",
       "1  «6+» - для детей старше 6 лет                 NaN                    NaN   \n",
       "2    «18+» - запрещено для детей                 NaN                    NaN   \n",
       "3    «18+» - запрещено для детей                 NaN                    NaN   \n",
       "4    «18+» - запрещено для детей                 NaN                    NaN   \n",
       "\n",
       "   budget financing_source  ratings                     genres  box_office  \\\n",
       "0     NaN              NaN      7.2     боевик,драма,мелодрама         NaN   \n",
       "1     NaN              NaN      6.6              драма,военный         NaN   \n",
       "2     NaN              NaN      6.8  фантастика,боевик,триллер         NaN   \n",
       "3     NaN              NaN      6.8  фантастика,боевик,триллер         NaN   \n",
       "4     NaN              NaN      6.8  фантастика,боевик,триллер         NaN   \n",
       "\n",
       "   show_start_year  \n",
       "0             2015  \n",
       "1             2016  \n",
       "2             2016  \n",
       "3             2016  \n",
       "4             2015  "
      ]
     },
     "execution_count": 41,
     "metadata": {},
     "output_type": "execute_result"
    }
   ],
   "source": [
    "df.head()"
   ]
  },
  {
   "cell_type": "markdown",
   "metadata": {},
   "source": [
    "Создали столбец с годом начала показа фильма."
   ]
  },
  {
   "cell_type": "markdown",
   "metadata": {
    "id": "nFTDLDYOgFyT"
   },
   "source": [
    "- Создайте два столбца: с именем и фамилией главного режиссёра и основным жанром фильма. В столбцы войдут первые значения из списка режиссёров и жанров соответственно.\n",
    "\n",
    "<div id=\"accordion\">\n",
    "    <div class=\"card\">\n",
    "        <div class=\"card-header\" id=\"headingThree\">\n",
    "            <button class=\"btn btn-link collapsed\" data-toggle=\"collapse\" data-target=\"#collapseHint_2\" aria-expanded=\"false\" aria-controls=\"collapseHint_2\">Подсказка</button>\n",
    "        </div>\n",
    "        <div id=\"collapseHint_2\" class=\"collapse\" aria-labelledby=\"headingThree\" data-parent=\"#accordion\">\n",
    "            <div class=\"card-body\">\n",
    "Чтобы создать такие столбцы, лучше всего использовать собственную функцию. Эту функцию можно применить к двум столбцам сразу. \n",
    "            </div>\n",
    "        </div>\n",
    "    </div>\n",
    "</div>"
   ]
  },
  {
   "cell_type": "code",
   "execution_count": 42,
   "metadata": {},
   "outputs": [],
   "source": [
    "df['director_first'] = df['director'].str.split(\",\").str[0]\n",
    "df['genre_first'] = df['genres'].str.split(\",\").str[0]\n",
    "df['director_first'] = df['director_first'].str.strip()\n",
    "df['genre_first'] = df['genre_first'].str.strip()"
   ]
  },
  {
   "cell_type": "markdown",
   "metadata": {},
   "source": [
    "<div class=\"alert alert-success\">\n",
    "<h1> Комментарий ревьюера✅</h1>\n",
    "\n",
    "Режисера и жанр тоже.\n",
    "\n",
    "</div>"
   ]
  },
  {
   "cell_type": "code",
   "execution_count": 43,
   "metadata": {},
   "outputs": [
    {
     "data": {
      "text/html": [
       "<div>\n",
       "<style scoped>\n",
       "    .dataframe tbody tr th:only-of-type {\n",
       "        vertical-align: middle;\n",
       "    }\n",
       "\n",
       "    .dataframe tbody tr th {\n",
       "        vertical-align: top;\n",
       "    }\n",
       "\n",
       "    .dataframe thead th {\n",
       "        text-align: right;\n",
       "    }\n",
       "</style>\n",
       "<table border=\"1\" class=\"dataframe\">\n",
       "  <thead>\n",
       "    <tr style=\"text-align: right;\">\n",
       "      <th></th>\n",
       "      <th>title</th>\n",
       "      <th>puNumber</th>\n",
       "      <th>show_start_date</th>\n",
       "      <th>type</th>\n",
       "      <th>film_studio</th>\n",
       "      <th>production_country</th>\n",
       "      <th>director</th>\n",
       "      <th>producer</th>\n",
       "      <th>age_restriction</th>\n",
       "      <th>refundable_support</th>\n",
       "      <th>nonrefundable_support</th>\n",
       "      <th>budget</th>\n",
       "      <th>financing_source</th>\n",
       "      <th>ratings</th>\n",
       "      <th>genres</th>\n",
       "      <th>box_office</th>\n",
       "      <th>show_start_year</th>\n",
       "      <th>director_first</th>\n",
       "      <th>genre_first</th>\n",
       "    </tr>\n",
       "  </thead>\n",
       "  <tbody>\n",
       "    <tr>\n",
       "      <th>0</th>\n",
       "      <td>Открытый простор</td>\n",
       "      <td>221048915</td>\n",
       "      <td>2015-11-27 12:00:00+00:00</td>\n",
       "      <td>Художественный</td>\n",
       "      <td>Тачстоун Пикчерз, Кобальт Пикчерз, Бикон Пикче...</td>\n",
       "      <td>США</td>\n",
       "      <td>Кевин Костнер</td>\n",
       "      <td>Дэвид Валдес, Кевин Костнер, Джейк Эбертс</td>\n",
       "      <td>«18+» - запрещено для детей</td>\n",
       "      <td>NaN</td>\n",
       "      <td>NaN</td>\n",
       "      <td>NaN</td>\n",
       "      <td>NaN</td>\n",
       "      <td>7.2</td>\n",
       "      <td>боевик,драма,мелодрама</td>\n",
       "      <td>NaN</td>\n",
       "      <td>2015</td>\n",
       "      <td>Кевин Костнер</td>\n",
       "      <td>боевик</td>\n",
       "    </tr>\n",
       "    <tr>\n",
       "      <th>1</th>\n",
       "      <td>Особо важное задание</td>\n",
       "      <td>111013716</td>\n",
       "      <td>2016-09-13 12:00:00+00:00</td>\n",
       "      <td>Художественный</td>\n",
       "      <td>Киностудия \"Мосфильм\"</td>\n",
       "      <td>СССР</td>\n",
       "      <td>Е.Матвеев</td>\n",
       "      <td>NaN</td>\n",
       "      <td>«6+» - для детей старше 6 лет</td>\n",
       "      <td>NaN</td>\n",
       "      <td>NaN</td>\n",
       "      <td>NaN</td>\n",
       "      <td>NaN</td>\n",
       "      <td>6.6</td>\n",
       "      <td>драма,военный</td>\n",
       "      <td>NaN</td>\n",
       "      <td>2016</td>\n",
       "      <td>Е.Матвеев</td>\n",
       "      <td>драма</td>\n",
       "    </tr>\n",
       "    <tr>\n",
       "      <th>2</th>\n",
       "      <td>Особо опасен</td>\n",
       "      <td>221038416</td>\n",
       "      <td>2016-10-10 12:00:00+00:00</td>\n",
       "      <td>Художественный</td>\n",
       "      <td>Юниверсал Пикчерз, Кикстарт Продакшнз, Марк Пл...</td>\n",
       "      <td>США</td>\n",
       "      <td>Тимур Бекмамбетов</td>\n",
       "      <td>Джим Лемли, Джейсон Нетер, Марк Е.Платт, Яйн Смит</td>\n",
       "      <td>«18+» - запрещено для детей</td>\n",
       "      <td>NaN</td>\n",
       "      <td>NaN</td>\n",
       "      <td>NaN</td>\n",
       "      <td>NaN</td>\n",
       "      <td>6.8</td>\n",
       "      <td>фантастика,боевик,триллер</td>\n",
       "      <td>NaN</td>\n",
       "      <td>2016</td>\n",
       "      <td>Тимур Бекмамбетов</td>\n",
       "      <td>фантастика</td>\n",
       "    </tr>\n",
       "    <tr>\n",
       "      <th>3</th>\n",
       "      <td>Особо опасен</td>\n",
       "      <td>221026916</td>\n",
       "      <td>2016-06-10 12:00:00+00:00</td>\n",
       "      <td>Художественный</td>\n",
       "      <td>Юниверсал Пикчерз, Кикстарт Продакшнз, Марк Пл...</td>\n",
       "      <td>США</td>\n",
       "      <td>Тимур Бекмамбетов</td>\n",
       "      <td>Джим Лемли, Джейсон Нетер, Марк Е.Платт, Яйн Смит</td>\n",
       "      <td>«18+» - запрещено для детей</td>\n",
       "      <td>NaN</td>\n",
       "      <td>NaN</td>\n",
       "      <td>NaN</td>\n",
       "      <td>NaN</td>\n",
       "      <td>6.8</td>\n",
       "      <td>фантастика,боевик,триллер</td>\n",
       "      <td>NaN</td>\n",
       "      <td>2016</td>\n",
       "      <td>Тимур Бекмамбетов</td>\n",
       "      <td>фантастика</td>\n",
       "    </tr>\n",
       "    <tr>\n",
       "      <th>4</th>\n",
       "      <td>Особо опасен</td>\n",
       "      <td>221030815</td>\n",
       "      <td>2015-07-29 12:00:00+00:00</td>\n",
       "      <td>Художественный</td>\n",
       "      <td>Юниверсал Пикчерз, Кикстарт Продакшнз, Марк Пл...</td>\n",
       "      <td>США</td>\n",
       "      <td>Тимур Бекмамбетов</td>\n",
       "      <td>Джим Лемли, Джейсон Нетер, Марк Е.Платт, Яйн Смит</td>\n",
       "      <td>«18+» - запрещено для детей</td>\n",
       "      <td>NaN</td>\n",
       "      <td>NaN</td>\n",
       "      <td>NaN</td>\n",
       "      <td>NaN</td>\n",
       "      <td>6.8</td>\n",
       "      <td>фантастика,боевик,триллер</td>\n",
       "      <td>NaN</td>\n",
       "      <td>2015</td>\n",
       "      <td>Тимур Бекмамбетов</td>\n",
       "      <td>фантастика</td>\n",
       "    </tr>\n",
       "  </tbody>\n",
       "</table>\n",
       "</div>"
      ],
      "text/plain": [
       "                  title   puNumber           show_start_date            type  \\\n",
       "0      Открытый простор  221048915 2015-11-27 12:00:00+00:00  Художественный   \n",
       "1  Особо важное задание  111013716 2016-09-13 12:00:00+00:00  Художественный   \n",
       "2          Особо опасен  221038416 2016-10-10 12:00:00+00:00  Художественный   \n",
       "3          Особо опасен  221026916 2016-06-10 12:00:00+00:00  Художественный   \n",
       "4          Особо опасен  221030815 2015-07-29 12:00:00+00:00  Художественный   \n",
       "\n",
       "                                         film_studio production_country  \\\n",
       "0  Тачстоун Пикчерз, Кобальт Пикчерз, Бикон Пикче...                США   \n",
       "1                              Киностудия \"Мосфильм\"               СССР   \n",
       "2  Юниверсал Пикчерз, Кикстарт Продакшнз, Марк Пл...                США   \n",
       "3  Юниверсал Пикчерз, Кикстарт Продакшнз, Марк Пл...                США   \n",
       "4  Юниверсал Пикчерз, Кикстарт Продакшнз, Марк Пл...                США   \n",
       "\n",
       "            director                                           producer  \\\n",
       "0      Кевин Костнер          Дэвид Валдес, Кевин Костнер, Джейк Эбертс   \n",
       "1          Е.Матвеев                                                NaN   \n",
       "2  Тимур Бекмамбетов  Джим Лемли, Джейсон Нетер, Марк Е.Платт, Яйн Смит   \n",
       "3  Тимур Бекмамбетов  Джим Лемли, Джейсон Нетер, Марк Е.Платт, Яйн Смит   \n",
       "4  Тимур Бекмамбетов  Джим Лемли, Джейсон Нетер, Марк Е.Платт, Яйн Смит   \n",
       "\n",
       "                 age_restriction  refundable_support  nonrefundable_support  \\\n",
       "0    «18+» - запрещено для детей                 NaN                    NaN   \n",
       "1  «6+» - для детей старше 6 лет                 NaN                    NaN   \n",
       "2    «18+» - запрещено для детей                 NaN                    NaN   \n",
       "3    «18+» - запрещено для детей                 NaN                    NaN   \n",
       "4    «18+» - запрещено для детей                 NaN                    NaN   \n",
       "\n",
       "   budget financing_source  ratings                     genres  box_office  \\\n",
       "0     NaN              NaN      7.2     боевик,драма,мелодрама         NaN   \n",
       "1     NaN              NaN      6.6              драма,военный         NaN   \n",
       "2     NaN              NaN      6.8  фантастика,боевик,триллер         NaN   \n",
       "3     NaN              NaN      6.8  фантастика,боевик,триллер         NaN   \n",
       "4     NaN              NaN      6.8  фантастика,боевик,триллер         NaN   \n",
       "\n",
       "   show_start_year     director_first genre_first  \n",
       "0             2015      Кевин Костнер      боевик  \n",
       "1             2016          Е.Матвеев       драма  \n",
       "2             2016  Тимур Бекмамбетов  фантастика  \n",
       "3             2016  Тимур Бекмамбетов  фантастика  \n",
       "4             2015  Тимур Бекмамбетов  фантастика  "
      ]
     },
     "execution_count": 43,
     "metadata": {},
     "output_type": "execute_result"
    }
   ],
   "source": [
    "df.head()"
   ]
  },
  {
   "cell_type": "markdown",
   "metadata": {},
   "source": [
    "Создали два столбца: с именем и фамилией главного режиссёра и основным жанром фильма. "
   ]
  },
  {
   "cell_type": "markdown",
   "metadata": {
    "id": "1FsCXHwdgFyU"
   },
   "source": [
    "- Посчитайте, какую долю от общего бюджета фильма составляет государственная поддержка."
   ]
  },
  {
   "cell_type": "code",
   "execution_count": 44,
   "metadata": {
    "id": "LV6qFuZLgFyV"
   },
   "outputs": [
    {
     "data": {
      "text/html": [
       "<div>\n",
       "<style scoped>\n",
       "    .dataframe tbody tr th:only-of-type {\n",
       "        vertical-align: middle;\n",
       "    }\n",
       "\n",
       "    .dataframe tbody tr th {\n",
       "        vertical-align: top;\n",
       "    }\n",
       "\n",
       "    .dataframe thead th {\n",
       "        text-align: right;\n",
       "    }\n",
       "</style>\n",
       "<table border=\"1\" class=\"dataframe\">\n",
       "  <thead>\n",
       "    <tr style=\"text-align: right;\">\n",
       "      <th></th>\n",
       "      <th>puNumber</th>\n",
       "      <th>refundable_support</th>\n",
       "      <th>nonrefundable_support</th>\n",
       "      <th>budget</th>\n",
       "      <th>ratings</th>\n",
       "      <th>box_office</th>\n",
       "      <th>show_start_year</th>\n",
       "      <th>ratio_help_to_budget</th>\n",
       "    </tr>\n",
       "  </thead>\n",
       "  <tbody>\n",
       "    <tr>\n",
       "      <th>count</th>\n",
       "      <td>7.486000e+03</td>\n",
       "      <td>3.320000e+02</td>\n",
       "      <td>3.320000e+02</td>\n",
       "      <td>3.320000e+02</td>\n",
       "      <td>6490.000000</td>\n",
       "      <td>3.158000e+03</td>\n",
       "      <td>7486.000000</td>\n",
       "      <td>332.000000</td>\n",
       "    </tr>\n",
       "    <tr>\n",
       "      <th>mean</th>\n",
       "      <td>1.351785e+08</td>\n",
       "      <td>1.186446e+07</td>\n",
       "      <td>4.898099e+07</td>\n",
       "      <td>1.314224e+08</td>\n",
       "      <td>6.479245</td>\n",
       "      <td>7.647870e+07</td>\n",
       "      <td>2014.594176</td>\n",
       "      <td>0.542098</td>\n",
       "    </tr>\n",
       "    <tr>\n",
       "      <th>std</th>\n",
       "      <td>3.838218e+07</td>\n",
       "      <td>2.491656e+07</td>\n",
       "      <td>5.998012e+07</td>\n",
       "      <td>1.871482e+08</td>\n",
       "      <td>1.101665</td>\n",
       "      <td>2.403531e+08</td>\n",
       "      <td>3.008452</td>\n",
       "      <td>0.196925</td>\n",
       "    </tr>\n",
       "    <tr>\n",
       "      <th>min</th>\n",
       "      <td>0.000000e+00</td>\n",
       "      <td>0.000000e+00</td>\n",
       "      <td>0.000000e+00</td>\n",
       "      <td>6.000000e+06</td>\n",
       "      <td>1.000000</td>\n",
       "      <td>0.000000e+00</td>\n",
       "      <td>2010.000000</td>\n",
       "      <td>0.044043</td>\n",
       "    </tr>\n",
       "    <tr>\n",
       "      <th>25%</th>\n",
       "      <td>1.120250e+08</td>\n",
       "      <td>0.000000e+00</td>\n",
       "      <td>2.500000e+07</td>\n",
       "      <td>4.552480e+07</td>\n",
       "      <td>5.900000</td>\n",
       "      <td>8.623900e+04</td>\n",
       "      <td>2012.000000</td>\n",
       "      <td>0.384615</td>\n",
       "    </tr>\n",
       "    <tr>\n",
       "      <th>50%</th>\n",
       "      <td>1.210155e+08</td>\n",
       "      <td>0.000000e+00</td>\n",
       "      <td>3.000000e+07</td>\n",
       "      <td>7.119690e+07</td>\n",
       "      <td>6.600000</td>\n",
       "      <td>2.327988e+06</td>\n",
       "      <td>2015.000000</td>\n",
       "      <td>0.614038</td>\n",
       "    </tr>\n",
       "    <tr>\n",
       "      <th>75%</th>\n",
       "      <td>1.240033e+08</td>\n",
       "      <td>1.500000e+07</td>\n",
       "      <td>4.037500e+07</td>\n",
       "      <td>1.500000e+08</td>\n",
       "      <td>7.200000</td>\n",
       "      <td>2.397967e+07</td>\n",
       "      <td>2017.000000</td>\n",
       "      <td>0.661412</td>\n",
       "    </tr>\n",
       "    <tr>\n",
       "      <th>max</th>\n",
       "      <td>2.310011e+08</td>\n",
       "      <td>1.800000e+08</td>\n",
       "      <td>4.000000e+08</td>\n",
       "      <td>2.305074e+09</td>\n",
       "      <td>9.200000</td>\n",
       "      <td>3.073569e+09</td>\n",
       "      <td>2019.000000</td>\n",
       "      <td>1.000000</td>\n",
       "    </tr>\n",
       "  </tbody>\n",
       "</table>\n",
       "</div>"
      ],
      "text/plain": [
       "           puNumber  refundable_support  nonrefundable_support        budget  \\\n",
       "count  7.486000e+03        3.320000e+02           3.320000e+02  3.320000e+02   \n",
       "mean   1.351785e+08        1.186446e+07           4.898099e+07  1.314224e+08   \n",
       "std    3.838218e+07        2.491656e+07           5.998012e+07  1.871482e+08   \n",
       "min    0.000000e+00        0.000000e+00           0.000000e+00  6.000000e+06   \n",
       "25%    1.120250e+08        0.000000e+00           2.500000e+07  4.552480e+07   \n",
       "50%    1.210155e+08        0.000000e+00           3.000000e+07  7.119690e+07   \n",
       "75%    1.240033e+08        1.500000e+07           4.037500e+07  1.500000e+08   \n",
       "max    2.310011e+08        1.800000e+08           4.000000e+08  2.305074e+09   \n",
       "\n",
       "           ratings    box_office  show_start_year  ratio_help_to_budget  \n",
       "count  6490.000000  3.158000e+03      7486.000000            332.000000  \n",
       "mean      6.479245  7.647870e+07      2014.594176              0.542098  \n",
       "std       1.101665  2.403531e+08         3.008452              0.196925  \n",
       "min       1.000000  0.000000e+00      2010.000000              0.044043  \n",
       "25%       5.900000  8.623900e+04      2012.000000              0.384615  \n",
       "50%       6.600000  2.327988e+06      2015.000000              0.614038  \n",
       "75%       7.200000  2.397967e+07      2017.000000              0.661412  \n",
       "max       9.200000  3.073569e+09      2019.000000              1.000000  "
      ]
     },
     "execution_count": 44,
     "metadata": {},
     "output_type": "execute_result"
    }
   ],
   "source": [
    "df['ratio_help_to_budget'] = (df['refundable_support'] + df['nonrefundable_support']) / df['budget']\n",
    "df.describe()"
   ]
  },
  {
   "cell_type": "markdown",
   "metadata": {},
   "source": [
    "<div class=\"alert alert-success\">\n",
    "<h1> Комментарий ревьюера✅</h1>\n",
    "\n",
    "Долю поддержки тоже посчитали верно.\n",
    "\n",
    "</div>"
   ]
  },
  {
   "cell_type": "markdown",
   "metadata": {},
   "source": [
    "Посчитали долю государственной поддержки по отношению к бюджету. Среднее значение составляет примерно 54%."
   ]
  },
  {
   "cell_type": "markdown",
   "metadata": {
    "id": "6t4EukPLgFyV"
   },
   "source": [
    "### Шаг 3. Проведите исследовательский анализ данных\n"
   ]
  },
  {
   "cell_type": "markdown",
   "metadata": {
    "id": "vAH8WCzugFyV"
   },
   "source": [
    "- Посмотрите, сколько фильмов выходило в прокат каждый год. Обратите внимание, что данные о прокате в кинотеатрах известны не для всех фильмов. Посчитайте, какую долю составляют фильмы с указанной информацией о прокате в кинотеатрах."
   ]
  },
  {
   "cell_type": "code",
   "execution_count": 45,
   "metadata": {
    "id": "ABeV47y7gFyW"
   },
   "outputs": [
    {
     "data": {
      "text/html": [
       "<div>\n",
       "<style scoped>\n",
       "    .dataframe tbody tr th:only-of-type {\n",
       "        vertical-align: middle;\n",
       "    }\n",
       "\n",
       "    .dataframe tbody tr th {\n",
       "        vertical-align: top;\n",
       "    }\n",
       "\n",
       "    .dataframe thead th {\n",
       "        text-align: right;\n",
       "    }\n",
       "</style>\n",
       "<table border=\"1\" class=\"dataframe\">\n",
       "  <thead>\n",
       "    <tr style=\"text-align: right;\">\n",
       "      <th></th>\n",
       "      <th>show_start_year</th>\n",
       "      <th>box_office</th>\n",
       "    </tr>\n",
       "  </thead>\n",
       "  <tbody>\n",
       "    <tr>\n",
       "      <th>0</th>\n",
       "      <td>2010</td>\n",
       "      <td>105</td>\n",
       "    </tr>\n",
       "    <tr>\n",
       "      <th>1</th>\n",
       "      <td>2011</td>\n",
       "      <td>109</td>\n",
       "    </tr>\n",
       "    <tr>\n",
       "      <th>2</th>\n",
       "      <td>2012</td>\n",
       "      <td>128</td>\n",
       "    </tr>\n",
       "    <tr>\n",
       "      <th>3</th>\n",
       "      <td>2013</td>\n",
       "      <td>184</td>\n",
       "    </tr>\n",
       "    <tr>\n",
       "      <th>4</th>\n",
       "      <td>2014</td>\n",
       "      <td>279</td>\n",
       "    </tr>\n",
       "    <tr>\n",
       "      <th>5</th>\n",
       "      <td>2015</td>\n",
       "      <td>465</td>\n",
       "    </tr>\n",
       "    <tr>\n",
       "      <th>6</th>\n",
       "      <td>2016</td>\n",
       "      <td>526</td>\n",
       "    </tr>\n",
       "    <tr>\n",
       "      <th>7</th>\n",
       "      <td>2017</td>\n",
       "      <td>357</td>\n",
       "    </tr>\n",
       "    <tr>\n",
       "      <th>8</th>\n",
       "      <td>2018</td>\n",
       "      <td>475</td>\n",
       "    </tr>\n",
       "    <tr>\n",
       "      <th>9</th>\n",
       "      <td>2019</td>\n",
       "      <td>530</td>\n",
       "    </tr>\n",
       "  </tbody>\n",
       "</table>\n",
       "</div>"
      ],
      "text/plain": [
       "   show_start_year  box_office\n",
       "0             2010         105\n",
       "1             2011         109\n",
       "2             2012         128\n",
       "3             2013         184\n",
       "4             2014         279\n",
       "5             2015         465\n",
       "6             2016         526\n",
       "7             2017         357\n",
       "8             2018         475\n",
       "9             2019         530"
      ]
     },
     "execution_count": 45,
     "metadata": {},
     "output_type": "execute_result"
    }
   ],
   "source": [
    "year_one = df.groupby('show_start_year')['box_office'].count().reset_index()\n",
    "year_one#bинформация о количестве фильмов каждый год"
   ]
  },
  {
   "cell_type": "code",
   "execution_count": 46,
   "metadata": {},
   "outputs": [],
   "source": [
    "df_pivot = df.loc[df['box_office'].notna(), ['show_start_year', 'box_office']] \\\n",
    "                .groupby('show_start_year') \\\n",
    "                .agg(['count', 'sum', 'mean', 'median'])\n",
    "\n",
    "df_pivot.columns = df_pivot.columns.get_level_values(1)"
   ]
  },
  {
   "cell_type": "code",
   "execution_count": 47,
   "metadata": {},
   "outputs": [
    {
     "data": {
      "text/plain": [
       "Text(0, 0.5, 'Количество фильмов, шт.')"
      ]
     },
     "execution_count": 47,
     "metadata": {},
     "output_type": "execute_result"
    },
    {
     "data": {
      "image/png": "[encoded data removed]",
      "text/plain": [
       "<Figure size 432x288 with 1 Axes>"
      ]
     },
     "metadata": {
      "needs_background": "light"
     },
     "output_type": "display_data"
    }
   ],
   "source": [
    "df_pivot.plot(kind='bar', y='count')\n",
    "plt.title('Количество фильмов в прокате по годам')\n",
    "plt.xlabel('Годы')\n",
    "plt.ylabel('Количество фильмов, шт.')\n",
    "#print(f'Доля фильмов, для которых есть информация о прокате: {df.box_office.notna().mean():.2f}')#наглядная информация о количестве фильмов в прокате по годам"
   ]
  },
  {
   "cell_type": "markdown",
   "metadata": {},
   "source": [
    "<div class=\"alert alert-danger\">\n",
    "<h1> Комментарий ревьюера ❌</h1>\n",
    "\n",
    "Нужно оформить график. Добавить подписи осей.\n",
    "\n",
    "\n",
    "</div>"
   ]
  },
  {
   "cell_type": "markdown",
   "metadata": {},
   "source": [
    "<div style=\"border:solid blue 3px; padding: 20px\">\n",
    "<div class=\"alert alert-info\">\n",
    "    \n",
    "Добавила подписи осей.\n",
    "    \n",
    "</div>\n",
    "</div>"
   ]
  },
  {
   "cell_type": "markdown",
   "metadata": {},
   "source": [
    "<div class=\"alert alert-success\">\n",
    "<h1> Комментарий ревьюера V2✅</h1>\n",
    "\n",
    "👍\n",
    "\n",
    "</div>"
   ]
  },
  {
   "cell_type": "markdown",
   "metadata": {},
   "source": [
    "Наибольшее количество фильмов в прокате было в 2016 и 2019 годах - 526 и 530 соответственно. Наименьшее число - в 2010 и 2011 годах, 105 и 109 соответственно."
   ]
  },
  {
   "cell_type": "markdown",
   "metadata": {},
   "source": [
    "<div class=\"alert alert-success\">\n",
    "<h1> Комментарий ревьюера✅</h1>\n",
    "\n",
    "Верно. В целом у нас менее 50% фильмов имеют информацию о кассовых сборах.\n",
    "\n",
    "</div>"
   ]
  },
  {
   "cell_type": "markdown",
   "metadata": {
    "id": "BEOdcIrIgFyW"
   },
   "source": [
    "- Изучите, как менялась динамика проката по годам. В каком году сумма сборов была минимальной? А максимальной?"
   ]
  },
  {
   "cell_type": "code",
   "execution_count": 48,
   "metadata": {
    "id": "tfEhofYvgFyX"
   },
   "outputs": [],
   "source": [
    "year_two = (df[['show_start_year','box_office']].groupby(\n",
    "    'show_start_year'\n",
    "    ).apply(lambda x : x['box_office'].apply(pd.notna).mean()) * 100).to_frame(\n",
    "    ).reset_index()#изменение доли фильмов с информацией о прокате по годам"
   ]
  },
  {
   "cell_type": "markdown",
   "metadata": {},
   "source": [
    "<div class=\"alert alert-success\">\n",
    "<h1> Комментарий ревьюера✅</h1>\n",
    "\n",
    "Отличная функция.\n",
    "\n",
    "</div>"
   ]
  },
  {
   "cell_type": "code",
   "execution_count": 49,
   "metadata": {},
   "outputs": [
    {
     "data": {
      "text/html": [
       "<div>\n",
       "<style scoped>\n",
       "    .dataframe tbody tr th:only-of-type {\n",
       "        vertical-align: middle;\n",
       "    }\n",
       "\n",
       "    .dataframe tbody tr th {\n",
       "        vertical-align: top;\n",
       "    }\n",
       "\n",
       "    .dataframe thead th {\n",
       "        text-align: right;\n",
       "    }\n",
       "</style>\n",
       "<table border=\"1\" class=\"dataframe\">\n",
       "  <thead>\n",
       "    <tr style=\"text-align: right;\">\n",
       "      <th></th>\n",
       "      <th>show_start_year</th>\n",
       "      <th>0</th>\n",
       "    </tr>\n",
       "  </thead>\n",
       "  <tbody>\n",
       "    <tr>\n",
       "      <th>0</th>\n",
       "      <td>2010</td>\n",
       "      <td>10.659898</td>\n",
       "    </tr>\n",
       "    <tr>\n",
       "      <th>1</th>\n",
       "      <td>2011</td>\n",
       "      <td>17.524116</td>\n",
       "    </tr>\n",
       "    <tr>\n",
       "      <th>2</th>\n",
       "      <td>2012</td>\n",
       "      <td>21.585160</td>\n",
       "    </tr>\n",
       "    <tr>\n",
       "      <th>3</th>\n",
       "      <td>2013</td>\n",
       "      <td>29.206349</td>\n",
       "    </tr>\n",
       "    <tr>\n",
       "      <th>4</th>\n",
       "      <td>2014</td>\n",
       "      <td>34.572491</td>\n",
       "    </tr>\n",
       "    <tr>\n",
       "      <th>5</th>\n",
       "      <td>2015</td>\n",
       "      <td>65.957447</td>\n",
       "    </tr>\n",
       "    <tr>\n",
       "      <th>6</th>\n",
       "      <td>2016</td>\n",
       "      <td>64.303178</td>\n",
       "    </tr>\n",
       "    <tr>\n",
       "      <th>7</th>\n",
       "      <td>2017</td>\n",
       "      <td>70.693069</td>\n",
       "    </tr>\n",
       "    <tr>\n",
       "      <th>8</th>\n",
       "      <td>2018</td>\n",
       "      <td>53.310887</td>\n",
       "    </tr>\n",
       "    <tr>\n",
       "      <th>9</th>\n",
       "      <td>2019</td>\n",
       "      <td>56.989247</td>\n",
       "    </tr>\n",
       "  </tbody>\n",
       "</table>\n",
       "</div>"
      ],
      "text/plain": [
       "   show_start_year          0\n",
       "0             2010  10.659898\n",
       "1             2011  17.524116\n",
       "2             2012  21.585160\n",
       "3             2013  29.206349\n",
       "4             2014  34.572491\n",
       "5             2015  65.957447\n",
       "6             2016  64.303178\n",
       "7             2017  70.693069\n",
       "8             2018  53.310887\n",
       "9             2019  56.989247"
      ]
     },
     "execution_count": 49,
     "metadata": {},
     "output_type": "execute_result"
    }
   ],
   "source": [
    "year_two"
   ]
  },
  {
   "cell_type": "code",
   "execution_count": 50,
   "metadata": {},
   "outputs": [],
   "source": [
    "prokat = year_one.merge(year_two, how='left', on='show_start_year')\n"
   ]
  },
  {
   "cell_type": "code",
   "execution_count": 51,
   "metadata": {},
   "outputs": [
    {
     "data": {
      "text/html": [
       "<div>\n",
       "<style scoped>\n",
       "    .dataframe tbody tr th:only-of-type {\n",
       "        vertical-align: middle;\n",
       "    }\n",
       "\n",
       "    .dataframe tbody tr th {\n",
       "        vertical-align: top;\n",
       "    }\n",
       "\n",
       "    .dataframe thead th {\n",
       "        text-align: right;\n",
       "    }\n",
       "</style>\n",
       "<table border=\"1\" class=\"dataframe\">\n",
       "  <thead>\n",
       "    <tr style=\"text-align: right;\">\n",
       "      <th></th>\n",
       "      <th>show_start_year</th>\n",
       "      <th>films_in_cinema_count</th>\n",
       "      <th>cinema_part</th>\n",
       "    </tr>\n",
       "  </thead>\n",
       "  <tbody>\n",
       "    <tr>\n",
       "      <th>0</th>\n",
       "      <td>2010</td>\n",
       "      <td>105</td>\n",
       "      <td>10.659898</td>\n",
       "    </tr>\n",
       "    <tr>\n",
       "      <th>1</th>\n",
       "      <td>2011</td>\n",
       "      <td>109</td>\n",
       "      <td>17.524116</td>\n",
       "    </tr>\n",
       "    <tr>\n",
       "      <th>2</th>\n",
       "      <td>2012</td>\n",
       "      <td>128</td>\n",
       "      <td>21.585160</td>\n",
       "    </tr>\n",
       "    <tr>\n",
       "      <th>3</th>\n",
       "      <td>2013</td>\n",
       "      <td>184</td>\n",
       "      <td>29.206349</td>\n",
       "    </tr>\n",
       "    <tr>\n",
       "      <th>4</th>\n",
       "      <td>2014</td>\n",
       "      <td>279</td>\n",
       "      <td>34.572491</td>\n",
       "    </tr>\n",
       "    <tr>\n",
       "      <th>5</th>\n",
       "      <td>2015</td>\n",
       "      <td>465</td>\n",
       "      <td>65.957447</td>\n",
       "    </tr>\n",
       "    <tr>\n",
       "      <th>6</th>\n",
       "      <td>2016</td>\n",
       "      <td>526</td>\n",
       "      <td>64.303178</td>\n",
       "    </tr>\n",
       "    <tr>\n",
       "      <th>7</th>\n",
       "      <td>2017</td>\n",
       "      <td>357</td>\n",
       "      <td>70.693069</td>\n",
       "    </tr>\n",
       "    <tr>\n",
       "      <th>8</th>\n",
       "      <td>2018</td>\n",
       "      <td>475</td>\n",
       "      <td>53.310887</td>\n",
       "    </tr>\n",
       "    <tr>\n",
       "      <th>9</th>\n",
       "      <td>2019</td>\n",
       "      <td>530</td>\n",
       "      <td>56.989247</td>\n",
       "    </tr>\n",
       "  </tbody>\n",
       "</table>\n",
       "</div>"
      ],
      "text/plain": [
       "   show_start_year  films_in_cinema_count  cinema_part\n",
       "0             2010                    105    10.659898\n",
       "1             2011                    109    17.524116\n",
       "2             2012                    128    21.585160\n",
       "3             2013                    184    29.206349\n",
       "4             2014                    279    34.572491\n",
       "5             2015                    465    65.957447\n",
       "6             2016                    526    64.303178\n",
       "7             2017                    357    70.693069\n",
       "8             2018                    475    53.310887\n",
       "9             2019                    530    56.989247"
      ]
     },
     "execution_count": 51,
     "metadata": {},
     "output_type": "execute_result"
    }
   ],
   "source": [
    "prokat.rename(columns={'box_office' : 'films_in_cinema_count', 0 : 'cinema_part'}, inplace=True)\n",
    "prokat"
   ]
  },
  {
   "cell_type": "code",
   "execution_count": 52,
   "metadata": {},
   "outputs": [
    {
     "name": "stdout",
     "output_type": "stream",
     "text": [
      "Доля фильмов, для которых есть информация о прокате: 0.42\n"
     ]
    },
    {
     "data": {
      "image/png": "[encoded data removed]",
      "text/plain": [
       "<Figure size 432x288 with 1 Axes>"
      ]
     },
     "metadata": {
      "needs_background": "light"
     },
     "output_type": "display_data"
    }
   ],
   "source": [
    "prokat.plot(kind='bar', x = 'show_start_year', y='cinema_part')\n",
    "plt.title('Доля фильмов с данными о сборах')\n",
    "plt.xlabel('Годы')\n",
    "plt.ylabel('Доля фильмов, шт.')\n",
    "print(f'Доля фильмов, для которых есть информация о прокате: {df.box_office.notna().mean():.2f}')"
   ]
  },
  {
   "cell_type": "markdown",
   "metadata": {},
   "source": [
    "<div class=\"alert alert-danger\">\n",
    "<h1> Комментарий ревьюера ❌</h1>\n",
    "\n",
    "Оформи пожалуйста график. Название, мне кажется, не подходящее.\n",
    "\n",
    "\n",
    "</div>"
   ]
  },
  {
   "cell_type": "markdown",
   "metadata": {},
   "source": [
    "<div style=\"border:solid blue 3px; padding: 20px\">\n",
    "<div class=\"alert alert-info\">\n",
    "    \n",
    "Поправила.\n",
    "    \n",
    "</div>\n",
    "</div>"
   ]
  },
  {
   "cell_type": "markdown",
   "metadata": {},
   "source": [
    "<div class=\"alert alert-success\">\n",
    "<h1> Комментарий ревьюера V2✅</h1>\n",
    "\n",
    "👍\n",
    "\n",
    "</div>"
   ]
  },
  {
   "cell_type": "markdown",
   "metadata": {},
   "source": [
    "Наибольшее количество фильмов с информацией о прокате было в 2015 и 2017 годах - 66% и 70% соответственно. Наименьшее число - в 2010 году, почти 11%."
   ]
  },
  {
   "cell_type": "markdown",
   "metadata": {},
   "source": [
    "<div class=\"alert alert-success\">\n",
    "<h1> Комментарий ревьюера✅</h1>\n",
    "\n",
    "Наглядно видно, как росла доля фильмов с данными о сборах.\n",
    "\n",
    "</div>"
   ]
  },
  {
   "cell_type": "code",
   "execution_count": 53,
   "metadata": {},
   "outputs": [
    {
     "name": "stdout",
     "output_type": "stream",
     "text": [
      "В 2010 году сумма сборов была минимальной и составила 2428654.0руб , в 2018 максимальной и составила 49668403134.0руб.\n"
     ]
    },
    {
     "data": {
      "image/png": "[encoded data removed]",
      "text/plain": [
       "<Figure size 432x288 with 1 Axes>"
      ]
     },
     "metadata": {
      "needs_background": "light"
     },
     "output_type": "display_data"
    }
   ],
   "source": [
    "df_pivot.plot(kind='line', y='sum')\n",
    "plt.title('Cборы фильмов в прокате по годам')\n",
    "plt.xlabel('Годы')\n",
    "plt.ylabel('Сумма сборов, руб')\n",
    "print(f\"В {df_pivot['sum'].idxmin()} году сумма сборов была минимальной и составила {df_pivot['sum'].min()}руб , в {df_pivot['sum'].idxmax()} максимальной и составила {df_pivot['sum'].max().round()}руб.\")"
   ]
  },
  {
   "cell_type": "markdown",
   "metadata": {},
   "source": [
    "<div class=\"alert alert-danger\">\n",
    "<h1> Комментарий ревьюера ❌</h1>\n",
    "\n",
    "Нужно оформить график.\n",
    "\n",
    "\n",
    "</div>"
   ]
  },
  {
   "cell_type": "markdown",
   "metadata": {},
   "source": [
    "<div style=\"border:solid blue 3px; padding: 20px\">\n",
    "<div class=\"alert alert-info\">\n",
    "    \n",
    "Поправила.\n",
    "    \n",
    "</div>\n",
    "</div>"
   ]
  },
  {
   "cell_type": "markdown",
   "metadata": {},
   "source": [
    "<div class=\"alert alert-success\">\n",
    "<h1> Комментарий ревьюера V2✅</h1>\n",
    "\n",
    "👍\n",
    "\n",
    "</div>"
   ]
  },
  {
   "cell_type": "markdown",
   "metadata": {
    "id": "G-7qS-N-gFyY"
   },
   "source": [
    "- С помощью сводной таблицы посчитайте среднюю и медианную сумму сборов для каждого года."
   ]
  },
  {
   "cell_type": "code",
   "execution_count": 54,
   "metadata": {},
   "outputs": [
    {
     "data": {
      "text/html": [
       "<div>\n",
       "<style scoped>\n",
       "    .dataframe tbody tr th:only-of-type {\n",
       "        vertical-align: middle;\n",
       "    }\n",
       "\n",
       "    .dataframe tbody tr th {\n",
       "        vertical-align: top;\n",
       "    }\n",
       "\n",
       "    .dataframe thead th {\n",
       "        text-align: right;\n",
       "    }\n",
       "</style>\n",
       "<table border=\"1\" class=\"dataframe\">\n",
       "  <thead>\n",
       "    <tr style=\"text-align: right;\">\n",
       "      <th></th>\n",
       "      <th>mean</th>\n",
       "      <th>median</th>\n",
       "    </tr>\n",
       "    <tr>\n",
       "      <th>show_start_year</th>\n",
       "      <th></th>\n",
       "      <th></th>\n",
       "    </tr>\n",
       "  </thead>\n",
       "  <tbody>\n",
       "    <tr>\n",
       "      <th>2010</th>\n",
       "      <td>2.313004e+04</td>\n",
       "      <td>1700.000</td>\n",
       "    </tr>\n",
       "    <tr>\n",
       "      <th>2011</th>\n",
       "      <td>1.293832e+05</td>\n",
       "      <td>3000.000</td>\n",
       "    </tr>\n",
       "    <tr>\n",
       "      <th>2012</th>\n",
       "      <td>5.433924e+04</td>\n",
       "      <td>5660.000</td>\n",
       "    </tr>\n",
       "    <tr>\n",
       "      <th>2013</th>\n",
       "      <td>1.619549e+05</td>\n",
       "      <td>3522.500</td>\n",
       "    </tr>\n",
       "    <tr>\n",
       "      <th>2014</th>\n",
       "      <td>2.668442e+07</td>\n",
       "      <td>18160.000</td>\n",
       "    </tr>\n",
       "    <tr>\n",
       "      <th>2015</th>\n",
       "      <td>8.494057e+07</td>\n",
       "      <td>4920933.000</td>\n",
       "    </tr>\n",
       "    <tr>\n",
       "      <th>2016</th>\n",
       "      <td>9.100057e+07</td>\n",
       "      <td>3846679.410</td>\n",
       "    </tr>\n",
       "    <tr>\n",
       "      <th>2017</th>\n",
       "      <td>1.360328e+08</td>\n",
       "      <td>9968340.000</td>\n",
       "    </tr>\n",
       "    <tr>\n",
       "      <th>2018</th>\n",
       "      <td>1.045651e+08</td>\n",
       "      <td>8891102.210</td>\n",
       "    </tr>\n",
       "    <tr>\n",
       "      <th>2019</th>\n",
       "      <td>9.136926e+07</td>\n",
       "      <td>4627798.345</td>\n",
       "    </tr>\n",
       "  </tbody>\n",
       "</table>\n",
       "</div>"
      ],
      "text/plain": [
       "                         mean       median\n",
       "show_start_year                           \n",
       "2010             2.313004e+04     1700.000\n",
       "2011             1.293832e+05     3000.000\n",
       "2012             5.433924e+04     5660.000\n",
       "2013             1.619549e+05     3522.500\n",
       "2014             2.668442e+07    18160.000\n",
       "2015             8.494057e+07  4920933.000\n",
       "2016             9.100057e+07  3846679.410\n",
       "2017             1.360328e+08  9968340.000\n",
       "2018             1.045651e+08  8891102.210\n",
       "2019             9.136926e+07  4627798.345"
      ]
     },
     "execution_count": 54,
     "metadata": {},
     "output_type": "execute_result"
    }
   ],
   "source": [
    "prokat = df.groupby('show_start_year')['box_office'].agg(['mean', 'median'])\n",
    "prokat"
   ]
  },
  {
   "cell_type": "code",
   "execution_count": 55,
   "metadata": {},
   "outputs": [
    {
     "data": {
      "text/plain": [
       "Text(0, 0.5, 'Сумма сборов, руб')"
      ]
     },
     "execution_count": 55,
     "metadata": {},
     "output_type": "execute_result"
    },
    {
     "data": {
      "image/png": "[encoded data removed]",
      "text/plain": [
       "<Figure size 432x288 with 1 Axes>"
      ]
     },
     "metadata": {
      "needs_background": "light"
     },
     "output_type": "display_data"
    }
   ],
   "source": [
    "df_pivot.plot(kind='line', y=['median', 'mean'])\n",
    "plt.title('Средняя и медианная сумма сборов по годам')\n",
    "plt.xlabel('Годы')\n",
    "plt.ylabel('Сумма сборов, руб')"
   ]
  },
  {
   "cell_type": "markdown",
   "metadata": {},
   "source": [
    "<div class=\"alert alert-danger\">\n",
    "<h1> Комментарий ревьюера ❌</h1>\n",
    "\n",
    "Добавь, пожалуста, подписи осей.\n",
    "\n",
    "\n",
    "</div>"
   ]
  },
  {
   "cell_type": "markdown",
   "metadata": {},
   "source": [
    "<div style=\"border:solid blue 3px; padding: 20px\">\n",
    "<div class=\"alert alert-info\">\n",
    "    \n",
    "Поправила.\n",
    "    \n",
    "</div>\n",
    "</div>"
   ]
  },
  {
   "cell_type": "markdown",
   "metadata": {},
   "source": [
    "<div class=\"alert alert-success\">\n",
    "<h1> Комментарий ревьюера V2✅</h1>\n",
    "\n",
    "👍\n",
    "\n",
    "</div>"
   ]
  },
  {
   "cell_type": "markdown",
   "metadata": {
    "id": "jmp-rgg9gFyY"
   },
   "source": [
    "Видим, что до 2013 года среднее и медианное значения сборов близки. Но при этом и данных по этим годам значительно меньше. Начиная примерно с 2014 года, наблюдаем увеличение данных о прокате и ,в то же время, значительное расхождение медианного и среднего значений сборов. Данный факт, возможно, объясняется выходом фильмов с очень большим сборами."
   ]
  },
  {
   "cell_type": "markdown",
   "metadata": {},
   "source": [
    "<div class=\"alert alert-success\">\n",
    "<h1> Комментарий ревьюера✅</h1>\n",
    "    \n",
    "Все верно, только наверно не бюджет, а сборы. Для кинорынка наличие фильмов с очень большими сборами явление не редкое.\n",
    "\n",
    "</div>"
   ]
  },
  {
   "cell_type": "markdown",
   "metadata": {
    "id": "Ok89WFwJgFyZ"
   },
   "source": [
    "- Определите, влияет ли возрастное ограничение аудитории («6+», «12+», «16+», «18+» и т. д.) на сборы фильма в прокате в период с 2015 по 2019 год? Фильмы с каким возрастным ограничением собрали больше всего денег в прокате? Меняется ли картина в зависимости от года? Если да, предположите, с чем это может быть связано."
   ]
  },
  {
   "cell_type": "code",
   "execution_count": 56,
   "metadata": {
    "id": "jsSbEqfjgFya"
   },
   "outputs": [
    {
     "data": {
      "text/plain": [
       "age_restriction\n",
       "«0+» - для любой зрительской аудитории      809,077,425.97\n",
       "«18+» - запрещено для детей              40,759,615,572.12\n",
       "«6+» - для детей старше 6 лет            55,798,610,799.68\n",
       "«12+» - для детей старше 12 лет          60,619,446,628.33\n",
       "«16+» - для детей старше 16 лет          76,034,733,643.63\n",
       "Name: box_office, dtype: float64"
      ]
     },
     "execution_count": 56,
     "metadata": {},
     "output_type": "execute_result"
    }
   ],
   "source": [
    "pd.options.display.float_format = '{:,.2f}'.format\n",
    "df.query('2015 <= show_start_year').groupby('age_restriction')['box_office'].sum().sort_values()\n"
   ]
  },
  {
   "cell_type": "markdown",
   "metadata": {},
   "source": [
    "<div class=\"alert alert-warning\">\n",
    "<h1> Комментарий ревьюера 💡</h1>\n",
    "\n",
    "Вот с такой настройкой можно представить цифры в человекочитаемом формате\n",
    "\n",
    "    pd.options.display.float_format = '{:,.2f}'.format\n",
    "\n",
    "</div>"
   ]
  },
  {
   "cell_type": "markdown",
   "metadata": {},
   "source": [
    "<div style=\"border:solid blue 3px; padding: 20px\">\n",
    "<div class=\"alert alert-info\">\n",
    "    \n",
    "Применила, спасибо.\n",
    "    \n",
    "</div>\n",
    "</div>"
   ]
  },
  {
   "cell_type": "markdown",
   "metadata": {},
   "source": [
    "В период с 2015 по 2019 год больше всего кассовых сборов у фильмов 16+."
   ]
  },
  {
   "cell_type": "markdown",
   "metadata": {},
   "source": [
    "<div class=\"alert alert-success\">\n",
    "<h1> Комментарий ревьюера✅</h1>\n",
    "\n",
    "Похоже что так.\n",
    "\n",
    "</div>"
   ]
  },
  {
   "cell_type": "code",
   "execution_count": 57,
   "metadata": {},
   "outputs": [
    {
     "data": {
      "text/html": [
       "<div>\n",
       "<style scoped>\n",
       "    .dataframe tbody tr th:only-of-type {\n",
       "        vertical-align: middle;\n",
       "    }\n",
       "\n",
       "    .dataframe tbody tr th {\n",
       "        vertical-align: top;\n",
       "    }\n",
       "\n",
       "    .dataframe thead th {\n",
       "        text-align: right;\n",
       "    }\n",
       "</style>\n",
       "<table border=\"1\" class=\"dataframe\">\n",
       "  <thead>\n",
       "    <tr style=\"text-align: right;\">\n",
       "      <th></th>\n",
       "      <th>show_start_year</th>\n",
       "      <th>age_restriction</th>\n",
       "      <th>box_office</th>\n",
       "    </tr>\n",
       "  </thead>\n",
       "  <tbody>\n",
       "    <tr>\n",
       "      <th>0</th>\n",
       "      <td>2015</td>\n",
       "      <td>«0+» - для любой зрительской аудитории</td>\n",
       "      <td>379,054,578.37</td>\n",
       "    </tr>\n",
       "    <tr>\n",
       "      <th>1</th>\n",
       "      <td>2015</td>\n",
       "      <td>«12+» - для детей старше 12 лет</td>\n",
       "      <td>13,616,082,008.91</td>\n",
       "    </tr>\n",
       "    <tr>\n",
       "      <th>2</th>\n",
       "      <td>2015</td>\n",
       "      <td>«16+» - для детей старше 16 лет</td>\n",
       "      <td>11,368,120,870.27</td>\n",
       "    </tr>\n",
       "    <tr>\n",
       "      <th>3</th>\n",
       "      <td>2015</td>\n",
       "      <td>«18+» - запрещено для детей</td>\n",
       "      <td>5,432,308,367.44</td>\n",
       "    </tr>\n",
       "    <tr>\n",
       "      <th>4</th>\n",
       "      <td>2015</td>\n",
       "      <td>«6+» - для детей старше 6 лет</td>\n",
       "      <td>8,701,799,371.41</td>\n",
       "    </tr>\n",
       "    <tr>\n",
       "      <th>5</th>\n",
       "      <td>2016</td>\n",
       "      <td>«0+» - для любой зрительской аудитории</td>\n",
       "      <td>150,228,848.67</td>\n",
       "    </tr>\n",
       "    <tr>\n",
       "      <th>6</th>\n",
       "      <td>2016</td>\n",
       "      <td>«12+» - для детей старше 12 лет</td>\n",
       "      <td>12,204,446,524.39</td>\n",
       "    </tr>\n",
       "    <tr>\n",
       "      <th>7</th>\n",
       "      <td>2016</td>\n",
       "      <td>«16+» - для детей старше 16 лет</td>\n",
       "      <td>16,664,548,541.74</td>\n",
       "    </tr>\n",
       "    <tr>\n",
       "      <th>8</th>\n",
       "      <td>2016</td>\n",
       "      <td>«18+» - запрещено для детей</td>\n",
       "      <td>6,793,929,818.87</td>\n",
       "    </tr>\n",
       "    <tr>\n",
       "      <th>9</th>\n",
       "      <td>2016</td>\n",
       "      <td>«6+» - для детей старше 6 лет</td>\n",
       "      <td>12,053,146,008.24</td>\n",
       "    </tr>\n",
       "    <tr>\n",
       "      <th>10</th>\n",
       "      <td>2017</td>\n",
       "      <td>«0+» - для любой зрительской аудитории</td>\n",
       "      <td>229,598,930.00</td>\n",
       "    </tr>\n",
       "    <tr>\n",
       "      <th>11</th>\n",
       "      <td>2017</td>\n",
       "      <td>«12+» - для детей старше 12 лет</td>\n",
       "      <td>7,851,427,660.67</td>\n",
       "    </tr>\n",
       "    <tr>\n",
       "      <th>12</th>\n",
       "      <td>2017</td>\n",
       "      <td>«16+» - для детей старше 16 лет</td>\n",
       "      <td>18,745,042,900.06</td>\n",
       "    </tr>\n",
       "    <tr>\n",
       "      <th>13</th>\n",
       "      <td>2017</td>\n",
       "      <td>«18+» - запрещено для детей</td>\n",
       "      <td>9,651,495,581.02</td>\n",
       "    </tr>\n",
       "    <tr>\n",
       "      <th>14</th>\n",
       "      <td>2017</td>\n",
       "      <td>«6+» - для детей старше 6 лет</td>\n",
       "      <td>12,086,142,145.76</td>\n",
       "    </tr>\n",
       "    <tr>\n",
       "      <th>15</th>\n",
       "      <td>2018</td>\n",
       "      <td>«0+» - для любой зрительской аудитории</td>\n",
       "      <td>32,449,002.11</td>\n",
       "    </tr>\n",
       "    <tr>\n",
       "      <th>16</th>\n",
       "      <td>2018</td>\n",
       "      <td>«12+» - для детей старше 12 лет</td>\n",
       "      <td>14,267,291,660.69</td>\n",
       "    </tr>\n",
       "    <tr>\n",
       "      <th>17</th>\n",
       "      <td>2018</td>\n",
       "      <td>«16+» - для детей старше 16 лет</td>\n",
       "      <td>16,503,602,346.96</td>\n",
       "    </tr>\n",
       "    <tr>\n",
       "      <th>18</th>\n",
       "      <td>2018</td>\n",
       "      <td>«18+» - запрещено для детей</td>\n",
       "      <td>8,760,085,501.15</td>\n",
       "    </tr>\n",
       "    <tr>\n",
       "      <th>19</th>\n",
       "      <td>2018</td>\n",
       "      <td>«6+» - для детей старше 6 лет</td>\n",
       "      <td>10,104,974,623.41</td>\n",
       "    </tr>\n",
       "    <tr>\n",
       "      <th>20</th>\n",
       "      <td>2019</td>\n",
       "      <td>«0+» - для любой зрительской аудитории</td>\n",
       "      <td>17,746,066.82</td>\n",
       "    </tr>\n",
       "    <tr>\n",
       "      <th>21</th>\n",
       "      <td>2019</td>\n",
       "      <td>«12+» - для детей старше 12 лет</td>\n",
       "      <td>12,680,198,773.67</td>\n",
       "    </tr>\n",
       "    <tr>\n",
       "      <th>22</th>\n",
       "      <td>2019</td>\n",
       "      <td>«16+» - для детей старше 16 лет</td>\n",
       "      <td>12,753,418,984.60</td>\n",
       "    </tr>\n",
       "    <tr>\n",
       "      <th>23</th>\n",
       "      <td>2019</td>\n",
       "      <td>«18+» - запрещено для детей</td>\n",
       "      <td>10,121,796,303.64</td>\n",
       "    </tr>\n",
       "    <tr>\n",
       "      <th>24</th>\n",
       "      <td>2019</td>\n",
       "      <td>«6+» - для детей старше 6 лет</td>\n",
       "      <td>12,852,548,650.86</td>\n",
       "    </tr>\n",
       "  </tbody>\n",
       "</table>\n",
       "</div>"
      ],
      "text/plain": [
       "    show_start_year                         age_restriction        box_office\n",
       "0              2015  «0+» - для любой зрительской аудитории    379,054,578.37\n",
       "1              2015         «12+» - для детей старше 12 лет 13,616,082,008.91\n",
       "2              2015         «16+» - для детей старше 16 лет 11,368,120,870.27\n",
       "3              2015             «18+» - запрещено для детей  5,432,308,367.44\n",
       "4              2015           «6+» - для детей старше 6 лет  8,701,799,371.41\n",
       "5              2016  «0+» - для любой зрительской аудитории    150,228,848.67\n",
       "6              2016         «12+» - для детей старше 12 лет 12,204,446,524.39\n",
       "7              2016         «16+» - для детей старше 16 лет 16,664,548,541.74\n",
       "8              2016             «18+» - запрещено для детей  6,793,929,818.87\n",
       "9              2016           «6+» - для детей старше 6 лет 12,053,146,008.24\n",
       "10             2017  «0+» - для любой зрительской аудитории    229,598,930.00\n",
       "11             2017         «12+» - для детей старше 12 лет  7,851,427,660.67\n",
       "12             2017         «16+» - для детей старше 16 лет 18,745,042,900.06\n",
       "13             2017             «18+» - запрещено для детей  9,651,495,581.02\n",
       "14             2017           «6+» - для детей старше 6 лет 12,086,142,145.76\n",
       "15             2018  «0+» - для любой зрительской аудитории     32,449,002.11\n",
       "16             2018         «12+» - для детей старше 12 лет 14,267,291,660.69\n",
       "17             2018         «16+» - для детей старше 16 лет 16,503,602,346.96\n",
       "18             2018             «18+» - запрещено для детей  8,760,085,501.15\n",
       "19             2018           «6+» - для детей старше 6 лет 10,104,974,623.41\n",
       "20             2019  «0+» - для любой зрительской аудитории     17,746,066.82\n",
       "21             2019         «12+» - для детей старше 12 лет 12,680,198,773.67\n",
       "22             2019         «16+» - для детей старше 16 лет 12,753,418,984.60\n",
       "23             2019             «18+» - запрещено для детей 10,121,796,303.64\n",
       "24             2019           «6+» - для детей старше 6 лет 12,852,548,650.86"
      ]
     },
     "execution_count": 57,
     "metadata": {},
     "output_type": "execute_result"
    }
   ],
   "source": [
    "prokat = df.query('2015 <= show_start_year').groupby(['show_start_year', 'age_restriction'])['box_office'].agg('sum').reset_index()\n",
    "prokat "
   ]
  },
  {
   "cell_type": "code",
   "execution_count": 58,
   "metadata": {},
   "outputs": [
    {
     "data": {
      "image/png": "[encoded data removed]",
      "text/plain": [
       "<Figure size 617.875x360 with 1 Axes>"
      ]
     },
     "metadata": {
      "needs_background": "light"
     },
     "output_type": "display_data"
    }
   ],
   "source": [
    "fg = sns.catplot(x='show_start_year', y='box_office', hue='age_restriction', data=prokat, kind='bar');\n",
    "plt.title('Сумма сборов фильмов');\n",
    "plt.xlabel('Год');\n",
    "plt.ylabel('Сумма сборов по годам в рублях');"
   ]
  },
  {
   "cell_type": "markdown",
   "metadata": {},
   "source": [
    "Видим по графику, что почти во все годы лидирует по сборам кино 16+, в 2015 в лидерах кино 12+, а в 2019 - 6+. Возможно, это связано с тем, что именно в 2015 году было больше фильмов для категории 12+, а в 2019 - для категории 6+."
   ]
  },
  {
   "cell_type": "markdown",
   "metadata": {},
   "source": [
    "<div class=\"alert alert-success\">\n",
    "<h1> Комментарий ревьюера✅</h1>\n",
    "\n",
    "Можно было проверить эту гипотезу и построить график с количеством фильмов в каждой из групп. \n",
    "    \n",
    "В целом верно, возможно дело именно в количестве. Также может быть выход одного фильма блокбастера оказало определенное влияние.\n",
    "\n",
    "</div>"
   ]
  },
  {
   "cell_type": "markdown",
   "metadata": {
    "id": "l_Kg6Ku4gFya"
   },
   "source": [
    "### Шаг 4. Исследуйте фильмы, которые получили государственную поддержку\n",
    "\n",
    "На этом этапе нет конкретных инструкций и заданий — поищите интересные закономерности в данных. Посмотрите, сколько выделяют средств на поддержку кино. Проверьте, хорошо ли окупаются такие фильмы, какой у них рейтинг."
   ]
  },
  {
   "cell_type": "markdown",
   "metadata": {},
   "source": [
    "Создадим столбцы с суммой гос. поддержки и с разностью между сборами и бюджетом."
   ]
  },
  {
   "cell_type": "code",
   "execution_count": 59,
   "metadata": {},
   "outputs": [],
   "source": [
    "df['total_support'] = df['refundable_support'] + df['nonrefundable_support']\n",
    "df['payback'] = df['box_office'] - df['budget']"
   ]
  },
  {
   "cell_type": "code",
   "execution_count": 60,
   "metadata": {},
   "outputs": [
    {
     "data": {
      "text/html": [
       "<div>\n",
       "<style scoped>\n",
       "    .dataframe tbody tr th:only-of-type {\n",
       "        vertical-align: middle;\n",
       "    }\n",
       "\n",
       "    .dataframe tbody tr th {\n",
       "        vertical-align: top;\n",
       "    }\n",
       "\n",
       "    .dataframe thead th {\n",
       "        text-align: right;\n",
       "    }\n",
       "</style>\n",
       "<table border=\"1\" class=\"dataframe\">\n",
       "  <thead>\n",
       "    <tr style=\"text-align: right;\">\n",
       "      <th></th>\n",
       "      <th>puNumber</th>\n",
       "      <th>refundable_support</th>\n",
       "      <th>nonrefundable_support</th>\n",
       "      <th>budget</th>\n",
       "      <th>ratings</th>\n",
       "      <th>box_office</th>\n",
       "      <th>show_start_year</th>\n",
       "      <th>ratio_help_to_budget</th>\n",
       "      <th>total_support</th>\n",
       "      <th>payback</th>\n",
       "    </tr>\n",
       "  </thead>\n",
       "  <tbody>\n",
       "    <tr>\n",
       "      <th>count</th>\n",
       "      <td>7,486.00</td>\n",
       "      <td>332.00</td>\n",
       "      <td>332.00</td>\n",
       "      <td>332.00</td>\n",
       "      <td>6,490.00</td>\n",
       "      <td>3,158.00</td>\n",
       "      <td>7,486.00</td>\n",
       "      <td>332.00</td>\n",
       "      <td>332.00</td>\n",
       "      <td>318.00</td>\n",
       "    </tr>\n",
       "    <tr>\n",
       "      <th>mean</th>\n",
       "      <td>135,178,527.64</td>\n",
       "      <td>11,864,457.83</td>\n",
       "      <td>48,980,988.89</td>\n",
       "      <td>131,422,395.80</td>\n",
       "      <td>6.48</td>\n",
       "      <td>76,478,696.16</td>\n",
       "      <td>2,014.59</td>\n",
       "      <td>0.54</td>\n",
       "      <td>60,845,446.72</td>\n",
       "      <td>425,697.96</td>\n",
       "    </tr>\n",
       "    <tr>\n",
       "      <th>std</th>\n",
       "      <td>38,382,177.41</td>\n",
       "      <td>24,916,555.26</td>\n",
       "      <td>59,980,117.92</td>\n",
       "      <td>187,148,242.67</td>\n",
       "      <td>1.10</td>\n",
       "      <td>240,353,122.82</td>\n",
       "      <td>3.01</td>\n",
       "      <td>0.20</td>\n",
       "      <td>72,755,459.47</td>\n",
       "      <td>315,910,432.27</td>\n",
       "    </tr>\n",
       "    <tr>\n",
       "      <th>min</th>\n",
       "      <td>0.00</td>\n",
       "      <td>0.00</td>\n",
       "      <td>0.00</td>\n",
       "      <td>6,000,000.00</td>\n",
       "      <td>1.00</td>\n",
       "      <td>0.00</td>\n",
       "      <td>2,010.00</td>\n",
       "      <td>0.04</td>\n",
       "      <td>3,000,000.00</td>\n",
       "      <td>-1,971,477,243.41</td>\n",
       "    </tr>\n",
       "    <tr>\n",
       "      <th>25%</th>\n",
       "      <td>112,025,043.00</td>\n",
       "      <td>0.00</td>\n",
       "      <td>25,000,000.00</td>\n",
       "      <td>45,524,799.50</td>\n",
       "      <td>5.90</td>\n",
       "      <td>86,239.00</td>\n",
       "      <td>2,012.00</td>\n",
       "      <td>0.38</td>\n",
       "      <td>25,333,750.00</td>\n",
       "      <td>-70,694,429.75</td>\n",
       "    </tr>\n",
       "    <tr>\n",
       "      <th>50%</th>\n",
       "      <td>121,015,464.50</td>\n",
       "      <td>0.00</td>\n",
       "      <td>30,000,000.00</td>\n",
       "      <td>71,196,901.50</td>\n",
       "      <td>6.60</td>\n",
       "      <td>2,327,987.55</td>\n",
       "      <td>2,015.00</td>\n",
       "      <td>0.61</td>\n",
       "      <td>35,000,000.00</td>\n",
       "      <td>-40,680,816.25</td>\n",
       "    </tr>\n",
       "    <tr>\n",
       "      <th>75%</th>\n",
       "      <td>124,003,313.75</td>\n",
       "      <td>15,000,000.00</td>\n",
       "      <td>40,375,000.00</td>\n",
       "      <td>150,000,000.00</td>\n",
       "      <td>7.20</td>\n",
       "      <td>23,979,671.02</td>\n",
       "      <td>2,017.00</td>\n",
       "      <td>0.66</td>\n",
       "      <td>60,000,000.00</td>\n",
       "      <td>-2,362,182.18</td>\n",
       "    </tr>\n",
       "    <tr>\n",
       "      <th>max</th>\n",
       "      <td>231,001,111.00</td>\n",
       "      <td>180,000,000.00</td>\n",
       "      <td>400,000,000.00</td>\n",
       "      <td>2,305,074,303.00</td>\n",
       "      <td>9.20</td>\n",
       "      <td>3,073,568,690.79</td>\n",
       "      <td>2,019.00</td>\n",
       "      <td>1.00</td>\n",
       "      <td>500,000,000.00</td>\n",
       "      <td>2,913,568,690.79</td>\n",
       "    </tr>\n",
       "  </tbody>\n",
       "</table>\n",
       "</div>"
      ],
      "text/plain": [
       "            puNumber  refundable_support  nonrefundable_support  \\\n",
       "count       7,486.00              332.00                 332.00   \n",
       "mean  135,178,527.64       11,864,457.83          48,980,988.89   \n",
       "std    38,382,177.41       24,916,555.26          59,980,117.92   \n",
       "min             0.00                0.00                   0.00   \n",
       "25%   112,025,043.00                0.00          25,000,000.00   \n",
       "50%   121,015,464.50                0.00          30,000,000.00   \n",
       "75%   124,003,313.75       15,000,000.00          40,375,000.00   \n",
       "max   231,001,111.00      180,000,000.00         400,000,000.00   \n",
       "\n",
       "                budget  ratings       box_office  show_start_year  \\\n",
       "count           332.00 6,490.00         3,158.00         7,486.00   \n",
       "mean    131,422,395.80     6.48    76,478,696.16         2,014.59   \n",
       "std     187,148,242.67     1.10   240,353,122.82             3.01   \n",
       "min       6,000,000.00     1.00             0.00         2,010.00   \n",
       "25%      45,524,799.50     5.90        86,239.00         2,012.00   \n",
       "50%      71,196,901.50     6.60     2,327,987.55         2,015.00   \n",
       "75%     150,000,000.00     7.20    23,979,671.02         2,017.00   \n",
       "max   2,305,074,303.00     9.20 3,073,568,690.79         2,019.00   \n",
       "\n",
       "       ratio_help_to_budget  total_support           payback  \n",
       "count                332.00         332.00            318.00  \n",
       "mean                   0.54  60,845,446.72        425,697.96  \n",
       "std                    0.20  72,755,459.47    315,910,432.27  \n",
       "min                    0.04   3,000,000.00 -1,971,477,243.41  \n",
       "25%                    0.38  25,333,750.00    -70,694,429.75  \n",
       "50%                    0.61  35,000,000.00    -40,680,816.25  \n",
       "75%                    0.66  60,000,000.00     -2,362,182.18  \n",
       "max                    1.00 500,000,000.00  2,913,568,690.79  "
      ]
     },
     "execution_count": 60,
     "metadata": {},
     "output_type": "execute_result"
    }
   ],
   "source": [
    "df.describe()"
   ]
  },
  {
   "cell_type": "markdown",
   "metadata": {},
   "source": [
    "Видим, что в среднем отношение  суммы господдержки к бюджету составляет 54%. То есть, в среднем половина бюджета - господдержка. Также интересно, что  в среднем фильмы имеют чистую прибыль в 425 тыс. рублей. При это среднее значение прибыли отрицательно, 75% фильмов также убыточно. Такой огромный разброс говорит о том, что в данных есть единичные хиты, которые бьют рекорды по сборам."
   ]
  },
  {
   "cell_type": "markdown",
   "metadata": {},
   "source": [
    "<div class=\"alert alert-success\">\n",
    "<h1> Комментарий ревьюера✅</h1>\n",
    "\n",
    "Отличный анализ.\n",
    "\n",
    "</div>"
   ]
  },
  {
   "cell_type": "markdown",
   "metadata": {},
   "source": [
    "Выделим фильмы с господдержкой в отдельную таблицу."
   ]
  },
  {
   "cell_type": "code",
   "execution_count": 61,
   "metadata": {},
   "outputs": [
    {
     "data": {
      "text/html": [
       "<div>\n",
       "<style scoped>\n",
       "    .dataframe tbody tr th:only-of-type {\n",
       "        vertical-align: middle;\n",
       "    }\n",
       "\n",
       "    .dataframe tbody tr th {\n",
       "        vertical-align: top;\n",
       "    }\n",
       "\n",
       "    .dataframe thead th {\n",
       "        text-align: right;\n",
       "    }\n",
       "</style>\n",
       "<table border=\"1\" class=\"dataframe\">\n",
       "  <thead>\n",
       "    <tr style=\"text-align: right;\">\n",
       "      <th></th>\n",
       "      <th>title</th>\n",
       "      <th>puNumber</th>\n",
       "      <th>show_start_date</th>\n",
       "      <th>type</th>\n",
       "      <th>film_studio</th>\n",
       "      <th>production_country</th>\n",
       "      <th>director</th>\n",
       "      <th>producer</th>\n",
       "      <th>age_restriction</th>\n",
       "      <th>refundable_support</th>\n",
       "      <th>...</th>\n",
       "      <th>financing_source</th>\n",
       "      <th>ratings</th>\n",
       "      <th>genres</th>\n",
       "      <th>box_office</th>\n",
       "      <th>show_start_year</th>\n",
       "      <th>director_first</th>\n",
       "      <th>genre_first</th>\n",
       "      <th>ratio_help_to_budget</th>\n",
       "      <th>total_support</th>\n",
       "      <th>payback</th>\n",
       "    </tr>\n",
       "  </thead>\n",
       "  <tbody>\n",
       "    <tr>\n",
       "      <th>1281</th>\n",
       "      <td>Пока еще жива</td>\n",
       "      <td>111005313</td>\n",
       "      <td>2013-10-11 12:00:00+00:00</td>\n",
       "      <td>Художественный</td>\n",
       "      <td>АНО содействия развитию кинематографии \"Ангел-...</td>\n",
       "      <td>Россия</td>\n",
       "      <td>А.Атанесян</td>\n",
       "      <td>А.Атанесян, М.Бабаханов, Р.Бутко</td>\n",
       "      <td>«16+» - для детей старше 16 лет</td>\n",
       "      <td>0.00</td>\n",
       "      <td>...</td>\n",
       "      <td>Министерство культуры</td>\n",
       "      <td>8.10</td>\n",
       "      <td>драма,мелодрама</td>\n",
       "      <td>365,353.60</td>\n",
       "      <td>2013</td>\n",
       "      <td>А.Атанесян</td>\n",
       "      <td>драма</td>\n",
       "      <td>0.33</td>\n",
       "      <td>26,500,000.00</td>\n",
       "      <td>-79,046,546.40</td>\n",
       "    </tr>\n",
       "    <tr>\n",
       "      <th>1448</th>\n",
       "      <td>Бесславные придурки</td>\n",
       "      <td>111003314</td>\n",
       "      <td>2014-03-28 12:00:00+00:00</td>\n",
       "      <td>Художественный</td>\n",
       "      <td>ООО \"Компания \"АТК-Студио\"</td>\n",
       "      <td>Россия</td>\n",
       "      <td>А.Якимчук</td>\n",
       "      <td>А.Тютрюмов</td>\n",
       "      <td>«12+» - для детей старше 12 лет</td>\n",
       "      <td>0.00</td>\n",
       "      <td>...</td>\n",
       "      <td>Министерство культуры</td>\n",
       "      <td>NaN</td>\n",
       "      <td>NaN</td>\n",
       "      <td>28,140.00</td>\n",
       "      <td>2014</td>\n",
       "      <td>А.Якимчук</td>\n",
       "      <td>NaN</td>\n",
       "      <td>0.70</td>\n",
       "      <td>26,000,000.00</td>\n",
       "      <td>-37,114,717.00</td>\n",
       "    </tr>\n",
       "    <tr>\n",
       "      <th>1498</th>\n",
       "      <td>Невидимки</td>\n",
       "      <td>111004213</td>\n",
       "      <td>2013-09-10 12:00:00+00:00</td>\n",
       "      <td>Художественный</td>\n",
       "      <td>ООО \"Компания \"РЕАЛ-ДАКОТА\"</td>\n",
       "      <td>Россия</td>\n",
       "      <td>Р.Давлетьяров, С.Комаров</td>\n",
       "      <td>Р.Давлетьяров, А.Котелевский, А.Олейников</td>\n",
       "      <td>«12+» - для детей старше 12 лет</td>\n",
       "      <td>0.00</td>\n",
       "      <td>...</td>\n",
       "      <td>Фонд кино</td>\n",
       "      <td>5.30</td>\n",
       "      <td>комедия,фантастика</td>\n",
       "      <td>19,957,031.50</td>\n",
       "      <td>2013</td>\n",
       "      <td>Р.Давлетьяров</td>\n",
       "      <td>комедия</td>\n",
       "      <td>0.61</td>\n",
       "      <td>107,847,945.00</td>\n",
       "      <td>-156,066,458.50</td>\n",
       "    </tr>\n",
       "    <tr>\n",
       "      <th>1524</th>\n",
       "      <td>БЕРЦЫ</td>\n",
       "      <td>111004314</td>\n",
       "      <td>2014-05-05 12:00:00+00:00</td>\n",
       "      <td>Художественный</td>\n",
       "      <td>ООО \"Студия \"Пассажир\"</td>\n",
       "      <td>Россия</td>\n",
       "      <td>Е.Миндадзе (псевдоним Катя Шагалова)</td>\n",
       "      <td>Л.Антонова</td>\n",
       "      <td>«16+» - для детей старше 16 лет</td>\n",
       "      <td>0.00</td>\n",
       "      <td>...</td>\n",
       "      <td>Министерство культуры</td>\n",
       "      <td>4.20</td>\n",
       "      <td>драма</td>\n",
       "      <td>55,917.50</td>\n",
       "      <td>2014</td>\n",
       "      <td>Е.Миндадзе (псевдоним Катя Шагалова)</td>\n",
       "      <td>драма</td>\n",
       "      <td>0.69</td>\n",
       "      <td>28,000,000.00</td>\n",
       "      <td>-40,518,222.50</td>\n",
       "    </tr>\n",
       "    <tr>\n",
       "      <th>1792</th>\n",
       "      <td>Братья Ч</td>\n",
       "      <td>111004414</td>\n",
       "      <td>2014-04-23 12:00:00+00:00</td>\n",
       "      <td>Художественный</td>\n",
       "      <td>ООО \"Студия \"Пассажир\"</td>\n",
       "      <td>Россия</td>\n",
       "      <td>М.Угаров</td>\n",
       "      <td>А.Миндадзе, Л.Антонова</td>\n",
       "      <td>«16+» - для детей старше 16 лет</td>\n",
       "      <td>0.00</td>\n",
       "      <td>...</td>\n",
       "      <td>Министерство культуры</td>\n",
       "      <td>6.40</td>\n",
       "      <td>драма</td>\n",
       "      <td>232,100.00</td>\n",
       "      <td>2014</td>\n",
       "      <td>М.Угаров</td>\n",
       "      <td>драма</td>\n",
       "      <td>0.62</td>\n",
       "      <td>25,000,000.00</td>\n",
       "      <td>-39,783,022.00</td>\n",
       "    </tr>\n",
       "    <tr>\n",
       "      <th>1854</th>\n",
       "      <td>Тайна Сухаревой башни. Чародей равновесия</td>\n",
       "      <td>114000115</td>\n",
       "      <td>2015-02-18 12:00:00+00:00</td>\n",
       "      <td>Анимационный</td>\n",
       "      <td>ООО \"Студия \"Мастер-Фильм\"</td>\n",
       "      <td>Россия</td>\n",
       "      <td>С.Серегин</td>\n",
       "      <td>А.Герасимов</td>\n",
       "      <td>«6+» - для детей старше 6 лет</td>\n",
       "      <td>0.00</td>\n",
       "      <td>...</td>\n",
       "      <td>Министерство культуры</td>\n",
       "      <td>6.10</td>\n",
       "      <td>мультфильм,фэнтези,история</td>\n",
       "      <td>15,078,858.60</td>\n",
       "      <td>2015</td>\n",
       "      <td>С.Серегин</td>\n",
       "      <td>мультфильм</td>\n",
       "      <td>0.48</td>\n",
       "      <td>25,000,000.00</td>\n",
       "      <td>-36,771,141.40</td>\n",
       "    </tr>\n",
       "    <tr>\n",
       "      <th>1870</th>\n",
       "      <td>А зори здесь тихие..._</td>\n",
       "      <td>111002915</td>\n",
       "      <td>2015-03-16 12:00:00+00:00</td>\n",
       "      <td>Художественный</td>\n",
       "      <td>ООО \"Компания \"Реал-Дакота\"</td>\n",
       "      <td>Россия</td>\n",
       "      <td>Р.Давлетьяров</td>\n",
       "      <td>NaN</td>\n",
       "      <td>«12+» - для детей старше 12 лет</td>\n",
       "      <td>50,000,000.00</td>\n",
       "      <td>...</td>\n",
       "      <td>Фонд кино</td>\n",
       "      <td>8.50</td>\n",
       "      <td>драма,военный,история</td>\n",
       "      <td>249,166,767.70</td>\n",
       "      <td>2015</td>\n",
       "      <td>Р.Давлетьяров</td>\n",
       "      <td>драма</td>\n",
       "      <td>0.68</td>\n",
       "      <td>150,000,000.00</td>\n",
       "      <td>28,578,373.70</td>\n",
       "    </tr>\n",
       "    <tr>\n",
       "      <th>1871</th>\n",
       "      <td>Две женщины</td>\n",
       "      <td>111013714</td>\n",
       "      <td>2014-10-02 12:00:00+00:00</td>\n",
       "      <td>Художественный</td>\n",
       "      <td>ООО \"Продюсерский Центр \"Хорошо Продакшн\", Rez...</td>\n",
       "      <td>Россия, Франция, Латвия</td>\n",
       "      <td>В.Глаголева</td>\n",
       "      <td>Н.Иванова</td>\n",
       "      <td>«12+» - для детей старше 12 лет</td>\n",
       "      <td>0.00</td>\n",
       "      <td>...</td>\n",
       "      <td>Министерство культуры, Фонд кино</td>\n",
       "      <td>6.70</td>\n",
       "      <td>драма</td>\n",
       "      <td>4,731,239.50</td>\n",
       "      <td>2014</td>\n",
       "      <td>В.Глаголева</td>\n",
       "      <td>драма</td>\n",
       "      <td>0.54</td>\n",
       "      <td>46,502,299.00</td>\n",
       "      <td>-81,478,827.50</td>\n",
       "    </tr>\n",
       "    <tr>\n",
       "      <th>1903</th>\n",
       "      <td>Призрак_.</td>\n",
       "      <td>111001815</td>\n",
       "      <td>2015-03-02 12:00:00+00:00</td>\n",
       "      <td>Художественный</td>\n",
       "      <td>ООО \"Водород 2011\"</td>\n",
       "      <td>Россия</td>\n",
       "      <td>А.Войтинский</td>\n",
       "      <td>С.Сельянов</td>\n",
       "      <td>«6+» - для детей старше 6 лет</td>\n",
       "      <td>0.00</td>\n",
       "      <td>...</td>\n",
       "      <td>Фонд кино</td>\n",
       "      <td>7.00</td>\n",
       "      <td>триллер,боевик,приключения</td>\n",
       "      <td>352,804,320.40</td>\n",
       "      <td>2015</td>\n",
       "      <td>А.Войтинский</td>\n",
       "      <td>триллер</td>\n",
       "      <td>0.54</td>\n",
       "      <td>75,000,000.00</td>\n",
       "      <td>213,252,817.40</td>\n",
       "    </tr>\n",
       "    <tr>\n",
       "      <th>1912</th>\n",
       "      <td>Ведьма .</td>\n",
       "      <td>111002215</td>\n",
       "      <td>2015-03-05 12:00:00+00:00</td>\n",
       "      <td>Художественный</td>\n",
       "      <td>ООО \"Кинокомпания \"Ракурс\"</td>\n",
       "      <td>Россия</td>\n",
       "      <td>Д.Федоров</td>\n",
       "      <td>В.Сидоренко</td>\n",
       "      <td>«16+» - для детей старше 16 лет</td>\n",
       "      <td>0.00</td>\n",
       "      <td>...</td>\n",
       "      <td>Министерство культуры</td>\n",
       "      <td>7.40</td>\n",
       "      <td>фэнтези,приключения,драма</td>\n",
       "      <td>51,907.50</td>\n",
       "      <td>2015</td>\n",
       "      <td>Д.Федоров</td>\n",
       "      <td>фэнтези</td>\n",
       "      <td>0.70</td>\n",
       "      <td>34,000,000.00</td>\n",
       "      <td>-48,519,522.50</td>\n",
       "    </tr>\n",
       "    <tr>\n",
       "      <th>1987</th>\n",
       "      <td>Елки Лохматые</td>\n",
       "      <td>111023114</td>\n",
       "      <td>2014-12-10 12:00:00+00:00</td>\n",
       "      <td>Художественный</td>\n",
       "      <td>ООО \"ТаББаК\"</td>\n",
       "      <td>Россия</td>\n",
       "      <td>Максим Свешников</td>\n",
       "      <td>Тимур Бекмамбетов, Евгения Аронова</td>\n",
       "      <td>«6+» - для детей старше 6 лет</td>\n",
       "      <td>26,000,000.00</td>\n",
       "      <td>...</td>\n",
       "      <td>Фонд кино</td>\n",
       "      <td>5.00</td>\n",
       "      <td>семейный,комедия</td>\n",
       "      <td>121,225,633.80</td>\n",
       "      <td>2014</td>\n",
       "      <td>Максим Свешников</td>\n",
       "      <td>семейный</td>\n",
       "      <td>0.70</td>\n",
       "      <td>56,000,000.00</td>\n",
       "      <td>41,225,633.80</td>\n",
       "    </tr>\n",
       "    <tr>\n",
       "      <th>1991</th>\n",
       "      <td>Смайлик</td>\n",
       "      <td>111008614</td>\n",
       "      <td>2014-08-08 12:00:00+00:00</td>\n",
       "      <td>Художественный</td>\n",
       "      <td>ООО \"Продюсерская кинокомпания \"Киномир\"</td>\n",
       "      <td>Россия</td>\n",
       "      <td>Т.Аленикова</td>\n",
       "      <td>Т.Яковенко</td>\n",
       "      <td>«16+» - для детей старше 16 лет</td>\n",
       "      <td>0.00</td>\n",
       "      <td>...</td>\n",
       "      <td>Министерство культуры</td>\n",
       "      <td>6.80</td>\n",
       "      <td>мелодрама</td>\n",
       "      <td>554,251.00</td>\n",
       "      <td>2014</td>\n",
       "      <td>Т.Аленикова</td>\n",
       "      <td>мелодрама</td>\n",
       "      <td>0.69</td>\n",
       "      <td>25,000,000.00</td>\n",
       "      <td>-35,705,249.00</td>\n",
       "    </tr>\n",
       "    <tr>\n",
       "      <th>1997</th>\n",
       "      <td>Овечка Долли была злая и рано умерла</td>\n",
       "      <td>111015214</td>\n",
       "      <td>2014-11-10 12:00:00+00:00</td>\n",
       "      <td>Художественный</td>\n",
       "      <td>ООО \"Пиманов и партнеры\"</td>\n",
       "      <td>Россия</td>\n",
       "      <td>А.Пиманов</td>\n",
       "      <td>А.Пиманов, О.Погодина</td>\n",
       "      <td>«12+» - для детей старше 12 лет</td>\n",
       "      <td>0.00</td>\n",
       "      <td>...</td>\n",
       "      <td>Фонд кино</td>\n",
       "      <td>6.60</td>\n",
       "      <td>фантастика,комедия,приключения</td>\n",
       "      <td>43,534,847.10</td>\n",
       "      <td>2014</td>\n",
       "      <td>А.Пиманов</td>\n",
       "      <td>фантастика</td>\n",
       "      <td>0.35</td>\n",
       "      <td>25,000,000.00</td>\n",
       "      <td>-27,341,324.90</td>\n",
       "    </tr>\n",
       "    <tr>\n",
       "      <th>2005</th>\n",
       "      <td>Снежная Королева 2: Перезаморозка</td>\n",
       "      <td>114000214</td>\n",
       "      <td>2014-11-13 12:00:00+00:00</td>\n",
       "      <td>Анимационный</td>\n",
       "      <td>ООО \"ВИЗАРТ ФИЛЬМ\"</td>\n",
       "      <td>Россия</td>\n",
       "      <td>А.Цицилин</td>\n",
       "      <td>ООО \"ВИЗАРТ ФИЛЬМ\", ООО \"ТаББаК\"</td>\n",
       "      <td>«0+» - для любой зрительской аудитории</td>\n",
       "      <td>30,000,000.00</td>\n",
       "      <td>...</td>\n",
       "      <td>Фонд кино</td>\n",
       "      <td>6.50</td>\n",
       "      <td>мультфильм,фэнтези,приключения</td>\n",
       "      <td>313,489,846.50</td>\n",
       "      <td>2014</td>\n",
       "      <td>А.Цицилин</td>\n",
       "      <td>мультфильм</td>\n",
       "      <td>0.28</td>\n",
       "      <td>70,000,000.00</td>\n",
       "      <td>61,000,275.50</td>\n",
       "    </tr>\n",
       "    <tr>\n",
       "      <th>2014</th>\n",
       "      <td>Дедушка моей мечты</td>\n",
       "      <td>111007714</td>\n",
       "      <td>2014-07-22 12:00:00+00:00</td>\n",
       "      <td>Художественный</td>\n",
       "      <td>ООО \"Пендулум\"</td>\n",
       "      <td>Россия</td>\n",
       "      <td>А.Стриженов</td>\n",
       "      <td>Л.Якубович, А.Стриженов, Л.Лищинская</td>\n",
       "      <td>«12+» - для детей старше 12 лет</td>\n",
       "      <td>0.00</td>\n",
       "      <td>...</td>\n",
       "      <td>Министерство культуры</td>\n",
       "      <td>5.70</td>\n",
       "      <td>комедия,семейный</td>\n",
       "      <td>6,277,796.20</td>\n",
       "      <td>2014</td>\n",
       "      <td>А.Стриженов</td>\n",
       "      <td>комедия</td>\n",
       "      <td>0.37</td>\n",
       "      <td>28,000,000.00</td>\n",
       "      <td>-68,632,203.80</td>\n",
       "    </tr>\n",
       "    <tr>\n",
       "      <th>2053</th>\n",
       "      <td>14+</td>\n",
       "      <td>111023614</td>\n",
       "      <td>2014-12-19 12:00:00+00:00</td>\n",
       "      <td>Художественный</td>\n",
       "      <td>ООО Киностудия  \"Сентябрь\"</td>\n",
       "      <td>Россия</td>\n",
       "      <td>А.Зайцев</td>\n",
       "      <td>О.Гранина, А.Зайцев</td>\n",
       "      <td>«16+» - для детей старше 16 лет</td>\n",
       "      <td>0.00</td>\n",
       "      <td>...</td>\n",
       "      <td>Министерство культуры, Фонд кино</td>\n",
       "      <td>6.60</td>\n",
       "      <td>мелодрама</td>\n",
       "      <td>10,234,016.10</td>\n",
       "      <td>2014</td>\n",
       "      <td>А.Зайцев</td>\n",
       "      <td>мелодрама</td>\n",
       "      <td>1.00</td>\n",
       "      <td>23,000,000.00</td>\n",
       "      <td>-12,765,983.90</td>\n",
       "    </tr>\n",
       "    <tr>\n",
       "      <th>2058</th>\n",
       "      <td>Дуxless 2</td>\n",
       "      <td>111000415</td>\n",
       "      <td>2015-01-26 12:00:00+00:00</td>\n",
       "      <td>Художественный</td>\n",
       "      <td>ООО \"Киностудия \"Слово\", ООО \"Арт Пикчерс Студия\"</td>\n",
       "      <td>Россия</td>\n",
       "      <td>Р.Прыгунов</td>\n",
       "      <td>П.Ануров, Ф.Бондарчук, Д.Рудовский</td>\n",
       "      <td>«16+» - для детей старше 16 лет</td>\n",
       "      <td>0.00</td>\n",
       "      <td>...</td>\n",
       "      <td>Фонд кино</td>\n",
       "      <td>6.60</td>\n",
       "      <td>драма</td>\n",
       "      <td>446,163,511.00</td>\n",
       "      <td>2015</td>\n",
       "      <td>Р.Прыгунов</td>\n",
       "      <td>драма</td>\n",
       "      <td>1.00</td>\n",
       "      <td>75,000,000.00</td>\n",
       "      <td>371,163,511.00</td>\n",
       "    </tr>\n",
       "    <tr>\n",
       "      <th>2084</th>\n",
       "      <td>Дорога на Берлин</td>\n",
       "      <td>111001315</td>\n",
       "      <td>2015-02-17 12:00:00+00:00</td>\n",
       "      <td>Художественный</td>\n",
       "      <td>ООО \"Продюсерская компания Александра Литвинов...</td>\n",
       "      <td>Россия</td>\n",
       "      <td>С.Попов</td>\n",
       "      <td>А.Литвинов, К.Шахназаров</td>\n",
       "      <td>«12+» - для детей старше 12 лет</td>\n",
       "      <td>0.00</td>\n",
       "      <td>...</td>\n",
       "      <td>Министерство культуры</td>\n",
       "      <td>6.20</td>\n",
       "      <td>военный,драма,история</td>\n",
       "      <td>22,723,575.00</td>\n",
       "      <td>2015</td>\n",
       "      <td>С.Попов</td>\n",
       "      <td>военный</td>\n",
       "      <td>0.50</td>\n",
       "      <td>45,000,000.00</td>\n",
       "      <td>-67,058,737.00</td>\n",
       "    </tr>\n",
       "    <tr>\n",
       "      <th>2092</th>\n",
       "      <td>Батальонъ</td>\n",
       "      <td>111000715</td>\n",
       "      <td>2015-01-29 12:00:00+00:00</td>\n",
       "      <td>Художественный</td>\n",
       "      <td>ООО \"Корнер Ворк\", ООО \"Арт Пикчерс Студия\"</td>\n",
       "      <td>Россия</td>\n",
       "      <td>Д.Месхиев</td>\n",
       "      <td>И.Угольников</td>\n",
       "      <td>«12+» - для детей старше 12 лет</td>\n",
       "      <td>0.00</td>\n",
       "      <td>...</td>\n",
       "      <td>Министерство культуры, Фонд кино</td>\n",
       "      <td>7.10</td>\n",
       "      <td>драма,военный,история</td>\n",
       "      <td>451,812,221.70</td>\n",
       "      <td>2015</td>\n",
       "      <td>Д.Месхиев</td>\n",
       "      <td>драма</td>\n",
       "      <td>0.13</td>\n",
       "      <td>56,579,055.00</td>\n",
       "      <td>15,375,045.70</td>\n",
       "    </tr>\n",
       "    <tr>\n",
       "      <th>2106</th>\n",
       "      <td>С пяти до семи</td>\n",
       "      <td>111000615</td>\n",
       "      <td>2015-01-28 12:00:00+00:00</td>\n",
       "      <td>Художественный</td>\n",
       "      <td>ООО \"АМАЛЬГАМА ПРОДАКШН\"</td>\n",
       "      <td>Россия</td>\n",
       "      <td>В.Щегольков</td>\n",
       "      <td>А.Феофанов, С.Новиков</td>\n",
       "      <td>«16+» - для детей старше 16 лет</td>\n",
       "      <td>0.00</td>\n",
       "      <td>...</td>\n",
       "      <td>Министерство культуры</td>\n",
       "      <td>6.70</td>\n",
       "      <td>драма,мелодрама</td>\n",
       "      <td>366,998.00</td>\n",
       "      <td>2015</td>\n",
       "      <td>В.Щегольков</td>\n",
       "      <td>драма</td>\n",
       "      <td>0.63</td>\n",
       "      <td>25,500,000.00</td>\n",
       "      <td>-40,133,002.00</td>\n",
       "    </tr>\n",
       "    <tr>\n",
       "      <th>2108</th>\n",
       "      <td>ОХРАНА</td>\n",
       "      <td>111001115</td>\n",
       "      <td>2015-02-11 12:00:00+00:00</td>\n",
       "      <td>Художественный</td>\n",
       "      <td>ООО \"Амкарт\"</td>\n",
       "      <td>Россия</td>\n",
       "      <td>А.Прошкин</td>\n",
       "      <td>Д.Пиркулов</td>\n",
       "      <td>«16+» - для детей старше 16 лет</td>\n",
       "      <td>0.00</td>\n",
       "      <td>...</td>\n",
       "      <td>Министерство культуры, Фонд кино</td>\n",
       "      <td>5.00</td>\n",
       "      <td>драма,комедия</td>\n",
       "      <td>310,738.00</td>\n",
       "      <td>2015</td>\n",
       "      <td>А.Прошкин</td>\n",
       "      <td>драма</td>\n",
       "      <td>0.66</td>\n",
       "      <td>45,000,000.00</td>\n",
       "      <td>-68,179,868.00</td>\n",
       "    </tr>\n",
       "    <tr>\n",
       "      <th>2109</th>\n",
       "      <td>Полное превращение</td>\n",
       "      <td>111001215</td>\n",
       "      <td>2015-02-12 12:00:00+00:00</td>\n",
       "      <td>Художественный</td>\n",
       "      <td>ООО \"Каро Продакшн\"</td>\n",
       "      <td>Россия</td>\n",
       "      <td>П.Санаев, Ф.Коршунов</td>\n",
       "      <td>Ю.Обухов, А.Рязанцев</td>\n",
       "      <td>«16+» - для детей старше 16 лет</td>\n",
       "      <td>0.00</td>\n",
       "      <td>...</td>\n",
       "      <td>Фонд кино</td>\n",
       "      <td>5.40</td>\n",
       "      <td>комедия,фантастика</td>\n",
       "      <td>11,663,188.00</td>\n",
       "      <td>2015</td>\n",
       "      <td>П.Санаев</td>\n",
       "      <td>комедия</td>\n",
       "      <td>0.67</td>\n",
       "      <td>30,000,000.00</td>\n",
       "      <td>-33,343,421.00</td>\n",
       "    </tr>\n",
       "    <tr>\n",
       "      <th>2132</th>\n",
       "      <td>Битва за Севастополь</td>\n",
       "      <td>111001415</td>\n",
       "      <td>2015-02-20 12:00:00+00:00</td>\n",
       "      <td>Художественный</td>\n",
       "      <td>ООО \"Кинокомпания \"Новые люди\", ООО \"Студия \"К...</td>\n",
       "      <td>Россия-Украина</td>\n",
       "      <td>С.Мокрицкий</td>\n",
       "      <td>Н.Мокрицкая, Е.Олесов</td>\n",
       "      <td>«12+» - для детей старше 12 лет</td>\n",
       "      <td>0.00</td>\n",
       "      <td>...</td>\n",
       "      <td>Министерство культуры</td>\n",
       "      <td>7.50</td>\n",
       "      <td>биография,военный,драма</td>\n",
       "      <td>401,804,461.90</td>\n",
       "      <td>2015</td>\n",
       "      <td>С.Мокрицкий</td>\n",
       "      <td>биография</td>\n",
       "      <td>0.21</td>\n",
       "      <td>27,510,000.00</td>\n",
       "      <td>270,804,461.90</td>\n",
       "    </tr>\n",
       "    <tr>\n",
       "      <th>2142</th>\n",
       "      <td>Территория</td>\n",
       "      <td>111000515</td>\n",
       "      <td>2015-01-27 12:00:00+00:00</td>\n",
       "      <td>Художественный</td>\n",
       "      <td>ООО \"Творческое объединение \"Кинокомпания \"Анд...</td>\n",
       "      <td>Россия</td>\n",
       "      <td>А.Мельник</td>\n",
       "      <td>А.Мельник</td>\n",
       "      <td>«12+» - для детей старше 12 лет</td>\n",
       "      <td>30,000,000.00</td>\n",
       "      <td>...</td>\n",
       "      <td>Фонд кино</td>\n",
       "      <td>6.80</td>\n",
       "      <td>детектив,фэнтези,триллер</td>\n",
       "      <td>72,578,317.40</td>\n",
       "      <td>2015</td>\n",
       "      <td>А.Мельник</td>\n",
       "      <td>детектив</td>\n",
       "      <td>0.12</td>\n",
       "      <td>60,000,000.00</td>\n",
       "      <td>-427,421,682.60</td>\n",
       "    </tr>\n",
       "    <tr>\n",
       "      <th>2143</th>\n",
       "      <td>Неуловимые .</td>\n",
       "      <td>111002715</td>\n",
       "      <td>2015-03-16 12:00:00+00:00</td>\n",
       "      <td>Художественный</td>\n",
       "      <td>ООО \"Энджой мувиз\", ООО \"Ультра стори\"</td>\n",
       "      <td>Россия</td>\n",
       "      <td>А.Аксененко</td>\n",
       "      <td>Г.Малков, В.Поляков, И.Капитонов, В.Муругов</td>\n",
       "      <td>«16+» - для детей старше 16 лет</td>\n",
       "      <td>0.00</td>\n",
       "      <td>...</td>\n",
       "      <td>Фонд кино</td>\n",
       "      <td>5.60</td>\n",
       "      <td>боевик,драма</td>\n",
       "      <td>33,005,527.30</td>\n",
       "      <td>2015</td>\n",
       "      <td>А.Аксененко</td>\n",
       "      <td>боевик</td>\n",
       "      <td>0.41</td>\n",
       "      <td>25,000,000.00</td>\n",
       "      <td>-28,005,879.70</td>\n",
       "    </tr>\n",
       "    <tr>\n",
       "      <th>2146</th>\n",
       "      <td>Главный</td>\n",
       "      <td>111003415</td>\n",
       "      <td>2015-03-27 12:00:00+00:00</td>\n",
       "      <td>Художественный</td>\n",
       "      <td>ООО \"Киностудия \"МАСТЕР\"</td>\n",
       "      <td>Россия</td>\n",
       "      <td>Ю.Кара</td>\n",
       "      <td>Ю.Кара</td>\n",
       "      <td>«6+» - для детей старше 6 лет</td>\n",
       "      <td>0.00</td>\n",
       "      <td>...</td>\n",
       "      <td>Министерство культуры</td>\n",
       "      <td>NaN</td>\n",
       "      <td>фантастика,боевик,комедия</td>\n",
       "      <td>334,750.00</td>\n",
       "      <td>2015</td>\n",
       "      <td>Ю.Кара</td>\n",
       "      <td>фантастика</td>\n",
       "      <td>0.25</td>\n",
       "      <td>10,000,000.00</td>\n",
       "      <td>-39,665,250.00</td>\n",
       "    </tr>\n",
       "    <tr>\n",
       "      <th>2150</th>\n",
       "      <td>РЕВЕРБЕРАЦИЯ</td>\n",
       "      <td>111003515</td>\n",
       "      <td>2015-03-30 12:00:00+00:00</td>\n",
       "      <td>Художественный</td>\n",
       "      <td>ООО \"Артлайт\"</td>\n",
       "      <td>Россия</td>\n",
       "      <td>К.Сухарьков</td>\n",
       "      <td>А.Новиков</td>\n",
       "      <td>«18+» - запрещено для детей</td>\n",
       "      <td>0.00</td>\n",
       "      <td>...</td>\n",
       "      <td>Министерство культуры</td>\n",
       "      <td>NaN</td>\n",
       "      <td>NaN</td>\n",
       "      <td>19,820.00</td>\n",
       "      <td>2015</td>\n",
       "      <td>К.Сухарьков</td>\n",
       "      <td>NaN</td>\n",
       "      <td>0.67</td>\n",
       "      <td>25,000,000.00</td>\n",
       "      <td>-37,351,442.00</td>\n",
       "    </tr>\n",
       "    <tr>\n",
       "      <th>2166</th>\n",
       "      <td>Находка.</td>\n",
       "      <td>111003615</td>\n",
       "      <td>2015-04-02 12:00:00+00:00</td>\n",
       "      <td>Художественный</td>\n",
       "      <td>ООО \"Кинокомпания \"Фигаро\"</td>\n",
       "      <td>Россия</td>\n",
       "      <td>В.Демент</td>\n",
       "      <td>Н.Будкина</td>\n",
       "      <td>«16+» - для детей старше 16 лет</td>\n",
       "      <td>0.00</td>\n",
       "      <td>...</td>\n",
       "      <td>Министерство культуры</td>\n",
       "      <td>6.70</td>\n",
       "      <td>драма</td>\n",
       "      <td>854,334.50</td>\n",
       "      <td>2015</td>\n",
       "      <td>В.Демент</td>\n",
       "      <td>драма</td>\n",
       "      <td>0.68</td>\n",
       "      <td>24,000,000.00</td>\n",
       "      <td>-34,442,615.50</td>\n",
       "    </tr>\n",
       "    <tr>\n",
       "      <th>2169</th>\n",
       "      <td>Трагедия в бухте Роджерс</td>\n",
       "      <td>111003215</td>\n",
       "      <td>2015-03-26 12:00:00+00:00</td>\n",
       "      <td>Художественный</td>\n",
       "      <td>ООО \"Валдай\"</td>\n",
       "      <td>Россия</td>\n",
       "      <td>Ф.Абрютин</td>\n",
       "      <td>С.Кучмаева, С.Зернов</td>\n",
       "      <td>«12+» - для детей старше 12 лет</td>\n",
       "      <td>0.00</td>\n",
       "      <td>...</td>\n",
       "      <td>Министерство культуры</td>\n",
       "      <td>6.10</td>\n",
       "      <td>детектив,история,драма</td>\n",
       "      <td>40,050.00</td>\n",
       "      <td>2015</td>\n",
       "      <td>Ф.Абрютин</td>\n",
       "      <td>детектив</td>\n",
       "      <td>0.70</td>\n",
       "      <td>30,000,000.00</td>\n",
       "      <td>-42,959,950.00</td>\n",
       "    </tr>\n",
       "    <tr>\n",
       "      <th>2205</th>\n",
       "      <td>8 новых свиданий</td>\n",
       "      <td>111014914</td>\n",
       "      <td>2014-10-30 12:00:00+00:00</td>\n",
       "      <td>Художественный</td>\n",
       "      <td>ООО \"Смарт ТВ Продакшн\"</td>\n",
       "      <td>Россия</td>\n",
       "      <td>М.Бальчюнас</td>\n",
       "      <td>ООО \"Грин Филмс\", ООО \"ПЦ \"Горад\"</td>\n",
       "      <td>«12+» - для детей старше 12 лет</td>\n",
       "      <td>0.00</td>\n",
       "      <td>...</td>\n",
       "      <td>Фонд кино</td>\n",
       "      <td>6.00</td>\n",
       "      <td>комедия</td>\n",
       "      <td>393,344,626.30</td>\n",
       "      <td>2014</td>\n",
       "      <td>М.Бальчюнас</td>\n",
       "      <td>комедия</td>\n",
       "      <td>0.39</td>\n",
       "      <td>30,000,000.00</td>\n",
       "      <td>315,942,875.30</td>\n",
       "    </tr>\n",
       "    <tr>\n",
       "      <th>2265</th>\n",
       "      <td>КЛЕТКА (по мотивам фантастического рассказа Ф....</td>\n",
       "      <td>111015314</td>\n",
       "      <td>2014-11-14 12:00:00+00:00</td>\n",
       "      <td>Художественный</td>\n",
       "      <td>ООО Кинокомпания \"Фортуна Фильм\", ООО \"Центр Ю...</td>\n",
       "      <td>Россия</td>\n",
       "      <td>Э.Архангельская, М.Пандурски</td>\n",
       "      <td>Э.Архангельская, А.Пискунова, Ю.Арабов</td>\n",
       "      <td>«16+» - для детей старше 16 лет</td>\n",
       "      <td>0.00</td>\n",
       "      <td>...</td>\n",
       "      <td>Министерство культуры</td>\n",
       "      <td>6.20</td>\n",
       "      <td>драма,детектив</td>\n",
       "      <td>955,970.50</td>\n",
       "      <td>2014</td>\n",
       "      <td>Э.Архангельская</td>\n",
       "      <td>драма</td>\n",
       "      <td>0.70</td>\n",
       "      <td>24,500,000.00</td>\n",
       "      <td>-34,044,029.50</td>\n",
       "    </tr>\n",
       "    <tr>\n",
       "      <th>2269</th>\n",
       "      <td>Исповедь Z@drota</td>\n",
       "      <td>111014214</td>\n",
       "      <td>2014-10-15 12:00:00+00:00</td>\n",
       "      <td>Художественный</td>\n",
       "      <td>ООО \"Магнум-фильм\" по заказу ООО \"ММЕ\"</td>\n",
       "      <td>Россия</td>\n",
       "      <td>К.Шипенко</td>\n",
       "      <td>Р.Дишдишян, ООО \"ММЕ\"</td>\n",
       "      <td>«18+» - запрещено для детей</td>\n",
       "      <td>0.00</td>\n",
       "      <td>...</td>\n",
       "      <td>Министерство культуры</td>\n",
       "      <td>6.30</td>\n",
       "      <td>драма</td>\n",
       "      <td>1,523,750.00</td>\n",
       "      <td>2014</td>\n",
       "      <td>К.Шипенко</td>\n",
       "      <td>драма</td>\n",
       "      <td>0.53</td>\n",
       "      <td>27,000,000.00</td>\n",
       "      <td>-49,672,961.00</td>\n",
       "    </tr>\n",
       "    <tr>\n",
       "      <th>2288</th>\n",
       "      <td>12 месяцев. Новая сказка</td>\n",
       "      <td>111014414</td>\n",
       "      <td>2014-10-16 12:00:00+00:00</td>\n",
       "      <td>Художественный</td>\n",
       "      <td>ООО \"Киностудия \"Никола-фильм\", ООО \"Инвестмен...</td>\n",
       "      <td>Россия</td>\n",
       "      <td>Д.Елеонский</td>\n",
       "      <td>И.Каленов</td>\n",
       "      <td>«0+» - для любой зрительской аудитории</td>\n",
       "      <td>15,000,000.00</td>\n",
       "      <td>...</td>\n",
       "      <td>Фонд кино</td>\n",
       "      <td>3.80</td>\n",
       "      <td>семейный,фэнтези</td>\n",
       "      <td>32,244,810.00</td>\n",
       "      <td>2014</td>\n",
       "      <td>Д.Елеонский</td>\n",
       "      <td>семейный</td>\n",
       "      <td>0.22</td>\n",
       "      <td>20,000,000.00</td>\n",
       "      <td>-57,875,190.00</td>\n",
       "    </tr>\n",
       "    <tr>\n",
       "      <th>2364</th>\n",
       "      <td>Левиафан.</td>\n",
       "      <td>111009714</td>\n",
       "      <td>2014-09-11 12:00:00+00:00</td>\n",
       "      <td>Художественный</td>\n",
       "      <td>ООО \"Нон-Стоп Продакшн\"</td>\n",
       "      <td>Россия</td>\n",
       "      <td>А.Звягинцев</td>\n",
       "      <td>А.Роднянский, С.Мелькумов</td>\n",
       "      <td>«18+» - запрещено для детей</td>\n",
       "      <td>0.00</td>\n",
       "      <td>...</td>\n",
       "      <td>Министерство культуры, Фонд кино</td>\n",
       "      <td>6.90</td>\n",
       "      <td>драма,криминал</td>\n",
       "      <td>88,120,041.10</td>\n",
       "      <td>2014</td>\n",
       "      <td>А.Звягинцев</td>\n",
       "      <td>драма</td>\n",
       "      <td>0.34</td>\n",
       "      <td>90,000,000.00</td>\n",
       "      <td>-179,168,850.90</td>\n",
       "    </tr>\n",
       "    <tr>\n",
       "      <th>2379</th>\n",
       "      <td>Экспириенс</td>\n",
       "      <td>111000315</td>\n",
       "      <td>2015-01-13 12:00:00+00:00</td>\n",
       "      <td>Художественный</td>\n",
       "      <td>ООО \"Компания \"АТК-Студио\"</td>\n",
       "      <td>Россия</td>\n",
       "      <td>Е.Татаров</td>\n",
       "      <td>А.Тютрюмов</td>\n",
       "      <td>«16+» - для детей старше 16 лет</td>\n",
       "      <td>0.00</td>\n",
       "      <td>...</td>\n",
       "      <td>Министерство культуры</td>\n",
       "      <td>4.70</td>\n",
       "      <td>драма</td>\n",
       "      <td>36,550.00</td>\n",
       "      <td>2015</td>\n",
       "      <td>Е.Татаров</td>\n",
       "      <td>драма</td>\n",
       "      <td>0.70</td>\n",
       "      <td>26,000,000.00</td>\n",
       "      <td>-37,106,307.00</td>\n",
       "    </tr>\n",
       "    <tr>\n",
       "      <th>2380</th>\n",
       "      <td>Ангелы Революции</td>\n",
       "      <td>111023214</td>\n",
       "      <td>2014-12-11 12:00:00+00:00</td>\n",
       "      <td>Художественный</td>\n",
       "      <td>ООО \"29 февраля\"</td>\n",
       "      <td>Россия</td>\n",
       "      <td>А.Федорченко</td>\n",
       "      <td>Д.Воробьев, А.Федорченко, Л.Лебедев</td>\n",
       "      <td>«16+» - для детей старше 16 лет</td>\n",
       "      <td>0.00</td>\n",
       "      <td>...</td>\n",
       "      <td>Министерство культуры</td>\n",
       "      <td>6.40</td>\n",
       "      <td>драма</td>\n",
       "      <td>869,181.00</td>\n",
       "      <td>2014</td>\n",
       "      <td>А.Федорченко</td>\n",
       "      <td>драма</td>\n",
       "      <td>0.70</td>\n",
       "      <td>28,000,000.00</td>\n",
       "      <td>-39,130,819.00</td>\n",
       "    </tr>\n",
       "    <tr>\n",
       "      <th>2397</th>\n",
       "      <td>Небесный верблюд</td>\n",
       "      <td>111000115</td>\n",
       "      <td>2015-01-14 12:00:00+00:00</td>\n",
       "      <td>Художественный</td>\n",
       "      <td>ООО Продюсерский центр \"Всё хорошо\"</td>\n",
       "      <td>Россия</td>\n",
       "      <td>Ю.Фетинг</td>\n",
       "      <td>И.Плиско</td>\n",
       "      <td>«0+» - для любой зрительской аудитории</td>\n",
       "      <td>0.00</td>\n",
       "      <td>...</td>\n",
       "      <td>Министерство культуры</td>\n",
       "      <td>6.70</td>\n",
       "      <td>детский,семейный</td>\n",
       "      <td>61,040.00</td>\n",
       "      <td>2015</td>\n",
       "      <td>Ю.Фетинг</td>\n",
       "      <td>детский</td>\n",
       "      <td>0.69</td>\n",
       "      <td>34,000,000.00</td>\n",
       "      <td>-49,219,456.00</td>\n",
       "    </tr>\n",
       "    <tr>\n",
       "      <th>2451</th>\n",
       "      <td>ПРАЗДНИК НЕПОСЛУШАНИЯ</td>\n",
       "      <td>111016215</td>\n",
       "      <td>2015-08-28 12:00:00+00:00</td>\n",
       "      <td>Художественный</td>\n",
       "      <td>АНО \"Творческая студия \"Стелла\"</td>\n",
       "      <td>Россия</td>\n",
       "      <td>В.Харченко, А.Волков</td>\n",
       "      <td>Ф.Попов</td>\n",
       "      <td>«6+» - для детей старше 6 лет</td>\n",
       "      <td>0.00</td>\n",
       "      <td>...</td>\n",
       "      <td>Министерство культуры</td>\n",
       "      <td>NaN</td>\n",
       "      <td>NaN</td>\n",
       "      <td>182,510.00</td>\n",
       "      <td>2015</td>\n",
       "      <td>В.Харченко</td>\n",
       "      <td>NaN</td>\n",
       "      <td>0.69</td>\n",
       "      <td>34,000,000.00</td>\n",
       "      <td>-48,888,918.00</td>\n",
       "    </tr>\n",
       "    <tr>\n",
       "      <th>2461</th>\n",
       "      <td>Парень с нашего кладбища</td>\n",
       "      <td>111016415</td>\n",
       "      <td>2015-09-02 12:00:00+00:00</td>\n",
       "      <td>Художественный</td>\n",
       "      <td>ООО \"Кинокомпания \"СТВ\"</td>\n",
       "      <td>Россия</td>\n",
       "      <td>И.Чижиков, А.Чижиков</td>\n",
       "      <td>С.Сельянов</td>\n",
       "      <td>«12+» - для детей старше 12 лет</td>\n",
       "      <td>0.00</td>\n",
       "      <td>...</td>\n",
       "      <td>Фонд кино</td>\n",
       "      <td>6.20</td>\n",
       "      <td>комедия,триллер</td>\n",
       "      <td>14,936,676.30</td>\n",
       "      <td>2015</td>\n",
       "      <td>И.Чижиков</td>\n",
       "      <td>комедия</td>\n",
       "      <td>0.43</td>\n",
       "      <td>20,000,000.00</td>\n",
       "      <td>-32,032,206.70</td>\n",
       "    </tr>\n",
       "    <tr>\n",
       "      <th>2471</th>\n",
       "      <td>Pro любовь</td>\n",
       "      <td>111016615</td>\n",
       "      <td>2015-09-17 12:00:00+00:00</td>\n",
       "      <td>Художественный</td>\n",
       "      <td>ООО \"Магнум-фильм\"</td>\n",
       "      <td>Россия</td>\n",
       "      <td>А.Меликян</td>\n",
       "      <td>А.Меликян</td>\n",
       "      <td>«18+» - запрещено для детей</td>\n",
       "      <td>0.00</td>\n",
       "      <td>...</td>\n",
       "      <td>Министерство культуры</td>\n",
       "      <td>6.60</td>\n",
       "      <td>комедия</td>\n",
       "      <td>52,882,302.12</td>\n",
       "      <td>2015</td>\n",
       "      <td>А.Меликян</td>\n",
       "      <td>комедия</td>\n",
       "      <td>0.36</td>\n",
       "      <td>20,000,000.00</td>\n",
       "      <td>-2,312,697.88</td>\n",
       "    </tr>\n",
       "    <tr>\n",
       "      <th>2472</th>\n",
       "      <td>Воин (2015)</td>\n",
       "      <td>111017315</td>\n",
       "      <td>2015-09-28 12:00:00+00:00</td>\n",
       "      <td>Художественный</td>\n",
       "      <td>ООО \"Форпост Продакшн\", ООО \"Арт Пикчерс Студия\"</td>\n",
       "      <td>Россия</td>\n",
       "      <td>А.Андрианов</td>\n",
       "      <td>ООО \"Арт Пикчерс Студия\"</td>\n",
       "      <td>«12+» - для детей старше 12 лет</td>\n",
       "      <td>10,000,000.00</td>\n",
       "      <td>...</td>\n",
       "      <td>Фонд кино</td>\n",
       "      <td>7.80</td>\n",
       "      <td>боевик,драма,криминал</td>\n",
       "      <td>196,572,438.40</td>\n",
       "      <td>2015</td>\n",
       "      <td>А.Андрианов</td>\n",
       "      <td>боевик</td>\n",
       "      <td>1.00</td>\n",
       "      <td>80,000,000.00</td>\n",
       "      <td>116,572,438.40</td>\n",
       "    </tr>\n",
       "    <tr>\n",
       "      <th>2482</th>\n",
       "      <td>Однажды._</td>\n",
       "      <td>111004215</td>\n",
       "      <td>2015-04-15 12:00:00+00:00</td>\n",
       "      <td>Художественный</td>\n",
       "      <td>ООО \"Компания \"РЕАЛ-ДАКОТА\", НП \"Интерфест\"</td>\n",
       "      <td>Россия</td>\n",
       "      <td>Р.Давлетьяров</td>\n",
       "      <td>Р.Давлетьяров, А.Котелевский</td>\n",
       "      <td>«16+» - для детей старше 16 лет</td>\n",
       "      <td>0.00</td>\n",
       "      <td>...</td>\n",
       "      <td>Фонд кино</td>\n",
       "      <td>7.90</td>\n",
       "      <td>драма,криминал,детектив</td>\n",
       "      <td>12,748,398.30</td>\n",
       "      <td>2015</td>\n",
       "      <td>Р.Давлетьяров</td>\n",
       "      <td>драма</td>\n",
       "      <td>0.62</td>\n",
       "      <td>97,000,000.00</td>\n",
       "      <td>-143,612,267.70</td>\n",
       "    </tr>\n",
       "    <tr>\n",
       "      <th>2485</th>\n",
       "      <td>Чайки</td>\n",
       "      <td>111004615</td>\n",
       "      <td>2015-04-20 12:00:00+00:00</td>\n",
       "      <td>Художественный</td>\n",
       "      <td>ООО \"Кинокомпания \"Ладья\"</td>\n",
       "      <td>Россия</td>\n",
       "      <td>Э.Манжеева</td>\n",
       "      <td>Е.Гликман, Я.Живов</td>\n",
       "      <td>«16+» - для детей старше 16 лет</td>\n",
       "      <td>0.00</td>\n",
       "      <td>...</td>\n",
       "      <td>Министерство культуры</td>\n",
       "      <td>6.20</td>\n",
       "      <td>драма</td>\n",
       "      <td>359,980.00</td>\n",
       "      <td>2015</td>\n",
       "      <td>Э.Манжеева</td>\n",
       "      <td>драма</td>\n",
       "      <td>0.65</td>\n",
       "      <td>24,450,000.00</td>\n",
       "      <td>-37,064,816.00</td>\n",
       "    </tr>\n",
       "    <tr>\n",
       "      <th>2489</th>\n",
       "      <td>Последний вагон. Весна</td>\n",
       "      <td>111004115</td>\n",
       "      <td>2015-04-15 12:00:00+00:00</td>\n",
       "      <td>Художественный</td>\n",
       "      <td>ООО \"ТАН Фильм\"</td>\n",
       "      <td>Россия</td>\n",
       "      <td>А.Калинкин</td>\n",
       "      <td>Д.Ефремов, В.Пономаренко</td>\n",
       "      <td>«18+» - запрещено для детей</td>\n",
       "      <td>0.00</td>\n",
       "      <td>...</td>\n",
       "      <td>Министерство культуры</td>\n",
       "      <td>5.10</td>\n",
       "      <td>триллер</td>\n",
       "      <td>61,193.00</td>\n",
       "      <td>2015</td>\n",
       "      <td>А.Калинкин</td>\n",
       "      <td>триллер</td>\n",
       "      <td>0.70</td>\n",
       "      <td>25,000,000.00</td>\n",
       "      <td>-35,698,867.00</td>\n",
       "    </tr>\n",
       "    <tr>\n",
       "      <th>2517</th>\n",
       "      <td>Норвег</td>\n",
       "      <td>111018215</td>\n",
       "      <td>2015-10-15 12:00:00+00:00</td>\n",
       "      <td>Художественный</td>\n",
       "      <td>ООО \"Росмедиа Продакшн\" по заказу ООО \"МАРС МЕ...</td>\n",
       "      <td>Россия</td>\n",
       "      <td>Е.Константинова (псевдоним Алена Званцева)</td>\n",
       "      <td>Р.Дишдишян, ООО \"ММЕ\"</td>\n",
       "      <td>«12+» - для детей старше 12 лет</td>\n",
       "      <td>0.00</td>\n",
       "      <td>...</td>\n",
       "      <td>Министерство культуры</td>\n",
       "      <td>6.30</td>\n",
       "      <td>комедия</td>\n",
       "      <td>2,323,980.00</td>\n",
       "      <td>2015</td>\n",
       "      <td>Е.Константинова (псевдоним Алена Званцева)</td>\n",
       "      <td>комедия</td>\n",
       "      <td>0.18</td>\n",
       "      <td>5,000,000.00</td>\n",
       "      <td>-25,791,600.00</td>\n",
       "    </tr>\n",
       "    <tr>\n",
       "      <th>2527</th>\n",
       "      <td>Вдвоем на льдине.</td>\n",
       "      <td>111011015</td>\n",
       "      <td>2015-06-25 12:00:00+00:00</td>\n",
       "      <td>Художественный</td>\n",
       "      <td>ООО \"Первое творческое объединение\"</td>\n",
       "      <td>Россия</td>\n",
       "      <td>Н.Джорджадзе, В.Игнатьев</td>\n",
       "      <td>П.Поляков, И.Букреев</td>\n",
       "      <td>«12+» - для детей старше 12 лет</td>\n",
       "      <td>0.00</td>\n",
       "      <td>...</td>\n",
       "      <td>Министерство культуры</td>\n",
       "      <td>6.60</td>\n",
       "      <td>мелодрама</td>\n",
       "      <td>4,450.00</td>\n",
       "      <td>2015</td>\n",
       "      <td>Н.Джорджадзе</td>\n",
       "      <td>мелодрама</td>\n",
       "      <td>0.70</td>\n",
       "      <td>26,500,000.00</td>\n",
       "      <td>-37,939,202.00</td>\n",
       "    </tr>\n",
       "    <tr>\n",
       "      <th>2530</th>\n",
       "      <td>Крепость. Щитом и мечом</td>\n",
       "      <td>114003015</td>\n",
       "      <td>2015-10-21 12:00:00+00:00</td>\n",
       "      <td>Анимационный</td>\n",
       "      <td>ООО \"Студия анимационного кино \"Мельница\"</td>\n",
       "      <td>Россия</td>\n",
       "      <td>Ф.Дмитриев</td>\n",
       "      <td>С.Сельянов, А.Боярский</td>\n",
       "      <td>«6+» - для детей старше 6 лет</td>\n",
       "      <td>0.00</td>\n",
       "      <td>...</td>\n",
       "      <td>Фонд кино</td>\n",
       "      <td>7.40</td>\n",
       "      <td>мультфильм,приключения,военный</td>\n",
       "      <td>72,749,216.50</td>\n",
       "      <td>2015</td>\n",
       "      <td>Ф.Дмитриев</td>\n",
       "      <td>мультфильм</td>\n",
       "      <td>0.36</td>\n",
       "      <td>50,000,000.00</td>\n",
       "      <td>-65,576,521.50</td>\n",
       "    </tr>\n",
       "    <tr>\n",
       "      <th>2531</th>\n",
       "      <td>Черная вода</td>\n",
       "      <td>111018315</td>\n",
       "      <td>2015-10-09 12:00:00+00:00</td>\n",
       "      <td>Художественный</td>\n",
       "      <td>ООО \"АРТЛАЙТ\"</td>\n",
       "      <td>Россия</td>\n",
       "      <td>Р.Каримов</td>\n",
       "      <td>А.Новиков, А.Котелевский</td>\n",
       "      <td>«16+» - для детей старше 16 лет</td>\n",
       "      <td>0.00</td>\n",
       "      <td>...</td>\n",
       "      <td>Министерство культуры</td>\n",
       "      <td>5.10</td>\n",
       "      <td>ужасы,драма</td>\n",
       "      <td>16,077,204.00</td>\n",
       "      <td>2015</td>\n",
       "      <td>Р.Каримов</td>\n",
       "      <td>ужасы</td>\n",
       "      <td>0.66</td>\n",
       "      <td>28,000,000.00</td>\n",
       "      <td>-26,175,305.00</td>\n",
       "    </tr>\n",
       "    <tr>\n",
       "      <th>2532</th>\n",
       "      <td>Бармен.</td>\n",
       "      <td>111009615</td>\n",
       "      <td>2015-05-26 12:00:00+00:00</td>\n",
       "      <td>Художественный</td>\n",
       "      <td>АО \"ВайТ Медиа\", ООО \"Арт Пикчерс Студия\"</td>\n",
       "      <td>Россия</td>\n",
       "      <td>Д.Штурманова</td>\n",
       "      <td>Т.Вайнштейн</td>\n",
       "      <td>«16+» - для детей старше 16 лет</td>\n",
       "      <td>20,000,000.00</td>\n",
       "      <td>...</td>\n",
       "      <td>Фонд кино</td>\n",
       "      <td>6.20</td>\n",
       "      <td>комедия,фэнтези</td>\n",
       "      <td>67,418,974.80</td>\n",
       "      <td>2015</td>\n",
       "      <td>Д.Штурманова</td>\n",
       "      <td>комедия</td>\n",
       "      <td>1.00</td>\n",
       "      <td>20,000,000.00</td>\n",
       "      <td>47,418,974.80</td>\n",
       "    </tr>\n",
       "    <tr>\n",
       "      <th>2533</th>\n",
       "      <td>Райские кущи</td>\n",
       "      <td>111009415</td>\n",
       "      <td>2015-05-21 12:00:00+00:00</td>\n",
       "      <td>Художественный</td>\n",
       "      <td>ООО \"Кинокомпания \"ТАЛАН\"</td>\n",
       "      <td>Россия</td>\n",
       "      <td>А.Аравин, А.Прошкин</td>\n",
       "      <td>Н.Будкина</td>\n",
       "      <td>«16+» - для детей старше 16 лет</td>\n",
       "      <td>0.00</td>\n",
       "      <td>...</td>\n",
       "      <td>Министерство культуры</td>\n",
       "      <td>5.60</td>\n",
       "      <td>драма</td>\n",
       "      <td>1,184,344.00</td>\n",
       "      <td>2015</td>\n",
       "      <td>А.Аравин</td>\n",
       "      <td>драма</td>\n",
       "      <td>0.68</td>\n",
       "      <td>27,000,000.00</td>\n",
       "      <td>-38,805,656.00</td>\n",
       "    </tr>\n",
       "  </tbody>\n",
       "</table>\n",
       "<p>50 rows × 22 columns</p>\n",
       "</div>"
      ],
      "text/plain": [
       "                                                  title   puNumber  \\\n",
       "1281                                      Пока еще жива  111005313   \n",
       "1448                                Бесславные придурки  111003314   \n",
       "1498                                          Невидимки  111004213   \n",
       "1524                                              БЕРЦЫ  111004314   \n",
       "1792                                           Братья Ч  111004414   \n",
       "1854          Тайна Сухаревой башни. Чародей равновесия  114000115   \n",
       "1870                             А зори здесь тихие..._  111002915   \n",
       "1871                                        Две женщины  111013714   \n",
       "1903                                          Призрак_.  111001815   \n",
       "1912                                           Ведьма .  111002215   \n",
       "1987                                      Елки Лохматые  111023114   \n",
       "1991                                            Смайлик  111008614   \n",
       "1997               Овечка Долли была злая и рано умерла  111015214   \n",
       "2005                  Снежная Королева 2: Перезаморозка  114000214   \n",
       "2014                                 Дедушка моей мечты  111007714   \n",
       "2053                                                14+  111023614   \n",
       "2058                                          Дуxless 2  111000415   \n",
       "2084                                   Дорога на Берлин  111001315   \n",
       "2092                                          Батальонъ  111000715   \n",
       "2106                                     С пяти до семи  111000615   \n",
       "2108                                             ОХРАНА  111001115   \n",
       "2109                                 Полное превращение  111001215   \n",
       "2132                               Битва за Севастополь  111001415   \n",
       "2142                                         Территория  111000515   \n",
       "2143                                       Неуловимые .  111002715   \n",
       "2146                                            Главный  111003415   \n",
       "2150                                       РЕВЕРБЕРАЦИЯ  111003515   \n",
       "2166                                           Находка.  111003615   \n",
       "2169                           Трагедия в бухте Роджерс  111003215   \n",
       "2205                                   8 новых свиданий  111014914   \n",
       "2265  КЛЕТКА (по мотивам фантастического рассказа Ф....  111015314   \n",
       "2269                                   Исповедь Z@drota  111014214   \n",
       "2288                           12 месяцев. Новая сказка  111014414   \n",
       "2364                                          Левиафан.  111009714   \n",
       "2379                                         Экспириенс  111000315   \n",
       "2380                                   Ангелы Революции  111023214   \n",
       "2397                                   Небесный верблюд  111000115   \n",
       "2451                              ПРАЗДНИК НЕПОСЛУШАНИЯ  111016215   \n",
       "2461                           Парень с нашего кладбища  111016415   \n",
       "2471                                         Pro любовь  111016615   \n",
       "2472                                        Воин (2015)  111017315   \n",
       "2482                                          Однажды._  111004215   \n",
       "2485                                              Чайки  111004615   \n",
       "2489                             Последний вагон. Весна  111004115   \n",
       "2517                                             Норвег  111018215   \n",
       "2527                                  Вдвоем на льдине.  111011015   \n",
       "2530                            Крепость. Щитом и мечом  114003015   \n",
       "2531                                        Черная вода  111018315   \n",
       "2532                                            Бармен.  111009615   \n",
       "2533                                       Райские кущи  111009415   \n",
       "\n",
       "               show_start_date            type  \\\n",
       "1281 2013-10-11 12:00:00+00:00  Художественный   \n",
       "1448 2014-03-28 12:00:00+00:00  Художественный   \n",
       "1498 2013-09-10 12:00:00+00:00  Художественный   \n",
       "1524 2014-05-05 12:00:00+00:00  Художественный   \n",
       "1792 2014-04-23 12:00:00+00:00  Художественный   \n",
       "1854 2015-02-18 12:00:00+00:00    Анимационный   \n",
       "1870 2015-03-16 12:00:00+00:00  Художественный   \n",
       "1871 2014-10-02 12:00:00+00:00  Художественный   \n",
       "1903 2015-03-02 12:00:00+00:00  Художественный   \n",
       "1912 2015-03-05 12:00:00+00:00  Художественный   \n",
       "1987 2014-12-10 12:00:00+00:00  Художественный   \n",
       "1991 2014-08-08 12:00:00+00:00  Художественный   \n",
       "1997 2014-11-10 12:00:00+00:00  Художественный   \n",
       "2005 2014-11-13 12:00:00+00:00    Анимационный   \n",
       "2014 2014-07-22 12:00:00+00:00  Художественный   \n",
       "2053 2014-12-19 12:00:00+00:00  Художественный   \n",
       "2058 2015-01-26 12:00:00+00:00  Художественный   \n",
       "2084 2015-02-17 12:00:00+00:00  Художественный   \n",
       "2092 2015-01-29 12:00:00+00:00  Художественный   \n",
       "2106 2015-01-28 12:00:00+00:00  Художественный   \n",
       "2108 2015-02-11 12:00:00+00:00  Художественный   \n",
       "2109 2015-02-12 12:00:00+00:00  Художественный   \n",
       "2132 2015-02-20 12:00:00+00:00  Художественный   \n",
       "2142 2015-01-27 12:00:00+00:00  Художественный   \n",
       "2143 2015-03-16 12:00:00+00:00  Художественный   \n",
       "2146 2015-03-27 12:00:00+00:00  Художественный   \n",
       "2150 2015-03-30 12:00:00+00:00  Художественный   \n",
       "2166 2015-04-02 12:00:00+00:00  Художественный   \n",
       "2169 2015-03-26 12:00:00+00:00  Художественный   \n",
       "2205 2014-10-30 12:00:00+00:00  Художественный   \n",
       "2265 2014-11-14 12:00:00+00:00  Художественный   \n",
       "2269 2014-10-15 12:00:00+00:00  Художественный   \n",
       "2288 2014-10-16 12:00:00+00:00  Художественный   \n",
       "2364 2014-09-11 12:00:00+00:00  Художественный   \n",
       "2379 2015-01-13 12:00:00+00:00  Художественный   \n",
       "2380 2014-12-11 12:00:00+00:00  Художественный   \n",
       "2397 2015-01-14 12:00:00+00:00  Художественный   \n",
       "2451 2015-08-28 12:00:00+00:00  Художественный   \n",
       "2461 2015-09-02 12:00:00+00:00  Художественный   \n",
       "2471 2015-09-17 12:00:00+00:00  Художественный   \n",
       "2472 2015-09-28 12:00:00+00:00  Художественный   \n",
       "2482 2015-04-15 12:00:00+00:00  Художественный   \n",
       "2485 2015-04-20 12:00:00+00:00  Художественный   \n",
       "2489 2015-04-15 12:00:00+00:00  Художественный   \n",
       "2517 2015-10-15 12:00:00+00:00  Художественный   \n",
       "2527 2015-06-25 12:00:00+00:00  Художественный   \n",
       "2530 2015-10-21 12:00:00+00:00    Анимационный   \n",
       "2531 2015-10-09 12:00:00+00:00  Художественный   \n",
       "2532 2015-05-26 12:00:00+00:00  Художественный   \n",
       "2533 2015-05-21 12:00:00+00:00  Художественный   \n",
       "\n",
       "                                            film_studio  \\\n",
       "1281  АНО содействия развитию кинематографии \"Ангел-...   \n",
       "1448                         ООО \"Компания \"АТК-Студио\"   \n",
       "1498                        ООО \"Компания \"РЕАЛ-ДАКОТА\"   \n",
       "1524                             ООО \"Студия \"Пассажир\"   \n",
       "1792                             ООО \"Студия \"Пассажир\"   \n",
       "1854                        ООО \"Студия \"Мастер-Фильм\"    \n",
       "1870                        ООО \"Компания \"Реал-Дакота\"   \n",
       "1871  ООО \"Продюсерский Центр \"Хорошо Продакшн\", Rez...   \n",
       "1903                                 ООО \"Водород 2011\"   \n",
       "1912                         ООО \"Кинокомпания \"Ракурс\"   \n",
       "1987                                       ООО \"ТаББаК\"   \n",
       "1991           ООО \"Продюсерская кинокомпания \"Киномир\"   \n",
       "1997                           ООО \"Пиманов и партнеры\"   \n",
       "2005                                 ООО \"ВИЗАРТ ФИЛЬМ\"   \n",
       "2014                                     ООО \"Пендулум\"   \n",
       "2053                         ООО Киностудия  \"Сентябрь\"   \n",
       "2058  ООО \"Киностудия \"Слово\", ООО \"Арт Пикчерс Студия\"   \n",
       "2084  ООО \"Продюсерская компания Александра Литвинов...   \n",
       "2092        ООО \"Корнер Ворк\", ООО \"Арт Пикчерс Студия\"   \n",
       "2106                           ООО \"АМАЛЬГАМА ПРОДАКШН\"   \n",
       "2108                                       ООО \"Амкарт\"   \n",
       "2109                                ООО \"Каро Продакшн\"   \n",
       "2132  ООО \"Кинокомпания \"Новые люди\", ООО \"Студия \"К...   \n",
       "2142  ООО \"Творческое объединение \"Кинокомпания \"Анд...   \n",
       "2143             ООО \"Энджой мувиз\", ООО \"Ультра стори\"   \n",
       "2146                           ООО \"Киностудия \"МАСТЕР\"   \n",
       "2150                                      ООО \"Артлайт\"   \n",
       "2166                         ООО \"Кинокомпания \"Фигаро\"   \n",
       "2169                                       ООО \"Валдай\"   \n",
       "2205                            ООО \"Смарт ТВ Продакшн\"   \n",
       "2265  ООО Кинокомпания \"Фортуна Фильм\", ООО \"Центр Ю...   \n",
       "2269             ООО \"Магнум-фильм\" по заказу ООО \"ММЕ\"   \n",
       "2288  ООО \"Киностудия \"Никола-фильм\", ООО \"Инвестмен...   \n",
       "2364                            ООО \"Нон-Стоп Продакшн\"   \n",
       "2379                         ООО \"Компания \"АТК-Студио\"   \n",
       "2380                                   ООО \"29 февраля\"   \n",
       "2397                ООО Продюсерский центр \"Всё хорошо\"   \n",
       "2451                    АНО \"Творческая студия \"Стелла\"   \n",
       "2461                            ООО \"Кинокомпания \"СТВ\"   \n",
       "2471                                 ООО \"Магнум-фильм\"   \n",
       "2472   ООО \"Форпост Продакшн\", ООО \"Арт Пикчерс Студия\"   \n",
       "2482        ООО \"Компания \"РЕАЛ-ДАКОТА\", НП \"Интерфест\"   \n",
       "2485                          ООО \"Кинокомпания \"Ладья\"   \n",
       "2489                                    ООО \"ТАН Фильм\"   \n",
       "2517  ООО \"Росмедиа Продакшн\" по заказу ООО \"МАРС МЕ...   \n",
       "2527                ООО \"Первое творческое объединение\"   \n",
       "2530          ООО \"Студия анимационного кино \"Мельница\"   \n",
       "2531                                      ООО \"АРТЛАЙТ\"   \n",
       "2532          АО \"ВайТ Медиа\", ООО \"Арт Пикчерс Студия\"   \n",
       "2533                          ООО \"Кинокомпания \"ТАЛАН\"   \n",
       "\n",
       "           production_country                                    director  \\\n",
       "1281                   Россия                                  А.Атанесян   \n",
       "1448                   Россия                                   А.Якимчук   \n",
       "1498                   Россия                    Р.Давлетьяров, С.Комаров   \n",
       "1524                   Россия        Е.Миндадзе (псевдоним Катя Шагалова)   \n",
       "1792                   Россия                                    М.Угаров   \n",
       "1854                   Россия                                   С.Серегин   \n",
       "1870                   Россия                               Р.Давлетьяров   \n",
       "1871  Россия, Франция, Латвия                                 В.Глаголева   \n",
       "1903                   Россия                                А.Войтинский   \n",
       "1912                   Россия                                   Д.Федоров   \n",
       "1987                   Россия                            Максим Свешников   \n",
       "1991                   Россия                                 Т.Аленикова   \n",
       "1997                   Россия                                   А.Пиманов   \n",
       "2005                   Россия                                   А.Цицилин   \n",
       "2014                   Россия                                 А.Стриженов   \n",
       "2053                   Россия                                    А.Зайцев   \n",
       "2058                   Россия                                  Р.Прыгунов   \n",
       "2084                   Россия                                     С.Попов   \n",
       "2092                   Россия                                   Д.Месхиев   \n",
       "2106                   Россия                                 В.Щегольков   \n",
       "2108                   Россия                                   А.Прошкин   \n",
       "2109                   Россия                        П.Санаев, Ф.Коршунов   \n",
       "2132           Россия-Украина                                 С.Мокрицкий   \n",
       "2142                   Россия                                   А.Мельник   \n",
       "2143                   Россия                                 А.Аксененко   \n",
       "2146                   Россия                                      Ю.Кара   \n",
       "2150                   Россия                                 К.Сухарьков   \n",
       "2166                   Россия                                    В.Демент   \n",
       "2169                   Россия                                   Ф.Абрютин   \n",
       "2205                   Россия                                 М.Бальчюнас   \n",
       "2265                   Россия                Э.Архангельская, М.Пандурски   \n",
       "2269                   Россия                                   К.Шипенко   \n",
       "2288                   Россия                                 Д.Елеонский   \n",
       "2364                   Россия                                 А.Звягинцев   \n",
       "2379                   Россия                                   Е.Татаров   \n",
       "2380                   Россия                                А.Федорченко   \n",
       "2397                   Россия                                    Ю.Фетинг   \n",
       "2451                   Россия                        В.Харченко, А.Волков   \n",
       "2461                   Россия                        И.Чижиков, А.Чижиков   \n",
       "2471                   Россия                                   А.Меликян   \n",
       "2472                   Россия                                 А.Андрианов   \n",
       "2482                   Россия                               Р.Давлетьяров   \n",
       "2485                   Россия                                  Э.Манжеева   \n",
       "2489                   Россия                                  А.Калинкин   \n",
       "2517                   Россия  Е.Константинова (псевдоним Алена Званцева)   \n",
       "2527                   Россия                    Н.Джорджадзе, В.Игнатьев   \n",
       "2530                   Россия                                  Ф.Дмитриев   \n",
       "2531                   Россия                                   Р.Каримов   \n",
       "2532                   Россия                                Д.Штурманова   \n",
       "2533                   Россия                         А.Аравин, А.Прошкин   \n",
       "\n",
       "                                         producer  \\\n",
       "1281             А.Атанесян, М.Бабаханов, Р.Бутко   \n",
       "1448                                   А.Тютрюмов   \n",
       "1498    Р.Давлетьяров, А.Котелевский, А.Олейников   \n",
       "1524                                   Л.Антонова   \n",
       "1792                       А.Миндадзе, Л.Антонова   \n",
       "1854                                  А.Герасимов   \n",
       "1870                                          NaN   \n",
       "1871                                    Н.Иванова   \n",
       "1903                                   С.Сельянов   \n",
       "1912                                  В.Сидоренко   \n",
       "1987           Тимур Бекмамбетов, Евгения Аронова   \n",
       "1991                                   Т.Яковенко   \n",
       "1997                        А.Пиманов, О.Погодина   \n",
       "2005             ООО \"ВИЗАРТ ФИЛЬМ\", ООО \"ТаББаК\"   \n",
       "2014         Л.Якубович, А.Стриженов, Л.Лищинская   \n",
       "2053                          О.Гранина, А.Зайцев   \n",
       "2058           П.Ануров, Ф.Бондарчук, Д.Рудовский   \n",
       "2084                     А.Литвинов, К.Шахназаров   \n",
       "2092                                 И.Угольников   \n",
       "2106                        А.Феофанов, С.Новиков   \n",
       "2108                                   Д.Пиркулов   \n",
       "2109                         Ю.Обухов, А.Рязанцев   \n",
       "2132                        Н.Мокрицкая, Е.Олесов   \n",
       "2142                                    А.Мельник   \n",
       "2143  Г.Малков, В.Поляков, И.Капитонов, В.Муругов   \n",
       "2146                                       Ю.Кара   \n",
       "2150                                    А.Новиков   \n",
       "2166                                    Н.Будкина   \n",
       "2169                         С.Кучмаева, С.Зернов   \n",
       "2205            ООО \"Грин Филмс\", ООО \"ПЦ \"Горад\"   \n",
       "2265       Э.Архангельская, А.Пискунова, Ю.Арабов   \n",
       "2269                        Р.Дишдишян, ООО \"ММЕ\"   \n",
       "2288                                    И.Каленов   \n",
       "2364                    А.Роднянский, С.Мелькумов   \n",
       "2379                                   А.Тютрюмов   \n",
       "2380          Д.Воробьев, А.Федорченко, Л.Лебедев   \n",
       "2397                                     И.Плиско   \n",
       "2451                                      Ф.Попов   \n",
       "2461                                   С.Сельянов   \n",
       "2471                                    А.Меликян   \n",
       "2472                     ООО \"Арт Пикчерс Студия\"   \n",
       "2482                 Р.Давлетьяров, А.Котелевский   \n",
       "2485                           Е.Гликман, Я.Живов   \n",
       "2489                     Д.Ефремов, В.Пономаренко   \n",
       "2517                        Р.Дишдишян, ООО \"ММЕ\"   \n",
       "2527                         П.Поляков, И.Букреев   \n",
       "2530                       С.Сельянов, А.Боярский   \n",
       "2531                     А.Новиков, А.Котелевский   \n",
       "2532                                  Т.Вайнштейн   \n",
       "2533                                    Н.Будкина   \n",
       "\n",
       "                             age_restriction  refundable_support  ...  \\\n",
       "1281         «16+» - для детей старше 16 лет                0.00  ...   \n",
       "1448         «12+» - для детей старше 12 лет                0.00  ...   \n",
       "1498         «12+» - для детей старше 12 лет                0.00  ...   \n",
       "1524         «16+» - для детей старше 16 лет                0.00  ...   \n",
       "1792         «16+» - для детей старше 16 лет                0.00  ...   \n",
       "1854           «6+» - для детей старше 6 лет                0.00  ...   \n",
       "1870         «12+» - для детей старше 12 лет       50,000,000.00  ...   \n",
       "1871         «12+» - для детей старше 12 лет                0.00  ...   \n",
       "1903           «6+» - для детей старше 6 лет                0.00  ...   \n",
       "1912         «16+» - для детей старше 16 лет                0.00  ...   \n",
       "1987           «6+» - для детей старше 6 лет       26,000,000.00  ...   \n",
       "1991         «16+» - для детей старше 16 лет                0.00  ...   \n",
       "1997         «12+» - для детей старше 12 лет                0.00  ...   \n",
       "2005  «0+» - для любой зрительской аудитории       30,000,000.00  ...   \n",
       "2014         «12+» - для детей старше 12 лет                0.00  ...   \n",
       "2053         «16+» - для детей старше 16 лет                0.00  ...   \n",
       "2058         «16+» - для детей старше 16 лет                0.00  ...   \n",
       "2084         «12+» - для детей старше 12 лет                0.00  ...   \n",
       "2092         «12+» - для детей старше 12 лет                0.00  ...   \n",
       "2106         «16+» - для детей старше 16 лет                0.00  ...   \n",
       "2108         «16+» - для детей старше 16 лет                0.00  ...   \n",
       "2109         «16+» - для детей старше 16 лет                0.00  ...   \n",
       "2132         «12+» - для детей старше 12 лет                0.00  ...   \n",
       "2142         «12+» - для детей старше 12 лет       30,000,000.00  ...   \n",
       "2143         «16+» - для детей старше 16 лет                0.00  ...   \n",
       "2146           «6+» - для детей старше 6 лет                0.00  ...   \n",
       "2150             «18+» - запрещено для детей                0.00  ...   \n",
       "2166         «16+» - для детей старше 16 лет                0.00  ...   \n",
       "2169         «12+» - для детей старше 12 лет                0.00  ...   \n",
       "2205         «12+» - для детей старше 12 лет                0.00  ...   \n",
       "2265         «16+» - для детей старше 16 лет                0.00  ...   \n",
       "2269             «18+» - запрещено для детей                0.00  ...   \n",
       "2288  «0+» - для любой зрительской аудитории       15,000,000.00  ...   \n",
       "2364             «18+» - запрещено для детей                0.00  ...   \n",
       "2379         «16+» - для детей старше 16 лет                0.00  ...   \n",
       "2380         «16+» - для детей старше 16 лет                0.00  ...   \n",
       "2397  «0+» - для любой зрительской аудитории                0.00  ...   \n",
       "2451           «6+» - для детей старше 6 лет                0.00  ...   \n",
       "2461         «12+» - для детей старше 12 лет                0.00  ...   \n",
       "2471             «18+» - запрещено для детей                0.00  ...   \n",
       "2472         «12+» - для детей старше 12 лет       10,000,000.00  ...   \n",
       "2482         «16+» - для детей старше 16 лет                0.00  ...   \n",
       "2485         «16+» - для детей старше 16 лет                0.00  ...   \n",
       "2489             «18+» - запрещено для детей                0.00  ...   \n",
       "2517         «12+» - для детей старше 12 лет                0.00  ...   \n",
       "2527         «12+» - для детей старше 12 лет                0.00  ...   \n",
       "2530           «6+» - для детей старше 6 лет                0.00  ...   \n",
       "2531         «16+» - для детей старше 16 лет                0.00  ...   \n",
       "2532         «16+» - для детей старше 16 лет       20,000,000.00  ...   \n",
       "2533         «16+» - для детей старше 16 лет                0.00  ...   \n",
       "\n",
       "                      financing_source  ratings  \\\n",
       "1281             Министерство культуры     8.10   \n",
       "1448             Министерство культуры      NaN   \n",
       "1498                         Фонд кино     5.30   \n",
       "1524             Министерство культуры     4.20   \n",
       "1792             Министерство культуры     6.40   \n",
       "1854             Министерство культуры     6.10   \n",
       "1870                         Фонд кино     8.50   \n",
       "1871  Министерство культуры, Фонд кино     6.70   \n",
       "1903                         Фонд кино     7.00   \n",
       "1912             Министерство культуры     7.40   \n",
       "1987                         Фонд кино     5.00   \n",
       "1991             Министерство культуры     6.80   \n",
       "1997                         Фонд кино     6.60   \n",
       "2005                         Фонд кино     6.50   \n",
       "2014             Министерство культуры     5.70   \n",
       "2053  Министерство культуры, Фонд кино     6.60   \n",
       "2058                         Фонд кино     6.60   \n",
       "2084             Министерство культуры     6.20   \n",
       "2092  Министерство культуры, Фонд кино     7.10   \n",
       "2106             Министерство культуры     6.70   \n",
       "2108  Министерство культуры, Фонд кино     5.00   \n",
       "2109                         Фонд кино     5.40   \n",
       "2132             Министерство культуры     7.50   \n",
       "2142                         Фонд кино     6.80   \n",
       "2143                         Фонд кино     5.60   \n",
       "2146             Министерство культуры      NaN   \n",
       "2150             Министерство культуры      NaN   \n",
       "2166             Министерство культуры     6.70   \n",
       "2169             Министерство культуры     6.10   \n",
       "2205                         Фонд кино     6.00   \n",
       "2265             Министерство культуры     6.20   \n",
       "2269             Министерство культуры     6.30   \n",
       "2288                         Фонд кино     3.80   \n",
       "2364  Министерство культуры, Фонд кино     6.90   \n",
       "2379             Министерство культуры     4.70   \n",
       "2380             Министерство культуры     6.40   \n",
       "2397             Министерство культуры     6.70   \n",
       "2451             Министерство культуры      NaN   \n",
       "2461                         Фонд кино     6.20   \n",
       "2471             Министерство культуры     6.60   \n",
       "2472                         Фонд кино     7.80   \n",
       "2482                         Фонд кино     7.90   \n",
       "2485             Министерство культуры     6.20   \n",
       "2489             Министерство культуры     5.10   \n",
       "2517             Министерство культуры     6.30   \n",
       "2527             Министерство культуры     6.60   \n",
       "2530                         Фонд кино     7.40   \n",
       "2531             Министерство культуры     5.10   \n",
       "2532                         Фонд кино     6.20   \n",
       "2533             Министерство культуры     5.60   \n",
       "\n",
       "                              genres     box_office show_start_year  \\\n",
       "1281                 драма,мелодрама     365,353.60            2013   \n",
       "1448                             NaN      28,140.00            2014   \n",
       "1498              комедия,фантастика  19,957,031.50            2013   \n",
       "1524                           драма      55,917.50            2014   \n",
       "1792                           драма     232,100.00            2014   \n",
       "1854      мультфильм,фэнтези,история  15,078,858.60            2015   \n",
       "1870           драма,военный,история 249,166,767.70            2015   \n",
       "1871                           драма   4,731,239.50            2014   \n",
       "1903      триллер,боевик,приключения 352,804,320.40            2015   \n",
       "1912       фэнтези,приключения,драма      51,907.50            2015   \n",
       "1987                семейный,комедия 121,225,633.80            2014   \n",
       "1991                       мелодрама     554,251.00            2014   \n",
       "1997  фантастика,комедия,приключения  43,534,847.10            2014   \n",
       "2005  мультфильм,фэнтези,приключения 313,489,846.50            2014   \n",
       "2014                комедия,семейный   6,277,796.20            2014   \n",
       "2053                       мелодрама  10,234,016.10            2014   \n",
       "2058                           драма 446,163,511.00            2015   \n",
       "2084           военный,драма,история  22,723,575.00            2015   \n",
       "2092           драма,военный,история 451,812,221.70            2015   \n",
       "2106                 драма,мелодрама     366,998.00            2015   \n",
       "2108                   драма,комедия     310,738.00            2015   \n",
       "2109              комедия,фантастика  11,663,188.00            2015   \n",
       "2132         биография,военный,драма 401,804,461.90            2015   \n",
       "2142        детектив,фэнтези,триллер  72,578,317.40            2015   \n",
       "2143                    боевик,драма  33,005,527.30            2015   \n",
       "2146       фантастика,боевик,комедия     334,750.00            2015   \n",
       "2150                             NaN      19,820.00            2015   \n",
       "2166                           драма     854,334.50            2015   \n",
       "2169          детектив,история,драма      40,050.00            2015   \n",
       "2205                         комедия 393,344,626.30            2014   \n",
       "2265                  драма,детектив     955,970.50            2014   \n",
       "2269                           драма   1,523,750.00            2014   \n",
       "2288                семейный,фэнтези  32,244,810.00            2014   \n",
       "2364                  драма,криминал  88,120,041.10            2014   \n",
       "2379                           драма      36,550.00            2015   \n",
       "2380                           драма     869,181.00            2014   \n",
       "2397                детский,семейный      61,040.00            2015   \n",
       "2451                             NaN     182,510.00            2015   \n",
       "2461                 комедия,триллер  14,936,676.30            2015   \n",
       "2471                         комедия  52,882,302.12            2015   \n",
       "2472           боевик,драма,криминал 196,572,438.40            2015   \n",
       "2482         драма,криминал,детектив  12,748,398.30            2015   \n",
       "2485                           драма     359,980.00            2015   \n",
       "2489                         триллер      61,193.00            2015   \n",
       "2517                         комедия   2,323,980.00            2015   \n",
       "2527                       мелодрама       4,450.00            2015   \n",
       "2530  мультфильм,приключения,военный  72,749,216.50            2015   \n",
       "2531                     ужасы,драма  16,077,204.00            2015   \n",
       "2532                 комедия,фэнтези  67,418,974.80            2015   \n",
       "2533                           драма   1,184,344.00            2015   \n",
       "\n",
       "                                  director_first  genre_first  \\\n",
       "1281                                  А.Атанесян        драма   \n",
       "1448                                   А.Якимчук          NaN   \n",
       "1498                               Р.Давлетьяров      комедия   \n",
       "1524        Е.Миндадзе (псевдоним Катя Шагалова)        драма   \n",
       "1792                                    М.Угаров        драма   \n",
       "1854                                   С.Серегин   мультфильм   \n",
       "1870                               Р.Давлетьяров        драма   \n",
       "1871                                 В.Глаголева        драма   \n",
       "1903                                А.Войтинский      триллер   \n",
       "1912                                   Д.Федоров      фэнтези   \n",
       "1987                            Максим Свешников     семейный   \n",
       "1991                                 Т.Аленикова    мелодрама   \n",
       "1997                                   А.Пиманов   фантастика   \n",
       "2005                                   А.Цицилин   мультфильм   \n",
       "2014                                 А.Стриженов      комедия   \n",
       "2053                                    А.Зайцев    мелодрама   \n",
       "2058                                  Р.Прыгунов        драма   \n",
       "2084                                     С.Попов      военный   \n",
       "2092                                   Д.Месхиев        драма   \n",
       "2106                                 В.Щегольков        драма   \n",
       "2108                                   А.Прошкин        драма   \n",
       "2109                                    П.Санаев      комедия   \n",
       "2132                                 С.Мокрицкий    биография   \n",
       "2142                                   А.Мельник     детектив   \n",
       "2143                                 А.Аксененко       боевик   \n",
       "2146                                      Ю.Кара   фантастика   \n",
       "2150                                 К.Сухарьков          NaN   \n",
       "2166                                    В.Демент        драма   \n",
       "2169                                   Ф.Абрютин     детектив   \n",
       "2205                                 М.Бальчюнас      комедия   \n",
       "2265                             Э.Архангельская        драма   \n",
       "2269                                   К.Шипенко        драма   \n",
       "2288                                 Д.Елеонский     семейный   \n",
       "2364                                 А.Звягинцев        драма   \n",
       "2379                                   Е.Татаров        драма   \n",
       "2380                                А.Федорченко        драма   \n",
       "2397                                    Ю.Фетинг      детский   \n",
       "2451                                  В.Харченко          NaN   \n",
       "2461                                   И.Чижиков      комедия   \n",
       "2471                                   А.Меликян      комедия   \n",
       "2472                                 А.Андрианов       боевик   \n",
       "2482                               Р.Давлетьяров        драма   \n",
       "2485                                  Э.Манжеева        драма   \n",
       "2489                                  А.Калинкин      триллер   \n",
       "2517  Е.Константинова (псевдоним Алена Званцева)      комедия   \n",
       "2527                                Н.Джорджадзе    мелодрама   \n",
       "2530                                  Ф.Дмитриев   мультфильм   \n",
       "2531                                   Р.Каримов        ужасы   \n",
       "2532                                Д.Штурманова      комедия   \n",
       "2533                                    А.Аравин        драма   \n",
       "\n",
       "     ratio_help_to_budget  total_support         payback  \n",
       "1281                 0.33  26,500,000.00  -79,046,546.40  \n",
       "1448                 0.70  26,000,000.00  -37,114,717.00  \n",
       "1498                 0.61 107,847,945.00 -156,066,458.50  \n",
       "1524                 0.69  28,000,000.00  -40,518,222.50  \n",
       "1792                 0.62  25,000,000.00  -39,783,022.00  \n",
       "1854                 0.48  25,000,000.00  -36,771,141.40  \n",
       "1870                 0.68 150,000,000.00   28,578,373.70  \n",
       "1871                 0.54  46,502,299.00  -81,478,827.50  \n",
       "1903                 0.54  75,000,000.00  213,252,817.40  \n",
       "1912                 0.70  34,000,000.00  -48,519,522.50  \n",
       "1987                 0.70  56,000,000.00   41,225,633.80  \n",
       "1991                 0.69  25,000,000.00  -35,705,249.00  \n",
       "1997                 0.35  25,000,000.00  -27,341,324.90  \n",
       "2005                 0.28  70,000,000.00   61,000,275.50  \n",
       "2014                 0.37  28,000,000.00  -68,632,203.80  \n",
       "2053                 1.00  23,000,000.00  -12,765,983.90  \n",
       "2058                 1.00  75,000,000.00  371,163,511.00  \n",
       "2084                 0.50  45,000,000.00  -67,058,737.00  \n",
       "2092                 0.13  56,579,055.00   15,375,045.70  \n",
       "2106                 0.63  25,500,000.00  -40,133,002.00  \n",
       "2108                 0.66  45,000,000.00  -68,179,868.00  \n",
       "2109                 0.67  30,000,000.00  -33,343,421.00  \n",
       "2132                 0.21  27,510,000.00  270,804,461.90  \n",
       "2142                 0.12  60,000,000.00 -427,421,682.60  \n",
       "2143                 0.41  25,000,000.00  -28,005,879.70  \n",
       "2146                 0.25  10,000,000.00  -39,665,250.00  \n",
       "2150                 0.67  25,000,000.00  -37,351,442.00  \n",
       "2166                 0.68  24,000,000.00  -34,442,615.50  \n",
       "2169                 0.70  30,000,000.00  -42,959,950.00  \n",
       "2205                 0.39  30,000,000.00  315,942,875.30  \n",
       "2265                 0.70  24,500,000.00  -34,044,029.50  \n",
       "2269                 0.53  27,000,000.00  -49,672,961.00  \n",
       "2288                 0.22  20,000,000.00  -57,875,190.00  \n",
       "2364                 0.34  90,000,000.00 -179,168,850.90  \n",
       "2379                 0.70  26,000,000.00  -37,106,307.00  \n",
       "2380                 0.70  28,000,000.00  -39,130,819.00  \n",
       "2397                 0.69  34,000,000.00  -49,219,456.00  \n",
       "2451                 0.69  34,000,000.00  -48,888,918.00  \n",
       "2461                 0.43  20,000,000.00  -32,032,206.70  \n",
       "2471                 0.36  20,000,000.00   -2,312,697.88  \n",
       "2472                 1.00  80,000,000.00  116,572,438.40  \n",
       "2482                 0.62  97,000,000.00 -143,612,267.70  \n",
       "2485                 0.65  24,450,000.00  -37,064,816.00  \n",
       "2489                 0.70  25,000,000.00  -35,698,867.00  \n",
       "2517                 0.18   5,000,000.00  -25,791,600.00  \n",
       "2527                 0.70  26,500,000.00  -37,939,202.00  \n",
       "2530                 0.36  50,000,000.00  -65,576,521.50  \n",
       "2531                 0.66  28,000,000.00  -26,175,305.00  \n",
       "2532                 1.00  20,000,000.00   47,418,974.80  \n",
       "2533                 0.68  27,000,000.00  -38,805,656.00  \n",
       "\n",
       "[50 rows x 22 columns]"
      ]
     },
     "metadata": {},
     "output_type": "display_data"
    },
    {
     "name": "stdout",
     "output_type": "stream",
     "text": [
      "Кол-во прокатных удостоверний у фильмов с гос.поддержкой: 332 , Кол-во фильмов с гос.поддержкой: 332\n"
     ]
    }
   ],
   "source": [
    "support_df=df.query('nonrefundable_support>=0')#Создадим таблицу с данными по фильмам с гос.поддержкой\n",
    "display(support_df.head(50))\n",
    "print('Кол-во прокатных удостоверний у фильмов с гос.поддержкой:', len(support_df['puNumber']),\n",
    "        ', Кол-во фильмов с гос.поддержкой:', len(support_df['title'].unique()))"
   ]
  },
  {
   "cell_type": "markdown",
   "metadata": {},
   "source": [
    "Посмотрим, сколько выделялось денег на фильмы с господдержкой в годы с 2015 по 2019. "
   ]
  },
  {
   "cell_type": "code",
   "execution_count": 62,
   "metadata": {},
   "outputs": [],
   "source": [
    "support_df = support_df[support_df['show_start_year'] > 2014]"
   ]
  },
  {
   "cell_type": "code",
   "execution_count": 63,
   "metadata": {},
   "outputs": [
    {
     "data": {
      "text/plain": [
       "show_start_year\n",
       "2015   3,656,241,459.00\n",
       "2016   4,303,155,482.00\n",
       "2017   3,183,971,662.00\n",
       "2018   3,446,969,465.00\n",
       "2019   4,904,000,000.00\n",
       "Name: total_support, dtype: float64"
      ]
     },
     "execution_count": 63,
     "metadata": {},
     "output_type": "execute_result"
    }
   ],
   "source": [
    "support_df.groupby('show_start_year')['total_support'].sum()"
   ]
  },
  {
   "cell_type": "markdown",
   "metadata": {},
   "source": [
    "Самая большая господдержка была в 2019 году, самая маленькая - в 2017 году."
   ]
  },
  {
   "cell_type": "code",
   "execution_count": 64,
   "metadata": {},
   "outputs": [
    {
     "data": {
      "text/plain": [
       "genre_first\n",
       "комедия        6,388,293,863.33\n",
       "спорт          2,257,299,422.44\n",
       "фантастика       246,444,789.29\n",
       "ужасы            146,245,564.35\n",
       "семейный          -2,725,481.15\n",
       "биография        -12,050,599.36\n",
       "реальное ТВ      -47,278,896.57\n",
       "боевик           -87,507,873.50\n",
       "детский         -136,284,352.00\n",
       "криминал        -186,800,918.00\n",
       "мультфильм      -235,779,527.84\n",
       "военный         -268,236,353.20\n",
       "мюзикл          -462,492,467.02\n",
       "триллер         -650,510,749.86\n",
       "история         -689,593,971.43\n",
       "мелодрама       -776,745,134.87\n",
       "драма           -796,165,159.16\n",
       "детектив      -1,059,674,785.60\n",
       "фэнтези       -1,344,287,157.03\n",
       "приключения   -2,111,269,212.38\n",
       "Name: payback, dtype: float64"
      ]
     },
     "execution_count": 64,
     "metadata": {},
     "output_type": "execute_result"
    }
   ],
   "source": [
    "support_df.groupby('genre_first')['payback'].sum().sort_values(ascending=False)"
   ]
  },
  {
   "cell_type": "code",
   "execution_count": 65,
   "metadata": {},
   "outputs": [
    {
     "data": {
      "image/png": "[encoded data removed]",
      "text/plain": [
       "<Figure size 432x288 with 1 Axes>"
      ]
     },
     "metadata": {
      "needs_background": "light"
     },
     "output_type": "display_data"
    }
   ],
   "source": [
    "support_df.groupby('genre_first') \\\n",
    "            .agg('sum') \\\n",
    "            .sort_values(by='total_support',\n",
    "                         ascending=False) \\\n",
    "            .plot(kind='bar',\n",
    "                  stacked=True,\n",
    "                  y='payback')\n",
    "plt.title('Общая рентабельность жанра');\n",
    "plt.xlabel('Жанр');\n",
    "plt.ylabel('Прибыль, руб.');"
   ]
  },
  {
   "cell_type": "markdown",
   "metadata": {},
   "source": [
    "<div class=\"alert alert-danger\">\n",
    "<h1> Комментарий ревьюера ❌</h1>\n",
    "\n",
    "Оформи, пожалуйста, график.\n",
    "\n",
    "\n",
    "</div>"
   ]
  },
  {
   "cell_type": "markdown",
   "metadata": {},
   "source": [
    "<div style=\"border:solid blue 3px; padding: 20px\">\n",
    "<div class=\"alert alert-info\">\n",
    "    \n",
    "Поправила.\n",
    "    \n",
    "</div>\n",
    "</div>"
   ]
  },
  {
   "cell_type": "markdown",
   "metadata": {},
   "source": [
    "<div class=\"alert alert-success\">\n",
    "<h1> Комментарий ревьюера V2✅</h1>\n",
    "\n",
    "👍\n",
    "\n",
    "</div>"
   ]
  },
  {
   "cell_type": "markdown",
   "metadata": {},
   "source": [
    "Внимательнее взглянув на прибыль, видим, что окупаются следующие жанры:  комедия, спорт, фантастика и ужасы. Большинство жанров не окупается. Наименее окупаемые - детектив, фэнтези и приключения."
   ]
  },
  {
   "cell_type": "markdown",
   "metadata": {},
   "source": [
    "<div class=\"alert alert-success\">\n",
    "<h1> Комментарий ревьюера✅</h1>\n",
    "\n",
    "Все так.\n",
    "\n",
    "</div>"
   ]
  },
  {
   "cell_type": "code",
   "execution_count": 66,
   "metadata": {},
   "outputs": [
    {
     "data": {
      "text/plain": [
       "show_start_year\n",
       "2015   2.80\n",
       "2016   1.00\n",
       "2017   2.90\n",
       "2018   2.50\n",
       "2019   3.20\n",
       "Name: ratings, dtype: float64"
      ]
     },
     "execution_count": 66,
     "metadata": {},
     "output_type": "execute_result"
    }
   ],
   "source": [
    "support_df.groupby('show_start_year')['ratings'].min()"
   ]
  },
  {
   "cell_type": "code",
   "execution_count": 67,
   "metadata": {},
   "outputs": [
    {
     "data": {
      "text/plain": [
       "show_start_year\n",
       "2015   8.50\n",
       "2016   8.50\n",
       "2017   8.00\n",
       "2018   7.70\n",
       "2019   8.20\n",
       "Name: ratings, dtype: float64"
      ]
     },
     "execution_count": 67,
     "metadata": {},
     "output_type": "execute_result"
    }
   ],
   "source": [
    "support_df.groupby('show_start_year')['ratings'].max()"
   ]
  },
  {
   "cell_type": "markdown",
   "metadata": {},
   "source": [
    "Максимальный рейтинг фильма с господдержкой, 8,5, был зафиксирован в 2015 и 2016 годах, не в годы самой высокой господдержки. В то же время у фильмов без господдержки мы видили максимальный рейтинг 9,1. Получается, что фильмы которые нравятся публике, не обязательно спонсируются государством.\n",
    "Однако в год минимальной господдержки, 2017, максимальный рейтинг тоже был довольно высоким, 8,0. Минимальный рейтинг фильма с господдержкой, 1 балл, отмечен в 2016 году. "
   ]
  },
  {
   "cell_type": "markdown",
   "metadata": {},
   "source": [
    "<div class=\"alert alert-warning\">\n",
    "<h1> Комментарий ревьюера💡</h1>\n",
    "\n",
    "Похоже, что ячейки перепутались. Ты считаешь рейтинги, а вывод про сборы. Наверно нужно подправить.\n",
    "\n",
    "</div>"
   ]
  },
  {
   "cell_type": "markdown",
   "metadata": {},
   "source": [
    "<div style=\"border:solid blue 3px; padding: 20px\">\n",
    "<div class=\"alert alert-info\">\n",
    "    \n",
    "Поправила.\n",
    "    \n",
    "</div>\n",
    "</div>"
   ]
  },
  {
   "cell_type": "markdown",
   "metadata": {},
   "source": [
    "<div class=\"alert alert-success\">\n",
    "<h1> Комментарий ревьюера V2✅</h1>\n",
    "\n",
    "Отлично.\n",
    "\n",
    "</div>"
   ]
  },
  {
   "cell_type": "markdown",
   "metadata": {},
   "source": [
    "Соотнесем сумму господдержки с рейтингом фильмов."
   ]
  },
  {
   "cell_type": "code",
   "execution_count": 68,
   "metadata": {},
   "outputs": [
    {
     "data": {
      "image/png": "[encoded data removed]",
      "text/plain": [
       "<Figure size 432x288 with 1 Axes>"
      ]
     },
     "metadata": {
      "needs_background": "light"
     },
     "output_type": "display_data"
    }
   ],
   "source": [
    "support_df.groupby('show_start_year')['ratings'].agg(\n",
    "    ['max', 'min', 'mean', 'median']).plot(grid=True, ylim=0, style='o-')\n",
    "plt.title('Рейтинг фильмов');\n",
    "plt.xlabel('Год');\n",
    "plt.ylabel('Рейтинг');"
   ]
  },
  {
   "cell_type": "markdown",
   "metadata": {},
   "source": [
    "<div class=\"alert alert-danger\">\n",
    "<h1> Комментарий ревьюера ❌</h1>\n",
    "Тут нужно уточнить источник, по которому ты строишь график.\n",
    "    \n",
    "В таблице t у тебя не только фильмы с господдержкой. Если для расчета прибыльности это влияния не оказало, то тут разница будет.\n",
    "    \n",
    "Наверно стоило в начале раздела выделить в отдельную таблицу только фильмы с господдержкой и работать с этой таблицей.\n",
    "\n",
    "\n",
    "</div>"
   ]
  },
  {
   "cell_type": "markdown",
   "metadata": {},
   "source": [
    "<div style=\"border:solid blue 3px; padding: 20px\">\n",
    "<div class=\"alert alert-info\">\n",
    "    \n",
    "Выделила фильмы с господдержкой в отдельную таблицу. Среднее и медиана рейтинга все равно остались близки, а вот max и min значения действительно отличаются.\n",
    "    \n",
    "</div>\n",
    "</div>"
   ]
  },
  {
   "cell_type": "markdown",
   "metadata": {},
   "source": [
    "<div class=\"alert alert-success\">\n",
    "<h1> Комментарий ревьюера V2✅</h1>\n",
    "\n",
    "Шкала рейтинга довольно узкая, и среднее значение для фильмов с господдержкой и без нее отличаться будет не очень сильно.\n",
    "\n",
    "</div>"
   ]
  },
  {
   "cell_type": "markdown",
   "metadata": {},
   "source": [
    "По этому графику видим, что средние и медианные значения рейтинга практически совпадают во все годы. Это говорит о том, что значение рейтинга распределяется очень равномерно из года в год. Минимальное значение рейтинга, 1 балл, мы наблюдаем в 2016 году, хотя сумма господдержки в этом году была одной из самых высоких, 4303млн.р. Максимальный рейтинг фильма с господдержкой, 8,5, был зафиксирован в 2015 и 2016 годах, не в годы самой высокой господдержки. \n",
    "В год минимальной господдержки, 2017, максимальный рейтинг тоже был довольно высоким, 8,0. "
   ]
  },
  {
   "cell_type": "markdown",
   "metadata": {},
   "source": [
    "Построим диаграмму рассеяния зависимости рейтинга от суммы поддержки."
   ]
  },
  {
   "cell_type": "code",
   "execution_count": 69,
   "metadata": {},
   "outputs": [
    {
     "data": {
      "image/png": "[encoded data removed]",
      "text/plain": [
       "<Figure size 432x288 with 1 Axes>"
      ]
     },
     "metadata": {
      "needs_background": "light"
     },
     "output_type": "display_data"
    }
   ],
   "source": [
    "support_df.plot(x='total_support',y = 'ratings', style = 'o')\n",
    "plt.title('Зависимость рейтинга от суммы господдержки');\n",
    "plt.xlabel('Сумма господдержки, руб.');\n",
    "plt.ylabel('Рейтинг');"
   ]
  },
  {
   "cell_type": "markdown",
   "metadata": {},
   "source": [
    "<div class=\"alert alert-danger\">\n",
    "<h1> Комментарий ревьюера ❌</h1>\n",
    "\n",
    "Нужно оформить график.\n",
    "\n",
    "</div>"
   ]
  },
  {
   "cell_type": "markdown",
   "metadata": {},
   "source": [
    "<div style=\"border:solid blue 3px; padding: 20px\">\n",
    "<div class=\"alert alert-info\">\n",
    "    \n",
    "Оформила.\n",
    "    \n",
    "</div>\n",
    "</div>"
   ]
  },
  {
   "cell_type": "markdown",
   "metadata": {},
   "source": [
    "<div class=\"alert alert-success\">\n",
    "<h1> Комментарий ревьюера V2✅</h1>\n",
    "\n",
    "👍\n",
    "\n",
    "</div>"
   ]
  },
  {
   "cell_type": "markdown",
   "metadata": {},
   "source": [
    "В выборке преобладают картины с поддержкой до 100 млн рублей. В среднем видим, что  картины с суммой поддержки больше 200 млн рублей не опускаются в рейтинге ниже 5 баллов. Но и среди самых дорогих фильмов нет тех, которые бы были оценены больше 8 баллов."
   ]
  },
  {
   "cell_type": "markdown",
   "metadata": {},
   "source": [
    "<div class=\"alert alert-success\">\n",
    "<h1> Комментарий ревьюера✅</h1>\n",
    "\n",
    "Интересное наблюдение.\n",
    "\n",
    "</div>"
   ]
  },
  {
   "cell_type": "markdown",
   "metadata": {},
   "source": [
    "Построим  такую же диаграмму для окупаемости."
   ]
  },
  {
   "cell_type": "code",
   "execution_count": 70,
   "metadata": {},
   "outputs": [
    {
     "data": {
      "image/png": "[encoded data removed]",
      "text/plain": [
       "<Figure size 432x288 with 1 Axes>"
      ]
     },
     "metadata": {
      "needs_background": "light"
     },
     "output_type": "display_data"
    }
   ],
   "source": [
    "support_df.plot(x='total_support',y = 'payback', style = 'o')\n",
    "plt.title('Зависимость окупаемости от суммы господдержки');\n",
    "plt.xlabel('Сумма господдержки, руб.');\n",
    "plt.ylabel('Окупаемость, руб.');\n"
   ]
  },
  {
   "cell_type": "markdown",
   "metadata": {},
   "source": [
    "Здесь хорошо видно, что большая часть картин не окупается."
   ]
  },
  {
   "cell_type": "markdown",
   "metadata": {},
   "source": [
    "<div class=\"alert alert-success\">\n",
    "<h1> Комментарий ревьюера✅</h1>\n",
    "\n",
    "Да, предыдущий вывод подтверждается.\n",
    "\n",
    "</div>"
   ]
  },
  {
   "cell_type": "markdown",
   "metadata": {},
   "source": [
    "Посмотрим, какие жанры фильмов больше всего поддерживаются, и какие имеют самый высокий рейтинг."
   ]
  },
  {
   "cell_type": "code",
   "execution_count": 71,
   "metadata": {},
   "outputs": [
    {
     "ename": "NameError",
     "evalue": "name 't' is not defined",
     "output_type": "error",
     "traceback": [
      "\u001b[0;31m---------------------------------------------------------------------------\u001b[0m",
      "\u001b[0;31mNameError\u001b[0m                                 Traceback (most recent call last)",
      "\u001b[0;32m/tmp/ipykernel_276/4043295433.py\u001b[0m in \u001b[0;36m<module>\u001b[0;34m\u001b[0m\n\u001b[0;32m----> 1\u001b[0;31m \u001b[0mtable\u001b[0m \u001b[0;34m=\u001b[0m \u001b[0mt\u001b[0m\u001b[0;34m.\u001b[0m\u001b[0mgroupby\u001b[0m\u001b[0;34m(\u001b[0m\u001b[0;34m'genre_first'\u001b[0m\u001b[0;34m)\u001b[0m\u001b[0;34m[\u001b[0m\u001b[0;34m[\u001b[0m\u001b[0;34m'total_support'\u001b[0m\u001b[0;34m,\u001b[0m \u001b[0;34m'ratings'\u001b[0m\u001b[0;34m]\u001b[0m\u001b[0;34m]\u001b[0m\u001b[0;34m.\u001b[0m\u001b[0magg\u001b[0m\u001b[0;34m(\u001b[0m\u001b[0;34m[\u001b[0m\u001b[0;34m'count'\u001b[0m\u001b[0;34m,\u001b[0m \u001b[0;34m'sum'\u001b[0m\u001b[0;34m,\u001b[0m \u001b[0;34m'mean'\u001b[0m\u001b[0;34m,\u001b[0m\u001b[0;34m'median'\u001b[0m\u001b[0;34m]\u001b[0m\u001b[0;34m)\u001b[0m\u001b[0;34m\u001b[0m\u001b[0;34m\u001b[0m\u001b[0m\n\u001b[0m\u001b[1;32m      2\u001b[0m \u001b[0mtable\u001b[0m\u001b[0;34m.\u001b[0m\u001b[0mcolumns\u001b[0m \u001b[0;34m=\u001b[0m \u001b[0;34m[\u001b[0m\u001b[0;34m'_'\u001b[0m\u001b[0;34m.\u001b[0m\u001b[0mjoin\u001b[0m\u001b[0;34m(\u001b[0m\u001b[0mcol\u001b[0m\u001b[0;34m)\u001b[0m\u001b[0;34m.\u001b[0m\u001b[0mstrip\u001b[0m\u001b[0;34m(\u001b[0m\u001b[0;34m)\u001b[0m \u001b[0;32mfor\u001b[0m \u001b[0mcol\u001b[0m \u001b[0;32min\u001b[0m \u001b[0mtable\u001b[0m\u001b[0;34m.\u001b[0m\u001b[0mcolumns\u001b[0m\u001b[0;34m.\u001b[0m\u001b[0mvalues\u001b[0m\u001b[0;34m]\u001b[0m\u001b[0;34m\u001b[0m\u001b[0;34m\u001b[0m\u001b[0m\n\u001b[1;32m      3\u001b[0m \u001b[0mtable\u001b[0m \u001b[0;34m=\u001b[0m \u001b[0mtable\u001b[0m\u001b[0;34m.\u001b[0m\u001b[0msort_values\u001b[0m\u001b[0;34m(\u001b[0m\u001b[0mby\u001b[0m\u001b[0;34m=\u001b[0m\u001b[0;34m'total_support_count'\u001b[0m\u001b[0;34m,\u001b[0m \u001b[0mascending\u001b[0m\u001b[0;34m=\u001b[0m\u001b[0;32mFalse\u001b[0m\u001b[0;34m)\u001b[0m\u001b[0;34m.\u001b[0m\u001b[0mhead\u001b[0m\u001b[0;34m(\u001b[0m\u001b[0;36m20\u001b[0m\u001b[0;34m)\u001b[0m\u001b[0;31m#посмотрим на топ 10 фильмов\u001b[0m\u001b[0;34m\u001b[0m\u001b[0;34m\u001b[0m\u001b[0m\n\u001b[1;32m      4\u001b[0m \u001b[0mtable\u001b[0m\u001b[0;34m\u001b[0m\u001b[0;34m\u001b[0m\u001b[0m\n",
      "\u001b[0;31mNameError\u001b[0m: name 't' is not defined"
     ]
    }
   ],
   "source": [
    "table = t.groupby('genre_first')[['total_support', 'ratings']].agg(['count', 'sum', 'mean','median'])\n",
    "table.columns = ['_'.join(col).strip() for col in table.columns.values]\n",
    "table = table.sort_values(by='total_support_count', ascending=False).head(20)#посмотрим на топ 10 фильмов\n",
    "table"
   ]
  },
  {
   "attachments": {
    "image.png": {
     "image/png": "[encoded data removed]"
    }
   },
   "cell_type": "markdown",
   "metadata": {},
   "source": [
    "<div class=\"alert alert-warning\">\n",
    "<h1> Комментарий ревьюера V2💡</h1>\n",
    "\n",
    "Ячейка перестала работать.\n",
    "    \n",
    "Перед отправкой работы на проверку рекомендую перезапускать ядро и все ячейки, чтобы выловить такие обидные недочеты.\n",
    "    \n",
    "![image.png](attachment:image.png)\n",
    "\n",
    "</div>"
   ]
  },
  {
   "cell_type": "markdown",
   "metadata": {},
   "source": [
    "В топ-3 по сумме финансирования вошли: драма, комедия, мультфильм. Из этих трех лучшие оценки у драм, средняя оценка - 6.7. Средний рейтинг комедий составил 5,9, а мультфильмов - 6,1. Далее по таблице видим, что сумма финансирования снижается, но рейтинги при этом падают не сильно."
   ]
  },
  {
   "cell_type": "markdown",
   "metadata": {
    "id": "V2gYwMcPgFyd"
   },
   "source": [
    "### Шаг 5. Напишите общий вывод"
   ]
  },
  {
   "cell_type": "markdown",
   "metadata": {},
   "source": [
    "<div class=\"alert-info\" style=\"padding: 20px; border-radius: 10px\">\n",
    "<b> </b>\n",
    "    \n",
    "Нам была поставлена задача изучить рынок российского кинопроката и выявить текущие тренды. Мы уделили особое внимание фильмам, которые получили государственную поддержку. Попробовали ответить на вопрос, насколько такие фильмы интересны зрителю. \n",
    "\n",
    "Мы работали с данными, опубликованными на портале открытых данных Министерства культуры. Набор данных содержит информацию о прокатных удостоверениях, сборах и государственной поддержке фильмов, а также информацию с сайта КиноПоиск. \n",
    "Мы обработали пропущенные значения там, где это необходимо, заменили типы данных на необходимые для удобной работы. Был выделен год из даты премьеры, добавлены данные с именем и фамилией главного режиссёра и основным жанром фильма. \n",
    "    \n",
    "Выяснилось, что **примерно половину от общего бюджета фильма составляет государственная поддержка. Наибольшее количество фильмов в прокате было в 2016 и 2019 годах - 526 и 530 соответственно. Наименьшее число - в 2010 и 2011 годах, 105 и 109 соответственно.\n",
    "Наибольшее количество фильмов с информацией о  прокате было в 2015 и 2017 годах - 66% и 70% соответственно. Наименьшее число - в 2010 году, почти 11%.**\n",
    "\n",
    "**В 2010 году сумма сборов была минимальной и составила 2428654 руб , в 2018 максимальной и составила 49668403134 руб.**\n",
    "\n",
    "Начиная с 2014 годв, можно отметить, в целом, появление большего числа фильмов в прокате и появление высокобюджетных фильмов.\n",
    "Что касается возрвстной категории, то **бесспорным лидером можно назвать категорию 16+. Такие фильмы лидируют в прокате почти во все годы, кроме 2015 и 2019.** \n",
    "\n",
    "Изучив болле подробно фильмы с господдержкой, можно сделать вывод о том, что **самая большая господдержка была в 2019 году, самая маленькая - в 2017 году.** При этом средний рейтинг таких фильмов оставался примерно одинаковым на протяжении всех лет. Самые высокие рейтинги имеют фильмы без господдержки.\n",
    "\n",
    "В выборке преобладают картины с поддержкой до 100 млн рублей. В среднем видим, что картины с суммой поддержки больше 200 млн рублей не опускаются в рейтинге ниже 5 баллов. Но и среди самых дорогих фильмов нет тех, которые бы были оценены больше 8 баллов.\n",
    "\n",
    "Что ксается окупаемости, **вцелом картины не окупаются, хотя средняя прибыль составляет 425000 руб.** Это происходит, видимо, за счет выхода в прокат хитолв.\n",
    "\n",
    "**Окупаются следующие жанры:  комедия, спорт, фантастика и ужасы. Большинство жанров не окупается. Наименее окупаемые - детектив, фэнтези и приключения. В топ-3 по сумме финансирования вошли: драма, комедия, мультфильм. Из этих трех лучшие оценки у драм, средняя оценка - 6.7. Средний рейтинг комедий составил 5,9, а мультфильмов - 6,1.**\n",
    "\n",
    "Рынок российского кинопроката - развивающийся и перспективный. В связи с этим рекомендуется более детально проанализировать, какие режиссеры наиболее популярны, а также фильмы каких стран наиболее востребованы.\n",
    "    </div>"
   ]
  },
  {
   "cell_type": "markdown",
   "metadata": {
    "id": "AYRg3dzXgFye"
   },
   "source": [
    "<div class=\"alert alert-success\">\n",
    "<h1> Комментарий ревьюера✅</h1>\n",
    "\n",
    "Отличный вывод.\n",
    "\n",
    "</div>"
   ]
  },
  {
   "cell_type": "markdown",
   "metadata": {},
   "source": [
    "<div class=\"alert alert-warning\">\n",
    "<h1> Общий комментарий </h1>\n",
    "\n",
    "Хорошая работа. Видно, что ты отлично справляешься с обработкой данных. В целом у тебя получилось ответить на все поставленные вопросы.\n",
    "    \n",
    "Есть несколько небольших недочетов, которые нужно поправить. Я думаю ты без труда с этим справишься.\n",
    "    \n",
    "Что нужно устранить:\n",
    "- добавить проверку на аномалии всех числовых колонок.\n",
    "- оформить графики в проекте.\n",
    "- при анализе рейтингов фильмов с господдержкой уточнить таблицу источник.\n",
    "    \n",
    "Жду твою работу на повторную проверку. Если у тебя есть вопросы, не стесняйся их задавать)\n",
    "\n",
    "</div>"
   ]
  },
  {
   "cell_type": "code",
   "execution_count": null,
   "metadata": {},
   "outputs": [],
   "source": [
    "Сама понимаю, что пока слегка корявенько, и местами, наверное, сумбурно, но пока вот так)\n",
    "Спасибо за ценные советы!"
   ]
  },
  {
   "cell_type": "markdown",
   "metadata": {},
   "source": [
    "<div class=\"alert alert-success\">\n",
    "<h1> Финальный комментарий </h1>\n",
    "\n",
    "Спасибо за твои доработки.\n",
    "    \n",
    "У тебя получилось все устранить. Я твою работу принимаю.\n",
    "    \n",
    "Но на будущее обрати внимание на перезапуск ячеек. Неработающий код - основание для возвращения проекта без проверки)\n",
    "    \n",
    "В целом проект хороший. Я бы посоветовал тебе придерживаться структуры, и каждый пункт завершать небольшим выводом.\n",
    "    \n",
    "Желаю удачи в дальнейшем обучении!\n",
    "\n",
    "</div>"
   ]
  }
 ],
 "metadata": {
  "ExecuteTimeLog": [
   {
    "duration": 537,
    "start_time": "2021-07-07T10:12:08.634Z"
   },
   {
    "duration": 206,
    "start_time": "2021-07-07T10:12:30.191Z"
   },
   {
    "duration": 227,
    "start_time": "2021-07-07T10:12:33.078Z"
   },
   {
    "duration": 153,
    "start_time": "2021-07-07T10:13:42.146Z"
   },
   {
    "duration": 233,
    "start_time": "2021-07-07T10:30:09.252Z"
   },
   {
    "duration": 19,
    "start_time": "2021-07-07T10:30:15.577Z"
   },
   {
    "duration": 18,
    "start_time": "2021-07-07T10:30:57.348Z"
   },
   {
    "duration": 19,
    "start_time": "2021-07-07T10:31:17.452Z"
   },
   {
    "duration": 21,
    "start_time": "2021-07-07T10:31:32.227Z"
   },
   {
    "duration": 27,
    "start_time": "2021-07-07T10:32:06.588Z"
   },
   {
    "duration": 23,
    "start_time": "2021-07-07T10:32:43.645Z"
   },
   {
    "duration": 24,
    "start_time": "2021-07-07T10:33:06.948Z"
   },
   {
    "duration": 7,
    "start_time": "2021-07-07T10:33:28.558Z"
   },
   {
    "duration": 23,
    "start_time": "2021-07-07T10:33:43.761Z"
   },
   {
    "duration": 28,
    "start_time": "2021-07-07T10:34:13.466Z"
   },
   {
    "duration": 23,
    "start_time": "2021-07-07T10:35:56.187Z"
   },
   {
    "duration": 6,
    "start_time": "2021-07-07T10:36:48.182Z"
   },
   {
    "duration": 14,
    "start_time": "2021-07-07T10:37:49.641Z"
   },
   {
    "duration": 6,
    "start_time": "2021-07-07T10:38:06.694Z"
   },
   {
    "duration": 6,
    "start_time": "2021-07-07T10:38:13.493Z"
   },
   {
    "duration": 19,
    "start_time": "2021-07-07T10:38:44.056Z"
   },
   {
    "duration": 186,
    "start_time": "2021-07-07T10:48:35.618Z"
   },
   {
    "duration": 24,
    "start_time": "2021-07-07T10:48:51.498Z"
   },
   {
    "duration": 20,
    "start_time": "2021-07-07T10:48:59.415Z"
   },
   {
    "duration": 20,
    "start_time": "2021-07-07T10:53:02.195Z"
   },
   {
    "duration": 188,
    "start_time": "2021-07-07T10:54:40.486Z"
   },
   {
    "duration": 115,
    "start_time": "2021-07-07T10:54:52.552Z"
   },
   {
    "duration": 214,
    "start_time": "2021-07-07T10:54:56.354Z"
   },
   {
    "duration": 47,
    "start_time": "2021-07-07T10:54:58.282Z"
   },
   {
    "duration": 217,
    "start_time": "2021-07-07T10:59:16.075Z"
   },
   {
    "duration": 51,
    "start_time": "2021-07-07T10:59:16.243Z"
   },
   {
    "duration": 578,
    "start_time": "2021-07-07T10:59:18.774Z"
   },
   {
    "duration": 161,
    "start_time": "2021-07-07T10:59:21.238Z"
   },
   {
    "duration": 59,
    "start_time": "2021-07-07T10:59:21.453Z"
   },
   {
    "duration": 3,
    "start_time": "2021-07-07T11:02:10.786Z"
   },
   {
    "duration": 13,
    "start_time": "2021-07-07T11:07:07.722Z"
   },
   {
    "duration": 26,
    "start_time": "2021-07-07T11:07:17.958Z"
   },
   {
    "duration": 22,
    "start_time": "2021-07-07T11:08:17.939Z"
   },
   {
    "duration": 212,
    "start_time": "2021-07-07T11:08:19.665Z"
   },
   {
    "duration": 21,
    "start_time": "2021-07-07T11:08:29.945Z"
   },
   {
    "duration": 31,
    "start_time": "2021-07-07T11:08:38.899Z"
   },
   {
    "duration": 23,
    "start_time": "2021-07-07T11:08:54.527Z"
   },
   {
    "duration": 8,
    "start_time": "2021-07-07T11:18:55.974Z"
   },
   {
    "duration": 7,
    "start_time": "2021-07-07T11:19:03.639Z"
   },
   {
    "duration": 7,
    "start_time": "2021-07-07T11:19:06.444Z"
   },
   {
    "duration": 578,
    "start_time": "2021-07-07T12:09:59.576Z"
   },
   {
    "duration": 195,
    "start_time": "2021-07-07T12:10:00.156Z"
   },
   {
    "duration": 115,
    "start_time": "2021-07-07T12:10:00.353Z"
   },
   {
    "duration": 3,
    "start_time": "2021-07-07T12:10:00.470Z"
   },
   {
    "duration": 32,
    "start_time": "2021-07-07T12:10:00.474Z"
   },
   {
    "duration": 23,
    "start_time": "2021-07-07T12:10:00.508Z"
   },
   {
    "duration": 19,
    "start_time": "2021-07-07T12:10:00.533Z"
   },
   {
    "duration": 44,
    "start_time": "2021-07-07T12:10:00.553Z"
   },
   {
    "duration": 7,
    "start_time": "2021-07-07T12:10:00.600Z"
   },
   {
    "duration": 7,
    "start_time": "2021-07-07T12:19:45.761Z"
   },
   {
    "duration": 21,
    "start_time": "2021-07-07T12:21:35.482Z"
   },
   {
    "duration": 21,
    "start_time": "2021-07-07T12:29:23.569Z"
   },
   {
    "duration": 525,
    "start_time": "2021-07-07T12:29:44.542Z"
   },
   {
    "duration": 214,
    "start_time": "2021-07-07T12:29:45.069Z"
   },
   {
    "duration": 92,
    "start_time": "2021-07-07T12:29:45.285Z"
   },
   {
    "duration": 3,
    "start_time": "2021-07-07T12:29:45.379Z"
   },
   {
    "duration": 28,
    "start_time": "2021-07-07T12:29:45.384Z"
   },
   {
    "duration": 23,
    "start_time": "2021-07-07T12:29:45.413Z"
   },
   {
    "duration": 21,
    "start_time": "2021-07-07T12:29:45.437Z"
   },
   {
    "duration": 41,
    "start_time": "2021-07-07T12:29:45.460Z"
   },
   {
    "duration": 7,
    "start_time": "2021-07-07T12:29:45.502Z"
   },
   {
    "duration": 20,
    "start_time": "2021-07-07T12:29:45.511Z"
   },
   {
    "duration": 12,
    "start_time": "2021-07-07T12:34:02.800Z"
   },
   {
    "duration": 7,
    "start_time": "2021-07-07T12:35:10.479Z"
   },
   {
    "duration": 8,
    "start_time": "2021-07-07T12:35:22.440Z"
   },
   {
    "duration": 6,
    "start_time": "2021-07-07T12:35:35.649Z"
   },
   {
    "duration": 6,
    "start_time": "2021-07-07T12:35:43.107Z"
   },
   {
    "duration": 22,
    "start_time": "2021-07-07T12:38:03.029Z"
   },
   {
    "duration": 10,
    "start_time": "2021-07-07T12:38:06.592Z"
   },
   {
    "duration": 563,
    "start_time": "2021-07-07T12:38:46.493Z"
   },
   {
    "duration": 265,
    "start_time": "2021-07-07T12:38:47.058Z"
   },
   {
    "duration": 94,
    "start_time": "2021-07-07T12:38:47.325Z"
   },
   {
    "duration": 3,
    "start_time": "2021-07-07T12:38:47.422Z"
   },
   {
    "duration": 30,
    "start_time": "2021-07-07T12:38:47.427Z"
   },
   {
    "duration": 16,
    "start_time": "2021-07-07T12:38:53.305Z"
   },
   {
    "duration": 10,
    "start_time": "2021-07-07T12:38:53.499Z"
   },
   {
    "duration": 8,
    "start_time": "2021-07-07T12:39:48.161Z"
   },
   {
    "duration": 27,
    "start_time": "2021-07-07T12:41:17.629Z"
   },
   {
    "duration": 17,
    "start_time": "2021-07-07T12:41:17.867Z"
   },
   {
    "duration": 21,
    "start_time": "2021-07-07T12:41:19.310Z"
   },
   {
    "duration": 7,
    "start_time": "2021-07-07T12:41:19.544Z"
   },
   {
    "duration": 20,
    "start_time": "2021-07-07T12:41:20.504Z"
   },
   {
    "duration": 554,
    "start_time": "2021-07-07T12:56:23.696Z"
   },
   {
    "duration": 200,
    "start_time": "2021-07-07T12:56:25.234Z"
   },
   {
    "duration": 119,
    "start_time": "2021-07-07T12:56:25.480Z"
   },
   {
    "duration": 4,
    "start_time": "2021-07-07T12:56:25.762Z"
   },
   {
    "duration": 26,
    "start_time": "2021-07-07T12:56:27.172Z"
   },
   {
    "duration": 12,
    "start_time": "2021-07-07T12:56:29.051Z"
   },
   {
    "duration": 10,
    "start_time": "2021-07-07T12:56:29.291Z"
   },
   {
    "duration": 8,
    "start_time": "2021-07-07T12:56:29.623Z"
   },
   {
    "duration": 28,
    "start_time": "2021-07-07T12:56:32.137Z"
   },
   {
    "duration": 19,
    "start_time": "2021-07-07T12:56:39.785Z"
   },
   {
    "duration": 20,
    "start_time": "2021-07-07T12:56:44.297Z"
   },
   {
    "duration": 7,
    "start_time": "2021-07-07T12:56:45.392Z"
   },
   {
    "duration": 23,
    "start_time": "2021-07-07T12:56:46.615Z"
   },
   {
    "duration": 4,
    "start_time": "2021-07-07T12:57:06.625Z"
   },
   {
    "duration": 32,
    "start_time": "2021-07-07T12:57:36.690Z"
   },
   {
    "duration": 18,
    "start_time": "2021-07-07T12:58:00.149Z"
   },
   {
    "duration": 15,
    "start_time": "2021-07-07T12:59:16.793Z"
   },
   {
    "duration": 7,
    "start_time": "2021-07-07T13:19:22.624Z"
   },
   {
    "duration": 6,
    "start_time": "2021-07-07T14:17:33.527Z"
   },
   {
    "duration": 9,
    "start_time": "2021-07-07T14:17:48.409Z"
   },
   {
    "duration": 8,
    "start_time": "2021-07-07T14:20:13.060Z"
   },
   {
    "duration": 8,
    "start_time": "2021-07-07T14:20:37.957Z"
   },
   {
    "duration": 8,
    "start_time": "2021-07-07T14:20:47.470Z"
   },
   {
    "duration": 9,
    "start_time": "2021-07-07T14:20:54.503Z"
   },
   {
    "duration": 10,
    "start_time": "2021-07-07T14:28:57.763Z"
   },
   {
    "duration": 3,
    "start_time": "2021-07-07T14:30:23.377Z"
   },
   {
    "duration": 3,
    "start_time": "2021-07-07T14:30:36.489Z"
   },
   {
    "duration": 103,
    "start_time": "2021-07-07T14:30:52.351Z"
   },
   {
    "duration": 8,
    "start_time": "2021-07-07T14:30:54.763Z"
   },
   {
    "duration": 8,
    "start_time": "2021-07-07T14:31:29.301Z"
   },
   {
    "duration": 13,
    "start_time": "2021-07-07T14:31:44.516Z"
   },
   {
    "duration": 7,
    "start_time": "2021-07-07T14:33:10.972Z"
   },
   {
    "duration": 11,
    "start_time": "2021-07-07T14:33:27.780Z"
   },
   {
    "duration": 8,
    "start_time": "2021-07-07T14:34:44.588Z"
   },
   {
    "duration": 57,
    "start_time": "2021-07-07T14:35:59.042Z"
   },
   {
    "duration": 3,
    "start_time": "2021-07-07T14:36:28.168Z"
   },
   {
    "duration": 5,
    "start_time": "2021-07-07T14:36:46.254Z"
   },
   {
    "duration": 4,
    "start_time": "2021-07-07T14:36:52.714Z"
   },
   {
    "duration": 3,
    "start_time": "2021-07-07T14:36:56.612Z"
   },
   {
    "duration": 4,
    "start_time": "2021-07-07T14:36:57.049Z"
   },
   {
    "duration": 3,
    "start_time": "2021-07-07T14:39:21.214Z"
   },
   {
    "duration": 7,
    "start_time": "2021-07-07T14:39:52.406Z"
   },
   {
    "duration": 11,
    "start_time": "2021-07-07T14:39:58.576Z"
   },
   {
    "duration": 9,
    "start_time": "2021-07-07T14:40:26.301Z"
   },
   {
    "duration": 10,
    "start_time": "2021-07-07T14:40:31.704Z"
   },
   {
    "duration": 11,
    "start_time": "2021-07-07T14:40:36.249Z"
   },
   {
    "duration": 10,
    "start_time": "2021-07-07T14:40:39.783Z"
   },
   {
    "duration": 9,
    "start_time": "2021-07-07T14:40:48.558Z"
   },
   {
    "duration": 10,
    "start_time": "2021-07-07T14:40:57.143Z"
   },
   {
    "duration": 9,
    "start_time": "2021-07-07T14:41:06.074Z"
   },
   {
    "duration": 4324,
    "start_time": "2021-07-07T14:41:22.004Z"
   },
   {
    "duration": 11,
    "start_time": "2021-07-07T14:41:33.392Z"
   },
   {
    "duration": 9,
    "start_time": "2021-07-07T14:41:39.288Z"
   },
   {
    "duration": 569,
    "start_time": "2021-07-07T14:42:14.387Z"
   },
   {
    "duration": 197,
    "start_time": "2021-07-07T14:42:14.959Z"
   },
   {
    "duration": 84,
    "start_time": "2021-07-07T14:42:16.052Z"
   },
   {
    "duration": 4,
    "start_time": "2021-07-07T14:42:16.900Z"
   },
   {
    "duration": 27,
    "start_time": "2021-07-07T14:42:19.898Z"
   },
   {
    "duration": 12,
    "start_time": "2021-07-07T14:42:21.577Z"
   },
   {
    "duration": 9,
    "start_time": "2021-07-07T14:42:21.813Z"
   },
   {
    "duration": 9,
    "start_time": "2021-07-07T14:42:22.569Z"
   },
   {
    "duration": 29,
    "start_time": "2021-07-07T14:42:25.837Z"
   },
   {
    "duration": 20,
    "start_time": "2021-07-07T14:42:27.003Z"
   },
   {
    "duration": 21,
    "start_time": "2021-07-07T14:42:28.767Z"
   },
   {
    "duration": 7,
    "start_time": "2021-07-07T14:42:29.838Z"
   },
   {
    "duration": 4,
    "start_time": "2021-07-07T14:43:25.493Z"
   },
   {
    "duration": 7,
    "start_time": "2021-07-07T14:43:26.573Z"
   },
   {
    "duration": 10,
    "start_time": "2021-07-07T14:43:31.639Z"
   },
   {
    "duration": 9,
    "start_time": "2021-07-07T14:43:32.046Z"
   },
   {
    "duration": 10,
    "start_time": "2021-07-07T14:43:33.301Z"
   },
   {
    "duration": 12,
    "start_time": "2021-07-07T14:43:33.658Z"
   },
   {
    "duration": 8,
    "start_time": "2021-07-07T14:43:34.552Z"
   },
   {
    "duration": 9,
    "start_time": "2021-07-07T14:43:35.058Z"
   },
   {
    "duration": 12,
    "start_time": "2021-07-07T14:43:35.914Z"
   },
   {
    "duration": 17,
    "start_time": "2021-07-07T14:45:34.368Z"
   },
   {
    "duration": 512,
    "start_time": "2021-07-07T14:51:58.236Z"
   },
   {
    "duration": 223,
    "start_time": "2021-07-07T14:51:58.750Z"
   },
   {
    "duration": 93,
    "start_time": "2021-07-07T14:51:58.977Z"
   },
   {
    "duration": 4,
    "start_time": "2021-07-07T14:51:59.071Z"
   },
   {
    "duration": 37,
    "start_time": "2021-07-07T14:51:59.077Z"
   },
   {
    "duration": 18,
    "start_time": "2021-07-07T14:51:59.116Z"
   },
   {
    "duration": 10,
    "start_time": "2021-07-07T14:51:59.137Z"
   },
   {
    "duration": 8,
    "start_time": "2021-07-07T14:51:59.149Z"
   },
   {
    "duration": 54,
    "start_time": "2021-07-07T14:51:59.158Z"
   },
   {
    "duration": 18,
    "start_time": "2021-07-07T14:51:59.213Z"
   },
   {
    "duration": 22,
    "start_time": "2021-07-07T14:51:59.232Z"
   },
   {
    "duration": 36,
    "start_time": "2021-07-07T14:51:59.255Z"
   },
   {
    "duration": 7,
    "start_time": "2021-07-07T14:51:59.293Z"
   },
   {
    "duration": 10,
    "start_time": "2021-07-07T14:51:59.302Z"
   },
   {
    "duration": 9,
    "start_time": "2021-07-07T14:51:59.313Z"
   },
   {
    "duration": 11,
    "start_time": "2021-07-07T14:51:59.324Z"
   },
   {
    "duration": 8,
    "start_time": "2021-07-07T14:51:59.337Z"
   },
   {
    "duration": 46,
    "start_time": "2021-07-07T14:51:59.347Z"
   },
   {
    "duration": 22,
    "start_time": "2021-07-07T14:51:59.395Z"
   },
   {
    "duration": 24,
    "start_time": "2021-07-07T14:57:32.911Z"
   },
   {
    "duration": 7,
    "start_time": "2021-07-07T14:58:22.070Z"
   },
   {
    "duration": 4,
    "start_time": "2021-07-07T14:59:11.239Z"
   },
   {
    "duration": 25,
    "start_time": "2021-07-07T15:07:22.208Z"
   },
   {
    "duration": 16,
    "start_time": "2021-07-07T15:08:25.560Z"
   },
   {
    "duration": 15,
    "start_time": "2021-07-07T15:08:40.647Z"
   },
   {
    "duration": 14,
    "start_time": "2021-07-07T15:08:46.669Z"
   },
   {
    "duration": 533,
    "start_time": "2021-07-07T15:18:07.440Z"
   },
   {
    "duration": 173,
    "start_time": "2021-07-07T15:18:07.974Z"
   },
   {
    "duration": 84,
    "start_time": "2021-07-07T15:18:08.149Z"
   },
   {
    "duration": 3,
    "start_time": "2021-07-07T15:18:08.235Z"
   },
   {
    "duration": 30,
    "start_time": "2021-07-07T15:18:08.240Z"
   },
   {
    "duration": 22,
    "start_time": "2021-07-07T15:18:08.272Z"
   },
   {
    "duration": 11,
    "start_time": "2021-07-07T15:18:08.295Z"
   },
   {
    "duration": 11,
    "start_time": "2021-07-07T15:18:08.309Z"
   },
   {
    "duration": 40,
    "start_time": "2021-07-07T15:18:08.322Z"
   },
   {
    "duration": 42,
    "start_time": "2021-07-07T15:18:08.364Z"
   },
   {
    "duration": 22,
    "start_time": "2021-07-07T15:18:08.408Z"
   },
   {
    "duration": 5,
    "start_time": "2021-07-07T15:18:08.432Z"
   },
   {
    "duration": 13,
    "start_time": "2021-07-07T15:18:08.439Z"
   },
   {
    "duration": 9,
    "start_time": "2021-07-07T15:18:08.454Z"
   },
   {
    "duration": 32,
    "start_time": "2021-07-07T15:18:08.465Z"
   },
   {
    "duration": 10,
    "start_time": "2021-07-07T15:18:08.501Z"
   },
   {
    "duration": 7,
    "start_time": "2021-07-07T15:18:08.513Z"
   },
   {
    "duration": 11,
    "start_time": "2021-07-07T15:18:08.521Z"
   },
   {
    "duration": 17,
    "start_time": "2021-07-07T15:18:08.534Z"
   },
   {
    "duration": 44,
    "start_time": "2021-07-07T15:18:08.553Z"
   },
   {
    "duration": 22,
    "start_time": "2021-07-07T15:18:08.599Z"
   },
   {
    "duration": 61,
    "start_time": "2021-07-07T15:18:08.622Z"
   },
   {
    "duration": 7,
    "start_time": "2021-07-07T15:18:39.457Z"
   },
   {
    "duration": 5,
    "start_time": "2021-07-07T16:05:17.020Z"
   },
   {
    "duration": 5,
    "start_time": "2021-07-07T16:51:28.794Z"
   },
   {
    "duration": 546,
    "start_time": "2021-07-07T16:52:26.306Z"
   },
   {
    "duration": 203,
    "start_time": "2021-07-07T16:52:27.523Z"
   },
   {
    "duration": 85,
    "start_time": "2021-07-07T16:52:27.736Z"
   },
   {
    "duration": 4,
    "start_time": "2021-07-07T16:52:27.899Z"
   },
   {
    "duration": 25,
    "start_time": "2021-07-07T16:52:28.674Z"
   },
   {
    "duration": 8,
    "start_time": "2021-07-07T16:52:32.956Z"
   },
   {
    "duration": 18,
    "start_time": "2021-07-07T16:52:35.616Z"
   },
   {
    "duration": 6,
    "start_time": "2021-07-07T16:52:36.913Z"
   },
   {
    "duration": 11,
    "start_time": "2021-07-07T16:52:40.258Z"
   },
   {
    "duration": 10,
    "start_time": "2021-07-07T16:52:46.251Z"
   },
   {
    "duration": 8,
    "start_time": "2021-07-07T16:52:47.182Z"
   },
   {
    "duration": 27,
    "start_time": "2021-07-07T16:53:20.391Z"
   },
   {
    "duration": 20,
    "start_time": "2021-07-07T16:53:22.022Z"
   },
   {
    "duration": 23,
    "start_time": "2021-07-07T16:53:23.690Z"
   },
   {
    "duration": 8,
    "start_time": "2021-07-07T16:53:24.261Z"
   },
   {
    "duration": 4,
    "start_time": "2021-07-07T16:53:38.733Z"
   },
   {
    "duration": 7,
    "start_time": "2021-07-07T16:53:40.445Z"
   },
   {
    "duration": 11,
    "start_time": "2021-07-07T16:53:41.348Z"
   },
   {
    "duration": 13,
    "start_time": "2021-07-07T16:53:45.250Z"
   },
   {
    "duration": 12,
    "start_time": "2021-07-07T16:53:45.467Z"
   },
   {
    "duration": 4,
    "start_time": "2021-07-07T16:55:32.704Z"
   },
   {
    "duration": 12,
    "start_time": "2021-07-07T16:55:49.012Z"
   },
   {
    "duration": 18,
    "start_time": "2021-07-07T16:55:49.547Z"
   },
   {
    "duration": 611,
    "start_time": "2021-07-07T16:58:35.156Z"
   },
   {
    "duration": 200,
    "start_time": "2021-07-07T16:58:35.770Z"
   },
   {
    "duration": 86,
    "start_time": "2021-07-07T16:58:35.972Z"
   },
   {
    "duration": 3,
    "start_time": "2021-07-07T16:58:36.060Z"
   },
   {
    "duration": 27,
    "start_time": "2021-07-07T16:58:36.065Z"
   },
   {
    "duration": 8,
    "start_time": "2021-07-07T16:58:36.094Z"
   },
   {
    "duration": 17,
    "start_time": "2021-07-07T16:58:36.103Z"
   },
   {
    "duration": 5,
    "start_time": "2021-07-07T16:58:36.123Z"
   },
   {
    "duration": 11,
    "start_time": "2021-07-07T16:58:36.130Z"
   },
   {
    "duration": 7,
    "start_time": "2021-07-07T16:58:36.143Z"
   },
   {
    "duration": 37,
    "start_time": "2021-07-07T16:58:36.152Z"
   },
   {
    "duration": 27,
    "start_time": "2021-07-07T16:58:36.191Z"
   },
   {
    "duration": 19,
    "start_time": "2021-07-07T16:58:36.219Z"
   },
   {
    "duration": 49,
    "start_time": "2021-07-07T16:58:36.240Z"
   },
   {
    "duration": 6,
    "start_time": "2021-07-07T16:58:36.291Z"
   },
   {
    "duration": 3,
    "start_time": "2021-07-07T16:58:36.299Z"
   },
   {
    "duration": 13,
    "start_time": "2021-07-07T16:58:36.304Z"
   },
   {
    "duration": 10,
    "start_time": "2021-07-07T16:58:36.319Z"
   },
   {
    "duration": 10,
    "start_time": "2021-07-07T16:58:36.331Z"
   },
   {
    "duration": 44,
    "start_time": "2021-07-07T16:58:36.343Z"
   },
   {
    "duration": 4,
    "start_time": "2021-07-07T16:58:36.388Z"
   },
   {
    "duration": 13,
    "start_time": "2021-07-07T16:58:36.394Z"
   },
   {
    "duration": 16,
    "start_time": "2021-07-07T16:58:36.410Z"
   },
   {
    "duration": 8,
    "start_time": "2021-07-07T17:02:31.629Z"
   },
   {
    "duration": 8,
    "start_time": "2021-07-07T17:02:34.308Z"
   },
   {
    "duration": 6,
    "start_time": "2021-07-07T17:05:13.483Z"
   },
   {
    "duration": 17,
    "start_time": "2021-07-07T17:05:20.606Z"
   },
   {
    "duration": 7,
    "start_time": "2021-07-07T17:05:34.638Z"
   },
   {
    "duration": 3,
    "start_time": "2021-07-07T17:06:31.883Z"
   },
   {
    "duration": 570,
    "start_time": "2021-07-07T17:06:37.165Z"
   },
   {
    "duration": 174,
    "start_time": "2021-07-07T17:06:37.737Z"
   },
   {
    "duration": 47,
    "start_time": "2021-07-07T17:06:37.913Z"
   },
   {
    "duration": 3,
    "start_time": "2021-07-07T17:06:37.962Z"
   },
   {
    "duration": 27,
    "start_time": "2021-07-07T17:06:37.967Z"
   },
   {
    "duration": 7,
    "start_time": "2021-07-07T17:06:37.996Z"
   },
   {
    "duration": 16,
    "start_time": "2021-07-07T17:06:38.005Z"
   },
   {
    "duration": 6,
    "start_time": "2021-07-07T17:06:38.024Z"
   },
   {
    "duration": 12,
    "start_time": "2021-07-07T17:06:38.031Z"
   },
   {
    "duration": 41,
    "start_time": "2021-07-07T17:06:38.045Z"
   },
   {
    "duration": 8,
    "start_time": "2021-07-07T17:06:38.088Z"
   },
   {
    "duration": 26,
    "start_time": "2021-07-07T17:06:38.098Z"
   },
   {
    "duration": 17,
    "start_time": "2021-07-07T17:06:38.126Z"
   },
   {
    "duration": 43,
    "start_time": "2021-07-07T17:06:38.144Z"
   },
   {
    "duration": 6,
    "start_time": "2021-07-07T17:06:38.188Z"
   },
   {
    "duration": 5,
    "start_time": "2021-07-07T17:06:38.195Z"
   },
   {
    "duration": 9,
    "start_time": "2021-07-07T17:06:38.201Z"
   },
   {
    "duration": 12,
    "start_time": "2021-07-07T17:06:38.212Z"
   },
   {
    "duration": 11,
    "start_time": "2021-07-07T17:06:38.226Z"
   },
   {
    "duration": 47,
    "start_time": "2021-07-07T17:06:38.239Z"
   },
   {
    "duration": 4,
    "start_time": "2021-07-07T17:06:38.288Z"
   },
   {
    "duration": 13,
    "start_time": "2021-07-07T17:06:38.293Z"
   },
   {
    "duration": 5,
    "start_time": "2021-07-07T17:06:38.309Z"
   },
   {
    "duration": 18,
    "start_time": "2021-07-07T17:06:38.325Z"
   },
   {
    "duration": 20,
    "start_time": "2021-07-07T17:07:02.805Z"
   },
   {
    "duration": 19,
    "start_time": "2021-07-07T17:07:08.527Z"
   },
   {
    "duration": 19,
    "start_time": "2021-07-07T17:07:12.758Z"
   },
   {
    "duration": 22,
    "start_time": "2021-07-07T17:07:17.497Z"
   },
   {
    "duration": 19,
    "start_time": "2021-07-07T17:07:19.645Z"
   },
   {
    "duration": 10,
    "start_time": "2021-07-07T17:07:34.239Z"
   },
   {
    "duration": 17,
    "start_time": "2021-07-07T17:07:54.144Z"
   },
   {
    "duration": 14,
    "start_time": "2021-07-07T17:08:14.357Z"
   },
   {
    "duration": 616,
    "start_time": "2021-07-07T17:08:45.254Z"
   },
   {
    "duration": 178,
    "start_time": "2021-07-07T17:08:45.872Z"
   },
   {
    "duration": 60,
    "start_time": "2021-07-07T17:08:46.054Z"
   },
   {
    "duration": 3,
    "start_time": "2021-07-07T17:08:46.116Z"
   },
   {
    "duration": 26,
    "start_time": "2021-07-07T17:08:46.121Z"
   },
   {
    "duration": 7,
    "start_time": "2021-07-07T17:08:46.149Z"
   },
   {
    "duration": 17,
    "start_time": "2021-07-07T17:08:46.158Z"
   },
   {
    "duration": 14,
    "start_time": "2021-07-07T17:08:46.176Z"
   },
   {
    "duration": 17,
    "start_time": "2021-07-07T17:08:46.193Z"
   },
   {
    "duration": 9,
    "start_time": "2021-07-07T17:08:46.211Z"
   },
   {
    "duration": 21,
    "start_time": "2021-07-07T17:08:46.221Z"
   },
   {
    "duration": 49,
    "start_time": "2021-07-07T17:08:46.244Z"
   },
   {
    "duration": 24,
    "start_time": "2021-07-07T17:08:46.295Z"
   },
   {
    "duration": 22,
    "start_time": "2021-07-07T17:08:46.321Z"
   },
   {
    "duration": 6,
    "start_time": "2021-07-07T17:08:46.345Z"
   },
   {
    "duration": 5,
    "start_time": "2021-07-07T17:08:46.353Z"
   },
   {
    "duration": 13,
    "start_time": "2021-07-07T17:08:46.386Z"
   },
   {
    "duration": 12,
    "start_time": "2021-07-07T17:08:46.402Z"
   },
   {
    "duration": 10,
    "start_time": "2021-07-07T17:08:46.415Z"
   },
   {
    "duration": 7,
    "start_time": "2021-07-07T17:08:46.427Z"
   },
   {
    "duration": 8,
    "start_time": "2021-07-07T17:08:46.435Z"
   },
   {
    "duration": 68,
    "start_time": "2021-07-07T17:08:46.446Z"
   },
   {
    "duration": 13,
    "start_time": "2021-07-07T17:08:46.516Z"
   },
   {
    "duration": 78,
    "start_time": "2021-07-07T17:08:46.530Z"
   },
   {
    "duration": 40,
    "start_time": "2021-07-07T17:09:08.185Z"
   },
   {
    "duration": 16,
    "start_time": "2021-07-07T17:09:19.324Z"
   },
   {
    "duration": 21,
    "start_time": "2021-07-07T17:09:23.290Z"
   },
   {
    "duration": 13,
    "start_time": "2021-07-07T17:09:54.812Z"
   },
   {
    "duration": 13,
    "start_time": "2021-07-07T17:10:02.039Z"
   },
   {
    "duration": 10,
    "start_time": "2021-07-07T17:10:29.632Z"
   },
   {
    "duration": 13,
    "start_time": "2021-07-07T17:10:52.372Z"
   },
   {
    "duration": 13,
    "start_time": "2021-07-07T17:11:17.270Z"
   },
   {
    "duration": 13,
    "start_time": "2021-07-07T17:14:59.284Z"
   },
   {
    "duration": 547,
    "start_time": "2021-07-07T17:18:52.403Z"
   },
   {
    "duration": 163,
    "start_time": "2021-07-07T17:18:52.952Z"
   },
   {
    "duration": 44,
    "start_time": "2021-07-07T17:18:53.117Z"
   },
   {
    "duration": 3,
    "start_time": "2021-07-07T17:18:53.162Z"
   },
   {
    "duration": 26,
    "start_time": "2021-07-07T17:18:53.167Z"
   },
   {
    "duration": 6,
    "start_time": "2021-07-07T17:18:53.195Z"
   },
   {
    "duration": 15,
    "start_time": "2021-07-07T17:18:53.203Z"
   },
   {
    "duration": 5,
    "start_time": "2021-07-07T17:18:53.220Z"
   },
   {
    "duration": 11,
    "start_time": "2021-07-07T17:18:53.228Z"
   },
   {
    "duration": 9,
    "start_time": "2021-07-07T17:18:53.241Z"
   },
   {
    "duration": 41,
    "start_time": "2021-07-07T17:18:53.252Z"
   },
   {
    "duration": 33,
    "start_time": "2021-07-07T17:18:53.295Z"
   },
   {
    "duration": 19,
    "start_time": "2021-07-07T17:18:53.330Z"
   },
   {
    "duration": 49,
    "start_time": "2021-07-07T17:18:53.350Z"
   },
   {
    "duration": 5,
    "start_time": "2021-07-07T17:18:53.401Z"
   },
   {
    "duration": 5,
    "start_time": "2021-07-07T17:18:53.408Z"
   },
   {
    "duration": 11,
    "start_time": "2021-07-07T17:18:53.414Z"
   },
   {
    "duration": 9,
    "start_time": "2021-07-07T17:18:53.427Z"
   },
   {
    "duration": 10,
    "start_time": "2021-07-07T17:18:53.437Z"
   },
   {
    "duration": 39,
    "start_time": "2021-07-07T17:18:53.448Z"
   },
   {
    "duration": 26,
    "start_time": "2021-07-07T17:18:55.799Z"
   },
   {
    "duration": 598,
    "start_time": "2021-07-07T17:20:17.862Z"
   },
   {
    "duration": 161,
    "start_time": "2021-07-07T17:20:18.462Z"
   },
   {
    "duration": 45,
    "start_time": "2021-07-07T17:20:18.626Z"
   },
   {
    "duration": 4,
    "start_time": "2021-07-07T17:20:18.673Z"
   },
   {
    "duration": 38,
    "start_time": "2021-07-07T17:20:26.877Z"
   },
   {
    "duration": 7,
    "start_time": "2021-07-07T17:20:37.405Z"
   },
   {
    "duration": 19,
    "start_time": "2021-07-07T17:20:51.534Z"
   },
   {
    "duration": 5,
    "start_time": "2021-07-07T17:20:57.228Z"
   },
   {
    "duration": 7,
    "start_time": "2021-07-07T17:21:08.235Z"
   },
   {
    "duration": 19,
    "start_time": "2021-07-07T17:21:42.158Z"
   },
   {
    "duration": 14,
    "start_time": "2021-07-07T17:21:50.225Z"
   },
   {
    "duration": 22,
    "start_time": "2021-07-07T17:22:54.104Z"
   },
   {
    "duration": 5,
    "start_time": "2021-07-07T17:22:56.371Z"
   },
   {
    "duration": 14,
    "start_time": "2021-07-07T17:22:58.316Z"
   },
   {
    "duration": 5,
    "start_time": "2021-07-07T17:22:58.493Z"
   },
   {
    "duration": 35,
    "start_time": "2021-07-07T17:22:59.666Z"
   },
   {
    "duration": 6,
    "start_time": "2021-07-07T17:23:02.410Z"
   },
   {
    "duration": 611,
    "start_time": "2021-07-07T17:24:59.664Z"
   },
   {
    "duration": 178,
    "start_time": "2021-07-07T17:25:01.945Z"
   },
   {
    "duration": 47,
    "start_time": "2021-07-07T17:25:02.125Z"
   },
   {
    "duration": 2,
    "start_time": "2021-07-07T17:25:07.903Z"
   },
   {
    "duration": 254,
    "start_time": "2021-07-07T17:25:08.232Z"
   },
   {
    "duration": 182,
    "start_time": "2021-07-07T17:25:08.671Z"
   },
   {
    "duration": 6,
    "start_time": "2021-07-07T17:25:13.104Z"
   },
   {
    "duration": 36,
    "start_time": "2021-07-07T17:25:13.662Z"
   },
   {
    "duration": 7,
    "start_time": "2021-07-07T17:25:14.528Z"
   },
   {
    "duration": 24,
    "start_time": "2021-07-07T17:25:27.982Z"
   },
   {
    "duration": 3,
    "start_time": "2021-07-07T17:25:48.982Z"
   },
   {
    "duration": 165,
    "start_time": "2021-07-07T17:25:48.987Z"
   },
   {
    "duration": 50,
    "start_time": "2021-07-07T17:25:49.154Z"
   },
   {
    "duration": 4,
    "start_time": "2021-07-07T17:25:49.206Z"
   },
   {
    "duration": 26,
    "start_time": "2021-07-07T17:25:49.212Z"
   },
   {
    "duration": 7,
    "start_time": "2021-07-07T17:25:49.240Z"
   },
   {
    "duration": 16,
    "start_time": "2021-07-07T17:25:49.249Z"
   },
   {
    "duration": 22,
    "start_time": "2021-07-07T17:25:49.266Z"
   },
   {
    "duration": 16,
    "start_time": "2021-07-07T17:25:49.291Z"
   },
   {
    "duration": 9,
    "start_time": "2021-07-07T17:25:49.309Z"
   },
   {
    "duration": 7,
    "start_time": "2021-07-07T17:25:49.319Z"
   },
   {
    "duration": 28,
    "start_time": "2021-07-07T17:25:49.328Z"
   },
   {
    "duration": 44,
    "start_time": "2021-07-07T17:25:49.357Z"
   },
   {
    "duration": 22,
    "start_time": "2021-07-07T17:25:49.403Z"
   },
   {
    "duration": 7,
    "start_time": "2021-07-07T17:25:49.427Z"
   },
   {
    "duration": 3,
    "start_time": "2021-07-07T17:25:49.436Z"
   },
   {
    "duration": 44,
    "start_time": "2021-07-07T17:25:49.441Z"
   },
   {
    "duration": 12,
    "start_time": "2021-07-07T17:25:49.488Z"
   },
   {
    "duration": 13,
    "start_time": "2021-07-07T17:25:49.502Z"
   },
   {
    "duration": 10,
    "start_time": "2021-07-07T17:25:49.516Z"
   },
   {
    "duration": 62,
    "start_time": "2021-07-07T17:25:49.527Z"
   },
   {
    "duration": 26,
    "start_time": "2021-07-07T17:26:51.809Z"
   },
   {
    "duration": 26,
    "start_time": "2021-07-07T17:26:55.759Z"
   },
   {
    "duration": 26,
    "start_time": "2021-07-07T17:27:04.501Z"
   },
   {
    "duration": 25,
    "start_time": "2021-07-07T17:28:24.859Z"
   },
   {
    "duration": 21,
    "start_time": "2021-07-07T17:28:55.250Z"
   },
   {
    "duration": 21,
    "start_time": "2021-07-07T17:28:58.885Z"
   },
   {
    "duration": 7,
    "start_time": "2021-07-07T17:45:40.972Z"
   },
   {
    "duration": 13,
    "start_time": "2021-07-07T17:45:42.529Z"
   },
   {
    "duration": 27,
    "start_time": "2021-07-07T17:45:51.026Z"
   },
   {
    "duration": 518,
    "start_time": "2021-07-07T17:46:15.532Z"
   },
   {
    "duration": 235,
    "start_time": "2021-07-07T17:46:16.053Z"
   },
   {
    "duration": 80,
    "start_time": "2021-07-07T17:46:16.292Z"
   },
   {
    "duration": 5,
    "start_time": "2021-07-07T17:46:16.373Z"
   },
   {
    "duration": 26,
    "start_time": "2021-07-07T17:46:16.380Z"
   },
   {
    "duration": 7,
    "start_time": "2021-07-07T17:46:16.408Z"
   },
   {
    "duration": 16,
    "start_time": "2021-07-07T17:46:16.418Z"
   },
   {
    "duration": 5,
    "start_time": "2021-07-07T17:46:16.436Z"
   },
   {
    "duration": 13,
    "start_time": "2021-07-07T17:46:16.442Z"
   },
   {
    "duration": 35,
    "start_time": "2021-07-07T17:46:16.456Z"
   },
   {
    "duration": 8,
    "start_time": "2021-07-07T17:46:16.493Z"
   },
   {
    "duration": 28,
    "start_time": "2021-07-07T17:46:16.502Z"
   },
   {
    "duration": 17,
    "start_time": "2021-07-07T17:46:16.532Z"
   },
   {
    "duration": 44,
    "start_time": "2021-07-07T17:46:16.551Z"
   },
   {
    "duration": 6,
    "start_time": "2021-07-07T17:46:16.597Z"
   },
   {
    "duration": 4,
    "start_time": "2021-07-07T17:46:16.605Z"
   },
   {
    "duration": 9,
    "start_time": "2021-07-07T17:46:16.610Z"
   },
   {
    "duration": 9,
    "start_time": "2021-07-07T17:46:16.621Z"
   },
   {
    "duration": 10,
    "start_time": "2021-07-07T17:46:16.632Z"
   },
   {
    "duration": 43,
    "start_time": "2021-07-07T17:46:16.644Z"
   },
   {
    "duration": 26,
    "start_time": "2021-07-07T17:46:16.689Z"
   },
   {
    "duration": 19,
    "start_time": "2021-07-07T17:46:16.718Z"
   },
   {
    "duration": 8,
    "start_time": "2021-07-07T17:46:16.738Z"
   },
   {
    "duration": 43,
    "start_time": "2021-07-07T17:46:16.747Z"
   },
   {
    "duration": 19,
    "start_time": "2021-07-07T17:46:16.791Z"
   },
   {
    "duration": 9,
    "start_time": "2021-07-07T17:46:16.812Z"
   },
   {
    "duration": 60,
    "start_time": "2021-07-07T17:46:16.822Z"
   },
   {
    "duration": -8,
    "start_time": "2021-07-07T17:46:16.892Z"
   },
   {
    "duration": 12,
    "start_time": "2021-07-07T17:48:47.707Z"
   },
   {
    "duration": 553,
    "start_time": "2021-07-07T18:10:09.350Z"
   },
   {
    "duration": 230,
    "start_time": "2021-07-07T18:10:09.905Z"
   },
   {
    "duration": 97,
    "start_time": "2021-07-07T18:10:10.137Z"
   },
   {
    "duration": 5,
    "start_time": "2021-07-07T18:10:10.236Z"
   },
   {
    "duration": 29,
    "start_time": "2021-07-07T18:10:10.242Z"
   },
   {
    "duration": 7,
    "start_time": "2021-07-07T18:10:10.272Z"
   },
   {
    "duration": 15,
    "start_time": "2021-07-07T18:10:10.281Z"
   },
   {
    "duration": 4,
    "start_time": "2021-07-07T18:10:10.299Z"
   },
   {
    "duration": 14,
    "start_time": "2021-07-07T18:10:10.305Z"
   },
   {
    "duration": 8,
    "start_time": "2021-07-07T18:10:10.321Z"
   },
   {
    "duration": 8,
    "start_time": "2021-07-07T18:10:10.331Z"
   },
   {
    "duration": 56,
    "start_time": "2021-07-07T18:10:10.341Z"
   },
   {
    "duration": 19,
    "start_time": "2021-07-07T18:10:10.399Z"
   },
   {
    "duration": 23,
    "start_time": "2021-07-07T18:10:10.419Z"
   },
   {
    "duration": 6,
    "start_time": "2021-07-07T18:10:10.444Z"
   },
   {
    "duration": 9,
    "start_time": "2021-07-07T18:10:10.451Z"
   },
   {
    "duration": 30,
    "start_time": "2021-07-07T18:10:10.462Z"
   },
   {
    "duration": 9,
    "start_time": "2021-07-07T18:10:10.494Z"
   },
   {
    "duration": 14,
    "start_time": "2021-07-07T18:10:10.505Z"
   },
   {
    "duration": 7,
    "start_time": "2021-07-07T18:10:10.521Z"
   },
   {
    "duration": 26,
    "start_time": "2021-07-07T18:10:10.530Z"
   },
   {
    "duration": 44,
    "start_time": "2021-07-07T18:10:10.558Z"
   },
   {
    "duration": 7,
    "start_time": "2021-07-07T18:10:10.605Z"
   },
   {
    "duration": 11,
    "start_time": "2021-07-07T18:10:10.614Z"
   },
   {
    "duration": 19,
    "start_time": "2021-07-07T18:10:10.626Z"
   },
   {
    "duration": 44,
    "start_time": "2021-07-07T18:10:10.646Z"
   },
   {
    "duration": 516,
    "start_time": "2021-07-07T18:14:00.826Z"
   },
   {
    "duration": 230,
    "start_time": "2021-07-07T18:14:01.344Z"
   },
   {
    "duration": 105,
    "start_time": "2021-07-07T18:14:01.576Z"
   },
   {
    "duration": 5,
    "start_time": "2021-07-07T18:14:01.683Z"
   },
   {
    "duration": 46,
    "start_time": "2021-07-07T18:14:01.690Z"
   },
   {
    "duration": 7,
    "start_time": "2021-07-07T18:14:01.738Z"
   },
   {
    "duration": 20,
    "start_time": "2021-07-07T18:14:01.747Z"
   },
   {
    "duration": 16,
    "start_time": "2021-07-07T18:14:01.769Z"
   },
   {
    "duration": 14,
    "start_time": "2021-07-07T18:14:01.787Z"
   },
   {
    "duration": 15,
    "start_time": "2021-07-07T18:14:01.803Z"
   },
   {
    "duration": 12,
    "start_time": "2021-07-07T18:14:01.820Z"
   },
   {
    "duration": 35,
    "start_time": "2021-07-07T18:14:01.833Z"
   },
   {
    "duration": 31,
    "start_time": "2021-07-07T18:14:01.869Z"
   },
   {
    "duration": 37,
    "start_time": "2021-07-07T18:14:01.902Z"
   },
   {
    "duration": 8,
    "start_time": "2021-07-07T18:14:01.942Z"
   },
   {
    "duration": 16,
    "start_time": "2021-07-07T18:14:01.952Z"
   },
   {
    "duration": 13,
    "start_time": "2021-07-07T18:14:01.970Z"
   },
   {
    "duration": 32,
    "start_time": "2021-07-07T18:14:01.985Z"
   },
   {
    "duration": 11,
    "start_time": "2021-07-07T18:14:02.019Z"
   },
   {
    "duration": 22,
    "start_time": "2021-07-07T18:14:02.031Z"
   },
   {
    "duration": 27,
    "start_time": "2021-07-07T18:14:02.055Z"
   },
   {
    "duration": 18,
    "start_time": "2021-07-07T18:14:02.084Z"
   },
   {
    "duration": 18,
    "start_time": "2021-07-07T18:14:02.106Z"
   },
   {
    "duration": 11,
    "start_time": "2021-07-07T18:14:02.126Z"
   },
   {
    "duration": 21,
    "start_time": "2021-07-07T18:14:02.138Z"
   },
   {
    "duration": 32,
    "start_time": "2021-07-07T18:14:02.161Z"
   },
   {
    "duration": 28,
    "start_time": "2021-07-07T18:14:44.295Z"
   },
   {
    "duration": 6,
    "start_time": "2021-07-07T18:15:05.834Z"
   },
   {
    "duration": 511,
    "start_time": "2021-07-07T18:15:41.541Z"
   },
   {
    "duration": 183,
    "start_time": "2021-07-07T18:15:42.054Z"
   },
   {
    "duration": 50,
    "start_time": "2021-07-07T18:15:42.239Z"
   },
   {
    "duration": 5,
    "start_time": "2021-07-07T18:15:42.291Z"
   },
   {
    "duration": 48,
    "start_time": "2021-07-07T18:15:42.297Z"
   },
   {
    "duration": 8,
    "start_time": "2021-07-07T18:15:42.346Z"
   },
   {
    "duration": 17,
    "start_time": "2021-07-07T18:15:42.356Z"
   },
   {
    "duration": 15,
    "start_time": "2021-07-07T18:15:42.375Z"
   },
   {
    "duration": 12,
    "start_time": "2021-07-07T18:15:42.392Z"
   },
   {
    "duration": 7,
    "start_time": "2021-07-07T18:15:42.406Z"
   },
   {
    "duration": 7,
    "start_time": "2021-07-07T18:15:42.415Z"
   },
   {
    "duration": 29,
    "start_time": "2021-07-07T18:15:42.423Z"
   },
   {
    "duration": 43,
    "start_time": "2021-07-07T18:15:42.453Z"
   },
   {
    "duration": 18,
    "start_time": "2021-07-07T18:15:42.497Z"
   },
   {
    "duration": 6,
    "start_time": "2021-07-07T18:15:42.516Z"
   },
   {
    "duration": 3,
    "start_time": "2021-07-07T18:15:42.523Z"
   },
   {
    "duration": 18,
    "start_time": "2021-07-07T18:15:42.528Z"
   },
   {
    "duration": 10,
    "start_time": "2021-07-07T18:15:42.547Z"
   },
   {
    "duration": 36,
    "start_time": "2021-07-07T18:15:42.559Z"
   },
   {
    "duration": 8,
    "start_time": "2021-07-07T18:15:42.597Z"
   },
   {
    "duration": 28,
    "start_time": "2021-07-07T18:15:42.606Z"
   },
   {
    "duration": 52,
    "start_time": "2021-07-07T18:15:42.635Z"
   },
   {
    "duration": 7,
    "start_time": "2021-07-07T18:15:42.690Z"
   },
   {
    "duration": 10,
    "start_time": "2021-07-07T18:15:42.699Z"
   },
   {
    "duration": 19,
    "start_time": "2021-07-07T18:15:42.711Z"
   },
   {
    "duration": 9,
    "start_time": "2021-07-07T18:15:42.732Z"
   },
   {
    "duration": 5,
    "start_time": "2021-07-07T18:15:42.743Z"
   },
   {
    "duration": 1450,
    "start_time": "2021-07-07T18:15:51.984Z"
   },
   {
    "duration": 161,
    "start_time": "2021-07-07T18:15:53.435Z"
   },
   {
    "duration": 124,
    "start_time": "2021-07-07T18:15:53.598Z"
   },
   {
    "duration": 5,
    "start_time": "2021-07-07T18:15:53.724Z"
   },
   {
    "duration": 34,
    "start_time": "2021-07-07T18:15:53.730Z"
   },
   {
    "duration": 7,
    "start_time": "2021-07-07T18:15:53.765Z"
   },
   {
    "duration": 15,
    "start_time": "2021-07-07T18:15:53.773Z"
   },
   {
    "duration": 5,
    "start_time": "2021-07-07T18:15:53.791Z"
   },
   {
    "duration": 19,
    "start_time": "2021-07-07T18:15:53.798Z"
   },
   {
    "duration": 9,
    "start_time": "2021-07-07T18:15:53.818Z"
   },
   {
    "duration": 19,
    "start_time": "2021-07-07T18:15:53.828Z"
   },
   {
    "duration": 27,
    "start_time": "2021-07-07T18:15:53.848Z"
   },
   {
    "duration": 16,
    "start_time": "2021-07-07T18:15:53.884Z"
   },
   {
    "duration": 29,
    "start_time": "2021-07-07T18:15:53.901Z"
   },
   {
    "duration": 5,
    "start_time": "2021-07-07T18:15:53.932Z"
   },
   {
    "duration": 15,
    "start_time": "2021-07-07T18:15:53.939Z"
   },
   {
    "duration": 13,
    "start_time": "2021-07-07T18:15:53.956Z"
   },
   {
    "duration": 20,
    "start_time": "2021-07-07T18:15:53.971Z"
   },
   {
    "duration": 14,
    "start_time": "2021-07-07T18:15:53.992Z"
   },
   {
    "duration": 9,
    "start_time": "2021-07-07T18:15:54.009Z"
   },
   {
    "duration": 28,
    "start_time": "2021-07-07T18:15:54.020Z"
   },
   {
    "duration": 50,
    "start_time": "2021-07-07T18:15:54.051Z"
   },
   {
    "duration": 8,
    "start_time": "2021-07-07T18:15:54.105Z"
   },
   {
    "duration": 11,
    "start_time": "2021-07-07T18:15:54.115Z"
   },
   {
    "duration": 20,
    "start_time": "2021-07-07T18:15:54.128Z"
   },
   {
    "duration": 13,
    "start_time": "2021-07-07T18:15:54.184Z"
   },
   {
    "duration": 7,
    "start_time": "2021-07-07T18:15:54.199Z"
   },
   {
    "duration": 7,
    "start_time": "2021-07-07T18:17:08.042Z"
   },
   {
    "duration": 8,
    "start_time": "2021-07-07T18:17:21.008Z"
   },
   {
    "duration": 7,
    "start_time": "2021-07-07T18:17:29.003Z"
   },
   {
    "duration": 8,
    "start_time": "2021-07-07T18:17:32.492Z"
   },
   {
    "duration": 9,
    "start_time": "2021-07-07T18:17:41.758Z"
   },
   {
    "duration": 255,
    "start_time": "2021-07-07T18:20:20.897Z"
   },
   {
    "duration": 173,
    "start_time": "2021-07-07T18:20:26.636Z"
   },
   {
    "duration": 7,
    "start_time": "2021-07-07T18:21:47.164Z"
   },
   {
    "duration": 254,
    "start_time": "2021-07-07T18:23:08.703Z"
   },
   {
    "duration": 21,
    "start_time": "2021-07-07T18:23:22.506Z"
   },
   {
    "duration": 315,
    "start_time": "2021-07-07T18:25:54.801Z"
   },
   {
    "duration": 34,
    "start_time": "2021-07-07T18:26:51.817Z"
   },
   {
    "duration": 327,
    "start_time": "2021-07-07T18:26:56.147Z"
   },
   {
    "duration": 342,
    "start_time": "2021-07-07T18:27:15.887Z"
   },
   {
    "duration": 302,
    "start_time": "2021-07-07T18:28:18.569Z"
   },
   {
    "duration": 226,
    "start_time": "2021-07-07T18:29:20.879Z"
   },
   {
    "duration": 207,
    "start_time": "2021-07-07T18:29:58.114Z"
   },
   {
    "duration": 140,
    "start_time": "2021-07-07T18:32:04.372Z"
   },
   {
    "duration": 158,
    "start_time": "2021-07-07T18:32:32.508Z"
   },
   {
    "duration": 145,
    "start_time": "2021-07-07T18:32:41.365Z"
   },
   {
    "duration": 132,
    "start_time": "2021-07-07T18:32:45.199Z"
   },
   {
    "duration": 11,
    "start_time": "2021-07-07T18:35:24.679Z"
   },
   {
    "duration": 268,
    "start_time": "2021-07-07T18:36:16.145Z"
   },
   {
    "duration": 227,
    "start_time": "2021-07-07T18:37:04.918Z"
   },
   {
    "duration": 3,
    "start_time": "2021-07-07T18:37:33.012Z"
   },
   {
    "duration": 671,
    "start_time": "2021-07-07T18:37:38.295Z"
   },
   {
    "duration": 54,
    "start_time": "2021-07-07T18:37:53.406Z"
   },
   {
    "duration": 631,
    "start_time": "2021-07-07T18:37:56.463Z"
   },
   {
    "duration": 19,
    "start_time": "2021-07-07T18:39:40.535Z"
   },
   {
    "duration": 20,
    "start_time": "2021-07-07T18:40:12.236Z"
   },
   {
    "duration": 633,
    "start_time": "2021-07-07T18:42:00.398Z"
   },
   {
    "duration": 218,
    "start_time": "2021-07-07T18:42:01.033Z"
   },
   {
    "duration": 49,
    "start_time": "2021-07-07T18:42:01.253Z"
   },
   {
    "duration": 5,
    "start_time": "2021-07-07T18:42:01.303Z"
   },
   {
    "duration": 27,
    "start_time": "2021-07-07T18:42:01.310Z"
   },
   {
    "duration": 8,
    "start_time": "2021-07-07T18:42:01.339Z"
   },
   {
    "duration": 20,
    "start_time": "2021-07-07T18:42:01.348Z"
   },
   {
    "duration": 6,
    "start_time": "2021-07-07T18:42:01.386Z"
   },
   {
    "duration": 16,
    "start_time": "2021-07-07T18:42:01.394Z"
   },
   {
    "duration": 9,
    "start_time": "2021-07-07T18:42:01.411Z"
   },
   {
    "duration": 11,
    "start_time": "2021-07-07T18:42:01.421Z"
   },
   {
    "duration": 31,
    "start_time": "2021-07-07T18:42:01.434Z"
   },
   {
    "duration": 18,
    "start_time": "2021-07-07T18:42:01.485Z"
   },
   {
    "duration": 23,
    "start_time": "2021-07-07T18:42:01.505Z"
   },
   {
    "duration": 6,
    "start_time": "2021-07-07T18:42:01.530Z"
   },
   {
    "duration": 10,
    "start_time": "2021-07-07T18:42:01.538Z"
   },
   {
    "duration": 13,
    "start_time": "2021-07-07T18:42:01.550Z"
   },
   {
    "duration": 24,
    "start_time": "2021-07-07T18:42:01.564Z"
   },
   {
    "duration": 20,
    "start_time": "2021-07-07T18:42:01.590Z"
   },
   {
    "duration": 8,
    "start_time": "2021-07-07T18:42:01.611Z"
   },
   {
    "duration": 31,
    "start_time": "2021-07-07T18:42:01.620Z"
   },
   {
    "duration": 39,
    "start_time": "2021-07-07T18:42:01.653Z"
   },
   {
    "duration": 8,
    "start_time": "2021-07-07T18:42:01.696Z"
   },
   {
    "duration": 13,
    "start_time": "2021-07-07T18:42:01.705Z"
   },
   {
    "duration": 20,
    "start_time": "2021-07-07T18:42:01.720Z"
   },
   {
    "duration": 12,
    "start_time": "2021-07-07T18:42:01.741Z"
   },
   {
    "duration": 35,
    "start_time": "2021-07-07T18:42:01.755Z"
   },
   {
    "duration": 14,
    "start_time": "2021-07-07T18:42:01.792Z"
   },
   {
    "duration": 188,
    "start_time": "2021-07-07T18:42:01.808Z"
   },
   {
    "duration": 19,
    "start_time": "2021-07-07T18:42:01.998Z"
   },
   {
    "duration": 175,
    "start_time": "2021-07-07T18:42:02.019Z"
   },
   {
    "duration": 134,
    "start_time": "2021-07-07T18:42:02.196Z"
   },
   {
    "duration": 10,
    "start_time": "2021-07-07T18:42:02.331Z"
   },
   {
    "duration": 19,
    "start_time": "2021-07-07T18:42:02.343Z"
   },
   {
    "duration": 628,
    "start_time": "2021-07-07T18:46:30.701Z"
   },
   {
    "duration": 183,
    "start_time": "2021-07-07T18:46:31.331Z"
   },
   {
    "duration": 48,
    "start_time": "2021-07-07T18:46:31.516Z"
   },
   {
    "duration": 5,
    "start_time": "2021-07-07T18:46:31.566Z"
   },
   {
    "duration": 28,
    "start_time": "2021-07-07T18:46:31.572Z"
   },
   {
    "duration": 8,
    "start_time": "2021-07-07T18:46:31.602Z"
   },
   {
    "duration": 19,
    "start_time": "2021-07-07T18:46:31.611Z"
   },
   {
    "duration": 6,
    "start_time": "2021-07-07T18:46:31.633Z"
   },
   {
    "duration": 17,
    "start_time": "2021-07-07T18:46:31.642Z"
   },
   {
    "duration": 10,
    "start_time": "2021-07-07T18:46:31.684Z"
   },
   {
    "duration": 9,
    "start_time": "2021-07-07T18:46:31.695Z"
   },
   {
    "duration": 28,
    "start_time": "2021-07-07T18:46:31.705Z"
   },
   {
    "duration": 18,
    "start_time": "2021-07-07T18:46:31.735Z"
   },
   {
    "duration": 48,
    "start_time": "2021-07-07T18:46:31.755Z"
   },
   {
    "duration": 6,
    "start_time": "2021-07-07T18:46:31.804Z"
   },
   {
    "duration": 4,
    "start_time": "2021-07-07T18:46:31.812Z"
   },
   {
    "duration": 9,
    "start_time": "2021-07-07T18:46:31.817Z"
   },
   {
    "duration": 10,
    "start_time": "2021-07-07T18:46:31.827Z"
   },
   {
    "duration": 12,
    "start_time": "2021-07-07T18:46:31.838Z"
   },
   {
    "duration": 39,
    "start_time": "2021-07-07T18:46:31.851Z"
   },
   {
    "duration": 24,
    "start_time": "2021-07-07T18:46:31.892Z"
   },
   {
    "duration": 15,
    "start_time": "2021-07-07T18:46:31.918Z"
   },
   {
    "duration": 7,
    "start_time": "2021-07-07T18:46:31.936Z"
   },
   {
    "duration": 8,
    "start_time": "2021-07-07T18:46:31.944Z"
   },
   {
    "duration": 19,
    "start_time": "2021-07-07T18:46:31.984Z"
   },
   {
    "duration": 10,
    "start_time": "2021-07-07T18:46:32.004Z"
   },
   {
    "duration": 5,
    "start_time": "2021-07-07T18:46:32.016Z"
   },
   {
    "duration": 9,
    "start_time": "2021-07-07T18:46:32.023Z"
   },
   {
    "duration": 199,
    "start_time": "2021-07-07T18:46:32.033Z"
   },
   {
    "duration": 19,
    "start_time": "2021-07-07T18:46:32.234Z"
   },
   {
    "duration": 159,
    "start_time": "2021-07-07T18:46:32.255Z"
   },
   {
    "duration": 134,
    "start_time": "2021-07-07T18:46:32.416Z"
   },
   {
    "duration": 10,
    "start_time": "2021-07-07T18:46:32.552Z"
   },
   {
    "duration": 34,
    "start_time": "2021-07-07T18:46:32.563Z"
   },
   {
    "duration": 1039,
    "start_time": "2021-07-08T08:41:09.419Z"
   },
   {
    "duration": 333,
    "start_time": "2021-07-08T08:41:10.459Z"
   },
   {
    "duration": 173,
    "start_time": "2021-07-08T08:41:10.794Z"
   },
   {
    "duration": 5,
    "start_time": "2021-07-08T08:41:10.968Z"
   },
   {
    "duration": 25,
    "start_time": "2021-07-08T08:41:10.975Z"
   },
   {
    "duration": 9,
    "start_time": "2021-07-08T08:41:11.002Z"
   },
   {
    "duration": 18,
    "start_time": "2021-07-08T08:41:11.013Z"
   },
   {
    "duration": 6,
    "start_time": "2021-07-08T08:41:11.033Z"
   },
   {
    "duration": 44,
    "start_time": "2021-07-08T08:41:11.042Z"
   },
   {
    "duration": 10,
    "start_time": "2021-07-08T08:41:11.088Z"
   },
   {
    "duration": 9,
    "start_time": "2021-07-08T08:41:11.100Z"
   },
   {
    "duration": 27,
    "start_time": "2021-07-08T08:41:11.111Z"
   },
   {
    "duration": 46,
    "start_time": "2021-07-08T08:41:11.140Z"
   },
   {
    "duration": 17,
    "start_time": "2021-07-08T08:41:11.187Z"
   },
   {
    "duration": 6,
    "start_time": "2021-07-08T08:41:11.206Z"
   },
   {
    "duration": 5,
    "start_time": "2021-07-08T08:41:11.213Z"
   },
   {
    "duration": 10,
    "start_time": "2021-07-08T08:41:11.219Z"
   },
   {
    "duration": 9,
    "start_time": "2021-07-08T08:41:11.230Z"
   },
   {
    "duration": 45,
    "start_time": "2021-07-08T08:41:11.241Z"
   },
   {
    "duration": 7,
    "start_time": "2021-07-08T08:41:11.287Z"
   },
   {
    "duration": 24,
    "start_time": "2021-07-08T08:41:11.296Z"
   },
   {
    "duration": 16,
    "start_time": "2021-07-08T08:41:11.322Z"
   },
   {
    "duration": 7,
    "start_time": "2021-07-08T08:41:11.341Z"
   },
   {
    "duration": 41,
    "start_time": "2021-07-08T08:41:11.349Z"
   },
   {
    "duration": 17,
    "start_time": "2021-07-08T08:41:11.391Z"
   },
   {
    "duration": 9,
    "start_time": "2021-07-08T08:41:11.410Z"
   },
   {
    "duration": 5,
    "start_time": "2021-07-08T08:41:11.421Z"
   },
   {
    "duration": 6,
    "start_time": "2021-07-08T08:41:11.428Z"
   },
   {
    "duration": 198,
    "start_time": "2021-07-08T08:41:11.435Z"
   },
   {
    "duration": 18,
    "start_time": "2021-07-08T08:41:11.635Z"
   },
   {
    "duration": 155,
    "start_time": "2021-07-08T08:41:11.655Z"
   },
   {
    "duration": 138,
    "start_time": "2021-07-08T08:41:11.811Z"
   },
   {
    "duration": 10,
    "start_time": "2021-07-08T08:41:11.950Z"
   },
   {
    "duration": 29,
    "start_time": "2021-07-08T08:41:11.961Z"
   },
   {
    "duration": 171,
    "start_time": "2021-07-08T08:47:44.522Z"
   },
   {
    "duration": 124,
    "start_time": "2021-07-08T08:47:46.872Z"
   },
   {
    "duration": 191,
    "start_time": "2021-07-08T08:47:58.148Z"
   },
   {
    "duration": 191,
    "start_time": "2021-07-08T08:48:07.412Z"
   },
   {
    "duration": 261,
    "start_time": "2021-07-08T08:48:10.385Z"
   },
   {
    "duration": 255,
    "start_time": "2021-07-08T08:48:14.494Z"
   },
   {
    "duration": 219,
    "start_time": "2021-07-08T08:48:22.752Z"
   },
   {
    "duration": 173,
    "start_time": "2021-07-08T08:49:06.395Z"
   },
   {
    "duration": 180,
    "start_time": "2021-07-08T08:49:21.011Z"
   },
   {
    "duration": 6,
    "start_time": "2021-07-08T08:50:31.697Z"
   },
   {
    "duration": 10,
    "start_time": "2021-07-08T08:50:47.394Z"
   },
   {
    "duration": 11,
    "start_time": "2021-07-08T08:53:49.332Z"
   },
   {
    "duration": 171,
    "start_time": "2021-07-08T08:54:28.408Z"
   },
   {
    "duration": 636,
    "start_time": "2021-07-08T09:02:48.385Z"
   },
   {
    "duration": 227,
    "start_time": "2021-07-08T09:02:49.023Z"
   },
   {
    "duration": 104,
    "start_time": "2021-07-08T09:02:49.252Z"
   },
   {
    "duration": 5,
    "start_time": "2021-07-08T09:02:49.358Z"
   },
   {
    "duration": 27,
    "start_time": "2021-07-08T09:02:49.365Z"
   },
   {
    "duration": 8,
    "start_time": "2021-07-08T09:02:49.394Z"
   },
   {
    "duration": 18,
    "start_time": "2021-07-08T09:02:49.404Z"
   },
   {
    "duration": 6,
    "start_time": "2021-07-08T09:02:49.424Z"
   },
   {
    "duration": 11,
    "start_time": "2021-07-08T09:02:49.433Z"
   },
   {
    "duration": 13,
    "start_time": "2021-07-08T09:02:49.485Z"
   },
   {
    "duration": 9,
    "start_time": "2021-07-08T09:02:49.500Z"
   },
   {
    "duration": 38,
    "start_time": "2021-07-08T09:02:49.511Z"
   },
   {
    "duration": 42,
    "start_time": "2021-07-08T09:02:49.551Z"
   },
   {
    "duration": 21,
    "start_time": "2021-07-08T09:02:49.594Z"
   },
   {
    "duration": 6,
    "start_time": "2021-07-08T09:02:49.616Z"
   },
   {
    "duration": 3,
    "start_time": "2021-07-08T09:02:49.623Z"
   },
   {
    "duration": 9,
    "start_time": "2021-07-08T09:02:49.628Z"
   },
   {
    "duration": 52,
    "start_time": "2021-07-08T09:02:49.638Z"
   },
   {
    "duration": 11,
    "start_time": "2021-07-08T09:02:49.692Z"
   },
   {
    "duration": 8,
    "start_time": "2021-07-08T09:02:49.704Z"
   },
   {
    "duration": 27,
    "start_time": "2021-07-08T09:02:49.713Z"
   },
   {
    "duration": 59,
    "start_time": "2021-07-08T09:02:49.741Z"
   },
   {
    "duration": 8,
    "start_time": "2021-07-08T09:02:49.803Z"
   },
   {
    "duration": 14,
    "start_time": "2021-07-08T09:02:49.813Z"
   },
   {
    "duration": 20,
    "start_time": "2021-07-08T09:02:49.829Z"
   },
   {
    "duration": 44,
    "start_time": "2021-07-08T09:02:49.851Z"
   },
   {
    "duration": 14,
    "start_time": "2021-07-08T09:02:49.896Z"
   },
   {
    "duration": 221,
    "start_time": "2021-07-08T09:02:49.912Z"
   },
   {
    "duration": 6,
    "start_time": "2021-07-08T09:02:50.134Z"
   },
   {
    "duration": 206,
    "start_time": "2021-07-08T09:02:50.142Z"
   },
   {
    "duration": 19,
    "start_time": "2021-07-08T09:02:50.350Z"
   },
   {
    "duration": 21,
    "start_time": "2021-07-08T09:02:50.370Z"
   },
   {
    "duration": 20,
    "start_time": "2021-07-08T09:02:50.393Z"
   },
   {
    "duration": 5,
    "start_time": "2021-07-08T09:02:50.414Z"
   },
   {
    "duration": 5,
    "start_time": "2021-07-08T09:03:34.173Z"
   },
   {
    "duration": 6,
    "start_time": "2021-07-08T09:04:49.062Z"
   },
   {
    "duration": 9,
    "start_time": "2021-07-08T09:04:50.118Z"
   },
   {
    "duration": 14,
    "start_time": "2021-07-08T09:04:58.512Z"
   },
   {
    "duration": 9,
    "start_time": "2021-07-08T09:05:10.988Z"
   },
   {
    "duration": 11,
    "start_time": "2021-07-08T09:05:11.743Z"
   },
   {
    "duration": 7,
    "start_time": "2021-07-08T09:05:25.677Z"
   },
   {
    "duration": 13,
    "start_time": "2021-07-08T09:05:47.189Z"
   },
   {
    "duration": 13,
    "start_time": "2021-07-08T09:05:54.755Z"
   },
   {
    "duration": 4,
    "start_time": "2021-07-08T09:06:29.189Z"
   },
   {
    "duration": 244,
    "start_time": "2021-07-08T09:06:29.195Z"
   },
   {
    "duration": 91,
    "start_time": "2021-07-08T09:06:29.441Z"
   },
   {
    "duration": 4,
    "start_time": "2021-07-08T09:06:29.534Z"
   },
   {
    "duration": 28,
    "start_time": "2021-07-08T09:06:29.540Z"
   },
   {
    "duration": 6,
    "start_time": "2021-07-08T09:06:29.570Z"
   },
   {
    "duration": 18,
    "start_time": "2021-07-08T09:06:29.578Z"
   },
   {
    "duration": 5,
    "start_time": "2021-07-08T09:06:29.597Z"
   },
   {
    "duration": 13,
    "start_time": "2021-07-08T09:06:29.605Z"
   },
   {
    "duration": 8,
    "start_time": "2021-07-08T09:06:29.620Z"
   },
   {
    "duration": 7,
    "start_time": "2021-07-08T09:06:29.630Z"
   },
   {
    "duration": 63,
    "start_time": "2021-07-08T09:06:29.639Z"
   },
   {
    "duration": 17,
    "start_time": "2021-07-08T09:06:29.704Z"
   },
   {
    "duration": 20,
    "start_time": "2021-07-08T09:06:29.723Z"
   },
   {
    "duration": 6,
    "start_time": "2021-07-08T09:06:29.745Z"
   },
   {
    "duration": 3,
    "start_time": "2021-07-08T09:06:29.752Z"
   },
   {
    "duration": 7,
    "start_time": "2021-07-08T09:06:29.785Z"
   },
   {
    "duration": 11,
    "start_time": "2021-07-08T09:06:29.794Z"
   },
   {
    "duration": 15,
    "start_time": "2021-07-08T09:06:29.807Z"
   },
   {
    "duration": 8,
    "start_time": "2021-07-08T09:06:29.823Z"
   },
   {
    "duration": 70,
    "start_time": "2021-07-08T09:06:29.832Z"
   },
   {
    "duration": 17,
    "start_time": "2021-07-08T09:06:29.903Z"
   },
   {
    "duration": 9,
    "start_time": "2021-07-08T09:06:29.921Z"
   },
   {
    "duration": 9,
    "start_time": "2021-07-08T09:06:29.932Z"
   },
   {
    "duration": 57,
    "start_time": "2021-07-08T09:06:29.942Z"
   },
   {
    "duration": 11,
    "start_time": "2021-07-08T09:06:30.001Z"
   },
   {
    "duration": 19,
    "start_time": "2021-07-08T09:06:30.016Z"
   },
   {
    "duration": 217,
    "start_time": "2021-07-08T09:06:30.037Z"
   },
   {
    "duration": 6,
    "start_time": "2021-07-08T09:06:30.255Z"
   },
   {
    "duration": 205,
    "start_time": "2021-07-08T09:06:30.263Z"
   },
   {
    "duration": 27,
    "start_time": "2021-07-08T09:06:30.470Z"
   },
   {
    "duration": 11,
    "start_time": "2021-07-08T09:06:30.500Z"
   },
   {
    "duration": 31,
    "start_time": "2021-07-08T09:06:30.513Z"
   },
   {
    "duration": 18,
    "start_time": "2021-07-08T09:06:30.546Z"
   },
   {
    "duration": 11,
    "start_time": "2021-07-08T09:06:30.566Z"
   },
   {
    "duration": 19,
    "start_time": "2021-07-08T09:06:30.579Z"
   },
   {
    "duration": 20,
    "start_time": "2021-07-08T09:06:49.466Z"
   },
   {
    "duration": 9,
    "start_time": "2021-07-08T09:06:51.994Z"
   },
   {
    "duration": 20,
    "start_time": "2021-07-08T09:06:52.273Z"
   },
   {
    "duration": 246,
    "start_time": "2021-07-08T09:10:21.272Z"
   },
   {
    "duration": 84,
    "start_time": "2021-07-08T09:10:21.436Z"
   },
   {
    "duration": 7,
    "start_time": "2021-07-08T09:10:37.608Z"
   },
   {
    "duration": 189,
    "start_time": "2021-07-08T09:10:38.573Z"
   },
   {
    "duration": 185,
    "start_time": "2021-07-08T09:10:53.181Z"
   },
   {
    "duration": 11,
    "start_time": "2021-07-08T09:10:59.549Z"
   },
   {
    "duration": 42,
    "start_time": "2021-07-08T09:10:59.709Z"
   },
   {
    "duration": 12,
    "start_time": "2021-07-08T09:11:02.857Z"
   },
   {
    "duration": 28,
    "start_time": "2021-07-08T09:11:10.062Z"
   },
   {
    "duration": 249,
    "start_time": "2021-07-08T09:11:37.388Z"
   },
   {
    "duration": 232,
    "start_time": "2021-07-08T09:11:49.485Z"
   },
   {
    "duration": 453,
    "start_time": "2021-07-08T09:12:01.546Z"
   },
   {
    "duration": 440,
    "start_time": "2021-07-08T09:12:12.347Z"
   },
   {
    "duration": 213,
    "start_time": "2021-07-08T09:13:32.196Z"
   },
   {
    "duration": 172,
    "start_time": "2021-07-08T09:14:07.400Z"
   },
   {
    "duration": 185,
    "start_time": "2021-07-08T09:14:14.905Z"
   },
   {
    "duration": 209,
    "start_time": "2021-07-08T09:14:40.109Z"
   },
   {
    "duration": 201,
    "start_time": "2021-07-08T09:14:54.506Z"
   },
   {
    "duration": 622,
    "start_time": "2021-07-08T09:18:14.497Z"
   },
   {
    "duration": 220,
    "start_time": "2021-07-08T09:18:15.121Z"
   },
   {
    "duration": 79,
    "start_time": "2021-07-08T09:18:15.343Z"
   },
   {
    "duration": 4,
    "start_time": "2021-07-08T09:18:15.425Z"
   },
   {
    "duration": 24,
    "start_time": "2021-07-08T09:18:15.431Z"
   },
   {
    "duration": 8,
    "start_time": "2021-07-08T09:18:15.457Z"
   },
   {
    "duration": 16,
    "start_time": "2021-07-08T09:18:15.466Z"
   },
   {
    "duration": 5,
    "start_time": "2021-07-08T09:18:15.484Z"
   },
   {
    "duration": 10,
    "start_time": "2021-07-08T09:18:15.493Z"
   },
   {
    "duration": 8,
    "start_time": "2021-07-08T09:18:15.504Z"
   },
   {
    "duration": 7,
    "start_time": "2021-07-08T09:18:15.513Z"
   },
   {
    "duration": 26,
    "start_time": "2021-07-08T09:18:15.522Z"
   },
   {
    "duration": 49,
    "start_time": "2021-07-08T09:18:15.550Z"
   },
   {
    "duration": 21,
    "start_time": "2021-07-08T09:18:15.601Z"
   },
   {
    "duration": 8,
    "start_time": "2021-07-08T09:18:15.624Z"
   },
   {
    "duration": 3,
    "start_time": "2021-07-08T09:18:15.634Z"
   },
   {
    "duration": 8,
    "start_time": "2021-07-08T09:18:15.639Z"
   },
   {
    "duration": 45,
    "start_time": "2021-07-08T09:18:15.649Z"
   },
   {
    "duration": 13,
    "start_time": "2021-07-08T09:18:15.696Z"
   },
   {
    "duration": 10,
    "start_time": "2021-07-08T09:18:15.711Z"
   },
   {
    "duration": 64,
    "start_time": "2021-07-08T09:18:15.722Z"
   },
   {
    "duration": 19,
    "start_time": "2021-07-08T09:18:15.788Z"
   },
   {
    "duration": 9,
    "start_time": "2021-07-08T09:18:15.809Z"
   },
   {
    "duration": 9,
    "start_time": "2021-07-08T09:18:15.820Z"
   },
   {
    "duration": 18,
    "start_time": "2021-07-08T09:18:15.831Z"
   },
   {
    "duration": 43,
    "start_time": "2021-07-08T09:18:15.851Z"
   },
   {
    "duration": 12,
    "start_time": "2021-07-08T09:18:15.897Z"
   },
   {
    "duration": 219,
    "start_time": "2021-07-08T09:18:15.911Z"
   },
   {
    "duration": 8,
    "start_time": "2021-07-08T09:18:16.132Z"
   },
   {
    "duration": 199,
    "start_time": "2021-07-08T09:18:16.141Z"
   },
   {
    "duration": 18,
    "start_time": "2021-07-08T09:18:16.341Z"
   },
   {
    "duration": 24,
    "start_time": "2021-07-08T09:18:16.361Z"
   },
   {
    "duration": 24,
    "start_time": "2021-07-08T09:18:16.387Z"
   },
   {
    "duration": 211,
    "start_time": "2021-07-08T09:18:16.413Z"
   },
   {
    "duration": 18,
    "start_time": "2021-07-08T09:18:16.626Z"
   },
   {
    "duration": 596,
    "start_time": "2021-07-08T10:06:33.623Z"
   },
   {
    "duration": 181,
    "start_time": "2021-07-08T10:06:34.221Z"
   },
   {
    "duration": 176,
    "start_time": "2021-07-08T10:06:34.635Z"
   },
   {
    "duration": 239,
    "start_time": "2021-07-08T10:06:55.572Z"
   },
   {
    "duration": 6,
    "start_time": "2021-07-08T10:06:57.687Z"
   },
   {
    "duration": 4,
    "start_time": "2021-07-08T10:07:03.956Z"
   },
   {
    "duration": 4,
    "start_time": "2021-07-08T10:07:10.376Z"
   },
   {
    "duration": 4,
    "start_time": "2021-07-08T10:17:19.889Z"
   },
   {
    "duration": 3,
    "start_time": "2021-07-08T10:19:19.407Z"
   },
   {
    "duration": 197,
    "start_time": "2021-07-08T10:19:19.412Z"
   },
   {
    "duration": 127,
    "start_time": "2021-07-08T10:19:19.611Z"
   },
   {
    "duration": 4,
    "start_time": "2021-07-08T10:19:19.740Z"
   },
   {
    "duration": 27,
    "start_time": "2021-07-08T10:19:19.746Z"
   },
   {
    "duration": 7,
    "start_time": "2021-07-08T10:19:19.775Z"
   },
   {
    "duration": 30,
    "start_time": "2021-07-08T10:19:19.784Z"
   },
   {
    "duration": 7,
    "start_time": "2021-07-08T10:19:19.817Z"
   },
   {
    "duration": 26,
    "start_time": "2021-07-08T10:19:19.826Z"
   },
   {
    "duration": 18,
    "start_time": "2021-07-08T10:19:19.854Z"
   },
   {
    "duration": 14,
    "start_time": "2021-07-08T10:19:19.874Z"
   },
   {
    "duration": 48,
    "start_time": "2021-07-08T10:19:19.890Z"
   },
   {
    "duration": 17,
    "start_time": "2021-07-08T10:19:19.940Z"
   },
   {
    "duration": 38,
    "start_time": "2021-07-08T10:19:19.959Z"
   },
   {
    "duration": 8,
    "start_time": "2021-07-08T10:19:19.999Z"
   },
   {
    "duration": 15,
    "start_time": "2021-07-08T10:19:20.009Z"
   },
   {
    "duration": 22,
    "start_time": "2021-07-08T10:19:20.026Z"
   },
   {
    "duration": 10,
    "start_time": "2021-07-08T10:19:20.050Z"
   },
   {
    "duration": 10,
    "start_time": "2021-07-08T10:19:20.062Z"
   },
   {
    "duration": 20,
    "start_time": "2021-07-08T10:19:20.073Z"
   },
   {
    "duration": 29,
    "start_time": "2021-07-08T10:19:20.095Z"
   },
   {
    "duration": 17,
    "start_time": "2021-07-08T10:19:20.126Z"
   },
   {
    "duration": 40,
    "start_time": "2021-07-08T10:19:20.146Z"
   },
   {
    "duration": 15,
    "start_time": "2021-07-08T10:19:20.189Z"
   },
   {
    "duration": 19,
    "start_time": "2021-07-08T10:19:20.206Z"
   },
   {
    "duration": 10,
    "start_time": "2021-07-08T10:19:20.226Z"
   },
   {
    "duration": 11,
    "start_time": "2021-07-08T10:19:20.238Z"
   },
   {
    "duration": 297,
    "start_time": "2021-07-08T10:19:20.250Z"
   },
   {
    "duration": 6,
    "start_time": "2021-07-08T10:19:20.549Z"
   },
   {
    "duration": 191,
    "start_time": "2021-07-08T10:19:20.557Z"
   },
   {
    "duration": 19,
    "start_time": "2021-07-08T10:19:20.750Z"
   },
   {
    "duration": 20,
    "start_time": "2021-07-08T10:19:20.771Z"
   },
   {
    "duration": 15,
    "start_time": "2021-07-08T10:19:20.793Z"
   },
   {
    "duration": 222,
    "start_time": "2021-07-08T10:19:20.809Z"
   },
   {
    "duration": 20,
    "start_time": "2021-07-08T10:19:21.033Z"
   },
   {
    "duration": 27,
    "start_time": "2021-07-08T10:45:04.055Z"
   },
   {
    "duration": 8,
    "start_time": "2021-07-08T10:45:08.478Z"
   },
   {
    "duration": 8,
    "start_time": "2021-07-08T10:45:31.982Z"
   },
   {
    "duration": 10,
    "start_time": "2021-07-08T10:46:01.221Z"
   },
   {
    "duration": 17,
    "start_time": "2021-07-08T10:46:40.011Z"
   },
   {
    "duration": 193,
    "start_time": "2021-07-08T10:48:19.471Z"
   },
   {
    "duration": 225,
    "start_time": "2021-07-08T10:49:26.480Z"
   },
   {
    "duration": 204,
    "start_time": "2021-07-08T10:49:59.992Z"
   },
   {
    "duration": 435,
    "start_time": "2021-07-08T10:50:06.779Z"
   },
   {
    "duration": 199,
    "start_time": "2021-07-08T10:50:14.891Z"
   },
   {
    "duration": 204,
    "start_time": "2021-07-08T10:50:18.501Z"
   },
   {
    "duration": 244,
    "start_time": "2021-07-08T10:50:23.359Z"
   },
   {
    "duration": 192,
    "start_time": "2021-07-08T10:50:29.135Z"
   },
   {
    "duration": 218,
    "start_time": "2021-07-08T10:50:33.092Z"
   },
   {
    "duration": 207,
    "start_time": "2021-07-08T10:52:45.381Z"
   },
   {
    "duration": 5,
    "start_time": "2021-07-08T10:53:34.641Z"
   },
   {
    "duration": 196,
    "start_time": "2021-07-08T10:53:41.478Z"
   },
   {
    "duration": 43,
    "start_time": "2021-07-08T10:53:50.335Z"
   },
   {
    "duration": 32,
    "start_time": "2021-07-08T10:53:55.294Z"
   },
   {
    "duration": 55,
    "start_time": "2021-07-08T10:54:09.675Z"
   },
   {
    "duration": 16,
    "start_time": "2021-07-08T10:54:12.260Z"
   },
   {
    "duration": 15,
    "start_time": "2021-07-08T10:54:49.150Z"
   },
   {
    "duration": 20,
    "start_time": "2021-07-08T10:56:07.596Z"
   },
   {
    "duration": 16,
    "start_time": "2021-07-08T10:58:26.276Z"
   },
   {
    "duration": 22,
    "start_time": "2021-07-08T10:59:00.486Z"
   },
   {
    "duration": 18,
    "start_time": "2021-07-08T11:02:09.653Z"
   },
   {
    "duration": 10,
    "start_time": "2021-07-08T11:03:44.331Z"
   },
   {
    "duration": 10,
    "start_time": "2021-07-08T11:03:54.055Z"
   },
   {
    "duration": 12,
    "start_time": "2021-07-08T11:04:41.967Z"
   },
   {
    "duration": 24,
    "start_time": "2021-07-08T11:07:30.732Z"
   },
   {
    "duration": 6,
    "start_time": "2021-07-08T11:07:37.364Z"
   },
   {
    "duration": 16,
    "start_time": "2021-07-08T11:08:01.819Z"
   },
   {
    "duration": 17,
    "start_time": "2021-07-08T11:09:47.488Z"
   },
   {
    "duration": 246,
    "start_time": "2021-07-08T11:10:00.830Z"
   },
   {
    "duration": 18,
    "start_time": "2021-07-08T11:13:55.195Z"
   },
   {
    "duration": 204,
    "start_time": "2021-07-08T11:14:04.951Z"
   },
   {
    "duration": 19,
    "start_time": "2021-07-08T11:15:10.613Z"
   },
   {
    "duration": 680,
    "start_time": "2021-07-08T11:16:25.793Z"
   },
   {
    "duration": 451,
    "start_time": "2021-07-08T11:16:40.313Z"
   },
   {
    "duration": 469,
    "start_time": "2021-07-08T11:17:21.286Z"
   },
   {
    "duration": 20,
    "start_time": "2021-07-08T11:19:12.554Z"
   },
   {
    "duration": 35,
    "start_time": "2021-07-08T11:20:05.484Z"
   },
   {
    "duration": 53,
    "start_time": "2021-07-08T11:21:40.050Z"
   },
   {
    "duration": 13,
    "start_time": "2021-07-08T11:22:26.059Z"
   },
   {
    "duration": 19,
    "start_time": "2021-07-08T11:22:47.419Z"
   },
   {
    "duration": 25,
    "start_time": "2021-07-08T11:23:19.958Z"
   },
   {
    "duration": 29,
    "start_time": "2021-07-08T11:23:25.415Z"
   },
   {
    "duration": 10,
    "start_time": "2021-07-08T11:24:45.138Z"
   },
   {
    "duration": 19,
    "start_time": "2021-07-08T11:24:54.498Z"
   },
   {
    "duration": 12,
    "start_time": "2021-07-08T11:25:32.225Z"
   },
   {
    "duration": 19,
    "start_time": "2021-07-08T11:25:37.092Z"
   },
   {
    "duration": 17,
    "start_time": "2021-07-08T11:25:58.116Z"
   },
   {
    "duration": 15,
    "start_time": "2021-07-08T11:26:02.258Z"
   },
   {
    "duration": 8,
    "start_time": "2021-07-08T11:26:59.682Z"
   },
   {
    "duration": 184,
    "start_time": "2021-07-08T11:27:21.894Z"
   },
   {
    "duration": 8,
    "start_time": "2021-07-08T11:27:23.824Z"
   },
   {
    "duration": 202,
    "start_time": "2021-07-08T11:27:23.962Z"
   },
   {
    "duration": 360,
    "start_time": "2021-07-08T11:28:33.215Z"
   },
   {
    "duration": 231,
    "start_time": "2021-07-08T11:32:05.542Z"
   },
   {
    "duration": 607,
    "start_time": "2021-07-08T11:36:27.854Z"
   },
   {
    "duration": 241,
    "start_time": "2021-07-08T11:36:28.463Z"
   },
   {
    "duration": 67,
    "start_time": "2021-07-08T11:36:28.709Z"
   },
   {
    "duration": 5,
    "start_time": "2021-07-08T11:36:28.778Z"
   },
   {
    "duration": 32,
    "start_time": "2021-07-08T11:36:28.784Z"
   },
   {
    "duration": 11,
    "start_time": "2021-07-08T11:36:28.819Z"
   },
   {
    "duration": 20,
    "start_time": "2021-07-08T11:36:28.834Z"
   },
   {
    "duration": 36,
    "start_time": "2021-07-08T11:36:28.857Z"
   },
   {
    "duration": 16,
    "start_time": "2021-07-08T11:36:28.895Z"
   },
   {
    "duration": 14,
    "start_time": "2021-07-08T11:36:28.913Z"
   },
   {
    "duration": 9,
    "start_time": "2021-07-08T11:36:28.930Z"
   },
   {
    "duration": 55,
    "start_time": "2021-07-08T11:36:28.941Z"
   },
   {
    "duration": 27,
    "start_time": "2021-07-08T11:36:28.999Z"
   },
   {
    "duration": 30,
    "start_time": "2021-07-08T11:36:29.028Z"
   },
   {
    "duration": 31,
    "start_time": "2021-07-08T11:36:29.060Z"
   },
   {
    "duration": 3,
    "start_time": "2021-07-08T11:36:29.093Z"
   },
   {
    "duration": 12,
    "start_time": "2021-07-08T11:36:29.099Z"
   },
   {
    "duration": 11,
    "start_time": "2021-07-08T11:36:29.112Z"
   },
   {
    "duration": 12,
    "start_time": "2021-07-08T11:36:29.125Z"
   },
   {
    "duration": 9,
    "start_time": "2021-07-08T11:36:29.139Z"
   },
   {
    "duration": 31,
    "start_time": "2021-07-08T11:36:29.191Z"
   },
   {
    "duration": 17,
    "start_time": "2021-07-08T11:36:29.226Z"
   },
   {
    "duration": 7,
    "start_time": "2021-07-08T11:36:29.245Z"
   },
   {
    "duration": 10,
    "start_time": "2021-07-08T11:36:29.254Z"
   },
   {
    "duration": 30,
    "start_time": "2021-07-08T11:36:29.292Z"
   },
   {
    "duration": 11,
    "start_time": "2021-07-08T11:36:29.324Z"
   },
   {
    "duration": 11,
    "start_time": "2021-07-08T11:36:29.337Z"
   },
   {
    "duration": 230,
    "start_time": "2021-07-08T11:36:29.349Z"
   },
   {
    "duration": 13,
    "start_time": "2021-07-08T11:36:29.588Z"
   },
   {
    "duration": 205,
    "start_time": "2021-07-08T11:36:29.603Z"
   },
   {
    "duration": 20,
    "start_time": "2021-07-08T11:36:29.810Z"
   },
   {
    "duration": 9,
    "start_time": "2021-07-08T11:36:29.832Z"
   },
   {
    "duration": 16,
    "start_time": "2021-07-08T11:36:29.843Z"
   },
   {
    "duration": 283,
    "start_time": "2021-07-08T11:36:29.861Z"
   },
   {
    "duration": 50,
    "start_time": "2021-07-08T11:36:30.146Z"
   },
   {
    "duration": 14,
    "start_time": "2021-07-08T11:36:30.198Z"
   },
   {
    "duration": 11,
    "start_time": "2021-07-08T11:36:30.214Z"
   },
   {
    "duration": 245,
    "start_time": "2021-07-08T11:36:30.227Z"
   },
   {
    "duration": 439,
    "start_time": "2021-07-08T11:36:30.474Z"
   },
   {
    "duration": 210,
    "start_time": "2021-07-08T11:36:30.915Z"
   },
   {
    "duration": 15,
    "start_time": "2021-07-08T11:36:31.127Z"
   },
   {
    "duration": 17,
    "start_time": "2021-07-08T11:38:20.451Z"
   },
   {
    "duration": 642,
    "start_time": "2021-07-08T11:46:17.881Z"
   },
   {
    "duration": 210,
    "start_time": "2021-07-08T11:46:18.525Z"
   },
   {
    "duration": 104,
    "start_time": "2021-07-08T11:46:18.741Z"
   },
   {
    "duration": 8,
    "start_time": "2021-07-08T11:46:18.847Z"
   },
   {
    "duration": 25,
    "start_time": "2021-07-08T11:46:18.857Z"
   },
   {
    "duration": 14,
    "start_time": "2021-07-08T11:46:18.884Z"
   },
   {
    "duration": 22,
    "start_time": "2021-07-08T11:46:18.900Z"
   },
   {
    "duration": 5,
    "start_time": "2021-07-08T11:46:18.924Z"
   },
   {
    "duration": 13,
    "start_time": "2021-07-08T11:46:18.931Z"
   },
   {
    "duration": 45,
    "start_time": "2021-07-08T11:46:18.946Z"
   },
   {
    "duration": 12,
    "start_time": "2021-07-08T11:46:18.993Z"
   },
   {
    "duration": 38,
    "start_time": "2021-07-08T11:46:19.006Z"
   },
   {
    "duration": 50,
    "start_time": "2021-07-08T11:46:19.046Z"
   },
   {
    "duration": 29,
    "start_time": "2021-07-08T11:46:19.099Z"
   },
   {
    "duration": 7,
    "start_time": "2021-07-08T11:46:19.130Z"
   },
   {
    "duration": 3,
    "start_time": "2021-07-08T11:46:19.139Z"
   },
   {
    "duration": 11,
    "start_time": "2021-07-08T11:46:19.144Z"
   },
   {
    "duration": 40,
    "start_time": "2021-07-08T11:46:19.157Z"
   },
   {
    "duration": 15,
    "start_time": "2021-07-08T11:46:19.199Z"
   },
   {
    "duration": 10,
    "start_time": "2021-07-08T11:46:19.217Z"
   },
   {
    "duration": 68,
    "start_time": "2021-07-08T11:46:19.230Z"
   },
   {
    "duration": 17,
    "start_time": "2021-07-08T11:46:19.301Z"
   },
   {
    "duration": 7,
    "start_time": "2021-07-08T11:46:19.321Z"
   },
   {
    "duration": 11,
    "start_time": "2021-07-08T11:46:19.330Z"
   },
   {
    "duration": 59,
    "start_time": "2021-07-08T11:46:19.343Z"
   },
   {
    "duration": 17,
    "start_time": "2021-07-08T11:46:19.405Z"
   },
   {
    "duration": 16,
    "start_time": "2021-07-08T11:46:19.424Z"
   },
   {
    "duration": 252,
    "start_time": "2021-07-08T11:46:19.443Z"
   },
   {
    "duration": 9,
    "start_time": "2021-07-08T11:46:19.697Z"
   },
   {
    "duration": 224,
    "start_time": "2021-07-08T11:46:19.708Z"
   },
   {
    "duration": 21,
    "start_time": "2021-07-08T11:46:19.934Z"
   },
   {
    "duration": 9,
    "start_time": "2021-07-08T11:46:19.956Z"
   },
   {
    "duration": 32,
    "start_time": "2021-07-08T11:46:19.967Z"
   },
   {
    "duration": 288,
    "start_time": "2021-07-08T11:46:20.004Z"
   },
   {
    "duration": 23,
    "start_time": "2021-07-08T11:46:20.300Z"
   },
   {
    "duration": 11,
    "start_time": "2021-07-08T11:46:20.325Z"
   },
   {
    "duration": 11,
    "start_time": "2021-07-08T11:46:20.339Z"
   },
   {
    "duration": 259,
    "start_time": "2021-07-08T11:46:20.352Z"
   },
   {
    "duration": 438,
    "start_time": "2021-07-08T11:46:20.613Z"
   },
   {
    "duration": 207,
    "start_time": "2021-07-08T11:46:21.054Z"
   },
   {
    "duration": 27,
    "start_time": "2021-07-08T11:46:21.262Z"
   },
   {
    "duration": 19,
    "start_time": "2021-07-08T11:46:21.291Z"
   },
   {
    "duration": 820,
    "start_time": "2021-07-08T11:49:01.655Z"
   },
   {
    "duration": 372,
    "start_time": "2021-07-08T11:49:02.478Z"
   },
   {
    "duration": 98,
    "start_time": "2021-07-08T11:49:02.853Z"
   },
   {
    "duration": 6,
    "start_time": "2021-07-08T11:49:02.953Z"
   },
   {
    "duration": 39,
    "start_time": "2021-07-08T11:49:02.960Z"
   },
   {
    "duration": 9,
    "start_time": "2021-07-08T11:49:03.003Z"
   },
   {
    "duration": 23,
    "start_time": "2021-07-08T11:49:03.014Z"
   },
   {
    "duration": 6,
    "start_time": "2021-07-08T11:49:03.041Z"
   },
   {
    "duration": 20,
    "start_time": "2021-07-08T11:49:03.049Z"
   },
   {
    "duration": 18,
    "start_time": "2021-07-08T11:49:03.084Z"
   },
   {
    "duration": 14,
    "start_time": "2021-07-08T11:49:03.104Z"
   },
   {
    "duration": 39,
    "start_time": "2021-07-08T11:49:03.119Z"
   },
   {
    "duration": 38,
    "start_time": "2021-07-08T11:49:03.160Z"
   },
   {
    "duration": 26,
    "start_time": "2021-07-08T11:49:03.200Z"
   },
   {
    "duration": 7,
    "start_time": "2021-07-08T11:49:03.227Z"
   },
   {
    "duration": 4,
    "start_time": "2021-07-08T11:49:03.236Z"
   },
   {
    "duration": 15,
    "start_time": "2021-07-08T11:49:03.243Z"
   },
   {
    "duration": 21,
    "start_time": "2021-07-08T11:49:03.285Z"
   },
   {
    "duration": 17,
    "start_time": "2021-07-08T11:49:03.309Z"
   },
   {
    "duration": 10,
    "start_time": "2021-07-08T11:49:03.328Z"
   },
   {
    "duration": 65,
    "start_time": "2021-07-08T11:49:03.340Z"
   },
   {
    "duration": 18,
    "start_time": "2021-07-08T11:49:03.407Z"
   },
   {
    "duration": 8,
    "start_time": "2021-07-08T11:49:03.428Z"
   },
   {
    "duration": 15,
    "start_time": "2021-07-08T11:49:03.438Z"
   },
   {
    "duration": 40,
    "start_time": "2021-07-08T11:49:03.455Z"
   },
   {
    "duration": 12,
    "start_time": "2021-07-08T11:49:03.497Z"
   },
   {
    "duration": 29,
    "start_time": "2021-07-08T11:49:03.511Z"
   },
   {
    "duration": 285,
    "start_time": "2021-07-08T11:49:03.542Z"
   },
   {
    "duration": 8,
    "start_time": "2021-07-08T11:49:03.829Z"
   },
   {
    "duration": 227,
    "start_time": "2021-07-08T11:49:03.838Z"
   },
   {
    "duration": 40,
    "start_time": "2021-07-08T11:49:04.066Z"
   },
   {
    "duration": 10,
    "start_time": "2021-07-08T11:49:04.108Z"
   },
   {
    "duration": 26,
    "start_time": "2021-07-08T11:49:04.121Z"
   },
   {
    "duration": 290,
    "start_time": "2021-07-08T11:49:04.149Z"
   },
   {
    "duration": 26,
    "start_time": "2021-07-08T11:49:04.441Z"
   },
   {
    "duration": 31,
    "start_time": "2021-07-08T11:49:04.470Z"
   },
   {
    "duration": 14,
    "start_time": "2021-07-08T11:49:04.503Z"
   },
   {
    "duration": 259,
    "start_time": "2021-07-08T11:49:04.521Z"
   },
   {
    "duration": 480,
    "start_time": "2021-07-08T11:49:04.782Z"
   },
   {
    "duration": 225,
    "start_time": "2021-07-08T11:49:05.264Z"
   },
   {
    "duration": 22,
    "start_time": "2021-07-08T11:49:05.491Z"
   },
   {
    "duration": 24,
    "start_time": "2021-07-08T11:49:05.515Z"
   },
   {
    "duration": 634,
    "start_time": "2021-07-08T11:52:24.960Z"
   },
   {
    "duration": 199,
    "start_time": "2021-07-08T11:52:25.599Z"
   },
   {
    "duration": 106,
    "start_time": "2021-07-08T11:52:25.803Z"
   },
   {
    "duration": 7,
    "start_time": "2021-07-08T11:52:25.911Z"
   },
   {
    "duration": 29,
    "start_time": "2021-07-08T11:52:25.920Z"
   },
   {
    "duration": 7,
    "start_time": "2021-07-08T11:52:25.951Z"
   },
   {
    "duration": 26,
    "start_time": "2021-07-08T11:52:25.961Z"
   },
   {
    "duration": 11,
    "start_time": "2021-07-08T11:52:25.990Z"
   },
   {
    "duration": 29,
    "start_time": "2021-07-08T11:52:26.005Z"
   },
   {
    "duration": 9,
    "start_time": "2021-07-08T11:52:26.036Z"
   },
   {
    "duration": 8,
    "start_time": "2021-07-08T11:52:26.047Z"
   },
   {
    "duration": 63,
    "start_time": "2021-07-08T11:52:26.057Z"
   },
   {
    "duration": 17,
    "start_time": "2021-07-08T11:52:26.122Z"
   },
   {
    "duration": 43,
    "start_time": "2021-07-08T11:52:26.142Z"
   },
   {
    "duration": 17,
    "start_time": "2021-07-08T11:52:26.187Z"
   },
   {
    "duration": 5,
    "start_time": "2021-07-08T11:52:26.206Z"
   },
   {
    "duration": 12,
    "start_time": "2021-07-08T11:52:26.212Z"
   },
   {
    "duration": 11,
    "start_time": "2021-07-08T11:52:26.226Z"
   },
   {
    "duration": 12,
    "start_time": "2021-07-08T11:52:26.238Z"
   },
   {
    "duration": 38,
    "start_time": "2021-07-08T11:52:26.252Z"
   },
   {
    "duration": 40,
    "start_time": "2021-07-08T11:52:26.292Z"
   },
   {
    "duration": 17,
    "start_time": "2021-07-08T11:52:26.336Z"
   },
   {
    "duration": 39,
    "start_time": "2021-07-08T11:52:26.355Z"
   },
   {
    "duration": 11,
    "start_time": "2021-07-08T11:52:26.395Z"
   },
   {
    "duration": 23,
    "start_time": "2021-07-08T11:52:26.408Z"
   },
   {
    "duration": 12,
    "start_time": "2021-07-08T11:52:26.432Z"
   },
   {
    "duration": 41,
    "start_time": "2021-07-08T11:52:26.446Z"
   },
   {
    "duration": 215,
    "start_time": "2021-07-08T11:52:26.493Z"
   },
   {
    "duration": 8,
    "start_time": "2021-07-08T11:52:26.710Z"
   },
   {
    "duration": 228,
    "start_time": "2021-07-08T11:52:26.720Z"
   },
   {
    "duration": 18,
    "start_time": "2021-07-08T11:52:26.950Z"
   },
   {
    "duration": 35,
    "start_time": "2021-07-08T11:52:26.969Z"
   },
   {
    "duration": 23,
    "start_time": "2021-07-08T11:52:27.006Z"
   },
   {
    "duration": 258,
    "start_time": "2021-07-08T11:52:27.030Z"
   },
   {
    "duration": 24,
    "start_time": "2021-07-08T11:52:27.290Z"
   },
   {
    "duration": 12,
    "start_time": "2021-07-08T11:52:27.316Z"
   },
   {
    "duration": 10,
    "start_time": "2021-07-08T11:52:27.329Z"
   },
   {
    "duration": 298,
    "start_time": "2021-07-08T11:52:27.341Z"
   },
   {
    "duration": 436,
    "start_time": "2021-07-08T11:52:27.641Z"
   },
   {
    "duration": 216,
    "start_time": "2021-07-08T11:52:28.079Z"
   },
   {
    "duration": 20,
    "start_time": "2021-07-08T11:52:28.297Z"
   },
   {
    "duration": 17,
    "start_time": "2021-07-08T11:52:28.319Z"
   },
   {
    "duration": 45,
    "start_time": "2023-02-21T11:54:38.019Z"
   },
   {
    "duration": 6,
    "start_time": "2023-02-21T11:55:02.232Z"
   },
   {
    "duration": 6,
    "start_time": "2023-02-21T11:55:03.599Z"
   },
   {
    "duration": 3,
    "start_time": "2023-02-21T12:06:08.687Z"
   },
   {
    "duration": 4,
    "start_time": "2023-02-21T12:06:16.286Z"
   },
   {
    "duration": 1242,
    "start_time": "2023-02-21T12:06:22.371Z"
   },
   {
    "duration": 224,
    "start_time": "2023-02-21T12:06:24.263Z"
   },
   {
    "duration": 101,
    "start_time": "2023-02-21T12:06:51.403Z"
   },
   {
    "duration": 106,
    "start_time": "2023-02-21T12:07:23.406Z"
   },
   {
    "duration": 21,
    "start_time": "2023-02-21T12:08:41.286Z"
   },
   {
    "duration": 8,
    "start_time": "2023-02-21T12:16:41.526Z"
   },
   {
    "duration": 4,
    "start_time": "2023-02-21T12:17:08.264Z"
   },
   {
    "duration": 8,
    "start_time": "2023-02-21T12:17:48.726Z"
   },
   {
    "duration": 683,
    "start_time": "2023-02-21T12:18:01.861Z"
   },
   {
    "duration": 4,
    "start_time": "2023-02-21T12:18:42.108Z"
   },
   {
    "duration": 7,
    "start_time": "2023-02-21T12:18:43.098Z"
   },
   {
    "duration": 8,
    "start_time": "2023-02-21T12:19:54.936Z"
   },
   {
    "duration": 13,
    "start_time": "2023-02-21T12:20:15.485Z"
   },
   {
    "duration": 8,
    "start_time": "2023-02-21T12:20:54.002Z"
   },
   {
    "duration": 9,
    "start_time": "2023-02-21T12:21:21.858Z"
   },
   {
    "duration": 25,
    "start_time": "2023-02-21T12:21:30.871Z"
   },
   {
    "duration": 12,
    "start_time": "2023-02-21T12:22:25.613Z"
   },
   {
    "duration": 15,
    "start_time": "2023-02-21T12:22:43.305Z"
   },
   {
    "duration": 49,
    "start_time": "2023-02-25T03:10:35.700Z"
   },
   {
    "duration": 1355,
    "start_time": "2023-02-25T03:10:43.515Z"
   },
   {
    "duration": 357,
    "start_time": "2023-02-25T03:10:44.872Z"
   },
   {
    "duration": 91,
    "start_time": "2023-02-25T03:10:45.231Z"
   },
   {
    "duration": 27,
    "start_time": "2023-02-25T03:10:45.566Z"
   },
   {
    "duration": 6,
    "start_time": "2023-02-25T03:10:47.106Z"
   },
   {
    "duration": 7,
    "start_time": "2023-02-25T03:10:47.619Z"
   },
   {
    "duration": 16,
    "start_time": "2023-02-25T03:10:48.310Z"
   },
   {
    "duration": 98,
    "start_time": "2023-02-25T03:10:49.157Z"
   },
   {
    "duration": 76,
    "start_time": "2023-02-25T03:10:53.720Z"
   },
   {
    "duration": 17,
    "start_time": "2023-02-25T03:10:57.780Z"
   },
   {
    "duration": 76,
    "start_time": "2023-02-25T03:10:58.872Z"
   },
   {
    "duration": 7,
    "start_time": "2023-02-25T03:11:08.590Z"
   },
   {
    "duration": 81,
    "start_time": "2023-02-25T03:11:09.460Z"
   },
   {
    "duration": 14,
    "start_time": "2023-02-25T03:11:10.016Z"
   },
   {
    "duration": 11,
    "start_time": "2023-02-25T03:11:14.826Z"
   },
   {
    "duration": 16,
    "start_time": "2023-02-25T03:11:15.496Z"
   },
   {
    "duration": 5,
    "start_time": "2023-02-25T03:11:21.880Z"
   },
   {
    "duration": 66,
    "start_time": "2023-02-25T03:14:38.421Z"
   },
   {
    "duration": 10,
    "start_time": "2023-02-25T03:18:39.751Z"
   },
   {
    "duration": 15,
    "start_time": "2023-02-25T03:18:39.791Z"
   },
   {
    "duration": 5,
    "start_time": "2023-02-25T03:19:56.782Z"
   },
   {
    "duration": 8,
    "start_time": "2023-02-25T03:28:00.860Z"
   },
   {
    "duration": 5,
    "start_time": "2023-02-25T03:28:37.066Z"
   },
   {
    "duration": 20,
    "start_time": "2023-02-25T03:35:55.908Z"
   },
   {
    "duration": 23,
    "start_time": "2023-02-25T03:44:12.705Z"
   },
   {
    "duration": 18,
    "start_time": "2023-02-25T03:48:41.611Z"
   },
   {
    "duration": 5,
    "start_time": "2023-02-25T03:50:30.147Z"
   },
   {
    "duration": 21,
    "start_time": "2023-02-25T05:10:00.904Z"
   },
   {
    "duration": 17,
    "start_time": "2023-02-25T05:10:03.819Z"
   },
   {
    "duration": 40,
    "start_time": "2023-02-25T05:11:36.072Z"
   },
   {
    "duration": 21,
    "start_time": "2023-02-25T05:15:41.811Z"
   },
   {
    "duration": 29,
    "start_time": "2023-02-25T05:16:04.544Z"
   },
   {
    "duration": 20,
    "start_time": "2023-02-25T05:19:01.927Z"
   },
   {
    "duration": 10,
    "start_time": "2023-02-25T05:32:31.307Z"
   },
   {
    "duration": 4,
    "start_time": "2023-02-25T05:46:45.761Z"
   },
   {
    "duration": 11,
    "start_time": "2023-02-25T05:47:10.435Z"
   },
   {
    "duration": 8,
    "start_time": "2023-02-25T05:48:45.594Z"
   },
   {
    "duration": 6,
    "start_time": "2023-02-25T05:50:44.767Z"
   },
   {
    "duration": 13,
    "start_time": "2023-02-25T05:51:08.313Z"
   },
   {
    "duration": 9,
    "start_time": "2023-02-25T05:53:54.032Z"
   },
   {
    "duration": 13,
    "start_time": "2023-02-25T05:54:16.874Z"
   },
   {
    "duration": 12,
    "start_time": "2023-02-25T05:54:28.970Z"
   },
   {
    "duration": 11,
    "start_time": "2023-02-25T05:54:41.817Z"
   },
   {
    "duration": 12,
    "start_time": "2023-02-25T05:56:32.859Z"
   },
   {
    "duration": 13,
    "start_time": "2023-02-25T05:56:56.094Z"
   },
   {
    "duration": 8,
    "start_time": "2023-02-25T05:57:02.422Z"
   },
   {
    "duration": 5,
    "start_time": "2023-02-25T05:58:18.634Z"
   },
   {
    "duration": 4,
    "start_time": "2023-02-25T05:58:39.966Z"
   },
   {
    "duration": 5,
    "start_time": "2023-02-25T06:26:21.931Z"
   },
   {
    "duration": 7,
    "start_time": "2023-02-25T06:26:50.546Z"
   },
   {
    "duration": 1166,
    "start_time": "2023-02-25T06:27:02.535Z"
   },
   {
    "duration": 10,
    "start_time": "2023-02-25T06:27:30.682Z"
   },
   {
    "duration": 36,
    "start_time": "2023-02-25T06:40:14.985Z"
   },
   {
    "duration": 30,
    "start_time": "2023-02-25T06:41:22.213Z"
   },
   {
    "duration": 27,
    "start_time": "2023-02-25T06:43:11.881Z"
   },
   {
    "duration": 3,
    "start_time": "2023-02-25T06:44:00.119Z"
   },
   {
    "duration": 147,
    "start_time": "2023-02-25T06:44:53.557Z"
   },
   {
    "duration": 19,
    "start_time": "2023-02-25T06:45:07.403Z"
   },
   {
    "duration": 34,
    "start_time": "2023-02-25T06:45:30.305Z"
   },
   {
    "duration": 3,
    "start_time": "2023-02-25T06:48:01.113Z"
   },
   {
    "duration": 132,
    "start_time": "2023-02-25T06:48:01.693Z"
   },
   {
    "duration": 39,
    "start_time": "2023-02-25T06:48:02.323Z"
   },
   {
    "duration": 140,
    "start_time": "2023-02-25T06:49:32.362Z"
   },
   {
    "duration": 37,
    "start_time": "2023-02-25T06:49:34.488Z"
   },
   {
    "duration": 36,
    "start_time": "2023-02-25T06:49:39.464Z"
   },
   {
    "duration": 65,
    "start_time": "2023-02-25T06:49:57.675Z"
   },
   {
    "duration": 3,
    "start_time": "2023-02-25T06:50:06.731Z"
   },
   {
    "duration": 142,
    "start_time": "2023-02-25T06:50:07.331Z"
   },
   {
    "duration": 53,
    "start_time": "2023-02-25T06:50:08.602Z"
   },
   {
    "duration": 23,
    "start_time": "2023-02-25T06:50:09.707Z"
   },
   {
    "duration": 7,
    "start_time": "2023-02-25T06:50:11.196Z"
   },
   {
    "duration": 15,
    "start_time": "2023-02-25T06:50:11.753Z"
   },
   {
    "duration": 16,
    "start_time": "2023-02-25T06:50:12.418Z"
   },
   {
    "duration": 6,
    "start_time": "2023-02-25T06:50:14.063Z"
   },
   {
    "duration": 16,
    "start_time": "2023-02-25T06:50:15.764Z"
   },
   {
    "duration": 22,
    "start_time": "2023-02-25T06:50:17.264Z"
   },
   {
    "duration": 18,
    "start_time": "2023-02-25T06:50:23.941Z"
   },
   {
    "duration": 16,
    "start_time": "2023-02-25T06:50:26.034Z"
   },
   {
    "duration": 15,
    "start_time": "2023-02-25T06:50:27.885Z"
   },
   {
    "duration": 5,
    "start_time": "2023-02-25T06:50:29.036Z"
   },
   {
    "duration": 9,
    "start_time": "2023-02-25T06:50:31.176Z"
   },
   {
    "duration": 16,
    "start_time": "2023-02-25T06:50:32.863Z"
   },
   {
    "duration": 25,
    "start_time": "2023-02-25T06:50:35.776Z"
   },
   {
    "duration": 16,
    "start_time": "2023-02-25T06:50:38.122Z"
   },
   {
    "duration": 5,
    "start_time": "2023-02-25T06:50:39.914Z"
   },
   {
    "duration": 73,
    "start_time": "2023-02-25T06:50:41.178Z"
   },
   {
    "duration": 22,
    "start_time": "2023-02-25T06:50:50.330Z"
   },
   {
    "duration": 30,
    "start_time": "2023-02-25T06:50:51.274Z"
   },
   {
    "duration": 42,
    "start_time": "2023-02-25T06:50:53.410Z"
   },
   {
    "duration": 18,
    "start_time": "2023-02-25T06:50:54.368Z"
   },
   {
    "duration": 5,
    "start_time": "2023-02-25T06:50:57.568Z"
   },
   {
    "duration": 10,
    "start_time": "2023-02-25T06:50:58.361Z"
   },
   {
    "duration": 92,
    "start_time": "2023-02-25T06:50:59.221Z"
   },
   {
    "duration": 15,
    "start_time": "2023-02-25T06:51:07.772Z"
   },
   {
    "duration": 5,
    "start_time": "2023-02-25T06:51:11.477Z"
   },
   {
    "duration": 6,
    "start_time": "2023-02-25T06:51:12.501Z"
   },
   {
    "duration": 91,
    "start_time": "2023-02-25T06:51:13.355Z"
   },
   {
    "duration": 91,
    "start_time": "2023-02-25T06:51:23.942Z"
   },
   {
    "duration": 9,
    "start_time": "2023-02-25T06:51:24.438Z"
   },
   {
    "duration": 5,
    "start_time": "2023-02-25T06:51:30.104Z"
   },
   {
    "duration": 10,
    "start_time": "2023-02-25T06:51:31.480Z"
   },
   {
    "duration": 26,
    "start_time": "2023-02-25T06:51:34.898Z"
   },
   {
    "duration": 29,
    "start_time": "2023-02-25T06:51:37.902Z"
   },
   {
    "duration": 41,
    "start_time": "2023-02-25T06:51:40.406Z"
   },
   {
    "duration": 11,
    "start_time": "2023-02-25T06:51:43.858Z"
   },
   {
    "duration": 153,
    "start_time": "2023-02-25T06:51:44.781Z"
   },
   {
    "duration": 33,
    "start_time": "2023-02-25T06:51:45.953Z"
   },
   {
    "duration": 4,
    "start_time": "2023-02-25T06:54:06.161Z"
   },
   {
    "duration": 19,
    "start_time": "2023-02-25T06:54:32.101Z"
   },
   {
    "duration": 27,
    "start_time": "2023-02-25T06:56:42.050Z"
   },
   {
    "duration": 20,
    "start_time": "2023-02-25T06:56:53.178Z"
   },
   {
    "duration": 18,
    "start_time": "2023-02-25T06:58:52.978Z"
   },
   {
    "duration": 27,
    "start_time": "2023-02-25T06:58:56.598Z"
   },
   {
    "duration": 18,
    "start_time": "2023-02-25T06:58:58.805Z"
   },
   {
    "duration": 28,
    "start_time": "2023-02-25T07:01:06.477Z"
   },
   {
    "duration": 18,
    "start_time": "2023-02-25T07:01:07.348Z"
   },
   {
    "duration": 39,
    "start_time": "2023-02-25T07:03:23.479Z"
   },
   {
    "duration": 19,
    "start_time": "2023-02-25T07:04:19.855Z"
   },
   {
    "duration": 39,
    "start_time": "2023-02-25T07:04:53.146Z"
   },
   {
    "duration": 7,
    "start_time": "2023-02-25T07:14:04.809Z"
   },
   {
    "duration": 11,
    "start_time": "2023-02-25T07:14:23.904Z"
   },
   {
    "duration": 25,
    "start_time": "2023-02-25T07:16:15.145Z"
   },
   {
    "duration": 12,
    "start_time": "2023-02-25T07:17:23.605Z"
   },
   {
    "duration": 256,
    "start_time": "2023-02-25T07:17:25.997Z"
   },
   {
    "duration": 216,
    "start_time": "2023-02-25T07:19:29.064Z"
   },
   {
    "duration": 188,
    "start_time": "2023-02-25T07:19:43.952Z"
   },
   {
    "duration": 14,
    "start_time": "2023-02-25T07:56:47.859Z"
   },
   {
    "duration": 21,
    "start_time": "2023-02-25T08:00:10.867Z"
   },
   {
    "duration": 9,
    "start_time": "2023-02-25T08:00:54.477Z"
   },
   {
    "duration": 11,
    "start_time": "2023-02-25T08:01:13.361Z"
   },
   {
    "duration": 15,
    "start_time": "2023-02-25T08:01:29.633Z"
   },
   {
    "duration": 184,
    "start_time": "2023-02-25T08:01:31.497Z"
   },
   {
    "duration": 10,
    "start_time": "2023-02-25T08:03:06.490Z"
   },
   {
    "duration": 9,
    "start_time": "2023-02-25T08:03:35.236Z"
   },
   {
    "duration": 18,
    "start_time": "2023-02-25T08:03:41.493Z"
   },
   {
    "duration": 8,
    "start_time": "2023-02-25T08:03:41.532Z"
   },
   {
    "duration": 6,
    "start_time": "2023-02-25T08:05:16.990Z"
   },
   {
    "duration": 11,
    "start_time": "2023-02-25T08:05:24.116Z"
   },
   {
    "duration": 9,
    "start_time": "2023-02-25T08:06:02.918Z"
   },
   {
    "duration": 4,
    "start_time": "2023-02-25T08:06:16.660Z"
   },
   {
    "duration": 5,
    "start_time": "2023-02-25T08:06:42.477Z"
   },
   {
    "duration": 12,
    "start_time": "2023-02-25T08:06:51.420Z"
   },
   {
    "duration": 178,
    "start_time": "2023-02-25T08:07:47.133Z"
   },
   {
    "duration": 1179,
    "start_time": "2023-02-25T08:08:52.876Z"
   },
   {
    "duration": 165,
    "start_time": "2023-02-25T08:10:54.148Z"
   },
   {
    "duration": 171,
    "start_time": "2023-02-25T08:12:02.530Z"
   },
   {
    "duration": 187,
    "start_time": "2023-02-25T08:12:32.406Z"
   },
   {
    "duration": 180,
    "start_time": "2023-02-25T08:13:37.108Z"
   },
   {
    "duration": 17,
    "start_time": "2023-02-25T08:16:45.263Z"
   },
   {
    "duration": 10,
    "start_time": "2023-02-25T08:16:46.218Z"
   },
   {
    "duration": 7,
    "start_time": "2023-02-25T08:16:48.999Z"
   },
   {
    "duration": 11,
    "start_time": "2023-02-25T08:16:49.696Z"
   },
   {
    "duration": 247,
    "start_time": "2023-02-25T08:16:52.714Z"
   },
   {
    "duration": 152,
    "start_time": "2023-02-25T08:27:05.166Z"
   },
   {
    "duration": 254,
    "start_time": "2023-02-25T08:27:21.436Z"
   },
   {
    "duration": 6,
    "start_time": "2023-02-25T08:34:30.812Z"
   },
   {
    "duration": 13,
    "start_time": "2023-02-25T08:34:42.611Z"
   },
   {
    "duration": 183,
    "start_time": "2023-02-25T08:36:21.810Z"
   },
   {
    "duration": 5,
    "start_time": "2023-02-25T08:52:43.374Z"
   },
   {
    "duration": 151,
    "start_time": "2023-02-25T08:53:55.597Z"
   },
   {
    "duration": 71,
    "start_time": "2023-02-25T08:54:47.414Z"
   },
   {
    "duration": 189,
    "start_time": "2023-02-25T08:55:17.350Z"
   },
   {
    "duration": 138,
    "start_time": "2023-02-25T08:56:15.284Z"
   },
   {
    "duration": 196,
    "start_time": "2023-02-25T08:57:50.359Z"
   },
   {
    "duration": 13,
    "start_time": "2023-02-25T09:01:52.318Z"
   },
   {
    "duration": 15,
    "start_time": "2023-02-25T09:03:12.639Z"
   },
   {
    "duration": 19,
    "start_time": "2023-02-25T09:03:54.004Z"
   },
   {
    "duration": 16,
    "start_time": "2023-02-25T09:05:04.778Z"
   },
   {
    "duration": 627,
    "start_time": "2023-02-25T09:05:28.214Z"
   },
   {
    "duration": 658,
    "start_time": "2023-02-25T09:05:37.597Z"
   },
   {
    "duration": 569,
    "start_time": "2023-02-25T09:06:19.455Z"
   },
   {
    "duration": 4,
    "start_time": "2023-02-25T09:07:20.137Z"
   },
   {
    "duration": 661,
    "start_time": "2023-02-25T09:07:33.984Z"
   },
   {
    "duration": 5,
    "start_time": "2023-02-25T10:12:24.971Z"
   },
   {
    "duration": 51,
    "start_time": "2023-02-25T10:12:42.339Z"
   },
   {
    "duration": 39,
    "start_time": "2023-02-25T10:15:21.767Z"
   },
   {
    "duration": 5,
    "start_time": "2023-02-25T10:15:27.363Z"
   },
   {
    "duration": 4,
    "start_time": "2023-02-25T10:15:53.839Z"
   },
   {
    "duration": 35,
    "start_time": "2023-02-25T10:16:37.064Z"
   },
   {
    "duration": 4,
    "start_time": "2023-02-25T10:16:46.186Z"
   },
   {
    "duration": 38,
    "start_time": "2023-02-25T10:16:49.887Z"
   },
   {
    "duration": 5,
    "start_time": "2023-02-25T10:17:05.992Z"
   },
   {
    "duration": 5,
    "start_time": "2023-02-25T10:17:41.798Z"
   },
   {
    "duration": 43,
    "start_time": "2023-02-25T10:17:45.267Z"
   },
   {
    "duration": 5,
    "start_time": "2023-02-25T10:17:57.699Z"
   },
   {
    "duration": 47,
    "start_time": "2023-02-25T10:17:59.411Z"
   },
   {
    "duration": 5,
    "start_time": "2023-02-25T10:19:10.069Z"
   },
   {
    "duration": 7,
    "start_time": "2023-02-25T10:31:00.233Z"
   },
   {
    "duration": 5,
    "start_time": "2023-02-25T10:32:24.234Z"
   },
   {
    "duration": 7,
    "start_time": "2023-02-25T10:32:25.269Z"
   },
   {
    "duration": 174,
    "start_time": "2023-02-25T10:34:37.019Z"
   },
   {
    "duration": 200,
    "start_time": "2023-02-25T10:37:26.558Z"
   },
   {
    "duration": 218,
    "start_time": "2023-02-25T10:38:21.561Z"
   },
   {
    "duration": 194,
    "start_time": "2023-02-25T10:46:28.231Z"
   },
   {
    "duration": 210,
    "start_time": "2023-02-25T11:01:10.629Z"
   },
   {
    "duration": 4,
    "start_time": "2023-02-25T11:09:38.827Z"
   },
   {
    "duration": 7,
    "start_time": "2023-02-25T11:10:26.741Z"
   },
   {
    "duration": 7,
    "start_time": "2023-02-25T11:11:16.715Z"
   },
   {
    "duration": 7,
    "start_time": "2023-02-25T11:15:23.849Z"
   },
   {
    "duration": 566,
    "start_time": "2023-02-25T11:30:58.196Z"
   },
   {
    "duration": 884,
    "start_time": "2023-02-25T11:36:42.894Z"
   },
   {
    "duration": 21,
    "start_time": "2023-02-25T11:40:02.805Z"
   },
   {
    "duration": 27,
    "start_time": "2023-02-25T11:43:25.063Z"
   },
   {
    "duration": 24,
    "start_time": "2023-02-25T11:50:41.423Z"
   },
   {
    "duration": 30,
    "start_time": "2023-02-25T11:51:21.963Z"
   },
   {
    "duration": 56,
    "start_time": "2023-02-25T12:02:50.519Z"
   },
   {
    "duration": 6,
    "start_time": "2023-02-25T12:03:11.905Z"
   },
   {
    "duration": 39,
    "start_time": "2023-02-25T12:03:11.966Z"
   },
   {
    "duration": 88,
    "start_time": "2023-02-25T12:03:14.886Z"
   },
   {
    "duration": 48,
    "start_time": "2023-02-25T12:03:24.229Z"
   },
   {
    "duration": 7,
    "start_time": "2023-02-25T12:04:03.466Z"
   },
   {
    "duration": 9,
    "start_time": "2023-02-25T12:06:06.617Z"
   },
   {
    "duration": 12,
    "start_time": "2023-02-25T12:06:50.963Z"
   },
   {
    "duration": 14,
    "start_time": "2023-02-25T12:07:43.317Z"
   },
   {
    "duration": 17,
    "start_time": "2023-02-25T12:08:39.909Z"
   },
   {
    "duration": 12,
    "start_time": "2023-02-25T12:09:18.472Z"
   },
   {
    "duration": 9,
    "start_time": "2023-02-25T12:10:06.450Z"
   },
   {
    "duration": 9,
    "start_time": "2023-02-25T12:10:22.871Z"
   },
   {
    "duration": 7,
    "start_time": "2023-02-25T12:11:06.751Z"
   },
   {
    "duration": 9,
    "start_time": "2023-02-25T12:11:23.801Z"
   },
   {
    "duration": 5,
    "start_time": "2023-02-25T12:19:13.981Z"
   },
   {
    "duration": 44,
    "start_time": "2023-02-25T12:19:14.021Z"
   },
   {
    "duration": 5,
    "start_time": "2023-02-25T12:19:31.647Z"
   },
   {
    "duration": 49,
    "start_time": "2023-02-25T12:19:33.047Z"
   },
   {
    "duration": 288,
    "start_time": "2023-02-25T12:24:13.117Z"
   },
   {
    "duration": 44,
    "start_time": "2023-02-26T04:57:40.534Z"
   },
   {
    "duration": 7,
    "start_time": "2023-02-26T04:57:49.723Z"
   },
   {
    "duration": 1146,
    "start_time": "2023-02-26T04:57:56.865Z"
   },
   {
    "duration": 210,
    "start_time": "2023-02-26T04:57:58.013Z"
   },
   {
    "duration": 102,
    "start_time": "2023-02-26T04:57:58.224Z"
   },
   {
    "duration": 20,
    "start_time": "2023-02-26T04:57:58.328Z"
   },
   {
    "duration": 4,
    "start_time": "2023-02-26T04:57:58.350Z"
   },
   {
    "duration": 10,
    "start_time": "2023-02-26T04:57:58.355Z"
   },
   {
    "duration": 13,
    "start_time": "2023-02-26T04:57:58.367Z"
   },
   {
    "duration": 6,
    "start_time": "2023-02-26T04:57:59.129Z"
   },
   {
    "duration": 12,
    "start_time": "2023-02-26T04:57:59.880Z"
   },
   {
    "duration": 14,
    "start_time": "2023-02-26T04:58:00.251Z"
   },
   {
    "duration": 5,
    "start_time": "2023-02-26T04:58:01.961Z"
   },
   {
    "duration": 11,
    "start_time": "2023-02-26T04:58:02.377Z"
   },
   {
    "duration": 15,
    "start_time": "2023-02-26T04:58:02.573Z"
   },
   {
    "duration": 5,
    "start_time": "2023-02-26T04:58:02.728Z"
   },
   {
    "duration": 7,
    "start_time": "2023-02-26T04:58:03.328Z"
   },
   {
    "duration": 14,
    "start_time": "2023-02-26T04:58:03.984Z"
   },
   {
    "duration": 23,
    "start_time": "2023-02-26T04:58:04.579Z"
   },
   {
    "duration": 18,
    "start_time": "2023-02-26T04:58:05.393Z"
   },
   {
    "duration": 5,
    "start_time": "2023-02-26T04:58:06.313Z"
   },
   {
    "duration": 18,
    "start_time": "2023-02-26T04:58:08.651Z"
   },
   {
    "duration": 25,
    "start_time": "2023-02-26T04:58:08.957Z"
   },
   {
    "duration": 26,
    "start_time": "2023-02-26T04:58:09.961Z"
   },
   {
    "duration": 16,
    "start_time": "2023-02-26T04:58:10.434Z"
   },
   {
    "duration": 4,
    "start_time": "2023-02-26T04:58:11.786Z"
   },
   {
    "duration": 7,
    "start_time": "2023-02-26T04:58:12.154Z"
   },
   {
    "duration": 11,
    "start_time": "2023-02-26T04:58:12.993Z"
   },
   {
    "duration": 5,
    "start_time": "2023-02-26T04:58:14.519Z"
   },
   {
    "duration": 5,
    "start_time": "2023-02-26T04:58:14.851Z"
   },
   {
    "duration": 6,
    "start_time": "2023-02-26T04:58:16.496Z"
   },
   {
    "duration": 8,
    "start_time": "2023-02-26T04:58:16.848Z"
   },
   {
    "duration": 25,
    "start_time": "2023-02-26T04:58:18.820Z"
   },
   {
    "duration": 25,
    "start_time": "2023-02-26T04:58:20.513Z"
   },
   {
    "duration": 23,
    "start_time": "2023-02-26T04:58:21.866Z"
   },
   {
    "duration": 3,
    "start_time": "2023-02-26T04:58:23.561Z"
   },
   {
    "duration": 122,
    "start_time": "2023-02-26T04:58:24.057Z"
   },
   {
    "duration": 26,
    "start_time": "2023-02-26T04:58:24.505Z"
   },
   {
    "duration": 4,
    "start_time": "2023-02-26T04:58:27.128Z"
   },
   {
    "duration": 16,
    "start_time": "2023-02-26T04:58:28.154Z"
   },
   {
    "duration": 26,
    "start_time": "2023-02-26T04:58:30.987Z"
   },
   {
    "duration": 16,
    "start_time": "2023-02-26T04:58:31.675Z"
   },
   {
    "duration": 34,
    "start_time": "2023-02-26T04:58:33.666Z"
   },
   {
    "duration": 9,
    "start_time": "2023-02-26T04:58:35.001Z"
   },
   {
    "duration": 10,
    "start_time": "2023-02-26T04:58:35.266Z"
   },
   {
    "duration": 153,
    "start_time": "2023-02-26T04:58:35.570Z"
   },
   {
    "duration": 15,
    "start_time": "2023-02-26T04:58:36.801Z"
   },
   {
    "duration": 7,
    "start_time": "2023-02-26T04:58:37.209Z"
   },
   {
    "duration": 5,
    "start_time": "2023-02-26T04:58:37.545Z"
   },
   {
    "duration": 8,
    "start_time": "2023-02-26T04:58:37.881Z"
   },
   {
    "duration": 150,
    "start_time": "2023-02-26T04:58:38.177Z"
   },
   {
    "duration": 120,
    "start_time": "2023-02-26T04:58:38.817Z"
   },
   {
    "duration": 10,
    "start_time": "2023-02-26T04:58:40.313Z"
   },
   {
    "duration": 144,
    "start_time": "2023-02-26T04:58:40.883Z"
   },
   {
    "duration": 11,
    "start_time": "2023-02-26T04:58:43.348Z"
   },
   {
    "duration": 16,
    "start_time": "2023-02-26T04:58:44.481Z"
   },
   {
    "duration": 492,
    "start_time": "2023-02-26T04:58:45.201Z"
   },
   {
    "duration": 4,
    "start_time": "2023-02-26T04:58:47.537Z"
   },
   {
    "duration": 37,
    "start_time": "2023-02-26T04:58:47.897Z"
   },
   {
    "duration": 4,
    "start_time": "2023-02-26T04:58:49.569Z"
   },
   {
    "duration": 7,
    "start_time": "2023-02-26T04:58:50.123Z"
   },
   {
    "duration": 8,
    "start_time": "2023-02-26T04:58:50.819Z"
   },
   {
    "duration": 321,
    "start_time": "2023-02-26T04:58:51.481Z"
   },
   {
    "duration": 6,
    "start_time": "2023-02-26T04:58:53.522Z"
   },
   {
    "duration": 6,
    "start_time": "2023-02-26T04:58:54.145Z"
   },
   {
    "duration": 172,
    "start_time": "2023-02-26T04:58:56.521Z"
   },
   {
    "duration": 69,
    "start_time": "2023-02-26T04:58:58.601Z"
   },
   {
    "duration": 198,
    "start_time": "2023-02-26T04:58:59.377Z"
   },
   {
    "duration": 155,
    "start_time": "2023-02-26T04:59:08.410Z"
   },
   {
    "duration": 129,
    "start_time": "2023-02-26T04:59:35.675Z"
   },
   {
    "duration": 114,
    "start_time": "2023-02-26T05:01:01.645Z"
   },
   {
    "duration": 119,
    "start_time": "2023-02-26T05:01:13.741Z"
   },
   {
    "duration": 147,
    "start_time": "2023-02-26T05:01:26.427Z"
   },
   {
    "duration": 146,
    "start_time": "2023-02-26T05:02:03.213Z"
   },
   {
    "duration": 118,
    "start_time": "2023-02-26T05:02:31.617Z"
   },
   {
    "duration": 118,
    "start_time": "2023-02-26T05:02:53.675Z"
   },
   {
    "duration": 112,
    "start_time": "2023-02-26T05:03:11.927Z"
   },
   {
    "duration": 187,
    "start_time": "2023-02-26T05:04:11.504Z"
   },
   {
    "duration": 118,
    "start_time": "2023-02-26T05:04:54.667Z"
   },
   {
    "duration": 24,
    "start_time": "2023-02-26T05:06:49.513Z"
   },
   {
    "duration": 128,
    "start_time": "2023-02-26T05:11:14.663Z"
   },
   {
    "duration": 1123,
    "start_time": "2023-02-27T06:01:38.893Z"
   },
   {
    "duration": 110,
    "start_time": "2023-02-27T06:01:40.019Z"
   },
   {
    "duration": 48,
    "start_time": "2023-02-27T06:01:40.132Z"
   },
   {
    "duration": 27,
    "start_time": "2023-02-27T06:01:40.183Z"
   },
   {
    "duration": 6,
    "start_time": "2023-02-27T06:01:40.212Z"
   },
   {
    "duration": 26,
    "start_time": "2023-02-27T06:01:40.220Z"
   },
   {
    "duration": 28,
    "start_time": "2023-02-27T06:01:40.248Z"
   },
   {
    "duration": 15,
    "start_time": "2023-02-27T06:01:40.278Z"
   },
   {
    "duration": 21,
    "start_time": "2023-02-27T06:01:40.295Z"
   },
   {
    "duration": 18,
    "start_time": "2023-02-27T06:01:40.320Z"
   },
   {
    "duration": 9,
    "start_time": "2023-02-27T06:01:40.339Z"
   },
   {
    "duration": 23,
    "start_time": "2023-02-27T06:01:40.350Z"
   },
   {
    "duration": 24,
    "start_time": "2023-02-27T06:01:40.376Z"
   },
   {
    "duration": 5,
    "start_time": "2023-02-27T06:01:40.401Z"
   },
   {
    "duration": 17,
    "start_time": "2023-02-27T06:01:40.408Z"
   },
   {
    "duration": 21,
    "start_time": "2023-02-27T06:01:40.428Z"
   },
   {
    "duration": 48,
    "start_time": "2023-02-27T06:01:40.452Z"
   },
   {
    "duration": 21,
    "start_time": "2023-02-27T06:01:40.501Z"
   },
   {
    "duration": 6,
    "start_time": "2023-02-27T06:01:40.523Z"
   },
   {
    "duration": 26,
    "start_time": "2023-02-27T06:01:40.531Z"
   },
   {
    "duration": 41,
    "start_time": "2023-02-27T06:01:40.558Z"
   },
   {
    "duration": 26,
    "start_time": "2023-02-27T06:01:40.601Z"
   },
   {
    "duration": 17,
    "start_time": "2023-02-27T06:01:40.630Z"
   },
   {
    "duration": 40,
    "start_time": "2023-02-27T06:01:40.649Z"
   },
   {
    "duration": 21,
    "start_time": "2023-02-27T06:01:40.691Z"
   },
   {
    "duration": 17,
    "start_time": "2023-02-27T06:01:40.714Z"
   },
   {
    "duration": 8,
    "start_time": "2023-02-27T06:01:40.733Z"
   },
   {
    "duration": 13,
    "start_time": "2023-02-27T06:01:40.746Z"
   },
   {
    "duration": 7,
    "start_time": "2023-02-27T06:01:40.761Z"
   },
   {
    "duration": 21,
    "start_time": "2023-02-27T06:01:40.770Z"
   },
   {
    "duration": 29,
    "start_time": "2023-02-27T06:01:40.793Z"
   },
   {
    "duration": 30,
    "start_time": "2023-02-27T06:01:40.824Z"
   },
   {
    "duration": 38,
    "start_time": "2023-02-27T06:01:40.855Z"
   },
   {
    "duration": 4,
    "start_time": "2023-02-27T06:01:40.894Z"
   },
   {
    "duration": 132,
    "start_time": "2023-02-27T06:01:40.900Z"
   },
   {
    "duration": 30,
    "start_time": "2023-02-27T06:01:41.034Z"
   },
   {
    "duration": 5,
    "start_time": "2023-02-27T06:01:41.066Z"
   },
   {
    "duration": 16,
    "start_time": "2023-02-27T06:01:41.092Z"
   },
   {
    "duration": 29,
    "start_time": "2023-02-27T06:01:41.109Z"
   },
   {
    "duration": 17,
    "start_time": "2023-02-27T06:01:41.140Z"
   },
   {
    "duration": 61,
    "start_time": "2023-02-27T06:01:41.159Z"
   },
   {
    "duration": 9,
    "start_time": "2023-02-27T06:01:41.222Z"
   },
   {
    "duration": 17,
    "start_time": "2023-02-27T06:01:41.233Z"
   },
   {
    "duration": 189,
    "start_time": "2023-02-27T06:01:41.252Z"
   },
   {
    "duration": 17,
    "start_time": "2023-02-27T06:01:41.443Z"
   },
   {
    "duration": 6,
    "start_time": "2023-02-27T06:01:41.463Z"
   },
   {
    "duration": 21,
    "start_time": "2023-02-27T06:01:41.471Z"
   },
   {
    "duration": 30,
    "start_time": "2023-02-27T06:01:41.494Z"
   },
   {
    "duration": 226,
    "start_time": "2023-02-27T06:01:41.526Z"
   },
   {
    "duration": 266,
    "start_time": "2023-02-27T06:01:41.754Z"
   },
   {
    "duration": 15,
    "start_time": "2023-02-27T06:01:42.022Z"
   },
   {
    "duration": 385,
    "start_time": "2023-02-27T06:01:42.038Z"
   },
   {
    "duration": 12,
    "start_time": "2023-02-27T06:01:42.425Z"
   },
   {
    "duration": 17,
    "start_time": "2023-02-27T06:01:42.491Z"
   },
   {
    "duration": 997,
    "start_time": "2023-02-27T06:01:42.509Z"
   },
   {
    "duration": 6,
    "start_time": "2023-02-27T06:01:43.508Z"
   },
   {
    "duration": 103,
    "start_time": "2023-02-27T06:01:43.516Z"
   },
   {
    "duration": 6,
    "start_time": "2023-02-27T06:01:43.621Z"
   },
   {
    "duration": 63,
    "start_time": "2023-02-27T06:01:43.629Z"
   },
   {
    "duration": 8,
    "start_time": "2023-02-27T06:01:43.695Z"
   },
   {
    "duration": 439,
    "start_time": "2023-02-27T06:01:43.705Z"
   },
   {
    "duration": 7,
    "start_time": "2023-02-27T06:01:44.146Z"
   },
   {
    "duration": 23,
    "start_time": "2023-02-27T06:01:44.154Z"
   },
   {
    "duration": 228,
    "start_time": "2023-02-27T06:01:44.179Z"
   },
   {
    "duration": 175,
    "start_time": "2023-02-27T06:01:44.409Z"
   },
   {
    "duration": 146,
    "start_time": "2023-02-27T06:01:44.591Z"
   },
   {
    "duration": 26,
    "start_time": "2023-02-27T06:01:44.739Z"
   },
   {
    "duration": 21,
    "start_time": "2023-02-27T06:24:34.700Z"
   },
   {
    "duration": 13,
    "start_time": "2023-02-27T06:25:17.395Z"
   },
   {
    "duration": 1250,
    "start_time": "2023-02-27T06:32:12.776Z"
   },
   {
    "duration": 130,
    "start_time": "2023-02-27T06:32:14.028Z"
   },
   {
    "duration": 43,
    "start_time": "2023-02-27T06:32:14.192Z"
   },
   {
    "duration": 20,
    "start_time": "2023-02-27T06:32:14.237Z"
   },
   {
    "duration": 4,
    "start_time": "2023-02-27T06:32:14.259Z"
   },
   {
    "duration": 13,
    "start_time": "2023-02-27T06:32:14.265Z"
   },
   {
    "duration": 17,
    "start_time": "2023-02-27T06:32:14.279Z"
   },
   {
    "duration": 6,
    "start_time": "2023-02-27T06:32:14.297Z"
   },
   {
    "duration": 11,
    "start_time": "2023-02-27T06:32:14.305Z"
   },
   {
    "duration": 13,
    "start_time": "2023-02-27T06:32:14.318Z"
   },
   {
    "duration": 4,
    "start_time": "2023-02-27T06:32:14.333Z"
   },
   {
    "duration": 11,
    "start_time": "2023-02-27T06:32:14.338Z"
   },
   {
    "duration": 45,
    "start_time": "2023-02-27T06:32:14.350Z"
   },
   {
    "duration": 7,
    "start_time": "2023-02-27T06:32:14.397Z"
   },
   {
    "duration": 8,
    "start_time": "2023-02-27T06:32:14.406Z"
   },
   {
    "duration": 12,
    "start_time": "2023-02-27T06:32:14.416Z"
   },
   {
    "duration": 22,
    "start_time": "2023-02-27T06:32:14.430Z"
   },
   {
    "duration": 43,
    "start_time": "2023-02-27T06:32:14.454Z"
   },
   {
    "duration": 4,
    "start_time": "2023-02-27T06:32:14.499Z"
   },
   {
    "duration": 23,
    "start_time": "2023-02-27T06:32:14.504Z"
   },
   {
    "duration": 27,
    "start_time": "2023-02-27T06:32:14.528Z"
   },
   {
    "duration": 50,
    "start_time": "2023-02-27T06:32:14.556Z"
   },
   {
    "duration": 16,
    "start_time": "2023-02-27T06:32:14.607Z"
   },
   {
    "duration": 30,
    "start_time": "2023-02-27T06:32:14.624Z"
   },
   {
    "duration": 23,
    "start_time": "2023-02-27T06:32:14.655Z"
   },
   {
    "duration": 26,
    "start_time": "2023-02-27T06:32:14.680Z"
   },
   {
    "duration": 3,
    "start_time": "2023-02-27T06:32:14.708Z"
   },
   {
    "duration": 3,
    "start_time": "2023-02-27T06:32:14.715Z"
   },
   {
    "duration": 10,
    "start_time": "2023-02-27T06:32:14.720Z"
   },
   {
    "duration": 9,
    "start_time": "2023-02-27T06:32:14.732Z"
   },
   {
    "duration": 26,
    "start_time": "2023-02-27T06:32:14.742Z"
   },
   {
    "duration": 43,
    "start_time": "2023-02-27T06:32:14.770Z"
   },
   {
    "duration": 25,
    "start_time": "2023-02-27T06:32:14.815Z"
   },
   {
    "duration": 14,
    "start_time": "2023-02-27T06:32:14.842Z"
   },
   {
    "duration": 146,
    "start_time": "2023-02-27T06:32:14.858Z"
   },
   {
    "duration": 29,
    "start_time": "2023-02-27T06:32:15.006Z"
   },
   {
    "duration": 14,
    "start_time": "2023-02-27T06:32:15.037Z"
   },
   {
    "duration": 17,
    "start_time": "2023-02-27T06:32:15.052Z"
   },
   {
    "duration": 40,
    "start_time": "2023-02-27T06:32:15.071Z"
   },
   {
    "duration": 17,
    "start_time": "2023-02-27T06:32:15.112Z"
   },
   {
    "duration": 37,
    "start_time": "2023-02-27T06:32:15.130Z"
   },
   {
    "duration": 25,
    "start_time": "2023-02-27T06:32:15.168Z"
   },
   {
    "duration": 13,
    "start_time": "2023-02-27T06:32:15.195Z"
   },
   {
    "duration": 191,
    "start_time": "2023-02-27T06:32:15.210Z"
   },
   {
    "duration": 14,
    "start_time": "2023-02-27T06:32:15.403Z"
   },
   {
    "duration": 7,
    "start_time": "2023-02-27T06:32:15.419Z"
   },
   {
    "duration": 10,
    "start_time": "2023-02-27T06:32:15.428Z"
   },
   {
    "duration": 11,
    "start_time": "2023-02-27T06:32:15.440Z"
   },
   {
    "duration": 207,
    "start_time": "2023-02-27T06:32:15.453Z"
   },
   {
    "duration": 139,
    "start_time": "2023-02-27T06:32:15.661Z"
   },
   {
    "duration": 10,
    "start_time": "2023-02-27T06:32:15.802Z"
   },
   {
    "duration": 190,
    "start_time": "2023-02-27T06:32:15.814Z"
   },
   {
    "duration": 16,
    "start_time": "2023-02-27T06:32:16.006Z"
   },
   {
    "duration": 21,
    "start_time": "2023-02-27T06:32:16.024Z"
   },
   {
    "duration": 582,
    "start_time": "2023-02-27T06:32:16.047Z"
   },
   {
    "duration": 5,
    "start_time": "2023-02-27T06:32:16.630Z"
   },
   {
    "duration": 40,
    "start_time": "2023-02-27T06:32:16.636Z"
   },
   {
    "duration": 18,
    "start_time": "2023-02-27T06:32:16.677Z"
   },
   {
    "duration": 10,
    "start_time": "2023-02-27T06:32:16.696Z"
   },
   {
    "duration": 8,
    "start_time": "2023-02-27T06:32:16.707Z"
   },
   {
    "duration": 347,
    "start_time": "2023-02-27T06:32:16.717Z"
   },
   {
    "duration": 6,
    "start_time": "2023-02-27T06:32:17.066Z"
   },
   {
    "duration": 18,
    "start_time": "2023-02-27T06:32:17.074Z"
   },
   {
    "duration": 202,
    "start_time": "2023-02-27T06:32:17.094Z"
   },
   {
    "duration": 136,
    "start_time": "2023-02-27T06:32:17.297Z"
   },
   {
    "duration": 141,
    "start_time": "2023-02-27T06:32:17.435Z"
   },
   {
    "duration": 35,
    "start_time": "2023-02-27T06:32:17.578Z"
   },
   {
    "duration": 1434,
    "start_time": "2023-02-27T06:35:03.769Z"
   },
   {
    "duration": 103,
    "start_time": "2023-02-27T06:35:05.205Z"
   },
   {
    "duration": 43,
    "start_time": "2023-02-27T06:35:05.310Z"
   },
   {
    "duration": 22,
    "start_time": "2023-02-27T06:35:05.355Z"
   },
   {
    "duration": 10,
    "start_time": "2023-02-27T06:35:05.379Z"
   },
   {
    "duration": 17,
    "start_time": "2023-02-27T06:35:05.391Z"
   },
   {
    "duration": 33,
    "start_time": "2023-02-27T06:35:05.410Z"
   },
   {
    "duration": 37,
    "start_time": "2023-02-27T06:35:05.445Z"
   },
   {
    "duration": 19,
    "start_time": "2023-02-27T06:35:05.483Z"
   },
   {
    "duration": 37,
    "start_time": "2023-02-27T06:35:05.505Z"
   },
   {
    "duration": 6,
    "start_time": "2023-02-27T06:35:05.543Z"
   },
   {
    "duration": 15,
    "start_time": "2023-02-27T06:35:05.550Z"
   },
   {
    "duration": 21,
    "start_time": "2023-02-27T06:35:05.567Z"
   },
   {
    "duration": 9,
    "start_time": "2023-02-27T06:35:05.592Z"
   },
   {
    "duration": 34,
    "start_time": "2023-02-27T06:35:05.603Z"
   },
   {
    "duration": 25,
    "start_time": "2023-02-27T06:35:05.638Z"
   },
   {
    "duration": 28,
    "start_time": "2023-02-27T06:35:05.664Z"
   },
   {
    "duration": 37,
    "start_time": "2023-02-27T06:35:05.694Z"
   },
   {
    "duration": 18,
    "start_time": "2023-02-27T06:35:05.733Z"
   },
   {
    "duration": 24,
    "start_time": "2023-02-27T06:35:05.753Z"
   },
   {
    "duration": 38,
    "start_time": "2023-02-27T06:35:05.780Z"
   },
   {
    "duration": 29,
    "start_time": "2023-02-27T06:35:05.820Z"
   },
   {
    "duration": 17,
    "start_time": "2023-02-27T06:35:05.851Z"
   },
   {
    "duration": 6,
    "start_time": "2023-02-27T06:35:05.894Z"
   },
   {
    "duration": 83,
    "start_time": "2023-02-27T06:35:05.901Z"
   },
   {
    "duration": 35,
    "start_time": "2023-02-27T06:35:05.986Z"
   },
   {
    "duration": 33,
    "start_time": "2023-02-27T06:35:06.024Z"
   },
   {
    "duration": 65,
    "start_time": "2023-02-27T06:35:06.062Z"
   },
   {
    "duration": 16,
    "start_time": "2023-02-27T06:35:06.128Z"
   },
   {
    "duration": 37,
    "start_time": "2023-02-27T06:35:06.147Z"
   },
   {
    "duration": 37,
    "start_time": "2023-02-27T06:35:06.186Z"
   },
   {
    "duration": 33,
    "start_time": "2023-02-27T06:35:06.224Z"
   },
   {
    "duration": 34,
    "start_time": "2023-02-27T06:35:06.258Z"
   },
   {
    "duration": 24,
    "start_time": "2023-02-27T06:35:06.293Z"
   },
   {
    "duration": 148,
    "start_time": "2023-02-27T06:35:06.318Z"
   },
   {
    "duration": 31,
    "start_time": "2023-02-27T06:35:06.468Z"
   },
   {
    "duration": 4,
    "start_time": "2023-02-27T06:35:06.501Z"
   },
   {
    "duration": 26,
    "start_time": "2023-02-27T06:35:06.507Z"
   },
   {
    "duration": 29,
    "start_time": "2023-02-27T06:35:06.535Z"
   },
   {
    "duration": 29,
    "start_time": "2023-02-27T06:35:06.566Z"
   },
   {
    "duration": 44,
    "start_time": "2023-02-27T06:35:06.596Z"
   },
   {
    "duration": 9,
    "start_time": "2023-02-27T06:35:06.642Z"
   },
   {
    "duration": 59,
    "start_time": "2023-02-27T06:35:06.652Z"
   },
   {
    "duration": 208,
    "start_time": "2023-02-27T06:35:06.713Z"
   },
   {
    "duration": 18,
    "start_time": "2023-02-27T06:35:06.922Z"
   },
   {
    "duration": 7,
    "start_time": "2023-02-27T06:35:06.942Z"
   },
   {
    "duration": 9,
    "start_time": "2023-02-27T06:35:06.950Z"
   },
   {
    "duration": 33,
    "start_time": "2023-02-27T06:35:06.961Z"
   },
   {
    "duration": 199,
    "start_time": "2023-02-27T06:35:06.996Z"
   },
   {
    "duration": 165,
    "start_time": "2023-02-27T06:35:07.198Z"
   },
   {
    "duration": 11,
    "start_time": "2023-02-27T06:35:07.364Z"
   },
   {
    "duration": 183,
    "start_time": "2023-02-27T06:35:07.377Z"
   },
   {
    "duration": 12,
    "start_time": "2023-02-27T06:35:07.562Z"
   },
   {
    "duration": 30,
    "start_time": "2023-02-27T06:35:07.576Z"
   },
   {
    "duration": 538,
    "start_time": "2023-02-27T06:35:07.608Z"
   },
   {
    "duration": 6,
    "start_time": "2023-02-27T06:35:08.147Z"
   },
   {
    "duration": 52,
    "start_time": "2023-02-27T06:35:08.155Z"
   },
   {
    "duration": 5,
    "start_time": "2023-02-27T06:35:08.209Z"
   },
   {
    "duration": 10,
    "start_time": "2023-02-27T06:35:08.216Z"
   },
   {
    "duration": 15,
    "start_time": "2023-02-27T06:35:08.228Z"
   },
   {
    "duration": 368,
    "start_time": "2023-02-27T06:35:08.245Z"
   },
   {
    "duration": 6,
    "start_time": "2023-02-27T06:35:08.615Z"
   },
   {
    "duration": 8,
    "start_time": "2023-02-27T06:35:08.623Z"
   },
   {
    "duration": 215,
    "start_time": "2023-02-27T06:35:08.632Z"
   },
   {
    "duration": 136,
    "start_time": "2023-02-27T06:35:08.849Z"
   },
   {
    "duration": 155,
    "start_time": "2023-02-27T06:35:08.992Z"
   },
   {
    "duration": 28,
    "start_time": "2023-02-27T06:35:09.149Z"
   },
   {
    "duration": 1214,
    "start_time": "2023-02-27T14:20:48.562Z"
   },
   {
    "duration": 291,
    "start_time": "2023-02-27T14:20:49.778Z"
   },
   {
    "duration": 94,
    "start_time": "2023-02-27T14:20:50.991Z"
   },
   {
    "duration": 21,
    "start_time": "2023-02-27T14:20:51.872Z"
   },
   {
    "duration": 5,
    "start_time": "2023-02-27T14:20:56.251Z"
   },
   {
    "duration": 8,
    "start_time": "2023-02-27T14:20:56.776Z"
   },
   {
    "duration": 14,
    "start_time": "2023-02-27T14:20:57.482Z"
   },
   {
    "duration": 7,
    "start_time": "2023-02-27T14:21:03.462Z"
   },
   {
    "duration": 11,
    "start_time": "2023-02-27T14:21:03.471Z"
   },
   {
    "duration": 13,
    "start_time": "2023-02-27T14:21:03.578Z"
   },
   {
    "duration": 449,
    "start_time": "2023-02-27T14:23:14.311Z"
   },
   {
    "duration": 8,
    "start_time": "2023-02-27T14:25:04.634Z"
   },
   {
    "duration": 8,
    "start_time": "2023-02-27T14:25:07.481Z"
   },
   {
    "duration": 8,
    "start_time": "2023-02-27T14:25:17.297Z"
   },
   {
    "duration": 6,
    "start_time": "2023-02-27T14:25:36.748Z"
   },
   {
    "duration": 3,
    "start_time": "2023-02-27T14:25:43.972Z"
   },
   {
    "duration": 3,
    "start_time": "2023-02-27T14:25:59.298Z"
   },
   {
    "duration": 4,
    "start_time": "2023-02-27T14:26:01.501Z"
   },
   {
    "duration": 4,
    "start_time": "2023-02-27T14:26:07.949Z"
   },
   {
    "duration": 7,
    "start_time": "2023-02-27T14:26:19.044Z"
   },
   {
    "duration": 4,
    "start_time": "2023-02-27T14:26:38.763Z"
   },
   {
    "duration": 5,
    "start_time": "2023-02-27T14:26:49.517Z"
   },
   {
    "duration": 2,
    "start_time": "2023-02-27T14:28:07.186Z"
   },
   {
    "duration": 85,
    "start_time": "2023-02-27T14:28:08.611Z"
   },
   {
    "duration": 44,
    "start_time": "2023-02-27T14:28:09.786Z"
   },
   {
    "duration": 20,
    "start_time": "2023-02-27T14:28:11.675Z"
   },
   {
    "duration": 4,
    "start_time": "2023-02-27T14:28:19.349Z"
   },
   {
    "duration": 8,
    "start_time": "2023-02-27T14:28:20.276Z"
   },
   {
    "duration": 13,
    "start_time": "2023-02-27T14:28:21.987Z"
   },
   {
    "duration": 6,
    "start_time": "2023-02-27T14:28:27.394Z"
   },
   {
    "duration": 12,
    "start_time": "2023-02-27T14:28:29.947Z"
   },
   {
    "duration": 13,
    "start_time": "2023-02-27T14:28:30.531Z"
   },
   {
    "duration": 5,
    "start_time": "2023-02-27T14:28:40.370Z"
   },
   {
    "duration": 2,
    "start_time": "2023-02-27T14:28:51.434Z"
   },
   {
    "duration": 364,
    "start_time": "2023-02-27T14:28:52.442Z"
   },
   {
    "duration": 5,
    "start_time": "2023-02-27T14:30:33.532Z"
   },
   {
    "duration": 3,
    "start_time": "2023-02-27T14:30:36.931Z"
   },
   {
    "duration": 7,
    "start_time": "2023-02-27T14:30:41.077Z"
   },
   {
    "duration": 4,
    "start_time": "2023-02-27T14:30:51.422Z"
   },
   {
    "duration": 84,
    "start_time": "2023-02-27T14:30:51.603Z"
   },
   {
    "duration": 38,
    "start_time": "2023-02-27T14:30:51.748Z"
   },
   {
    "duration": 21,
    "start_time": "2023-02-27T14:30:51.999Z"
   },
   {
    "duration": 4,
    "start_time": "2023-02-27T14:30:52.949Z"
   },
   {
    "duration": 8,
    "start_time": "2023-02-27T14:30:53.749Z"
   },
   {
    "duration": 14,
    "start_time": "2023-02-27T14:30:53.927Z"
   },
   {
    "duration": 6,
    "start_time": "2023-02-27T14:30:55.073Z"
   },
   {
    "duration": 13,
    "start_time": "2023-02-27T14:30:56.260Z"
   },
   {
    "duration": 15,
    "start_time": "2023-02-27T14:30:57.063Z"
   },
   {
    "duration": 4,
    "start_time": "2023-02-27T14:31:01.477Z"
   },
   {
    "duration": 2,
    "start_time": "2023-02-27T14:31:05.830Z"
   },
   {
    "duration": 4,
    "start_time": "2023-02-27T14:31:06.605Z"
   },
   {
    "duration": 4,
    "start_time": "2023-02-27T14:31:09.601Z"
   },
   {
    "duration": 5,
    "start_time": "2023-02-27T14:31:13.165Z"
   },
   {
    "duration": 5,
    "start_time": "2023-02-27T14:31:33.972Z"
   },
   {
    "duration": 5,
    "start_time": "2023-02-27T14:31:38.372Z"
   },
   {
    "duration": 3,
    "start_time": "2023-02-27T14:31:49.004Z"
   },
   {
    "duration": 84,
    "start_time": "2023-02-27T14:31:51.224Z"
   },
   {
    "duration": 46,
    "start_time": "2023-02-27T14:31:53.796Z"
   },
   {
    "duration": 21,
    "start_time": "2023-02-27T14:31:56.021Z"
   },
   {
    "duration": 4,
    "start_time": "2023-02-27T14:32:08.060Z"
   },
   {
    "duration": 8,
    "start_time": "2023-02-27T14:32:08.798Z"
   },
   {
    "duration": 15,
    "start_time": "2023-02-27T14:32:09.745Z"
   },
   {
    "duration": 6,
    "start_time": "2023-02-27T14:32:12.074Z"
   },
   {
    "duration": 12,
    "start_time": "2023-02-27T14:32:14.212Z"
   },
   {
    "duration": 16,
    "start_time": "2023-02-27T14:32:15.457Z"
   },
   {
    "duration": 4,
    "start_time": "2023-02-27T14:32:21.724Z"
   },
   {
    "duration": 3,
    "start_time": "2023-02-27T14:32:25.724Z"
   },
   {
    "duration": 8,
    "start_time": "2023-02-27T14:32:26.677Z"
   },
   {
    "duration": 5,
    "start_time": "2023-02-27T14:32:31.940Z"
   },
   {
    "duration": 4,
    "start_time": "2023-02-27T14:32:50.948Z"
   },
   {
    "duration": 7,
    "start_time": "2023-02-27T14:32:54.655Z"
   },
   {
    "duration": 3,
    "start_time": "2023-02-27T14:33:11.574Z"
   },
   {
    "duration": 85,
    "start_time": "2023-02-27T14:33:13.158Z"
   },
   {
    "duration": 52,
    "start_time": "2023-02-27T14:33:15.098Z"
   },
   {
    "duration": 19,
    "start_time": "2023-02-27T14:33:16.847Z"
   },
   {
    "duration": 4,
    "start_time": "2023-02-27T14:33:22.287Z"
   },
   {
    "duration": 8,
    "start_time": "2023-02-27T14:33:23.948Z"
   },
   {
    "duration": 14,
    "start_time": "2023-02-27T14:33:26.956Z"
   },
   {
    "duration": 7,
    "start_time": "2023-02-27T14:33:31.209Z"
   },
   {
    "duration": 11,
    "start_time": "2023-02-27T14:33:34.156Z"
   },
   {
    "duration": 14,
    "start_time": "2023-02-27T14:33:35.905Z"
   },
   {
    "duration": 5,
    "start_time": "2023-02-27T14:33:44.065Z"
   },
   {
    "duration": 2,
    "start_time": "2023-02-27T14:34:06.453Z"
   },
   {
    "duration": 5,
    "start_time": "2023-02-27T14:34:07.653Z"
   },
   {
    "duration": 5,
    "start_time": "2023-02-27T14:34:12.190Z"
   },
   {
    "duration": 4,
    "start_time": "2023-02-27T14:35:04.749Z"
   },
   {
    "duration": 7,
    "start_time": "2023-02-27T14:35:07.396Z"
   },
   {
    "duration": 4,
    "start_time": "2023-02-27T14:35:11.189Z"
   },
   {
    "duration": 3,
    "start_time": "2023-02-27T14:38:09.150Z"
   },
   {
    "duration": 6,
    "start_time": "2023-02-27T14:38:20.262Z"
   },
   {
    "duration": 25,
    "start_time": "2023-02-27T14:57:31.678Z"
   },
   {
    "duration": 28,
    "start_time": "2023-02-27T14:58:53.843Z"
   },
   {
    "duration": 13,
    "start_time": "2023-02-27T15:00:19.099Z"
   },
   {
    "duration": 13,
    "start_time": "2023-02-27T15:00:36.607Z"
   },
   {
    "duration": 8,
    "start_time": "2023-02-27T15:00:44.771Z"
   },
   {
    "duration": 38,
    "start_time": "2023-02-27T15:01:25.600Z"
   },
   {
    "duration": 25,
    "start_time": "2023-02-27T15:01:56.111Z"
   },
   {
    "duration": 22,
    "start_time": "2023-02-27T15:02:36.554Z"
   },
   {
    "duration": 26,
    "start_time": "2023-02-27T15:03:45.752Z"
   },
   {
    "duration": 2,
    "start_time": "2023-02-27T15:03:57.652Z"
   },
   {
    "duration": 88,
    "start_time": "2023-02-27T15:03:57.969Z"
   },
   {
    "duration": 36,
    "start_time": "2023-02-27T15:03:58.408Z"
   },
   {
    "duration": 22,
    "start_time": "2023-02-27T15:03:59.072Z"
   },
   {
    "duration": 4,
    "start_time": "2023-02-27T15:04:00.665Z"
   },
   {
    "duration": 7,
    "start_time": "2023-02-27T15:04:01.170Z"
   },
   {
    "duration": 14,
    "start_time": "2023-02-27T15:04:01.657Z"
   },
   {
    "duration": 6,
    "start_time": "2023-02-27T15:04:03.058Z"
   },
   {
    "duration": 14,
    "start_time": "2023-02-27T15:04:04.352Z"
   },
   {
    "duration": 15,
    "start_time": "2023-02-27T15:04:04.935Z"
   },
   {
    "duration": 5,
    "start_time": "2023-02-27T15:04:09.319Z"
   },
   {
    "duration": 2,
    "start_time": "2023-02-27T15:04:13.072Z"
   },
   {
    "duration": 7,
    "start_time": "2023-02-27T15:04:13.834Z"
   },
   {
    "duration": 5,
    "start_time": "2023-02-27T15:04:15.816Z"
   },
   {
    "duration": 7,
    "start_time": "2023-02-27T15:04:18.747Z"
   },
   {
    "duration": 14,
    "start_time": "2023-02-27T15:04:20.048Z"
   },
   {
    "duration": 23,
    "start_time": "2023-02-27T15:04:22.860Z"
   },
   {
    "duration": 17,
    "start_time": "2023-02-27T15:04:24.149Z"
   },
   {
    "duration": 4,
    "start_time": "2023-02-27T15:04:24.993Z"
   },
   {
    "duration": 20,
    "start_time": "2023-02-27T15:04:28.264Z"
   },
   {
    "duration": 29,
    "start_time": "2023-02-27T15:04:29.271Z"
   },
   {
    "duration": 25,
    "start_time": "2023-02-27T15:04:31.472Z"
   },
   {
    "duration": 17,
    "start_time": "2023-02-27T15:04:32.096Z"
   },
   {
    "duration": 5,
    "start_time": "2023-02-27T15:04:34.695Z"
   },
   {
    "duration": 7,
    "start_time": "2023-02-27T15:04:35.432Z"
   },
   {
    "duration": 11,
    "start_time": "2023-02-27T15:04:37.113Z"
   },
   {
    "duration": 4,
    "start_time": "2023-02-27T15:04:38.584Z"
   },
   {
    "duration": 5,
    "start_time": "2023-02-27T15:04:39.314Z"
   },
   {
    "duration": 4,
    "start_time": "2023-02-27T15:04:46.128Z"
   },
   {
    "duration": 6,
    "start_time": "2023-02-27T15:04:46.953Z"
   },
   {
    "duration": 24,
    "start_time": "2023-02-27T15:04:51.576Z"
   },
   {
    "duration": 26,
    "start_time": "2023-02-27T15:04:52.644Z"
   },
   {
    "duration": 25,
    "start_time": "2023-02-27T15:05:00.946Z"
   },
   {
    "duration": 24,
    "start_time": "2023-02-27T15:05:04.288Z"
   },
   {
    "duration": 23,
    "start_time": "2023-02-27T15:06:23.881Z"
   },
   {
    "duration": 3,
    "start_time": "2023-02-27T15:06:49.746Z"
   },
   {
    "duration": 119,
    "start_time": "2023-02-27T15:07:05.969Z"
   },
   {
    "duration": 26,
    "start_time": "2023-02-27T15:07:07.857Z"
   },
   {
    "duration": 24,
    "start_time": "2023-02-27T15:07:38.913Z"
   },
   {
    "duration": 6,
    "start_time": "2023-02-27T15:07:47.426Z"
   },
   {
    "duration": 6,
    "start_time": "2023-02-27T15:07:51.385Z"
   },
   {
    "duration": 7,
    "start_time": "2023-02-27T15:08:46.690Z"
   },
   {
    "duration": 6,
    "start_time": "2023-02-27T15:12:58.891Z"
   },
   {
    "duration": 9,
    "start_time": "2023-02-27T15:28:36.897Z"
   },
   {
    "duration": 15,
    "start_time": "2023-02-27T15:28:40.520Z"
   },
   {
    "duration": 2,
    "start_time": "2023-02-27T15:28:46.113Z"
   },
   {
    "duration": 86,
    "start_time": "2023-02-27T15:28:46.313Z"
   },
   {
    "duration": 36,
    "start_time": "2023-02-27T15:28:46.497Z"
   },
   {
    "duration": 19,
    "start_time": "2023-02-27T15:28:46.669Z"
   },
   {
    "duration": 4,
    "start_time": "2023-02-27T15:28:47.200Z"
   },
   {
    "duration": 7,
    "start_time": "2023-02-27T15:28:47.536Z"
   },
   {
    "duration": 13,
    "start_time": "2023-02-27T15:28:47.825Z"
   },
   {
    "duration": 5,
    "start_time": "2023-02-27T15:28:48.200Z"
   },
   {
    "duration": 11,
    "start_time": "2023-02-27T15:28:48.591Z"
   },
   {
    "duration": 15,
    "start_time": "2023-02-27T15:28:48.759Z"
   },
   {
    "duration": 4,
    "start_time": "2023-02-27T15:28:50.977Z"
   },
   {
    "duration": 3,
    "start_time": "2023-02-27T15:28:52.736Z"
   },
   {
    "duration": 5,
    "start_time": "2023-02-27T15:28:53.077Z"
   },
   {
    "duration": 5,
    "start_time": "2023-02-27T15:28:54.184Z"
   },
   {
    "duration": 6,
    "start_time": "2023-02-27T15:28:55.464Z"
   },
   {
    "duration": 12,
    "start_time": "2023-02-27T15:28:56.479Z"
   },
   {
    "duration": 26,
    "start_time": "2023-02-27T15:28:58.232Z"
   },
   {
    "duration": 16,
    "start_time": "2023-02-27T15:28:59.136Z"
   },
   {
    "duration": 4,
    "start_time": "2023-02-27T15:29:00.073Z"
   },
   {
    "duration": 18,
    "start_time": "2023-02-27T15:29:03.225Z"
   },
   {
    "duration": 26,
    "start_time": "2023-02-27T15:29:04.266Z"
   },
   {
    "duration": 25,
    "start_time": "2023-02-27T15:29:05.777Z"
   },
   {
    "duration": 16,
    "start_time": "2023-02-27T15:29:07.209Z"
   },
   {
    "duration": 5,
    "start_time": "2023-02-27T15:29:09.431Z"
   },
   {
    "duration": 7,
    "start_time": "2023-02-27T15:29:09.889Z"
   },
   {
    "duration": 11,
    "start_time": "2023-02-27T15:29:11.993Z"
   },
   {
    "duration": 5,
    "start_time": "2023-02-27T15:29:13.768Z"
   },
   {
    "duration": 6,
    "start_time": "2023-02-27T15:29:14.369Z"
   },
   {
    "duration": 4,
    "start_time": "2023-02-27T15:29:17.387Z"
   },
   {
    "duration": 7,
    "start_time": "2023-02-27T15:29:17.696Z"
   },
   {
    "duration": 24,
    "start_time": "2023-02-27T15:29:23.307Z"
   },
   {
    "duration": 30,
    "start_time": "2023-02-27T15:29:24.402Z"
   },
   {
    "duration": 24,
    "start_time": "2023-02-27T15:29:25.461Z"
   },
   {
    "duration": 3,
    "start_time": "2023-02-27T15:29:27.291Z"
   },
   {
    "duration": 113,
    "start_time": "2023-02-27T15:29:28.321Z"
   },
   {
    "duration": 24,
    "start_time": "2023-02-27T15:29:28.793Z"
   },
   {
    "duration": 33,
    "start_time": "2023-02-27T15:29:32.597Z"
   },
   {
    "duration": 5,
    "start_time": "2023-02-27T15:29:33.160Z"
   },
   {
    "duration": 5,
    "start_time": "2023-02-27T15:29:34.002Z"
   },
   {
    "duration": 4,
    "start_time": "2023-02-27T15:29:41.504Z"
   },
   {
    "duration": 15,
    "start_time": "2023-02-27T15:29:42.674Z"
   },
   {
    "duration": 27,
    "start_time": "2023-02-27T15:29:44.369Z"
   },
   {
    "duration": 17,
    "start_time": "2023-02-27T15:29:45.337Z"
   },
   {
    "duration": 34,
    "start_time": "2023-02-27T15:29:47.032Z"
   },
   {
    "duration": 8,
    "start_time": "2023-02-27T15:29:56.225Z"
   },
   {
    "duration": 11,
    "start_time": "2023-02-27T15:29:56.988Z"
   },
   {
    "duration": 161,
    "start_time": "2023-02-27T15:29:57.958Z"
   },
   {
    "duration": 716,
    "start_time": "2023-02-27T15:32:04.291Z"
   },
   {
    "duration": 10,
    "start_time": "2023-02-27T15:32:09.661Z"
   },
   {
    "duration": 10,
    "start_time": "2023-02-27T15:32:19.075Z"
   },
   {
    "duration": 152,
    "start_time": "2023-02-27T15:32:32.291Z"
   },
   {
    "duration": 188,
    "start_time": "2023-02-27T15:33:39.996Z"
   },
   {
    "duration": 162,
    "start_time": "2023-02-27T15:34:28.252Z"
   },
   {
    "duration": 223,
    "start_time": "2023-02-27T15:35:34.252Z"
   },
   {
    "duration": 324,
    "start_time": "2023-02-27T15:36:14.846Z"
   },
   {
    "duration": 223,
    "start_time": "2023-02-27T15:36:46.552Z"
   },
   {
    "duration": 244,
    "start_time": "2023-02-27T15:37:26.005Z"
   },
   {
    "duration": 153,
    "start_time": "2023-02-27T15:37:58.823Z"
   },
   {
    "duration": 155,
    "start_time": "2023-02-27T15:38:18.677Z"
   },
   {
    "duration": 157,
    "start_time": "2023-02-27T15:38:47.384Z"
   },
   {
    "duration": 11,
    "start_time": "2023-02-27T15:43:28.954Z"
   },
   {
    "duration": 19,
    "start_time": "2023-02-27T15:43:46.359Z"
   },
   {
    "duration": 7,
    "start_time": "2023-02-27T15:43:48.164Z"
   },
   {
    "duration": 7,
    "start_time": "2023-02-27T15:43:48.879Z"
   },
   {
    "duration": 10,
    "start_time": "2023-02-27T15:43:49.688Z"
   },
   {
    "duration": 174,
    "start_time": "2023-02-27T15:43:50.403Z"
   },
   {
    "duration": 181,
    "start_time": "2023-02-27T15:47:28.521Z"
   },
   {
    "duration": 154,
    "start_time": "2023-02-27T15:47:42.913Z"
   },
   {
    "duration": 133,
    "start_time": "2023-02-27T15:50:12.121Z"
   },
   {
    "duration": 64,
    "start_time": "2023-02-27T15:50:35.466Z"
   },
   {
    "duration": 48,
    "start_time": "2023-02-27T15:50:37.980Z"
   },
   {
    "duration": 51,
    "start_time": "2023-02-27T15:50:41.265Z"
   },
   {
    "duration": 202,
    "start_time": "2023-02-27T15:51:53.972Z"
   },
   {
    "duration": 99,
    "start_time": "2023-02-27T15:52:54.961Z"
   },
   {
    "duration": 9,
    "start_time": "2023-02-27T15:52:57.932Z"
   },
   {
    "duration": 11,
    "start_time": "2023-02-27T15:53:15.388Z"
   },
   {
    "duration": 9,
    "start_time": "2023-02-27T15:56:25.566Z"
   },
   {
    "duration": 5,
    "start_time": "2023-02-27T15:56:31.428Z"
   },
   {
    "duration": 12,
    "start_time": "2023-02-27T15:56:32.182Z"
   },
   {
    "duration": 10,
    "start_time": "2023-02-27T15:56:38.254Z"
   },
   {
    "duration": 11,
    "start_time": "2023-02-27T15:56:46.173Z"
   },
   {
    "duration": 17,
    "start_time": "2023-02-27T15:56:48.953Z"
   },
   {
    "duration": 540,
    "start_time": "2023-02-27T15:56:49.656Z"
   },
   {
    "duration": 5,
    "start_time": "2023-02-27T15:56:53.156Z"
   },
   {
    "duration": 36,
    "start_time": "2023-02-27T15:56:53.805Z"
   },
   {
    "duration": 6,
    "start_time": "2023-02-27T15:56:56.973Z"
   },
   {
    "duration": 8,
    "start_time": "2023-02-27T15:56:57.884Z"
   },
   {
    "duration": 7,
    "start_time": "2023-02-27T15:57:00.063Z"
   },
   {
    "duration": 300,
    "start_time": "2023-02-27T15:57:00.813Z"
   },
   {
    "duration": 1411,
    "start_time": "2023-02-28T14:19:07.528Z"
   },
   {
    "duration": 282,
    "start_time": "2023-02-28T14:19:08.941Z"
   },
   {
    "duration": 97,
    "start_time": "2023-02-28T14:19:15.339Z"
   },
   {
    "duration": 85,
    "start_time": "2023-02-28T14:19:17.221Z"
   },
   {
    "duration": 25,
    "start_time": "2023-02-28T14:19:18.080Z"
   },
   {
    "duration": 6,
    "start_time": "2023-02-28T14:19:19.767Z"
   },
   {
    "duration": 10,
    "start_time": "2023-02-28T14:19:20.473Z"
   },
   {
    "duration": 14,
    "start_time": "2023-02-28T14:19:21.370Z"
   },
   {
    "duration": 7,
    "start_time": "2023-02-28T14:19:23.129Z"
   },
   {
    "duration": 13,
    "start_time": "2023-02-28T14:19:24.172Z"
   },
   {
    "duration": 16,
    "start_time": "2023-02-28T14:19:24.752Z"
   },
   {
    "duration": 7,
    "start_time": "2023-02-28T14:19:28.861Z"
   },
   {
    "duration": 3,
    "start_time": "2023-02-28T14:19:34.081Z"
   },
   {
    "duration": 7,
    "start_time": "2023-02-28T14:19:34.938Z"
   },
   {
    "duration": 8,
    "start_time": "2023-02-28T14:19:36.898Z"
   },
   {
    "duration": 9,
    "start_time": "2023-02-28T14:19:38.861Z"
   },
   {
    "duration": 18,
    "start_time": "2023-02-28T14:19:40.997Z"
   },
   {
    "duration": 30,
    "start_time": "2023-02-28T14:19:42.762Z"
   },
   {
    "duration": 16,
    "start_time": "2023-02-28T14:19:43.935Z"
   },
   {
    "duration": 5,
    "start_time": "2023-02-28T14:19:45.400Z"
   },
   {
    "duration": 30,
    "start_time": "2023-02-28T14:19:50.166Z"
   },
   {
    "duration": 41,
    "start_time": "2023-02-28T14:19:51.841Z"
   },
   {
    "duration": 28,
    "start_time": "2023-02-28T14:19:53.222Z"
   },
   {
    "duration": 17,
    "start_time": "2023-02-28T14:19:53.672Z"
   },
   {
    "duration": 5,
    "start_time": "2023-02-28T14:19:55.868Z"
   },
   {
    "duration": 9,
    "start_time": "2023-02-28T14:19:56.390Z"
   },
   {
    "duration": 15,
    "start_time": "2023-02-28T14:19:57.896Z"
   },
   {
    "duration": 6,
    "start_time": "2023-02-28T14:19:59.621Z"
   },
   {
    "duration": 6,
    "start_time": "2023-02-28T14:20:00.342Z"
   },
   {
    "duration": 5,
    "start_time": "2023-02-28T14:20:05.125Z"
   },
   {
    "duration": 8,
    "start_time": "2023-02-28T14:20:05.795Z"
   },
   {
    "duration": 27,
    "start_time": "2023-02-28T14:20:10.489Z"
   },
   {
    "duration": 30,
    "start_time": "2023-02-28T14:20:12.223Z"
   },
   {
    "duration": 30,
    "start_time": "2023-02-28T14:20:13.697Z"
   },
   {
    "duration": 4,
    "start_time": "2023-02-28T14:20:17.465Z"
   },
   {
    "duration": 126,
    "start_time": "2023-02-28T14:20:18.674Z"
   },
   {
    "duration": 27,
    "start_time": "2023-02-28T14:20:19.168Z"
   },
   {
    "duration": 28,
    "start_time": "2023-02-28T14:20:29.470Z"
   },
   {
    "duration": 7,
    "start_time": "2023-02-28T14:20:31.417Z"
   },
   {
    "duration": 7,
    "start_time": "2023-02-28T14:20:32.489Z"
   },
   {
    "duration": 5,
    "start_time": "2023-02-28T14:20:36.569Z"
   },
   {
    "duration": 16,
    "start_time": "2023-02-28T14:20:38.014Z"
   },
   {
    "duration": 27,
    "start_time": "2023-02-28T14:20:40.199Z"
   },
   {
    "duration": 19,
    "start_time": "2023-02-28T14:20:42.718Z"
   },
   {
    "duration": 38,
    "start_time": "2023-02-28T14:20:44.369Z"
   },
   {
    "duration": 10,
    "start_time": "2023-02-28T14:20:47.768Z"
   },
   {
    "duration": 14,
    "start_time": "2023-02-28T14:20:48.510Z"
   },
   {
    "duration": 189,
    "start_time": "2023-02-28T14:20:49.631Z"
   },
   {
    "duration": 16,
    "start_time": "2023-02-28T14:20:57.297Z"
   },
   {
    "duration": 7,
    "start_time": "2023-02-28T14:20:58.868Z"
   },
   {
    "duration": 6,
    "start_time": "2023-02-28T14:20:59.599Z"
   },
   {
    "duration": 9,
    "start_time": "2023-02-28T14:21:00.242Z"
   },
   {
    "duration": 181,
    "start_time": "2023-02-28T14:21:01.238Z"
   },
   {
    "duration": 168,
    "start_time": "2023-02-28T14:21:16.468Z"
   },
   {
    "duration": 13,
    "start_time": "2023-02-28T14:21:20.670Z"
   },
   {
    "duration": 180,
    "start_time": "2023-02-28T14:21:21.564Z"
   },
   {
    "duration": 12,
    "start_time": "2023-02-28T14:21:35.126Z"
   },
   {
    "duration": 24,
    "start_time": "2023-02-28T14:22:03.072Z"
   },
   {
    "duration": 618,
    "start_time": "2023-02-28T14:22:03.970Z"
   },
   {
    "duration": 6,
    "start_time": "2023-02-28T14:22:30.678Z"
   },
   {
    "duration": 36,
    "start_time": "2023-02-28T14:22:31.664Z"
   },
   {
    "duration": 6,
    "start_time": "2023-02-28T14:22:53.460Z"
   },
   {
    "duration": 7,
    "start_time": "2023-02-28T14:22:53.988Z"
   },
   {
    "duration": 9,
    "start_time": "2023-02-28T14:22:55.679Z"
   },
   {
    "duration": 422,
    "start_time": "2023-02-28T14:22:57.089Z"
   },
   {
    "duration": 7,
    "start_time": "2023-02-28T14:24:10.463Z"
   },
   {
    "duration": 6,
    "start_time": "2023-02-28T14:24:13.179Z"
   },
   {
    "duration": 283,
    "start_time": "2023-02-28T14:27:30.114Z"
   },
   {
    "duration": 46,
    "start_time": "2023-02-28T14:35:56.181Z"
   },
   {
    "duration": 45,
    "start_time": "2023-02-28T14:35:59.597Z"
   },
   {
    "duration": 16,
    "start_time": "2023-02-28T14:43:05.443Z"
   },
   {
    "duration": 15,
    "start_time": "2023-02-28T14:43:12.319Z"
   },
   {
    "duration": 4,
    "start_time": "2023-02-28T14:43:25.556Z"
   },
   {
    "duration": 122,
    "start_time": "2023-02-28T14:43:26.103Z"
   },
   {
    "duration": 35,
    "start_time": "2023-02-28T14:43:27.079Z"
   },
   {
    "duration": 29,
    "start_time": "2023-02-28T14:43:27.880Z"
   },
   {
    "duration": 4,
    "start_time": "2023-02-28T14:43:29.591Z"
   },
   {
    "duration": 12,
    "start_time": "2023-02-28T14:43:30.368Z"
   },
   {
    "duration": 16,
    "start_time": "2023-02-28T14:43:31.368Z"
   },
   {
    "duration": 6,
    "start_time": "2023-02-28T14:43:33.223Z"
   },
   {
    "duration": 11,
    "start_time": "2023-02-28T14:43:35.102Z"
   },
   {
    "duration": 20,
    "start_time": "2023-02-28T14:43:35.826Z"
   },
   {
    "duration": 5,
    "start_time": "2023-02-28T14:43:41.920Z"
   },
   {
    "duration": 3,
    "start_time": "2023-02-28T14:43:46.138Z"
   },
   {
    "duration": 7,
    "start_time": "2023-02-28T14:43:46.782Z"
   },
   {
    "duration": 5,
    "start_time": "2023-02-28T14:43:48.319Z"
   },
   {
    "duration": 9,
    "start_time": "2023-02-28T14:43:50.924Z"
   },
   {
    "duration": 16,
    "start_time": "2023-02-28T14:43:53.319Z"
   },
   {
    "duration": 29,
    "start_time": "2023-02-28T14:43:56.917Z"
   },
   {
    "duration": 15,
    "start_time": "2023-02-28T14:44:02.000Z"
   },
   {
    "duration": 4,
    "start_time": "2023-02-28T14:44:04.419Z"
   },
   {
    "duration": 21,
    "start_time": "2023-02-28T14:44:13.975Z"
   },
   {
    "duration": 31,
    "start_time": "2023-02-28T14:44:17.859Z"
   },
   {
    "duration": 27,
    "start_time": "2023-02-28T14:44:23.169Z"
   },
   {
    "duration": 14,
    "start_time": "2023-02-28T14:44:24.537Z"
   },
   {
    "duration": 6,
    "start_time": "2023-02-28T14:44:32.975Z"
   },
   {
    "duration": 9,
    "start_time": "2023-02-28T14:44:34.088Z"
   },
   {
    "duration": 15,
    "start_time": "2023-02-28T14:44:37.667Z"
   },
   {
    "duration": 5,
    "start_time": "2023-02-28T14:44:39.765Z"
   },
   {
    "duration": 5,
    "start_time": "2023-02-28T14:44:41.661Z"
   },
   {
    "duration": 6,
    "start_time": "2023-02-28T14:44:48.465Z"
   },
   {
    "duration": 8,
    "start_time": "2023-02-28T14:44:55.944Z"
   },
   {
    "duration": 21,
    "start_time": "2023-02-28T14:45:04.726Z"
   },
   {
    "duration": 36,
    "start_time": "2023-02-28T14:46:02.732Z"
   },
   {
    "duration": 20,
    "start_time": "2023-02-28T14:46:25.745Z"
   },
   {
    "duration": 5,
    "start_time": "2023-02-28T14:46:45.940Z"
   },
   {
    "duration": 144,
    "start_time": "2023-02-28T14:46:50.370Z"
   },
   {
    "duration": 27,
    "start_time": "2023-02-28T14:46:51.168Z"
   },
   {
    "duration": 25,
    "start_time": "2023-02-28T14:47:06.925Z"
   },
   {
    "duration": 32,
    "start_time": "2023-02-28T14:47:22.336Z"
   },
   {
    "duration": 8,
    "start_time": "2023-02-28T14:47:25.832Z"
   },
   {
    "duration": 8,
    "start_time": "2023-02-28T14:47:26.496Z"
   },
   {
    "duration": 4,
    "start_time": "2023-02-28T14:47:39.379Z"
   },
   {
    "duration": 15,
    "start_time": "2023-02-28T14:47:42.152Z"
   },
   {
    "duration": 25,
    "start_time": "2023-02-28T14:47:50.305Z"
   },
   {
    "duration": 15,
    "start_time": "2023-02-28T14:47:51.377Z"
   },
   {
    "duration": 33,
    "start_time": "2023-02-28T14:47:54.361Z"
   },
   {
    "duration": 15,
    "start_time": "2023-02-28T14:47:57.667Z"
   },
   {
    "duration": 11,
    "start_time": "2023-02-28T14:47:58.648Z"
   },
   {
    "duration": 175,
    "start_time": "2023-02-28T14:47:59.393Z"
   },
   {
    "duration": 17,
    "start_time": "2023-02-28T14:48:04.688Z"
   },
   {
    "duration": 7,
    "start_time": "2023-02-28T14:48:05.593Z"
   },
   {
    "duration": 6,
    "start_time": "2023-02-28T14:48:06.201Z"
   },
   {
    "duration": 9,
    "start_time": "2023-02-28T14:48:06.753Z"
   },
   {
    "duration": 231,
    "start_time": "2023-02-28T14:48:07.289Z"
   },
   {
    "duration": 144,
    "start_time": "2023-02-28T14:48:09.577Z"
   },
   {
    "duration": 10,
    "start_time": "2023-02-28T14:48:11.879Z"
   },
   {
    "duration": 180,
    "start_time": "2023-02-28T14:48:12.506Z"
   },
   {
    "duration": 15,
    "start_time": "2023-02-28T14:48:17.671Z"
   },
   {
    "duration": 17,
    "start_time": "2023-02-28T14:48:20.866Z"
   },
   {
    "duration": 530,
    "start_time": "2023-02-28T14:48:21.448Z"
   },
   {
    "duration": 6,
    "start_time": "2023-02-28T14:48:24.820Z"
   },
   {
    "duration": 37,
    "start_time": "2023-02-28T14:48:25.475Z"
   },
   {
    "duration": 6,
    "start_time": "2023-02-28T14:48:27.816Z"
   },
   {
    "duration": 7,
    "start_time": "2023-02-28T14:48:28.226Z"
   },
   {
    "duration": 8,
    "start_time": "2023-02-28T14:48:29.775Z"
   },
   {
    "duration": 374,
    "start_time": "2023-02-28T14:48:30.856Z"
   },
   {
    "duration": 6,
    "start_time": "2023-02-28T14:48:39.648Z"
   },
   {
    "duration": 7,
    "start_time": "2023-02-28T14:48:40.783Z"
   },
   {
    "duration": 188,
    "start_time": "2023-02-28T14:48:45.791Z"
   },
   {
    "duration": 36,
    "start_time": "2023-02-28T14:50:11.786Z"
   },
   {
    "duration": 7,
    "start_time": "2023-02-28T14:52:07.147Z"
   },
   {
    "duration": 8,
    "start_time": "2023-02-28T14:52:09.584Z"
   },
   {
    "duration": 36,
    "start_time": "2023-02-28T14:52:14.282Z"
   },
   {
    "duration": 45,
    "start_time": "2023-02-28T14:53:04.319Z"
   },
   {
    "duration": 56,
    "start_time": "2023-02-28T14:53:06.538Z"
   },
   {
    "duration": 41,
    "start_time": "2023-02-28T14:53:10.557Z"
   },
   {
    "duration": 45,
    "start_time": "2023-02-28T14:54:02.180Z"
   },
   {
    "duration": 37,
    "start_time": "2023-02-28T14:54:28.244Z"
   },
   {
    "duration": 78,
    "start_time": "2023-02-28T15:08:02.170Z"
   },
   {
    "duration": 901,
    "start_time": "2023-02-28T15:09:12.217Z"
   },
   {
    "duration": 44,
    "start_time": "2023-02-28T15:09:57.421Z"
   },
   {
    "duration": 60,
    "start_time": "2023-02-28T15:13:46.340Z"
   },
   {
    "duration": 45,
    "start_time": "2023-02-28T15:14:15.372Z"
   },
   {
    "duration": 58,
    "start_time": "2023-02-28T15:14:30.815Z"
   },
   {
    "duration": 5,
    "start_time": "2023-02-28T15:14:32.416Z"
   },
   {
    "duration": 51,
    "start_time": "2023-02-28T15:18:14.516Z"
   },
   {
    "duration": 9,
    "start_time": "2023-02-28T15:19:00.876Z"
   },
   {
    "duration": 13,
    "start_time": "2023-02-28T15:19:19.981Z"
   },
   {
    "duration": 44,
    "start_time": "2023-02-28T15:19:31.195Z"
   },
   {
    "duration": 4,
    "start_time": "2023-02-28T15:19:47.637Z"
   },
   {
    "duration": 8,
    "start_time": "2023-02-28T15:19:57.199Z"
   },
   {
    "duration": 8,
    "start_time": "2023-02-28T15:20:11.357Z"
   },
   {
    "duration": 9,
    "start_time": "2023-02-28T15:20:24.129Z"
   },
   {
    "duration": 319,
    "start_time": "2023-02-28T15:20:36.016Z"
   },
   {
    "duration": 7,
    "start_time": "2023-02-28T15:21:08.419Z"
   },
   {
    "duration": 7,
    "start_time": "2023-02-28T15:21:15.550Z"
   },
   {
    "duration": 193,
    "start_time": "2023-02-28T15:26:38.072Z"
   },
   {
    "duration": 140,
    "start_time": "2023-02-28T15:37:41.653Z"
   },
   {
    "duration": 176,
    "start_time": "2023-02-28T15:39:26.043Z"
   },
   {
    "duration": 161,
    "start_time": "2023-02-28T15:41:36.023Z"
   },
   {
    "duration": 223,
    "start_time": "2023-02-28T15:46:37.055Z"
   },
   {
    "duration": 1441,
    "start_time": "2023-02-28T18:12:30.551Z"
   },
   {
    "duration": 231,
    "start_time": "2023-02-28T18:12:31.995Z"
   },
   {
    "duration": 108,
    "start_time": "2023-02-28T18:12:32.228Z"
   },
   {
    "duration": 23,
    "start_time": "2023-02-28T18:12:32.338Z"
   },
   {
    "duration": 8,
    "start_time": "2023-02-28T18:12:32.362Z"
   },
   {
    "duration": 27,
    "start_time": "2023-02-28T18:12:32.371Z"
   },
   {
    "duration": 52,
    "start_time": "2023-02-28T18:12:32.399Z"
   },
   {
    "duration": 48,
    "start_time": "2023-02-28T18:12:32.453Z"
   },
   {
    "duration": 37,
    "start_time": "2023-02-28T18:12:32.503Z"
   },
   {
    "duration": 52,
    "start_time": "2023-02-28T18:12:32.543Z"
   },
   {
    "duration": 35,
    "start_time": "2023-02-28T18:12:32.597Z"
   },
   {
    "duration": 23,
    "start_time": "2023-02-28T18:12:32.634Z"
   },
   {
    "duration": 20,
    "start_time": "2023-02-28T18:12:32.659Z"
   },
   {
    "duration": 11,
    "start_time": "2023-02-28T18:12:32.681Z"
   },
   {
    "duration": 18,
    "start_time": "2023-02-28T18:12:32.694Z"
   },
   {
    "duration": 17,
    "start_time": "2023-02-28T18:12:32.714Z"
   },
   {
    "duration": 29,
    "start_time": "2023-02-28T18:12:32.732Z"
   },
   {
    "duration": 17,
    "start_time": "2023-02-28T18:12:32.763Z"
   },
   {
    "duration": 10,
    "start_time": "2023-02-28T18:12:32.783Z"
   },
   {
    "duration": 43,
    "start_time": "2023-02-28T18:12:32.795Z"
   },
   {
    "duration": 30,
    "start_time": "2023-02-28T18:12:32.840Z"
   },
   {
    "duration": 31,
    "start_time": "2023-02-28T18:12:32.872Z"
   },
   {
    "duration": 45,
    "start_time": "2023-02-28T18:12:32.905Z"
   },
   {
    "duration": 20,
    "start_time": "2023-02-28T18:12:32.952Z"
   },
   {
    "duration": 27,
    "start_time": "2023-02-28T18:12:32.974Z"
   },
   {
    "duration": 16,
    "start_time": "2023-02-28T18:12:33.002Z"
   },
   {
    "duration": 4,
    "start_time": "2023-02-28T18:12:33.020Z"
   },
   {
    "duration": 10,
    "start_time": "2023-02-28T18:12:33.028Z"
   },
   {
    "duration": 24,
    "start_time": "2023-02-28T18:12:33.039Z"
   },
   {
    "duration": 9,
    "start_time": "2023-02-28T18:12:33.065Z"
   },
   {
    "duration": 32,
    "start_time": "2023-02-28T18:12:33.075Z"
   },
   {
    "duration": 31,
    "start_time": "2023-02-28T18:12:33.109Z"
   },
   {
    "duration": 26,
    "start_time": "2023-02-28T18:12:33.142Z"
   },
   {
    "duration": 12,
    "start_time": "2023-02-28T18:12:33.169Z"
   },
   {
    "duration": 135,
    "start_time": "2023-02-28T18:12:33.183Z"
   },
   {
    "duration": 35,
    "start_time": "2023-02-28T18:12:33.320Z"
   },
   {
    "duration": 28,
    "start_time": "2023-02-28T18:12:33.357Z"
   },
   {
    "duration": 7,
    "start_time": "2023-02-28T18:12:33.388Z"
   },
   {
    "duration": 31,
    "start_time": "2023-02-28T18:12:33.396Z"
   },
   {
    "duration": 22,
    "start_time": "2023-02-28T18:12:33.429Z"
   },
   {
    "duration": 41,
    "start_time": "2023-02-28T18:12:33.452Z"
   },
   {
    "duration": 27,
    "start_time": "2023-02-28T18:12:33.495Z"
   },
   {
    "duration": 33,
    "start_time": "2023-02-28T18:12:33.524Z"
   },
   {
    "duration": 60,
    "start_time": "2023-02-28T18:12:33.559Z"
   },
   {
    "duration": 9,
    "start_time": "2023-02-28T18:12:33.621Z"
   },
   {
    "duration": 28,
    "start_time": "2023-02-28T18:12:33.631Z"
   },
   {
    "duration": 180,
    "start_time": "2023-02-28T18:12:33.661Z"
   },
   {
    "duration": 17,
    "start_time": "2023-02-28T18:12:33.843Z"
   },
   {
    "duration": 7,
    "start_time": "2023-02-28T18:12:33.862Z"
   },
   {
    "duration": 12,
    "start_time": "2023-02-28T18:12:33.871Z"
   },
   {
    "duration": 10,
    "start_time": "2023-02-28T18:12:33.885Z"
   },
   {
    "duration": 201,
    "start_time": "2023-02-28T18:12:33.897Z"
   },
   {
    "duration": 161,
    "start_time": "2023-02-28T18:12:34.100Z"
   },
   {
    "duration": 13,
    "start_time": "2023-02-28T18:12:34.263Z"
   },
   {
    "duration": 200,
    "start_time": "2023-02-28T18:12:34.278Z"
   },
   {
    "duration": 14,
    "start_time": "2023-02-28T18:12:34.481Z"
   },
   {
    "duration": 39,
    "start_time": "2023-02-28T18:12:34.497Z"
   },
   {
    "duration": 595,
    "start_time": "2023-02-28T18:12:34.538Z"
   },
   {
    "duration": 6,
    "start_time": "2023-02-28T18:12:35.135Z"
   },
   {
    "duration": 39,
    "start_time": "2023-02-28T18:12:35.143Z"
   },
   {
    "duration": 86,
    "start_time": "2023-02-28T18:12:35.183Z"
   },
   {
    "duration": 5,
    "start_time": "2023-02-28T18:12:35.271Z"
   },
   {
    "duration": 118,
    "start_time": "2023-02-28T18:12:35.278Z"
   },
   {
    "duration": 98,
    "start_time": "2023-02-28T18:12:35.398Z"
   },
   {
    "duration": 276,
    "start_time": "2023-02-28T18:12:35.498Z"
   },
   {
    "duration": 8,
    "start_time": "2023-02-28T18:12:35.775Z"
   },
   {
    "duration": 9,
    "start_time": "2023-02-28T18:12:35.785Z"
   },
   {
    "duration": 283,
    "start_time": "2023-02-28T18:12:35.795Z"
   },
   {
    "duration": 181,
    "start_time": "2023-02-28T18:12:36.081Z"
   },
   {
    "duration": 191,
    "start_time": "2023-02-28T18:12:36.264Z"
   },
   {
    "duration": 128,
    "start_time": "2023-02-28T18:12:36.457Z"
   },
   {
    "duration": 0,
    "start_time": "2023-02-28T18:12:36.587Z"
   },
   {
    "duration": 1266,
    "start_time": "2023-02-28T18:24:40.140Z"
   },
   {
    "duration": 108,
    "start_time": "2023-02-28T18:24:41.408Z"
   },
   {
    "duration": 43,
    "start_time": "2023-02-28T18:24:41.518Z"
   },
   {
    "duration": 24,
    "start_time": "2023-02-28T18:24:41.563Z"
   },
   {
    "duration": 6,
    "start_time": "2023-02-28T18:24:41.588Z"
   },
   {
    "duration": 11,
    "start_time": "2023-02-28T18:24:41.596Z"
   },
   {
    "duration": 28,
    "start_time": "2023-02-28T18:24:41.609Z"
   },
   {
    "duration": 13,
    "start_time": "2023-02-28T18:24:41.639Z"
   },
   {
    "duration": 15,
    "start_time": "2023-02-28T18:24:41.653Z"
   },
   {
    "duration": 16,
    "start_time": "2023-02-28T18:24:41.671Z"
   },
   {
    "duration": 5,
    "start_time": "2023-02-28T18:24:41.689Z"
   },
   {
    "duration": 18,
    "start_time": "2023-02-28T18:24:41.696Z"
   },
   {
    "duration": 24,
    "start_time": "2023-02-28T18:24:41.715Z"
   },
   {
    "duration": 10,
    "start_time": "2023-02-28T18:24:41.741Z"
   },
   {
    "duration": 10,
    "start_time": "2023-02-28T18:24:41.753Z"
   },
   {
    "duration": 15,
    "start_time": "2023-02-28T18:24:41.764Z"
   },
   {
    "duration": 30,
    "start_time": "2023-02-28T18:24:41.780Z"
   },
   {
    "duration": 39,
    "start_time": "2023-02-28T18:24:41.812Z"
   },
   {
    "duration": 6,
    "start_time": "2023-02-28T18:24:41.853Z"
   },
   {
    "duration": 22,
    "start_time": "2023-02-28T18:24:41.861Z"
   },
   {
    "duration": 27,
    "start_time": "2023-02-28T18:24:41.885Z"
   },
   {
    "duration": 27,
    "start_time": "2023-02-28T18:24:41.936Z"
   },
   {
    "duration": 17,
    "start_time": "2023-02-28T18:24:41.964Z"
   },
   {
    "duration": 8,
    "start_time": "2023-02-28T18:24:41.983Z"
   },
   {
    "duration": 20,
    "start_time": "2023-02-28T18:24:41.993Z"
   },
   {
    "duration": 25,
    "start_time": "2023-02-28T18:24:42.015Z"
   },
   {
    "duration": 14,
    "start_time": "2023-02-28T18:24:42.042Z"
   },
   {
    "duration": 16,
    "start_time": "2023-02-28T18:24:42.060Z"
   },
   {
    "duration": 24,
    "start_time": "2023-02-28T18:24:42.077Z"
   },
   {
    "duration": 16,
    "start_time": "2023-02-28T18:24:42.103Z"
   },
   {
    "duration": 36,
    "start_time": "2023-02-28T18:24:42.121Z"
   },
   {
    "duration": 46,
    "start_time": "2023-02-28T18:24:42.158Z"
   },
   {
    "duration": 25,
    "start_time": "2023-02-28T18:24:42.206Z"
   },
   {
    "duration": 30,
    "start_time": "2023-02-28T18:24:42.232Z"
   },
   {
    "duration": 144,
    "start_time": "2023-02-28T18:24:42.263Z"
   },
   {
    "duration": 34,
    "start_time": "2023-02-28T18:24:42.408Z"
   },
   {
    "duration": 26,
    "start_time": "2023-02-28T18:24:42.444Z"
   },
   {
    "duration": 6,
    "start_time": "2023-02-28T18:24:42.471Z"
   },
   {
    "duration": 8,
    "start_time": "2023-02-28T18:24:42.479Z"
   },
   {
    "duration": 6,
    "start_time": "2023-02-28T18:24:42.488Z"
   },
   {
    "duration": 42,
    "start_time": "2023-02-28T18:24:42.495Z"
   },
   {
    "duration": 25,
    "start_time": "2023-02-28T18:24:42.539Z"
   },
   {
    "duration": 19,
    "start_time": "2023-02-28T18:24:42.566Z"
   },
   {
    "duration": 53,
    "start_time": "2023-02-28T18:24:42.587Z"
   },
   {
    "duration": 8,
    "start_time": "2023-02-28T18:24:42.642Z"
   },
   {
    "duration": 13,
    "start_time": "2023-02-28T18:24:42.652Z"
   },
   {
    "duration": 194,
    "start_time": "2023-02-28T18:24:42.667Z"
   },
   {
    "duration": 16,
    "start_time": "2023-02-28T18:24:42.862Z"
   },
   {
    "duration": 7,
    "start_time": "2023-02-28T18:24:42.879Z"
   },
   {
    "duration": 7,
    "start_time": "2023-02-28T18:24:42.887Z"
   },
   {
    "duration": 10,
    "start_time": "2023-02-28T18:24:42.895Z"
   },
   {
    "duration": 202,
    "start_time": "2023-02-28T18:24:42.907Z"
   },
   {
    "duration": 158,
    "start_time": "2023-02-28T18:24:43.111Z"
   },
   {
    "duration": 11,
    "start_time": "2023-02-28T18:24:43.271Z"
   },
   {
    "duration": 198,
    "start_time": "2023-02-28T18:24:43.283Z"
   },
   {
    "duration": 13,
    "start_time": "2023-02-28T18:24:43.483Z"
   },
   {
    "duration": 17,
    "start_time": "2023-02-28T18:24:43.497Z"
   },
   {
    "duration": 566,
    "start_time": "2023-02-28T18:24:43.516Z"
   },
   {
    "duration": 5,
    "start_time": "2023-02-28T18:24:44.084Z"
   },
   {
    "duration": 62,
    "start_time": "2023-02-28T18:24:44.090Z"
   },
   {
    "duration": 44,
    "start_time": "2023-02-28T18:24:44.154Z"
   },
   {
    "duration": 4,
    "start_time": "2023-02-28T18:24:44.221Z"
   },
   {
    "duration": 18,
    "start_time": "2023-02-28T18:24:44.227Z"
   },
   {
    "duration": 118,
    "start_time": "2023-02-28T18:24:44.247Z"
   },
   {
    "duration": 261,
    "start_time": "2023-02-28T18:24:44.366Z"
   },
   {
    "duration": 13,
    "start_time": "2023-02-28T18:24:44.628Z"
   },
   {
    "duration": 24,
    "start_time": "2023-02-28T18:24:44.642Z"
   },
   {
    "duration": 219,
    "start_time": "2023-02-28T18:24:44.667Z"
   },
   {
    "duration": 321,
    "start_time": "2023-02-28T18:24:44.938Z"
   },
   {
    "duration": 323,
    "start_time": "2023-02-28T18:24:45.261Z"
   },
   {
    "duration": 212,
    "start_time": "2023-02-28T18:24:45.636Z"
   },
   {
    "duration": 0,
    "start_time": "2023-02-28T18:24:45.850Z"
   },
   {
    "duration": 1399,
    "start_time": "2023-02-28T18:28:12.875Z"
   },
   {
    "duration": 100,
    "start_time": "2023-02-28T18:28:14.276Z"
   },
   {
    "duration": 44,
    "start_time": "2023-02-28T18:28:14.378Z"
   },
   {
    "duration": 22,
    "start_time": "2023-02-28T18:28:14.424Z"
   },
   {
    "duration": 5,
    "start_time": "2023-02-28T18:28:14.449Z"
   },
   {
    "duration": 12,
    "start_time": "2023-02-28T18:28:14.456Z"
   },
   {
    "duration": 18,
    "start_time": "2023-02-28T18:28:14.471Z"
   },
   {
    "duration": 6,
    "start_time": "2023-02-28T18:28:14.491Z"
   },
   {
    "duration": 40,
    "start_time": "2023-02-28T18:28:14.499Z"
   },
   {
    "duration": 15,
    "start_time": "2023-02-28T18:28:14.541Z"
   },
   {
    "duration": 4,
    "start_time": "2023-02-28T18:28:14.558Z"
   },
   {
    "duration": 7,
    "start_time": "2023-02-28T18:28:14.564Z"
   },
   {
    "duration": 8,
    "start_time": "2023-02-28T18:28:14.573Z"
   },
   {
    "duration": 9,
    "start_time": "2023-02-28T18:28:14.583Z"
   },
   {
    "duration": 12,
    "start_time": "2023-02-28T18:28:14.593Z"
   },
   {
    "duration": 37,
    "start_time": "2023-02-28T18:28:14.606Z"
   },
   {
    "duration": 26,
    "start_time": "2023-02-28T18:28:14.645Z"
   },
   {
    "duration": 17,
    "start_time": "2023-02-28T18:28:14.673Z"
   },
   {
    "duration": 11,
    "start_time": "2023-02-28T18:28:14.691Z"
   },
   {
    "duration": 38,
    "start_time": "2023-02-28T18:28:14.703Z"
   },
   {
    "duration": 27,
    "start_time": "2023-02-28T18:28:14.742Z"
   },
   {
    "duration": 29,
    "start_time": "2023-02-28T18:28:14.771Z"
   },
   {
    "duration": 40,
    "start_time": "2023-02-28T18:28:14.803Z"
   },
   {
    "duration": 9,
    "start_time": "2023-02-28T18:28:14.844Z"
   },
   {
    "duration": 13,
    "start_time": "2023-02-28T18:28:14.855Z"
   },
   {
    "duration": 17,
    "start_time": "2023-02-28T18:28:14.869Z"
   },
   {
    "duration": 5,
    "start_time": "2023-02-28T18:28:14.887Z"
   },
   {
    "duration": 8,
    "start_time": "2023-02-28T18:28:14.893Z"
   },
   {
    "duration": 34,
    "start_time": "2023-02-28T18:28:14.903Z"
   },
   {
    "duration": 7,
    "start_time": "2023-02-28T18:28:14.939Z"
   },
   {
    "duration": 33,
    "start_time": "2023-02-28T18:28:14.947Z"
   },
   {
    "duration": 27,
    "start_time": "2023-02-28T18:28:14.982Z"
   },
   {
    "duration": 44,
    "start_time": "2023-02-28T18:28:15.011Z"
   },
   {
    "duration": 19,
    "start_time": "2023-02-28T18:28:15.056Z"
   },
   {
    "duration": 145,
    "start_time": "2023-02-28T18:28:15.077Z"
   },
   {
    "duration": 31,
    "start_time": "2023-02-28T18:28:15.224Z"
   },
   {
    "duration": 28,
    "start_time": "2023-02-28T18:28:15.257Z"
   },
   {
    "duration": 6,
    "start_time": "2023-02-28T18:28:15.287Z"
   },
   {
    "duration": 8,
    "start_time": "2023-02-28T18:28:15.295Z"
   },
   {
    "duration": 33,
    "start_time": "2023-02-28T18:28:15.305Z"
   },
   {
    "duration": 18,
    "start_time": "2023-02-28T18:28:15.342Z"
   },
   {
    "duration": 28,
    "start_time": "2023-02-28T18:28:15.362Z"
   },
   {
    "duration": 19,
    "start_time": "2023-02-28T18:28:15.391Z"
   },
   {
    "duration": 41,
    "start_time": "2023-02-28T18:28:15.436Z"
   },
   {
    "duration": 10,
    "start_time": "2023-02-28T18:28:15.479Z"
   },
   {
    "duration": 12,
    "start_time": "2023-02-28T18:28:15.491Z"
   },
   {
    "duration": 205,
    "start_time": "2023-02-28T18:28:15.505Z"
   },
   {
    "duration": 15,
    "start_time": "2023-02-28T18:28:15.712Z"
   },
   {
    "duration": 7,
    "start_time": "2023-02-28T18:28:15.737Z"
   },
   {
    "duration": 7,
    "start_time": "2023-02-28T18:28:15.745Z"
   },
   {
    "duration": 10,
    "start_time": "2023-02-28T18:28:15.753Z"
   },
   {
    "duration": 199,
    "start_time": "2023-02-28T18:28:15.764Z"
   },
   {
    "duration": 154,
    "start_time": "2023-02-28T18:28:15.965Z"
   },
   {
    "duration": 26,
    "start_time": "2023-02-28T18:28:16.121Z"
   },
   {
    "duration": 179,
    "start_time": "2023-02-28T18:28:16.148Z"
   },
   {
    "duration": 17,
    "start_time": "2023-02-28T18:28:16.329Z"
   },
   {
    "duration": 15,
    "start_time": "2023-02-28T18:28:16.347Z"
   },
   {
    "duration": 516,
    "start_time": "2023-02-28T18:28:16.364Z"
   },
   {
    "duration": 6,
    "start_time": "2023-02-28T18:28:16.882Z"
   },
   {
    "duration": 49,
    "start_time": "2023-02-28T18:28:16.890Z"
   },
   {
    "duration": 45,
    "start_time": "2023-02-28T18:28:16.941Z"
   },
   {
    "duration": 6,
    "start_time": "2023-02-28T18:28:17.017Z"
   },
   {
    "duration": 10,
    "start_time": "2023-02-28T18:28:17.025Z"
   },
   {
    "duration": 88,
    "start_time": "2023-02-28T18:28:17.037Z"
   },
   {
    "duration": 295,
    "start_time": "2023-02-28T18:28:17.127Z"
   },
   {
    "duration": 6,
    "start_time": "2023-02-28T18:28:17.424Z"
   },
   {
    "duration": 10,
    "start_time": "2023-02-28T18:28:17.436Z"
   },
   {
    "duration": 251,
    "start_time": "2023-02-28T18:28:17.448Z"
   },
   {
    "duration": 226,
    "start_time": "2023-02-28T18:28:17.736Z"
   },
   {
    "duration": 222,
    "start_time": "2023-02-28T18:28:17.964Z"
   },
   {
    "duration": 211,
    "start_time": "2023-02-28T18:28:18.236Z"
   },
   {
    "duration": 0,
    "start_time": "2023-02-28T18:28:18.448Z"
   }
  ],
  "colab": {
   "name": "DA+. Сборный проект 1. Шаблон (1).ipynb",
   "provenance": []
  },
  "kernelspec": {
   "display_name": "Python 3 (ipykernel)",
   "language": "python",
   "name": "python3"
  },
  "language_info": {
   "codemirror_mode": {
    "name": "ipython",
    "version": 3
   },
   "file_extension": ".py",
   "mimetype": "text/x-python",
   "name": "python",
   "nbconvert_exporter": "python",
   "pygments_lexer": "ipython3",
   "version": "3.9.5"
  },
  "toc": {
   "base_numbering": 1,
   "nav_menu": {},
   "number_sections": true,
   "sideBar": true,
   "skip_h1_title": true,
   "title_cell": "Table of Contents",
   "title_sidebar": "Contents",
   "toc_cell": false,
   "toc_position": {
    "height": "calc(100% - 180px)",
    "left": "10px",
    "top": "150px",
    "width": "165px"
   },
   "toc_section_display": true,
   "toc_window_display": true
  }
 },
 "nbformat": 4,
 "nbformat_minor": 1
}
